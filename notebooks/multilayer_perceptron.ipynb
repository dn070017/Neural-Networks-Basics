{
 "cells": [
  {
   "cell_type": "markdown",
   "metadata": {},
   "source": [
    "## Import Packages, Environment Setting"
   ]
  },
  {
   "cell_type": "code",
   "execution_count": 1,
   "metadata": {},
   "outputs": [
    {
     "data": {
      "text/html": [
       "\n",
       "    <div class=\"bk-root\">\n",
       "        <a href=\"https://bokeh.org\" target=\"_blank\" class=\"bk-logo bk-logo-small bk-logo-notebook\"></a>\n",
       "        <span id=\"1001\">Loading BokehJS ...</span>\n",
       "    </div>"
      ]
     },
     "metadata": {},
     "output_type": "display_data"
    },
    {
     "data": {
      "application/javascript": [
       "\n",
       "(function(root) {\n",
       "  function now() {\n",
       "    return new Date();\n",
       "  }\n",
       "\n",
       "  var force = true;\n",
       "\n",
       "  if (typeof root._bokeh_onload_callbacks === \"undefined\" || force === true) {\n",
       "    root._bokeh_onload_callbacks = [];\n",
       "    root._bokeh_is_loading = undefined;\n",
       "  }\n",
       "\n",
       "  var JS_MIME_TYPE = 'application/javascript';\n",
       "  var HTML_MIME_TYPE = 'text/html';\n",
       "  var EXEC_MIME_TYPE = 'application/vnd.bokehjs_exec.v0+json';\n",
       "  var CLASS_NAME = 'output_bokeh rendered_html';\n",
       "\n",
       "  /**\n",
       "   * Render data to the DOM node\n",
       "   */\n",
       "  function render(props, node) {\n",
       "    var script = document.createElement(\"script\");\n",
       "    node.appendChild(script);\n",
       "  }\n",
       "\n",
       "  /**\n",
       "   * Handle when an output is cleared or removed\n",
       "   */\n",
       "  function handleClearOutput(event, handle) {\n",
       "    var cell = handle.cell;\n",
       "\n",
       "    var id = cell.output_area._bokeh_element_id;\n",
       "    var server_id = cell.output_area._bokeh_server_id;\n",
       "    // Clean up Bokeh references\n",
       "    if (id != null && id in Bokeh.index) {\n",
       "      Bokeh.index[id].model.document.clear();\n",
       "      delete Bokeh.index[id];\n",
       "    }\n",
       "\n",
       "    if (server_id !== undefined) {\n",
       "      // Clean up Bokeh references\n",
       "      var cmd = \"from bokeh.io.state import curstate; print(curstate().uuid_to_server['\" + server_id + \"'].get_sessions()[0].document.roots[0]._id)\";\n",
       "      cell.notebook.kernel.execute(cmd, {\n",
       "        iopub: {\n",
       "          output: function(msg) {\n",
       "            var id = msg.content.text.trim();\n",
       "            if (id in Bokeh.index) {\n",
       "              Bokeh.index[id].model.document.clear();\n",
       "              delete Bokeh.index[id];\n",
       "            }\n",
       "          }\n",
       "        }\n",
       "      });\n",
       "      // Destroy server and session\n",
       "      var cmd = \"import bokeh.io.notebook as ion; ion.destroy_server('\" + server_id + \"')\";\n",
       "      cell.notebook.kernel.execute(cmd);\n",
       "    }\n",
       "  }\n",
       "\n",
       "  /**\n",
       "   * Handle when a new output is added\n",
       "   */\n",
       "  function handleAddOutput(event, handle) {\n",
       "    var output_area = handle.output_area;\n",
       "    var output = handle.output;\n",
       "\n",
       "    // limit handleAddOutput to display_data with EXEC_MIME_TYPE content only\n",
       "    if ((output.output_type != \"display_data\") || (!output.data.hasOwnProperty(EXEC_MIME_TYPE))) {\n",
       "      return\n",
       "    }\n",
       "\n",
       "    var toinsert = output_area.element.find(\".\" + CLASS_NAME.split(' ')[0]);\n",
       "\n",
       "    if (output.metadata[EXEC_MIME_TYPE][\"id\"] !== undefined) {\n",
       "      toinsert[toinsert.length - 1].firstChild.textContent = output.data[JS_MIME_TYPE];\n",
       "      // store reference to embed id on output_area\n",
       "      output_area._bokeh_element_id = output.metadata[EXEC_MIME_TYPE][\"id\"];\n",
       "    }\n",
       "    if (output.metadata[EXEC_MIME_TYPE][\"server_id\"] !== undefined) {\n",
       "      var bk_div = document.createElement(\"div\");\n",
       "      bk_div.innerHTML = output.data[HTML_MIME_TYPE];\n",
       "      var script_attrs = bk_div.children[0].attributes;\n",
       "      for (var i = 0; i < script_attrs.length; i++) {\n",
       "        toinsert[toinsert.length - 1].firstChild.setAttribute(script_attrs[i].name, script_attrs[i].value);\n",
       "        toinsert[toinsert.length - 1].firstChild.textContent = bk_div.children[0].textContent\n",
       "      }\n",
       "      // store reference to server id on output_area\n",
       "      output_area._bokeh_server_id = output.metadata[EXEC_MIME_TYPE][\"server_id\"];\n",
       "    }\n",
       "  }\n",
       "\n",
       "  function register_renderer(events, OutputArea) {\n",
       "\n",
       "    function append_mime(data, metadata, element) {\n",
       "      // create a DOM node to render to\n",
       "      var toinsert = this.create_output_subarea(\n",
       "        metadata,\n",
       "        CLASS_NAME,\n",
       "        EXEC_MIME_TYPE\n",
       "      );\n",
       "      this.keyboard_manager.register_events(toinsert);\n",
       "      // Render to node\n",
       "      var props = {data: data, metadata: metadata[EXEC_MIME_TYPE]};\n",
       "      render(props, toinsert[toinsert.length - 1]);\n",
       "      element.append(toinsert);\n",
       "      return toinsert\n",
       "    }\n",
       "\n",
       "    /* Handle when an output is cleared or removed */\n",
       "    events.on('clear_output.CodeCell', handleClearOutput);\n",
       "    events.on('delete.Cell', handleClearOutput);\n",
       "\n",
       "    /* Handle when a new output is added */\n",
       "    events.on('output_added.OutputArea', handleAddOutput);\n",
       "\n",
       "    /**\n",
       "     * Register the mime type and append_mime function with output_area\n",
       "     */\n",
       "    OutputArea.prototype.register_mime_type(EXEC_MIME_TYPE, append_mime, {\n",
       "      /* Is output safe? */\n",
       "      safe: true,\n",
       "      /* Index of renderer in `output_area.display_order` */\n",
       "      index: 0\n",
       "    });\n",
       "  }\n",
       "\n",
       "  // register the mime type if in Jupyter Notebook environment and previously unregistered\n",
       "  if (root.Jupyter !== undefined) {\n",
       "    var events = require('base/js/events');\n",
       "    var OutputArea = require('notebook/js/outputarea').OutputArea;\n",
       "\n",
       "    if (OutputArea.prototype.mime_types().indexOf(EXEC_MIME_TYPE) == -1) {\n",
       "      register_renderer(events, OutputArea);\n",
       "    }\n",
       "  }\n",
       "\n",
       "  \n",
       "  if (typeof (root._bokeh_timeout) === \"undefined\" || force === true) {\n",
       "    root._bokeh_timeout = Date.now() + 5000;\n",
       "    root._bokeh_failed_load = false;\n",
       "  }\n",
       "\n",
       "  var NB_LOAD_WARNING = {'data': {'text/html':\n",
       "     \"<div style='background-color: #fdd'>\\n\"+\n",
       "     \"<p>\\n\"+\n",
       "     \"BokehJS does not appear to have successfully loaded. If loading BokehJS from CDN, this \\n\"+\n",
       "     \"may be due to a slow or bad network connection. Possible fixes:\\n\"+\n",
       "     \"</p>\\n\"+\n",
       "     \"<ul>\\n\"+\n",
       "     \"<li>re-rerun `output_notebook()` to attempt to load from CDN again, or</li>\\n\"+\n",
       "     \"<li>use INLINE resources instead, as so:</li>\\n\"+\n",
       "     \"</ul>\\n\"+\n",
       "     \"<code>\\n\"+\n",
       "     \"from bokeh.resources import INLINE\\n\"+\n",
       "     \"output_notebook(resources=INLINE)\\n\"+\n",
       "     \"</code>\\n\"+\n",
       "     \"</div>\"}};\n",
       "\n",
       "  function display_loaded() {\n",
       "    var el = document.getElementById(\"1001\");\n",
       "    if (el != null) {\n",
       "      el.textContent = \"BokehJS is loading...\";\n",
       "    }\n",
       "    if (root.Bokeh !== undefined) {\n",
       "      if (el != null) {\n",
       "        el.textContent = \"BokehJS \" + root.Bokeh.version + \" successfully loaded.\";\n",
       "      }\n",
       "    } else if (Date.now() < root._bokeh_timeout) {\n",
       "      setTimeout(display_loaded, 100)\n",
       "    }\n",
       "  }\n",
       "\n",
       "\n",
       "  function run_callbacks() {\n",
       "    try {\n",
       "      root._bokeh_onload_callbacks.forEach(function(callback) {\n",
       "        if (callback != null)\n",
       "          callback();\n",
       "      });\n",
       "    } finally {\n",
       "      delete root._bokeh_onload_callbacks\n",
       "    }\n",
       "    console.debug(\"Bokeh: all callbacks have finished\");\n",
       "  }\n",
       "\n",
       "  function load_libs(css_urls, js_urls, callback) {\n",
       "    if (css_urls == null) css_urls = [];\n",
       "    if (js_urls == null) js_urls = [];\n",
       "\n",
       "    root._bokeh_onload_callbacks.push(callback);\n",
       "    if (root._bokeh_is_loading > 0) {\n",
       "      console.debug(\"Bokeh: BokehJS is being loaded, scheduling callback at\", now());\n",
       "      return null;\n",
       "    }\n",
       "    if (js_urls == null || js_urls.length === 0) {\n",
       "      run_callbacks();\n",
       "      return null;\n",
       "    }\n",
       "    console.debug(\"Bokeh: BokehJS not loaded, scheduling load and callback at\", now());\n",
       "    root._bokeh_is_loading = css_urls.length + js_urls.length;\n",
       "\n",
       "    function on_load() {\n",
       "      root._bokeh_is_loading--;\n",
       "      if (root._bokeh_is_loading === 0) {\n",
       "        console.debug(\"Bokeh: all BokehJS libraries/stylesheets loaded\");\n",
       "        run_callbacks()\n",
       "      }\n",
       "    }\n",
       "\n",
       "    function on_error() {\n",
       "      console.error(\"failed to load \" + url);\n",
       "    }\n",
       "\n",
       "    for (var i = 0; i < css_urls.length; i++) {\n",
       "      var url = css_urls[i];\n",
       "      const element = document.createElement(\"link\");\n",
       "      element.onload = on_load;\n",
       "      element.onerror = on_error;\n",
       "      element.rel = \"stylesheet\";\n",
       "      element.type = \"text/css\";\n",
       "      element.href = url;\n",
       "      console.debug(\"Bokeh: injecting link tag for BokehJS stylesheet: \", url);\n",
       "      document.body.appendChild(element);\n",
       "    }\n",
       "\n",
       "    const hashes = {\"https://cdn.bokeh.org/bokeh/release/bokeh-2.2.3.min.js\": \"T2yuo9Oe71Cz/I4X9Ac5+gpEa5a8PpJCDlqKYO0CfAuEszu1JrXLl8YugMqYe3sM\", \"https://cdn.bokeh.org/bokeh/release/bokeh-widgets-2.2.3.min.js\": \"98GDGJ0kOMCUMUePhksaQ/GYgB3+NH9h996V88sh3aOiUNX3N+fLXAtry6xctSZ6\", \"https://cdn.bokeh.org/bokeh/release/bokeh-tables-2.2.3.min.js\": \"89bArO+nlbP3sgakeHjCo1JYxYR5wufVgA3IbUvDY+K7w4zyxJqssu7wVnfeKCq8\"};\n",
       "\n",
       "    for (var i = 0; i < js_urls.length; i++) {\n",
       "      var url = js_urls[i];\n",
       "      var element = document.createElement('script');\n",
       "      element.onload = on_load;\n",
       "      element.onerror = on_error;\n",
       "      element.async = false;\n",
       "      element.src = url;\n",
       "      if (url in hashes) {\n",
       "        element.crossOrigin = \"anonymous\";\n",
       "        element.integrity = \"sha384-\" + hashes[url];\n",
       "      }\n",
       "      console.debug(\"Bokeh: injecting script tag for BokehJS library: \", url);\n",
       "      document.head.appendChild(element);\n",
       "    }\n",
       "  };\n",
       "\n",
       "  function inject_raw_css(css) {\n",
       "    const element = document.createElement(\"style\");\n",
       "    element.appendChild(document.createTextNode(css));\n",
       "    document.body.appendChild(element);\n",
       "  }\n",
       "\n",
       "  \n",
       "  var js_urls = [\"https://cdn.bokeh.org/bokeh/release/bokeh-2.2.3.min.js\", \"https://cdn.bokeh.org/bokeh/release/bokeh-widgets-2.2.3.min.js\", \"https://cdn.bokeh.org/bokeh/release/bokeh-tables-2.2.3.min.js\"];\n",
       "  var css_urls = [];\n",
       "  \n",
       "\n",
       "  var inline_js = [\n",
       "    function(Bokeh) {\n",
       "      Bokeh.set_log_level(\"info\");\n",
       "    },\n",
       "    function(Bokeh) {\n",
       "    \n",
       "    \n",
       "    }\n",
       "  ];\n",
       "\n",
       "  function run_inline_js() {\n",
       "    \n",
       "    if (root.Bokeh !== undefined || force === true) {\n",
       "      \n",
       "    for (var i = 0; i < inline_js.length; i++) {\n",
       "      inline_js[i].call(root, root.Bokeh);\n",
       "    }\n",
       "    if (force === true) {\n",
       "        display_loaded();\n",
       "      }} else if (Date.now() < root._bokeh_timeout) {\n",
       "      setTimeout(run_inline_js, 100);\n",
       "    } else if (!root._bokeh_failed_load) {\n",
       "      console.log(\"Bokeh: BokehJS failed to load within specified timeout.\");\n",
       "      root._bokeh_failed_load = true;\n",
       "    } else if (force !== true) {\n",
       "      var cell = $(document.getElementById(\"1001\")).parents('.cell').data().cell;\n",
       "      cell.output_area.append_execute_result(NB_LOAD_WARNING)\n",
       "    }\n",
       "\n",
       "  }\n",
       "\n",
       "  if (root._bokeh_is_loading === 0) {\n",
       "    console.debug(\"Bokeh: BokehJS loaded, going straight to plotting\");\n",
       "    run_inline_js();\n",
       "  } else {\n",
       "    load_libs(css_urls, js_urls, function() {\n",
       "      console.debug(\"Bokeh: BokehJS plotting callback run at\", now());\n",
       "      run_inline_js();\n",
       "    });\n",
       "  }\n",
       "}(window));"
      ],
      "application/vnd.bokehjs_load.v0+json": "\n(function(root) {\n  function now() {\n    return new Date();\n  }\n\n  var force = true;\n\n  if (typeof root._bokeh_onload_callbacks === \"undefined\" || force === true) {\n    root._bokeh_onload_callbacks = [];\n    root._bokeh_is_loading = undefined;\n  }\n\n  \n\n  \n  if (typeof (root._bokeh_timeout) === \"undefined\" || force === true) {\n    root._bokeh_timeout = Date.now() + 5000;\n    root._bokeh_failed_load = false;\n  }\n\n  var NB_LOAD_WARNING = {'data': {'text/html':\n     \"<div style='background-color: #fdd'>\\n\"+\n     \"<p>\\n\"+\n     \"BokehJS does not appear to have successfully loaded. If loading BokehJS from CDN, this \\n\"+\n     \"may be due to a slow or bad network connection. Possible fixes:\\n\"+\n     \"</p>\\n\"+\n     \"<ul>\\n\"+\n     \"<li>re-rerun `output_notebook()` to attempt to load from CDN again, or</li>\\n\"+\n     \"<li>use INLINE resources instead, as so:</li>\\n\"+\n     \"</ul>\\n\"+\n     \"<code>\\n\"+\n     \"from bokeh.resources import INLINE\\n\"+\n     \"output_notebook(resources=INLINE)\\n\"+\n     \"</code>\\n\"+\n     \"</div>\"}};\n\n  function display_loaded() {\n    var el = document.getElementById(\"1001\");\n    if (el != null) {\n      el.textContent = \"BokehJS is loading...\";\n    }\n    if (root.Bokeh !== undefined) {\n      if (el != null) {\n        el.textContent = \"BokehJS \" + root.Bokeh.version + \" successfully loaded.\";\n      }\n    } else if (Date.now() < root._bokeh_timeout) {\n      setTimeout(display_loaded, 100)\n    }\n  }\n\n\n  function run_callbacks() {\n    try {\n      root._bokeh_onload_callbacks.forEach(function(callback) {\n        if (callback != null)\n          callback();\n      });\n    } finally {\n      delete root._bokeh_onload_callbacks\n    }\n    console.debug(\"Bokeh: all callbacks have finished\");\n  }\n\n  function load_libs(css_urls, js_urls, callback) {\n    if (css_urls == null) css_urls = [];\n    if (js_urls == null) js_urls = [];\n\n    root._bokeh_onload_callbacks.push(callback);\n    if (root._bokeh_is_loading > 0) {\n      console.debug(\"Bokeh: BokehJS is being loaded, scheduling callback at\", now());\n      return null;\n    }\n    if (js_urls == null || js_urls.length === 0) {\n      run_callbacks();\n      return null;\n    }\n    console.debug(\"Bokeh: BokehJS not loaded, scheduling load and callback at\", now());\n    root._bokeh_is_loading = css_urls.length + js_urls.length;\n\n    function on_load() {\n      root._bokeh_is_loading--;\n      if (root._bokeh_is_loading === 0) {\n        console.debug(\"Bokeh: all BokehJS libraries/stylesheets loaded\");\n        run_callbacks()\n      }\n    }\n\n    function on_error() {\n      console.error(\"failed to load \" + url);\n    }\n\n    for (var i = 0; i < css_urls.length; i++) {\n      var url = css_urls[i];\n      const element = document.createElement(\"link\");\n      element.onload = on_load;\n      element.onerror = on_error;\n      element.rel = \"stylesheet\";\n      element.type = \"text/css\";\n      element.href = url;\n      console.debug(\"Bokeh: injecting link tag for BokehJS stylesheet: \", url);\n      document.body.appendChild(element);\n    }\n\n    const hashes = {\"https://cdn.bokeh.org/bokeh/release/bokeh-2.2.3.min.js\": \"T2yuo9Oe71Cz/I4X9Ac5+gpEa5a8PpJCDlqKYO0CfAuEszu1JrXLl8YugMqYe3sM\", \"https://cdn.bokeh.org/bokeh/release/bokeh-widgets-2.2.3.min.js\": \"98GDGJ0kOMCUMUePhksaQ/GYgB3+NH9h996V88sh3aOiUNX3N+fLXAtry6xctSZ6\", \"https://cdn.bokeh.org/bokeh/release/bokeh-tables-2.2.3.min.js\": \"89bArO+nlbP3sgakeHjCo1JYxYR5wufVgA3IbUvDY+K7w4zyxJqssu7wVnfeKCq8\"};\n\n    for (var i = 0; i < js_urls.length; i++) {\n      var url = js_urls[i];\n      var element = document.createElement('script');\n      element.onload = on_load;\n      element.onerror = on_error;\n      element.async = false;\n      element.src = url;\n      if (url in hashes) {\n        element.crossOrigin = \"anonymous\";\n        element.integrity = \"sha384-\" + hashes[url];\n      }\n      console.debug(\"Bokeh: injecting script tag for BokehJS library: \", url);\n      document.head.appendChild(element);\n    }\n  };\n\n  function inject_raw_css(css) {\n    const element = document.createElement(\"style\");\n    element.appendChild(document.createTextNode(css));\n    document.body.appendChild(element);\n  }\n\n  \n  var js_urls = [\"https://cdn.bokeh.org/bokeh/release/bokeh-2.2.3.min.js\", \"https://cdn.bokeh.org/bokeh/release/bokeh-widgets-2.2.3.min.js\", \"https://cdn.bokeh.org/bokeh/release/bokeh-tables-2.2.3.min.js\"];\n  var css_urls = [];\n  \n\n  var inline_js = [\n    function(Bokeh) {\n      Bokeh.set_log_level(\"info\");\n    },\n    function(Bokeh) {\n    \n    \n    }\n  ];\n\n  function run_inline_js() {\n    \n    if (root.Bokeh !== undefined || force === true) {\n      \n    for (var i = 0; i < inline_js.length; i++) {\n      inline_js[i].call(root, root.Bokeh);\n    }\n    if (force === true) {\n        display_loaded();\n      }} else if (Date.now() < root._bokeh_timeout) {\n      setTimeout(run_inline_js, 100);\n    } else if (!root._bokeh_failed_load) {\n      console.log(\"Bokeh: BokehJS failed to load within specified timeout.\");\n      root._bokeh_failed_load = true;\n    } else if (force !== true) {\n      var cell = $(document.getElementById(\"1001\")).parents('.cell').data().cell;\n      cell.output_area.append_execute_result(NB_LOAD_WARNING)\n    }\n\n  }\n\n  if (root._bokeh_is_loading === 0) {\n    console.debug(\"Bokeh: BokehJS loaded, going straight to plotting\");\n    run_inline_js();\n  } else {\n    load_libs(css_urls, js_urls, function() {\n      console.debug(\"Bokeh: BokehJS plotting callback run at\", now());\n      run_inline_js();\n    });\n  }\n}(window));"
     },
     "metadata": {},
     "output_type": "display_data"
    }
   ],
   "source": [
    "import tensorflow as tf\n",
    "import tensorflow.keras as keras\n",
    "import tensorflow.keras.losses as losses\n",
    "import tensorflow.keras.metrics as metrics\n",
    "import tensorflow.keras.optimizers as optimizers\n",
    "\n",
    "import tensorflow_datasets as tfds\n",
    "\n",
    "import numpy as np\n",
    "import itertools as it\n",
    "\n",
    "from bokeh.plotting import figure, show\n",
    "from bokeh.layouts import row\n",
    "from bokeh.io import output_notebook, reset_output\n",
    "\n",
    "reset_output()\n",
    "output_notebook()\n",
    "\n",
    "physical_devices = tf.config.list_physical_devices('GPU') \n",
    "tf.config.experimental.set_memory_growth(physical_devices[0], True)"
   ]
  },
  {
   "cell_type": "markdown",
   "metadata": {},
   "source": [
    "## Multilayer Perceptron\n",
    "### Forward Propagation\n",
    "\n",
    "The multilayer perceptron consists of several layers of operations. The output of each **neuron** in the layer is the **linear combination** of the input tensor followed by an **activation function**. For instance, in $Layer^1$, the first neuron $\\mathbf{a}^1_1$ is:\n",
    "\n",
    "$\\mathbf{a}^1_1 = f^1(\\mathbf{X^0w^1_1}+b^1)$\n",
    "\n",
    "The output of every neuron in $Layer^1$ will then be stacked into a new Tensor:\n",
    "\n",
    "$\\mathbf{A}^1=\\begin{bmatrix}    \\mathbf{a}^1_1 & \\mathbf{a}^1_2 & \\cdots &　\\mathbf{a}^1_{n1}\\end{bmatrix}=\\begin{bmatrix}    a_{11}^1 & a_{21}^1 & \\cdots & a_{n_11}^1\\\\    a_{12}^1 & a_{22}^1 & \\cdots & a_{n_12}^1\\\\    \\vdots & \\vdots & \\ddots & \\vdots\\\\    a_{1m}^1 & a_{2m}^1 & \\cdots & a_{n_1m}^1\\\\\\end{bmatrix}$\n",
    "\n",
    "where $n_1$ is the number of neuron in the $Layer^1$. \n",
    "\n",
    "We can denote the output of each layer with $a_{ij}^l$, where $l$ is the index of layer, $i$ is the index of neuron in $Layer^l$, $j$ is the index of the sample. The output of $Layer^{l}$ will then be fed to the next layer $Layer^{l+1}$ as the input. This process continues until the last layer $Layer^{k}$ of the network, generating the prediction $\\mathbf{\\hat{Y}}=\\mathbf{A}^k$. Note that the number of neuron in $Layer^k$ has to be the same as the shape of $\\mathbf{Y}$ (number of classes in classification, or number of targets in regression). Note that we apply different initialization for the weight in the different neuron, and therefore the neurons in the same layer generate slightly different output (will discuss in Weight Initialization).\n",
    "\n",
    "![First Layer](assets/multilayer_perceptron_first_layer.png)"
   ]
  },
  {
   "cell_type": "markdown",
   "metadata": {},
   "source": [
    "### Back Propagation\n",
    "\n",
    "The goal to train this multilayer perceptron network is to find the optimal weight $\\mathbf{W}^*$ in every layer that optimizes the objective function between the output of the network $\\mathbf{\\hat{Y}}$ and the ground truth target $\\mathbf{Y}$. To be more specific, we first need to compute the gradient of the objective function with respect to the output of the network $\\mathbf{\\hat{Y}}$: \n",
    "\n",
    "$\\nabla_\\mathbf{\\hat{Y}}L(\\mathbf{Y}, \\mathbf{\\hat{Y}})$\n",
    "\n",
    "The Jacobian matrix of all the output from every neuron in $Layer^k$ with respect to the linear combination $\\mathbf{X}^k$:\n",
    "\n",
    "$J_{f^k}(\\mathbf{\\mathbf{x}})=\\frac{\\partial\\mathbf{a}^k_i}{\\partial\\mathbf{x}_i^k}$\n",
    "\n",
    "And the Jacobian matrix of the output of linear combination with respect to the weight $\\mathbf{w}$:\n",
    "\n",
    "$J_{\\mathbf{A}^{k-1}w^k_i}(\\mathbf{a_i^{k-1}})=\\frac{\\partial\\mathbf{x}_i^k}{\\partial\\mathbf{w}_i^k}=\\mathbf{a}_i^{k-1}$\n",
    "\n",
    "where $k$ denotes the layer in the multilayer perceptron network. The gradient of the objective function with respect to the weight in the last layer $\\mathbf{w}^k$ is:\n",
    "\n",
    "$\\nabla_\\mathbf{w_1^k}L(\\mathbf{Y}, \\mathbf{\\hat{Y}})=(\\frac{\\partial\\mathbf{x}_i^{k}}{\\partial\\mathbf{w}_i^k})^T(\\frac{\\partial\\mathbf{a}_i^k}{\\partial\\mathbf{x}_i^k})^T\\nabla_\\mathbf{\\hat{Y}}L(\\mathbf{Y}, \\mathbf{\\hat{Y}})$\n",
    "\n",
    "The process continues from the output layer to the input layer; therefore, this process is called back propagation. The gradient of the objective function with respect to the weight $\\mathbf{w}_i$ (contribute to neuron $i$) in layer $l$ can be written as:\n",
    "\n",
    "$\\nabla_{w_i^l}L(\\mathbf{Y}, \\mathbf{\\hat{Y}})=(\\frac{\\partial\\mathbf{x}_i^l}{\\partial\\mathbf{w}_i^l})^T(\\frac{\\partial\\mathbf{a}_i^l}{\\partial\\mathbf{x}_i^l})^T\\sum\\limits_{j=1}^{n_{l+1}}\\nabla_\\mathbf{w_j^{l+1}}L(\\mathbf{Y}, \\mathbf{\\hat{Y}})$\n",
    "\n",
    "After computing the gradient, we can apply gradient descent in combination with optimizers to optimize the weight in each layer $\\mathbf{W}^l$\n",
    "\n",
    "![Multilayer Perceptron](assets/multilayer_perceptron.png)"
   ]
  },
  {
   "cell_type": "markdown",
   "metadata": {},
   "source": [
    "## Visualize Dataset"
   ]
  },
  {
   "cell_type": "code",
   "execution_count": 2,
   "metadata": {},
   "outputs": [],
   "source": [
    "mnist = tfds.image.MNIST()\n",
    "mnist_data = mnist.as_dataset(batch_size=-1, shuffle_files=True)\n",
    "mnist_train, mnist_test = mnist_data[\"train\"], mnist_data[\"test\"]"
   ]
  },
  {
   "cell_type": "code",
   "execution_count": 3,
   "metadata": {},
   "outputs": [
    {
     "data": {
      "text/html": [
       "\n",
       "\n",
       "\n",
       "\n",
       "\n",
       "\n",
       "  <div class=\"bk-root\" id=\"9194820e-a33f-4ebc-b298-cff645fe434f\" data-root-id=\"1002\"></div>\n"
      ]
     },
     "metadata": {},
     "output_type": "display_data"
    },
    {
     "data": {
      "application/javascript": [
       "(function(root) {\n",
       "  function embed_document(root) {\n",
       "    \n",
       "  var docs_json = {\"d6ac06dc-76ab-4cdb-9193-392c03397cb0\":{\"roots\":{\"references\":[{\"attributes\":{\"below\":[{\"id\":\"1013\"}],\"center\":[{\"id\":\"1016\"},{\"id\":\"1020\"}],\"left\":[{\"id\":\"1017\"}],\"plot_height\":250,\"plot_width\":250,\"renderers\":[{\"id\":\"1027\"}],\"title\":{\"id\":\"1003\"},\"toolbar\":{\"id\":\"1021\"},\"x_range\":{\"id\":\"1005\"},\"x_scale\":{\"id\":\"1009\"},\"y_range\":{\"id\":\"1007\"},\"y_scale\":{\"id\":\"1011\"}},\"id\":\"1002\",\"subtype\":\"Figure\",\"type\":\"Plot\"},{\"attributes\":{\"axis\":{\"id\":\"1013\"},\"ticker\":null},\"id\":\"1016\",\"type\":\"Grid\"},{\"attributes\":{},\"id\":\"1035\",\"type\":\"UnionRenderers\"},{\"attributes\":{\"color_mapper\":{\"id\":\"1024\"},\"dh\":{\"units\":\"data\",\"value\":10},\"dw\":{\"units\":\"data\",\"value\":10},\"image\":{\"field\":\"image\"},\"x\":{\"value\":0},\"y\":{\"value\":0}},\"id\":\"1023\",\"type\":\"Image\"},{\"attributes\":{\"formatter\":{\"id\":\"1032\"},\"ticker\":{\"id\":\"1018\"}},\"id\":\"1017\",\"type\":\"LinearAxis\"},{\"attributes\":{\"range_padding\":0},\"id\":\"1005\",\"type\":\"DataRange1d\"},{\"attributes\":{\"formatter\":{\"id\":\"1030\"},\"ticker\":{\"id\":\"1014\"}},\"id\":\"1013\",\"type\":\"LinearAxis\"},{\"attributes\":{},\"id\":\"1009\",\"type\":\"LinearScale\"},{\"attributes\":{},\"id\":\"1032\",\"type\":\"BasicTickFormatter\"},{\"attributes\":{\"color_mapper\":{\"id\":\"1026\"},\"dh\":{\"units\":\"data\",\"value\":10},\"dw\":{\"units\":\"data\",\"value\":10},\"global_alpha\":0.1,\"image\":{\"field\":\"image\"},\"x\":{\"value\":0},\"y\":{\"value\":0}},\"id\":\"1025\",\"type\":\"Image\"},{\"attributes\":{},\"id\":\"1014\",\"type\":\"BasicTicker\"},{\"attributes\":{\"data_source\":{\"id\":\"1022\"},\"glyph\":{\"id\":\"1023\"},\"hover_glyph\":null,\"muted_glyph\":null,\"nonselection_glyph\":{\"id\":\"1025\"},\"selection_glyph\":null,\"view\":{\"id\":\"1028\"}},\"id\":\"1027\",\"type\":\"GlyphRenderer\"},{\"attributes\":{},\"id\":\"1030\",\"type\":\"BasicTickFormatter\"},{\"attributes\":{\"active_drag\":\"auto\",\"active_inspect\":\"auto\",\"active_multi\":null,\"active_scroll\":\"auto\",\"active_tap\":\"auto\"},\"id\":\"1021\",\"type\":\"Toolbar\"},{\"attributes\":{\"axis\":{\"id\":\"1017\"},\"dimension\":1,\"ticker\":null},\"id\":\"1020\",\"type\":\"Grid\"},{\"attributes\":{\"source\":{\"id\":\"1022\"}},\"id\":\"1028\",\"type\":\"CDSView\"},{\"attributes\":{\"data\":{\"image\":[{\"__ndarray__\":\"AAAAAAAAAAAAAAAAAAAAAAAAAAAAAAAAAAAAAAAAAAAAAAAAAAAAAAAAAAAAAAAAAAAAAAAAAAAAAAAAAAAAAAAAAAAAAAAAAAAAAAAAAAAAAAAAAAAAAAAAAAAAAAAAAAAAAAAAAAAAAAAAAAAAAAAAAAAAAAAAAAAXvigAAAAAAAAAAAAAAAAAAAAAAAAAAAAAAAAAFdPjJAAAAAAAAAAAAAAAAAAAAAAAAAAAAAAAAABp/YwNAAAAAAAAAAAAAAAAAAAAAAAACJSUlJRCRf39vwYAAAAAAAAAAAAAAAAAAAAAAAWp8f39/f39/f2vmpqampqaBwAAAAAAAAAAAAAAADdecNng/f39/f39/f3u2QoAAAAAAAAAAAAAAAAAAAAAElh28/3WX1hYMwAAAAAAAAAAAAAAAAAcLAAAAAAAAG39/UMAAAAAAAAAAAAAAAAAAAAAOPZGAAAAAAA28f2mAAAAAAAAAAAAAAAAAAAAAAaxxBcAAAAAAFvy5jkAAAAAAAAAAAAAAAAAAAAAOP3DFwAAAAAAzf2gAAAAAAAAAAAAAAAAAAAAAAax/VYAAAAAAFXx6RgAAAAAAAAAAAAAAAAAAAAAOP25AAAAAAAA0/0eAAAAAAAAAAAAAAAAAAAAABXe9kIAAAAAAG39hAAAAAAAAAAAAAAAAAAAAAAAdf25AAAAAABY/ZoAAAAAAAAAAAAAAAAAAAAAABfczAAAAAAAWP2aAAAAAAAAAAAAAAAAAAAAAAAAdfh2AAAAAMf9KwAAAAAAAAAAAAAAAAAAAAAAACz9xQAAV9P61REAAAAAAAAAAAAAAAAAAAAAAAADsvvx8fv9cggAAAAAAAAAAAAAAAAAAAAAAAAAAHP+/v7aWwIAAAAAAAAAAAAAAAAAAAAAAAAAAAAAAAAAAAAAAAAAAAAAAAAAAAAAAAAAAAAAAAAAAAAAAAAAAAAAAAAAAAAAAAAAAAAAAAAAAAAAAAAAAAAAAAAAAAAAAAAAAAAAAAAAAAAAAAAAAAAAAAAAAAAAAAAAAAAAAAAAAA==\",\"dtype\":\"uint8\",\"order\":\"little\",\"shape\":[28,28]}]},\"selected\":{\"id\":\"1034\"},\"selection_policy\":{\"id\":\"1035\"}},\"id\":\"1022\",\"type\":\"ColumnDataSource\"},{\"attributes\":{\"range_padding\":0},\"id\":\"1007\",\"type\":\"DataRange1d\"},{\"attributes\":{\"text\":\"Label: 7\"},\"id\":\"1003\",\"type\":\"Title\"},{\"attributes\":{},\"id\":\"1034\",\"type\":\"Selection\"},{\"attributes\":{\"palette\":[\"#000000\",\"#252525\",\"#525252\",\"#737373\",\"#969696\",\"#bdbdbd\",\"#d9d9d9\",\"#f0f0f0\",\"#ffffff\"]},\"id\":\"1026\",\"type\":\"LinearColorMapper\"},{\"attributes\":{},\"id\":\"1011\",\"type\":\"LinearScale\"},{\"attributes\":{},\"id\":\"1018\",\"type\":\"BasicTicker\"},{\"attributes\":{\"palette\":[\"#000000\",\"#252525\",\"#525252\",\"#737373\",\"#969696\",\"#bdbdbd\",\"#d9d9d9\",\"#f0f0f0\",\"#ffffff\"]},\"id\":\"1024\",\"type\":\"LinearColorMapper\"}],\"root_ids\":[\"1002\"]},\"title\":\"Bokeh Application\",\"version\":\"2.2.3\"}};\n",
       "  var render_items = [{\"docid\":\"d6ac06dc-76ab-4cdb-9193-392c03397cb0\",\"root_ids\":[\"1002\"],\"roots\":{\"1002\":\"9194820e-a33f-4ebc-b298-cff645fe434f\"}}];\n",
       "  root.Bokeh.embed.embed_items_notebook(docs_json, render_items);\n",
       "\n",
       "  }\n",
       "  if (root.Bokeh !== undefined) {\n",
       "    embed_document(root);\n",
       "  } else {\n",
       "    var attempts = 0;\n",
       "    var timer = setInterval(function(root) {\n",
       "      if (root.Bokeh !== undefined) {\n",
       "        clearInterval(timer);\n",
       "        embed_document(root);\n",
       "      } else {\n",
       "        attempts++;\n",
       "        if (attempts > 100) {\n",
       "          clearInterval(timer);\n",
       "          console.log(\"Bokeh: ERROR: Unable to run BokehJS code because BokehJS library is missing\");\n",
       "        }\n",
       "      }\n",
       "    }, 10, root)\n",
       "  }\n",
       "})(window);"
      ],
      "application/vnd.bokehjs_exec.v0+json": ""
     },
     "metadata": {
      "application/vnd.bokehjs_exec.v0+json": {
       "id": "1002"
      }
     },
     "output_type": "display_data"
    }
   ],
   "source": [
    "image, label = mnist_train['image'][0], mnist_train['label'][0]\n",
    "\n",
    "fig = figure(title=f'Label: {label}', plot_height=250, plot_width=250, tools=[])\n",
    "fig.x_range.range_padding = fig.y_range.range_padding = 0\n",
    "fig.image(image=[np.flipud(tf.reshape(image, (28, 28)).numpy())], x=0, y=0, dw=10, dh=10)\n",
    "show(fig)"
   ]
  },
  {
   "cell_type": "markdown",
   "metadata": {},
   "source": [
    "## Define Network Structure"
   ]
  },
  {
   "cell_type": "code",
   "execution_count": 4,
   "metadata": {},
   "outputs": [],
   "source": [
    "class MLP(tf.keras.Model):\n",
    "    def __init__(self, encoding_dim, activation='relu'):\n",
    "        super().__init__()\n",
    "        self.encoding_dim = encoding_dim\n",
    "        self.activation = activation\n",
    "        self.network = tf.keras.Sequential([\n",
    "            keras.layers.Flatten(input_shape=(28, 28, 1)),\n",
    "            keras.layers.Dense(self.encoding_dim, activation=self.activation),\n",
    "            keras.layers.Dense(10)\n",
    "        ])\n",
    "\n",
    "    def call(self, x):\n",
    "        return self.network(x)"
   ]
  },
  {
   "cell_type": "markdown",
   "metadata": {},
   "source": [
    "## Initialize Network and Define Network Properties"
   ]
  },
  {
   "cell_type": "code",
   "execution_count": 5,
   "metadata": {},
   "outputs": [],
   "source": [
    "model = MLP(encoding_dim=128)\n",
    "model.compile(optimizer=optimizers.Adam(), \n",
    "              loss=losses.SparseCategoricalCrossentropy(from_logits=True),\n",
    "              metrics=[metrics.SparseCategoricalAccuracy()])"
   ]
  },
  {
   "cell_type": "code",
   "execution_count": 6,
   "metadata": {},
   "outputs": [
    {
     "name": "stdout",
     "output_type": "stream",
     "text": [
      "Train on 45000 samples, validate on 15000 samples\n",
      "Epoch 1/10\n",
      "45000/45000 [==============================] - 5s 122us/sample - loss: 3.1417 - sparse_categorical_accuracy: 0.8468 - val_loss: 0.7138 - val_sparse_categorical_accuracy: 0.8515\n",
      "Epoch 2/10\n",
      "45000/45000 [==============================] - 4s 96us/sample - loss: 0.4893 - sparse_categorical_accuracy: 0.8933 - val_loss: 0.5161 - val_sparse_categorical_accuracy: 0.9027\n",
      "Epoch 3/10\n",
      "45000/45000 [==============================] - 4s 96us/sample - loss: 0.3329 - sparse_categorical_accuracy: 0.9213 - val_loss: 0.3686 - val_sparse_categorical_accuracy: 0.9211\n",
      "Epoch 4/10\n",
      "45000/45000 [==============================] - 4s 96us/sample - loss: 0.2755 - sparse_categorical_accuracy: 0.9318 - val_loss: 0.3267 - val_sparse_categorical_accuracy: 0.9249\n",
      "Epoch 5/10\n",
      "45000/45000 [==============================] - 4s 95us/sample - loss: 0.2353 - sparse_categorical_accuracy: 0.9405 - val_loss: 0.2887 - val_sparse_categorical_accuracy: 0.9297\n",
      "Epoch 6/10\n",
      "45000/45000 [==============================] - 4s 95us/sample - loss: 0.2181 - sparse_categorical_accuracy: 0.9454 - val_loss: 0.2757 - val_sparse_categorical_accuracy: 0.9352\n",
      "Epoch 7/10\n",
      "45000/45000 [==============================] - 5s 108us/sample - loss: 0.2123 - sparse_categorical_accuracy: 0.9476 - val_loss: 0.2679 - val_sparse_categorical_accuracy: 0.9356\n",
      "Epoch 8/10\n",
      "45000/45000 [==============================] - 5s 103us/sample - loss: 0.1876 - sparse_categorical_accuracy: 0.9543 - val_loss: 0.2751 - val_sparse_categorical_accuracy: 0.9411\n",
      "Epoch 9/10\n",
      "45000/45000 [==============================] - 4s 94us/sample - loss: 0.1885 - sparse_categorical_accuracy: 0.9546 - val_loss: 0.2941 - val_sparse_categorical_accuracy: 0.9397\n",
      "Epoch 10/10\n",
      "45000/45000 [==============================] - 4s 89us/sample - loss: 0.1775 - sparse_categorical_accuracy: 0.9570 - val_loss: 0.3234 - val_sparse_categorical_accuracy: 0.9434\n"
     ]
    }
   ],
   "source": [
    "history = model.fit(mnist_train['image'], mnist_train['label'], epochs=10, validation_split=0.25)"
   ]
  },
  {
   "cell_type": "code",
   "execution_count": 7,
   "metadata": {},
   "outputs": [],
   "source": [
    "train_accuracy = history.history['sparse_categorical_accuracy']\n",
    "val_accuracy = history.history['val_sparse_categorical_accuracy']\n",
    "train_loss, val_loss = history.history['loss'], history.history['val_loss']"
   ]
  },
  {
   "cell_type": "code",
   "execution_count": 8,
   "metadata": {},
   "outputs": [
    {
     "data": {
      "text/html": [
       "\n",
       "\n",
       "\n",
       "\n",
       "\n",
       "\n",
       "  <div class=\"bk-root\" id=\"25464ed7-df9d-47dd-a673-8ae106677e89\" data-root-id=\"1169\"></div>\n"
      ]
     },
     "metadata": {},
     "output_type": "display_data"
    },
    {
     "data": {
      "application/javascript": [
       "(function(root) {\n",
       "  function embed_document(root) {\n",
       "    \n",
       "  var docs_json = {\"4e7e9883-cdd0-4324-93ed-2898e8c5fdba\":{\"roots\":{\"references\":[{\"attributes\":{\"children\":[{\"id\":\"1120\"},{\"id\":\"1071\"}]},\"id\":\"1169\",\"type\":\"Row\"},{\"attributes\":{},\"id\":\"1080\",\"type\":\"LinearScale\"},{\"attributes\":{\"data\":{\"x\":{\"__ndarray__\":\"AQAAAAIAAAADAAAABAAAAAUAAAAGAAAABwAAAAgAAAAJAAAACgAAAA==\",\"dtype\":\"int32\",\"order\":\"little\",\"shape\":[10]},\"y\":[0.7137516051769257,0.5160776480436325,0.36863252179225287,0.3267433759311835,0.2887430163393418,0.27573500493864217,0.26787552523414293,0.2750892432153225,0.2941005765731136,0.3234355394427975]},\"selected\":{\"id\":\"1117\"},\"selection_policy\":{\"id\":\"1118\"}},\"id\":\"1105\",\"type\":\"ColumnDataSource\"},{\"attributes\":{\"below\":[{\"id\":\"1131\"}],\"center\":[{\"id\":\"1134\"},{\"id\":\"1138\"},{\"id\":\"1152\"}],\"left\":[{\"id\":\"1135\"}],\"plot_height\":500,\"plot_width\":500,\"renderers\":[{\"id\":\"1143\"},{\"id\":\"1157\"}],\"title\":{\"id\":\"1121\"},\"toolbar\":{\"id\":\"1139\"},\"x_range\":{\"id\":\"1123\"},\"x_scale\":{\"id\":\"1127\"},\"y_range\":{\"id\":\"1125\"},\"y_scale\":{\"id\":\"1129\"}},\"id\":\"1120\",\"subtype\":\"Figure\",\"type\":\"Plot\"},{\"attributes\":{},\"id\":\"1083\",\"type\":\"BasicTicker\"},{\"attributes\":{\"label\":{\"value\":\"train\"},\"renderers\":[{\"id\":\"1143\"}]},\"id\":\"1153\",\"type\":\"LegendItem\"},{\"attributes\":{\"line_color\":\"salmon\",\"line_width\":5,\"x\":{\"field\":\"x\"},\"y\":{\"field\":\"y\"}},\"id\":\"1092\",\"type\":\"Line\"},{\"attributes\":{},\"id\":\"1129\",\"type\":\"LinearScale\"},{\"attributes\":{\"formatter\":{\"id\":\"1097\"},\"ticker\":{\"id\":\"1083\"}},\"id\":\"1082\",\"type\":\"LinearAxis\"},{\"attributes\":{\"source\":{\"id\":\"1091\"}},\"id\":\"1095\",\"type\":\"CDSView\"},{\"attributes\":{\"axis\":{\"id\":\"1131\"},\"ticker\":null},\"id\":\"1134\",\"type\":\"Grid\"},{\"attributes\":{\"source\":{\"id\":\"1105\"}},\"id\":\"1109\",\"type\":\"CDSView\"},{\"attributes\":{},\"id\":\"1087\",\"type\":\"BasicTicker\"},{\"attributes\":{\"label\":{\"value\":\"validation\"},\"renderers\":[{\"id\":\"1157\"}]},\"id\":\"1168\",\"type\":\"LegendItem\"},{\"attributes\":{\"data\":{\"x\":{\"__ndarray__\":\"AQAAAAIAAAADAAAABAAAAAUAAAAGAAAABwAAAAgAAAAJAAAACgAAAA==\",\"dtype\":\"int32\",\"order\":\"little\",\"shape\":[10]},\"y\":[3.141680889671627,0.48926744605766403,0.3329019753062063,0.27554154311802637,0.2352750876545906,0.21805029121584568,0.21227907759737638,0.18757754575643273,0.18850685978610482,0.17751606775736437]},\"selected\":{\"id\":\"1101\"},\"selection_policy\":{\"id\":\"1102\"}},\"id\":\"1091\",\"type\":\"ColumnDataSource\"},{\"attributes\":{},\"id\":\"1132\",\"type\":\"BasicTicker\"},{\"attributes\":{\"axis\":{\"id\":\"1082\"},\"ticker\":null},\"id\":\"1085\",\"type\":\"Grid\"},{\"attributes\":{\"data_source\":{\"id\":\"1105\"},\"glyph\":{\"id\":\"1106\"},\"hover_glyph\":null,\"muted_glyph\":null,\"nonselection_glyph\":{\"id\":\"1107\"},\"selection_glyph\":null,\"view\":{\"id\":\"1109\"}},\"id\":\"1108\",\"type\":\"GlyphRenderer\"},{\"attributes\":{\"formatter\":{\"id\":\"1099\"},\"ticker\":{\"id\":\"1087\"}},\"id\":\"1086\",\"type\":\"LinearAxis\"},{\"attributes\":{\"data_source\":{\"id\":\"1154\"},\"glyph\":{\"id\":\"1155\"},\"hover_glyph\":null,\"muted_glyph\":null,\"nonselection_glyph\":{\"id\":\"1156\"},\"selection_glyph\":null,\"view\":{\"id\":\"1158\"}},\"id\":\"1157\",\"type\":\"GlyphRenderer\"},{\"attributes\":{\"active_drag\":\"auto\",\"active_inspect\":\"auto\",\"active_multi\":null,\"active_scroll\":\"auto\",\"active_tap\":\"auto\"},\"id\":\"1090\",\"type\":\"Toolbar\"},{\"attributes\":{\"line_alpha\":0.1,\"line_color\":\"limegreen\",\"line_width\":5,\"x\":{\"field\":\"x\"},\"y\":{\"field\":\"y\"}},\"id\":\"1156\",\"type\":\"Line\"},{\"attributes\":{\"data_source\":{\"id\":\"1140\"},\"glyph\":{\"id\":\"1141\"},\"hover_glyph\":null,\"muted_glyph\":null,\"nonselection_glyph\":{\"id\":\"1142\"},\"selection_glyph\":null,\"view\":{\"id\":\"1144\"}},\"id\":\"1143\",\"type\":\"GlyphRenderer\"},{\"attributes\":{},\"id\":\"1127\",\"type\":\"LinearScale\"},{\"attributes\":{\"line_color\":\"limegreen\",\"line_width\":5,\"x\":{\"field\":\"x\"},\"y\":{\"field\":\"y\"}},\"id\":\"1106\",\"type\":\"Line\"},{\"attributes\":{\"data_source\":{\"id\":\"1091\"},\"glyph\":{\"id\":\"1092\"},\"hover_glyph\":null,\"muted_glyph\":null,\"nonselection_glyph\":{\"id\":\"1093\"},\"selection_glyph\":null,\"view\":{\"id\":\"1095\"}},\"id\":\"1094\",\"type\":\"GlyphRenderer\"},{\"attributes\":{\"line_alpha\":0.1,\"line_color\":\"salmon\",\"line_width\":5,\"x\":{\"field\":\"x\"},\"y\":{\"field\":\"y\"}},\"id\":\"1142\",\"type\":\"Line\"},{\"attributes\":{},\"id\":\"1167\",\"type\":\"UnionRenderers\"},{\"attributes\":{\"line_color\":\"limegreen\",\"line_width\":5,\"x\":{\"field\":\"x\"},\"y\":{\"field\":\"y\"}},\"id\":\"1155\",\"type\":\"Line\"},{\"attributes\":{},\"id\":\"1101\",\"type\":\"Selection\"},{\"attributes\":{\"axis\":{\"id\":\"1086\"},\"dimension\":1,\"ticker\":null},\"id\":\"1089\",\"type\":\"Grid\"},{\"attributes\":{\"line_color\":\"salmon\",\"line_width\":5,\"x\":{\"field\":\"x\"},\"y\":{\"field\":\"y\"}},\"id\":\"1141\",\"type\":\"Line\"},{\"attributes\":{},\"id\":\"1099\",\"type\":\"BasicTickFormatter\"},{\"attributes\":{\"formatter\":{\"id\":\"1148\"},\"ticker\":{\"id\":\"1136\"}},\"id\":\"1135\",\"type\":\"LinearAxis\"},{\"attributes\":{},\"id\":\"1150\",\"type\":\"Selection\"},{\"attributes\":{\"source\":{\"id\":\"1154\"}},\"id\":\"1158\",\"type\":\"CDSView\"},{\"attributes\":{},\"id\":\"1136\",\"type\":\"BasicTicker\"},{\"attributes\":{\"below\":[{\"id\":\"1082\"}],\"center\":[{\"id\":\"1085\"},{\"id\":\"1089\"},{\"id\":\"1103\"}],\"left\":[{\"id\":\"1086\"}],\"plot_height\":500,\"plot_width\":500,\"renderers\":[{\"id\":\"1094\"},{\"id\":\"1108\"}],\"title\":{\"id\":\"1072\"},\"toolbar\":{\"id\":\"1090\"},\"x_range\":{\"id\":\"1074\"},\"x_scale\":{\"id\":\"1078\"},\"y_range\":{\"id\":\"1076\"},\"y_scale\":{\"id\":\"1080\"}},\"id\":\"1071\",\"subtype\":\"Figure\",\"type\":\"Plot\"},{\"attributes\":{\"active_drag\":\"auto\",\"active_inspect\":\"auto\",\"active_multi\":null,\"active_scroll\":\"auto\",\"active_tap\":\"auto\"},\"id\":\"1139\",\"type\":\"Toolbar\"},{\"attributes\":{\"formatter\":{\"id\":\"1146\"},\"ticker\":{\"id\":\"1132\"}},\"id\":\"1131\",\"type\":\"LinearAxis\"},{\"attributes\":{},\"id\":\"1078\",\"type\":\"LinearScale\"},{\"attributes\":{\"source\":{\"id\":\"1140\"}},\"id\":\"1144\",\"type\":\"CDSView\"},{\"attributes\":{\"items\":[{\"id\":\"1153\"},{\"id\":\"1168\"}]},\"id\":\"1152\",\"type\":\"Legend\"},{\"attributes\":{},\"id\":\"1125\",\"type\":\"DataRange1d\"},{\"attributes\":{\"text\":\"Loss\"},\"id\":\"1072\",\"type\":\"Title\"},{\"attributes\":{\"data\":{\"x\":{\"__ndarray__\":\"AQAAAAIAAAADAAAABAAAAAUAAAAGAAAABwAAAAgAAAAJAAAACgAAAA==\",\"dtype\":\"int32\",\"order\":\"little\",\"shape\":[10]},\"y\":[0.8515333533287048,0.9026666879653931,0.9211333394050598,0.9249333143234253,0.9296666383743286,0.9351999759674072,0.9355999827384949,0.9411333203315735,0.9397333264350891,0.9434000253677368]},\"selected\":{\"id\":\"1166\"},\"selection_policy\":{\"id\":\"1167\"}},\"id\":\"1154\",\"type\":\"ColumnDataSource\"},{\"attributes\":{\"text\":\"Accuracy\"},\"id\":\"1121\",\"type\":\"Title\"},{\"attributes\":{\"label\":{\"value\":\"train\"},\"renderers\":[{\"id\":\"1094\"}]},\"id\":\"1104\",\"type\":\"LegendItem\"},{\"attributes\":{\"label\":{\"value\":\"validation\"},\"renderers\":[{\"id\":\"1108\"}]},\"id\":\"1119\",\"type\":\"LegendItem\"},{\"attributes\":{\"line_alpha\":0.1,\"line_color\":\"limegreen\",\"line_width\":5,\"x\":{\"field\":\"x\"},\"y\":{\"field\":\"y\"}},\"id\":\"1107\",\"type\":\"Line\"},{\"attributes\":{},\"id\":\"1097\",\"type\":\"BasicTickFormatter\"},{\"attributes\":{},\"id\":\"1166\",\"type\":\"Selection\"},{\"attributes\":{},\"id\":\"1118\",\"type\":\"UnionRenderers\"},{\"attributes\":{},\"id\":\"1146\",\"type\":\"BasicTickFormatter\"},{\"attributes\":{\"line_alpha\":0.1,\"line_color\":\"salmon\",\"line_width\":5,\"x\":{\"field\":\"x\"},\"y\":{\"field\":\"y\"}},\"id\":\"1093\",\"type\":\"Line\"},{\"attributes\":{\"axis\":{\"id\":\"1135\"},\"dimension\":1,\"ticker\":null},\"id\":\"1138\",\"type\":\"Grid\"},{\"attributes\":{},\"id\":\"1074\",\"type\":\"DataRange1d\"},{\"attributes\":{\"items\":[{\"id\":\"1104\"},{\"id\":\"1119\"}]},\"id\":\"1103\",\"type\":\"Legend\"},{\"attributes\":{},\"id\":\"1123\",\"type\":\"DataRange1d\"},{\"attributes\":{},\"id\":\"1148\",\"type\":\"BasicTickFormatter\"},{\"attributes\":{},\"id\":\"1102\",\"type\":\"UnionRenderers\"},{\"attributes\":{\"data\":{\"x\":{\"__ndarray__\":\"AQAAAAIAAAADAAAABAAAAAUAAAAGAAAABwAAAAgAAAAJAAAACgAAAA==\",\"dtype\":\"int32\",\"order\":\"little\",\"shape\":[10]},\"y\":[0.8467777967453003,0.8933333158493042,0.9212889075279236,0.9318444728851318,0.9405111074447632,0.945377767086029,0.9476000070571899,0.9543111324310303,0.9545999765396118,0.9569777846336365]},\"selected\":{\"id\":\"1150\"},\"selection_policy\":{\"id\":\"1151\"}},\"id\":\"1140\",\"type\":\"ColumnDataSource\"},{\"attributes\":{},\"id\":\"1151\",\"type\":\"UnionRenderers\"},{\"attributes\":{},\"id\":\"1117\",\"type\":\"Selection\"},{\"attributes\":{},\"id\":\"1076\",\"type\":\"DataRange1d\"}],\"root_ids\":[\"1169\"]},\"title\":\"Bokeh Application\",\"version\":\"2.2.3\"}};\n",
       "  var render_items = [{\"docid\":\"4e7e9883-cdd0-4324-93ed-2898e8c5fdba\",\"root_ids\":[\"1169\"],\"roots\":{\"1169\":\"25464ed7-df9d-47dd-a673-8ae106677e89\"}}];\n",
       "  root.Bokeh.embed.embed_items_notebook(docs_json, render_items);\n",
       "\n",
       "  }\n",
       "  if (root.Bokeh !== undefined) {\n",
       "    embed_document(root);\n",
       "  } else {\n",
       "    var attempts = 0;\n",
       "    var timer = setInterval(function(root) {\n",
       "      if (root.Bokeh !== undefined) {\n",
       "        clearInterval(timer);\n",
       "        embed_document(root);\n",
       "      } else {\n",
       "        attempts++;\n",
       "        if (attempts > 100) {\n",
       "          clearInterval(timer);\n",
       "          console.log(\"Bokeh: ERROR: Unable to run BokehJS code because BokehJS library is missing\");\n",
       "        }\n",
       "      }\n",
       "    }, 10, root)\n",
       "  }\n",
       "})(window);"
      ],
      "application/vnd.bokehjs_exec.v0+json": ""
     },
     "metadata": {
      "application/vnd.bokehjs_exec.v0+json": {
       "id": "1169"
      }
     },
     "output_type": "display_data"
    }
   ],
   "source": [
    "num_epochs = np.arange(len(train_loss)) + 1\n",
    "fig_loss = figure(title=f'Loss', plot_height=500, plot_width=500, tools=[])\n",
    "fig_loss.line(num_epochs, train_loss, color='salmon', line_width=5, legend_label='train')\n",
    "fig_loss.line(num_epochs, val_loss, color='limegreen', line_width=5, legend_label='validation')\n",
    "fig_acc = figure(title=f'Accuracy', plot_height=500, plot_width=500, tools=[])\n",
    "fig_acc.line(num_epochs, train_accuracy, color='salmon', line_width=5, legend_label='train')\n",
    "fig_acc.line(num_epochs, val_accuracy, color='limegreen', line_width=5, legend_label='validation')\n",
    "show(row(fig_acc, fig_loss))"
   ]
  },
  {
   "cell_type": "code",
   "execution_count": 9,
   "metadata": {},
   "outputs": [],
   "source": [
    "y_pred = model.predict(mnist_test['image'])"
   ]
  },
  {
   "cell_type": "code",
   "execution_count": 10,
   "metadata": {},
   "outputs": [
    {
     "data": {
      "text/html": [
       "\n",
       "\n",
       "\n",
       "\n",
       "\n",
       "\n",
       "  <div class=\"bk-root\" id=\"b681aa28-ecae-4c69-b1f2-0cb5d35fc429\" data-root-id=\"1285\"></div>\n"
      ]
     },
     "metadata": {},
     "output_type": "display_data"
    },
    {
     "data": {
      "application/javascript": [
       "(function(root) {\n",
       "  function embed_document(root) {\n",
       "    \n",
       "  var docs_json = {\"cb93527a-0019-4e85-8080-91788007c4a1\":{\"roots\":{\"references\":[{\"attributes\":{\"below\":[{\"id\":\"1296\"}],\"center\":[{\"id\":\"1299\"},{\"id\":\"1303\"}],\"left\":[{\"id\":\"1300\"}],\"plot_height\":250,\"plot_width\":250,\"renderers\":[{\"id\":\"1310\"}],\"title\":{\"id\":\"1286\"},\"toolbar\":{\"id\":\"1304\"},\"x_range\":{\"id\":\"1288\"},\"x_scale\":{\"id\":\"1292\"},\"y_range\":{\"id\":\"1290\"},\"y_scale\":{\"id\":\"1294\"}},\"id\":\"1285\",\"subtype\":\"Figure\",\"type\":\"Plot\"},{\"attributes\":{\"range_padding\":0},\"id\":\"1290\",\"type\":\"DataRange1d\"},{\"attributes\":{\"color_mapper\":{\"id\":\"1309\"},\"dh\":{\"units\":\"data\",\"value\":10},\"dw\":{\"units\":\"data\",\"value\":10},\"global_alpha\":0.1,\"image\":{\"field\":\"image\"},\"x\":{\"value\":0},\"y\":{\"value\":0}},\"id\":\"1308\",\"type\":\"Image\"},{\"attributes\":{},\"id\":\"1297\",\"type\":\"BasicTicker\"},{\"attributes\":{\"axis\":{\"id\":\"1296\"},\"ticker\":null},\"id\":\"1299\",\"type\":\"Grid\"},{\"attributes\":{\"palette\":[\"#000000\",\"#252525\",\"#525252\",\"#737373\",\"#969696\",\"#bdbdbd\",\"#d9d9d9\",\"#f0f0f0\",\"#ffffff\"]},\"id\":\"1309\",\"type\":\"LinearColorMapper\"},{\"attributes\":{\"data_source\":{\"id\":\"1305\"},\"glyph\":{\"id\":\"1306\"},\"hover_glyph\":null,\"muted_glyph\":null,\"nonselection_glyph\":{\"id\":\"1308\"},\"selection_glyph\":null,\"view\":{\"id\":\"1311\"}},\"id\":\"1310\",\"type\":\"GlyphRenderer\"},{\"attributes\":{},\"id\":\"1338\",\"type\":\"BasicTickFormatter\"},{\"attributes\":{\"formatter\":{\"id\":\"1338\"},\"ticker\":{\"id\":\"1297\"}},\"id\":\"1296\",\"type\":\"LinearAxis\"},{\"attributes\":{\"text\":\"Label: 6, Prediction: 6\"},\"id\":\"1286\",\"type\":\"Title\"},{\"attributes\":{},\"id\":\"1301\",\"type\":\"BasicTicker\"},{\"attributes\":{\"formatter\":{\"id\":\"1340\"},\"ticker\":{\"id\":\"1301\"}},\"id\":\"1300\",\"type\":\"LinearAxis\"},{\"attributes\":{\"source\":{\"id\":\"1305\"}},\"id\":\"1311\",\"type\":\"CDSView\"},{\"attributes\":{\"active_drag\":\"auto\",\"active_inspect\":\"auto\",\"active_multi\":null,\"active_scroll\":\"auto\",\"active_tap\":\"auto\"},\"id\":\"1304\",\"type\":\"Toolbar\"},{\"attributes\":{\"axis\":{\"id\":\"1300\"},\"dimension\":1,\"ticker\":null},\"id\":\"1303\",\"type\":\"Grid\"},{\"attributes\":{\"range_padding\":0},\"id\":\"1288\",\"type\":\"DataRange1d\"},{\"attributes\":{},\"id\":\"1342\",\"type\":\"Selection\"},{\"attributes\":{},\"id\":\"1340\",\"type\":\"BasicTickFormatter\"},{\"attributes\":{},\"id\":\"1292\",\"type\":\"LinearScale\"},{\"attributes\":{\"data\":{\"image\":[{\"__ndarray__\":\"AAAAAAAAAAAAAAAAAAAAAAAAAAAAAAAAAAAAAAAAAAAAAAAAAAAAAAAAAAAAAAAAAAAAAAAAAAAAAAAAAAAAAAAAAAAAAAAAAAAAAAAAAAAAAAAAAAAAAAAAAAAAAAAAAAAAAAAAAAAAAAAAAAAAAAAAAAAAAAAAAAAAAAAAAAAAAAAAAAAAAAAAAAAAAAAAAAAAAAAAAAAAAAAAAAAAAAAAAAAAAAAAAAAAAAAAAAAAAAAAAEvV+YEFAAAAAAAAAAAAAAAAAAAAAAAAAAAAVM30/v7+lQAAAAAAAAAAAAAAAAAAAAAAAAAJfPz+/v7+/vNsAAAAAAAAAAAAAAAAAAAAAAAALv7+/v7+/v7+/p4GAAAAAAAAAAAAAAAAAAAAAMr++ke1/v6Rm/7+IAAAAAAAAAAAAAAAAAAAACr0/qkAGPX+yxOU/rwAAAAAAAAAAAAAAAAAAAA6/v5qAAB39f7VUf79NwAAAAAAAAAAAAAAAAAAOv7+uQAAAHn+/u7+/jkAAAAAAAAAAAAAAAAAABLk/skAAAAFp/7+/uQSAAAAAAAAAAAAAAAAAAAAbf77KQAAAAWd4/FDAAAAAAAAAAAAAAAAAAAAABn+/jAAAAAAABUjAAAAAAAAAAAAAAAAAAAAAAAR6f7MAAAAAAAAAAAAAAAAAAAAAAAAAAAAAAAAAIL+9ioAAAAAAAAAAAAAAAAAAAAAAAAAAAAAAAAT9P53AQAAAAAAAAAAAAAAAAAAAAAAAAAAAAAAAFf+/k4AAAAAAAAAAAAAAAAAAAAAAAAAAAAAAAAG2P7MBwAAAAAAAAAAAAAAAAAAAAAAAAAAAAAAAGT9/lYAAAAAAAAAAAAAAAAAAAAAAAAAAAAAAAAAmf7XNAAAAAAAAAAAAAAAAAAAAAAAAAAAAAAAAArB/oIAAAAAAAAAAAAAAAAAAAAAAAAAAAAAAAAAJLeyAAAAAAAAAAAAAAAAAAAAAAAAAAAAAAAAAAAAAAAAAAAAAAAAAAAAAAAAAAAAAAAAAAAAAAAAAAAAAAAAAAAAAAAAAA==\",\"dtype\":\"uint8\",\"order\":\"little\",\"shape\":[28,28]}]},\"selected\":{\"id\":\"1342\"},\"selection_policy\":{\"id\":\"1343\"}},\"id\":\"1305\",\"type\":\"ColumnDataSource\"},{\"attributes\":{},\"id\":\"1343\",\"type\":\"UnionRenderers\"},{\"attributes\":{},\"id\":\"1294\",\"type\":\"LinearScale\"},{\"attributes\":{\"color_mapper\":{\"id\":\"1307\"},\"dh\":{\"units\":\"data\",\"value\":10},\"dw\":{\"units\":\"data\",\"value\":10},\"image\":{\"field\":\"image\"},\"x\":{\"value\":0},\"y\":{\"value\":0}},\"id\":\"1306\",\"type\":\"Image\"},{\"attributes\":{\"palette\":[\"#000000\",\"#252525\",\"#525252\",\"#737373\",\"#969696\",\"#bdbdbd\",\"#d9d9d9\",\"#f0f0f0\",\"#ffffff\"]},\"id\":\"1307\",\"type\":\"LinearColorMapper\"}],\"root_ids\":[\"1285\"]},\"title\":\"Bokeh Application\",\"version\":\"2.2.3\"}};\n",
       "  var render_items = [{\"docid\":\"cb93527a-0019-4e85-8080-91788007c4a1\",\"root_ids\":[\"1285\"],\"roots\":{\"1285\":\"b681aa28-ecae-4c69-b1f2-0cb5d35fc429\"}}];\n",
       "  root.Bokeh.embed.embed_items_notebook(docs_json, render_items);\n",
       "\n",
       "  }\n",
       "  if (root.Bokeh !== undefined) {\n",
       "    embed_document(root);\n",
       "  } else {\n",
       "    var attempts = 0;\n",
       "    var timer = setInterval(function(root) {\n",
       "      if (root.Bokeh !== undefined) {\n",
       "        clearInterval(timer);\n",
       "        embed_document(root);\n",
       "      } else {\n",
       "        attempts++;\n",
       "        if (attempts > 100) {\n",
       "          clearInterval(timer);\n",
       "          console.log(\"Bokeh: ERROR: Unable to run BokehJS code because BokehJS library is missing\");\n",
       "        }\n",
       "      }\n",
       "    }, 10, root)\n",
       "  }\n",
       "})(window);"
      ],
      "application/vnd.bokehjs_exec.v0+json": ""
     },
     "metadata": {
      "application/vnd.bokehjs_exec.v0+json": {
       "id": "1285"
      }
     },
     "output_type": "display_data"
    }
   ],
   "source": [
    "image, label, pred = mnist_test['image'][0], mnist_test['label'][0], y_pred.argmax(axis=1)[0]\n",
    "\n",
    "fig = figure(title=f'Label: {label}, Prediction: {pred}', plot_height=250, plot_width=250, tools=[])\n",
    "fig.x_range.range_padding = fig.y_range.range_padding = 0\n",
    "fig.image(image=[np.flipud(tf.reshape(image, (28, 28)).numpy())], x=0, y=0, dw=10, dh=10)\n",
    "show(fig)"
   ]
  },
  {
   "cell_type": "code",
   "execution_count": 11,
   "metadata": {},
   "outputs": [
    {
     "data": {
      "text/html": [
       "\n",
       "\n",
       "\n",
       "\n",
       "\n",
       "\n",
       "  <div class=\"bk-root\" id=\"8509d39e-c3b5-4c50-a2b7-78a59112979f\" data-root-id=\"1379\"></div>\n"
      ]
     },
     "metadata": {},
     "output_type": "display_data"
    },
    {
     "data": {
      "application/javascript": [
       "(function(root) {\n",
       "  function embed_document(root) {\n",
       "    \n",
       "  var docs_json = {\"ed5e2d4e-531e-4ec1-b737-dc0012edf063\":{\"roots\":{\"references\":[{\"attributes\":{\"below\":[{\"id\":\"1390\"}],\"center\":[{\"id\":\"1393\"},{\"id\":\"1397\"}],\"left\":[{\"id\":\"1394\"}],\"plot_height\":250,\"plot_width\":250,\"renderers\":[{\"id\":\"1404\"}],\"title\":{\"id\":\"1380\"},\"toolbar\":{\"id\":\"1398\"},\"x_range\":{\"id\":\"1382\"},\"x_scale\":{\"id\":\"1386\"},\"y_range\":{\"id\":\"1384\"},\"y_scale\":{\"id\":\"1388\"}},\"id\":\"1379\",\"subtype\":\"Figure\",\"type\":\"Plot\"},{\"attributes\":{\"color_mapper\":{\"id\":\"1401\"},\"dh\":{\"units\":\"data\",\"value\":10},\"dw\":{\"units\":\"data\",\"value\":10},\"image\":{\"field\":\"image\"},\"x\":{\"value\":0},\"y\":{\"value\":0}},\"id\":\"1400\",\"type\":\"Image\"},{\"attributes\":{\"source\":{\"id\":\"1399\"}},\"id\":\"1405\",\"type\":\"CDSView\"},{\"attributes\":{\"palette\":[\"#000000\",\"#252525\",\"#525252\",\"#737373\",\"#969696\",\"#bdbdbd\",\"#d9d9d9\",\"#f0f0f0\",\"#ffffff\"]},\"id\":\"1401\",\"type\":\"LinearColorMapper\"},{\"attributes\":{\"formatter\":{\"id\":\"1441\"},\"ticker\":{\"id\":\"1395\"}},\"id\":\"1394\",\"type\":\"LinearAxis\"},{\"attributes\":{\"range_padding\":0},\"id\":\"1382\",\"type\":\"DataRange1d\"},{\"attributes\":{\"palette\":[\"#000000\",\"#252525\",\"#525252\",\"#737373\",\"#969696\",\"#bdbdbd\",\"#d9d9d9\",\"#f0f0f0\",\"#ffffff\"]},\"id\":\"1403\",\"type\":\"LinearColorMapper\"},{\"attributes\":{},\"id\":\"1395\",\"type\":\"BasicTicker\"},{\"attributes\":{\"axis\":{\"id\":\"1390\"},\"ticker\":null},\"id\":\"1393\",\"type\":\"Grid\"},{\"attributes\":{\"text\":\"Label: 8, Prediction: 2\"},\"id\":\"1380\",\"type\":\"Title\"},{\"attributes\":{\"data\":{\"image\":[{\"__ndarray__\":\"AAAAAAAAAAAAAAAAAAAAAAAAAAAAAAAAAAAAAAAAAAAAAAAAAAAAAAAAAAAAAAAAAAAAAAAAAAAAAAAAAAAAAAAAAAAAAAAAAAAAAAAAAAAAAAAAAAAAAAAAAAAAAAAAAAAAAAAAAAAAAAAAAAAAAAAAAAAAAAAAAAA9FAAAKfN6FAAAAAAAAAAAAAAAAAAAAAAAAAAp4BQAAACjy99SAAAAAAAAAAAAAAAAAAAAAABw1PN6AAAAAHvz/YIAAAAAAAAAAAAAAAAAAABS6tVSAAAAAAAAUv/9AAAAAAAAAAAAAAAAAAAAZv1vAAAAAAAAAABHXAAAAAAAAAAAAAAAAAAAABX+wAAAAAAAAAAA6jIAAAAAAAAAAAAAAAAAAAAAwfzpMhQACgoyrFIAAAAAAAAAAAAAAAAAAAAAAB+t/sDgKDOD/lsAAAAAAAAAAAAAAAAAAAAAAAAAKXvz/YKs/HsAAAAAAAAAAAAAAAAAAAAAAAAAAAAAUv7V/tUAAAAAAAAAAAAAAAAAAAAAAAAAAAAAAADpW+n8egAAAAAAAAAAAAAAAAAAAAAAAAAAAAAAHwpx/fQoAAAAAAAAAAAAAAAAAAAAAAAAAAAAAAAAFY7p1AAAAAAAAAAAAAAAAAAAAAAAAAAAAAAAAAAAmP0AAAAAAAAAAAAAAAAAAAAAAAAAAAAAAAAAAOn8PQAAAAAAAAAAAAAAAAAAAAAAAAAAAAAAAACY/Y4AAAAAAAAAAAAAAAAAAAAAAAAAAAAAAAAAmPzLAAAAAAAAAAAAAAAAAAAAAAAAAAAAAABmZur9ywAAAAAAAAAAAAAAAAAAAAAAAAAAAAAA/fz9/FIAAAAAAAAAAAAAAAAAAAAAAAAAAAAAAP6srYMAAAAAAAAAAAAAAAAAAAAAAAAAAAAAAAAAAAAAAAAAAAAAAAAAAAAAAAAAAAAAAAAAAAAAAAAAAAAAAAAAAAAAAAAAAAAAAAAAAAAAAAAAAAAAAAAAAAAAAAAAAAAAAAAAAAAAAAAAAAAAAAAAAAAAAAAAAAAAAAAAAA==\",\"dtype\":\"uint8\",\"order\":\"little\",\"shape\":[28,28]}]},\"selected\":{\"id\":\"1443\"},\"selection_policy\":{\"id\":\"1444\"}},\"id\":\"1399\",\"type\":\"ColumnDataSource\"},{\"attributes\":{\"formatter\":{\"id\":\"1439\"},\"ticker\":{\"id\":\"1391\"}},\"id\":\"1390\",\"type\":\"LinearAxis\"},{\"attributes\":{},\"id\":\"1439\",\"type\":\"BasicTickFormatter\"},{\"attributes\":{},\"id\":\"1443\",\"type\":\"Selection\"},{\"attributes\":{},\"id\":\"1441\",\"type\":\"BasicTickFormatter\"},{\"attributes\":{},\"id\":\"1391\",\"type\":\"BasicTicker\"},{\"attributes\":{},\"id\":\"1388\",\"type\":\"LinearScale\"},{\"attributes\":{\"range_padding\":0},\"id\":\"1384\",\"type\":\"DataRange1d\"},{\"attributes\":{},\"id\":\"1386\",\"type\":\"LinearScale\"},{\"attributes\":{},\"id\":\"1444\",\"type\":\"UnionRenderers\"},{\"attributes\":{\"active_drag\":\"auto\",\"active_inspect\":\"auto\",\"active_multi\":null,\"active_scroll\":\"auto\",\"active_tap\":\"auto\"},\"id\":\"1398\",\"type\":\"Toolbar\"},{\"attributes\":{\"axis\":{\"id\":\"1394\"},\"dimension\":1,\"ticker\":null},\"id\":\"1397\",\"type\":\"Grid\"},{\"attributes\":{\"color_mapper\":{\"id\":\"1403\"},\"dh\":{\"units\":\"data\",\"value\":10},\"dw\":{\"units\":\"data\",\"value\":10},\"global_alpha\":0.1,\"image\":{\"field\":\"image\"},\"x\":{\"value\":0},\"y\":{\"value\":0}},\"id\":\"1402\",\"type\":\"Image\"},{\"attributes\":{\"data_source\":{\"id\":\"1399\"},\"glyph\":{\"id\":\"1400\"},\"hover_glyph\":null,\"muted_glyph\":null,\"nonselection_glyph\":{\"id\":\"1402\"},\"selection_glyph\":null,\"view\":{\"id\":\"1405\"}},\"id\":\"1404\",\"type\":\"GlyphRenderer\"}],\"root_ids\":[\"1379\"]},\"title\":\"Bokeh Application\",\"version\":\"2.2.3\"}};\n",
       "  var render_items = [{\"docid\":\"ed5e2d4e-531e-4ec1-b737-dc0012edf063\",\"root_ids\":[\"1379\"],\"roots\":{\"1379\":\"8509d39e-c3b5-4c50-a2b7-78a59112979f\"}}];\n",
       "  root.Bokeh.embed.embed_items_notebook(docs_json, render_items);\n",
       "\n",
       "  }\n",
       "  if (root.Bokeh !== undefined) {\n",
       "    embed_document(root);\n",
       "  } else {\n",
       "    var attempts = 0;\n",
       "    var timer = setInterval(function(root) {\n",
       "      if (root.Bokeh !== undefined) {\n",
       "        clearInterval(timer);\n",
       "        embed_document(root);\n",
       "      } else {\n",
       "        attempts++;\n",
       "        if (attempts > 100) {\n",
       "          clearInterval(timer);\n",
       "          console.log(\"Bokeh: ERROR: Unable to run BokehJS code because BokehJS library is missing\");\n",
       "        }\n",
       "      }\n",
       "    }, 10, root)\n",
       "  }\n",
       "})(window);"
      ],
      "application/vnd.bokehjs_exec.v0+json": ""
     },
     "metadata": {
      "application/vnd.bokehjs_exec.v0+json": {
       "id": "1379"
      }
     },
     "output_type": "display_data"
    }
   ],
   "source": [
    "image, label, pred = mnist_test['image'][16], mnist_test['label'][16], y_pred.argmax(axis=1)[16]\n",
    "\n",
    "fig = figure(title=f'Label: {label}, Prediction: {pred}', plot_height=250, plot_width=250, tools=[])\n",
    "fig.x_range.range_padding = fig.y_range.range_padding = 0\n",
    "fig.image(image=[np.flipud(tf.reshape(image, (28, 28)).numpy())], x=0, y=0, dw=10, dh=10)\n",
    "show(fig)"
   ]
  },
  {
   "cell_type": "code",
   "execution_count": null,
   "metadata": {},
   "outputs": [],
   "source": []
  }
 ],
 "metadata": {
  "kernelspec": {
   "display_name": "Python 3",
   "language": "python",
   "name": "python3"
  },
  "language_info": {
   "codemirror_mode": {
    "name": "ipython",
    "version": 3
   },
   "file_extension": ".py",
   "mimetype": "text/x-python",
   "name": "python",
   "nbconvert_exporter": "python",
   "pygments_lexer": "ipython3",
   "version": "3.7.9"
  }
 },
 "nbformat": 4,
 "nbformat_minor": 4
}
