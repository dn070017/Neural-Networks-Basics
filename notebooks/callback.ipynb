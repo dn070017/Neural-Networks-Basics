{
 "cells": [
  {
   "cell_type": "markdown",
   "metadata": {},
   "source": [
    "## Import Packages, Environment Setting"
   ]
  },
  {
   "cell_type": "code",
   "execution_count": 1,
   "metadata": {},
   "outputs": [],
   "source": [
    "import tensorflow as tf\n",
    "import tensorflow.keras as keras\n",
    "import tensorflow.keras.losses as losses\n",
    "import tensorflow.keras.metrics as metrics\n",
    "import tensorflow.keras.optimizers as optimizers\n",
    "\n",
    "import tensorflow_datasets as tfds\n",
    "\n",
    "physical_devices = tf.config.list_physical_devices('GPU') \n",
    "tf.config.experimental.set_memory_growth(physical_devices[0], True)"
   ]
  },
  {
   "cell_type": "markdown",
   "metadata": {},
   "source": [
    "## Tensorflow Callback\n",
    "Tensorflow `Callback` object execute different functions on different stages of training process. For instance, after one training epoch, before prediction on validation set, [etc](https://www.tensorflow.org/api_docs/python/tf/keras/callbacks/Callback). This provides various useful functions that help us keep track of our learning process. In this section, we introduce some commonly used instances, including `EarlyStopping`, `LearningRateScheduler`, `ModelCheckpoint`, `TensorBoard`."
   ]
  },
  {
   "cell_type": "markdown",
   "metadata": {},
   "source": [
    "### Early Stopping\n",
    "`EarlyStopping(monitor=metrics, min_delta=delta, patience=patience)` [API](https://www.tensorflow.org/api_docs/python/tf/keras/callbacks/EarlyStopping)\n",
    "\n",
    "Early stopping is a useful callback that we can use to terminate the learning process if the model does not improve at least `delta` on the `monitor` metrics in `n=patience` epochs."
   ]
  },
  {
   "cell_type": "code",
   "execution_count": 2,
   "metadata": {},
   "outputs": [],
   "source": [
    "es_callback = tf.keras.callbacks.EarlyStopping(\n",
    "    monitor='val_sparse_categorical_accuracy', \n",
    "    min_delta=0.05, \n",
    "    patience=2\n",
    ")"
   ]
  },
  {
   "cell_type": "markdown",
   "metadata": {},
   "source": [
    "### Learning Rate Scheduler\n",
    "`LearningRateScheduler(scheduler_func)` [API](https://www.tensorflow.org/api_docs/python/tf/keras/callbacks/LearningRateScheduler)\n",
    "\n",
    "Modify learning rate based on the epoch index. The `scheduler_func` takes two parameter as the input and return the modified learning rate. The first parameter is the index of epoch, the second parameter is the learning rate used."
   ]
  },
  {
   "cell_type": "code",
   "execution_count": 3,
   "metadata": {},
   "outputs": [],
   "source": [
    "def scheduler(epoch, lr):\n",
    "    if epoch < 10:\n",
    "        return lr\n",
    "    else:\n",
    "        return lr * tf.math.exp(-0.1)\n",
    "\n",
    "ls_callback = tf.keras.callbacks.LearningRateScheduler(scheduler)"
   ]
  },
  {
   "cell_type": "markdown",
   "metadata": {},
   "source": [
    "### Model Checkpoint\n",
    "`ModelCehckpoing(filepath, monitor=metrics, save_best_only=False, save_weights_only=False)` [API](https://www.tensorflow.org/api_docs/python/tf/keras/callbacks/ModelCheckpoint)\n",
    "\n",
    "Save the model (or weight of model) to the given `filepath`."
   ]
  },
  {
   "cell_type": "code",
   "execution_count": 4,
   "metadata": {},
   "outputs": [],
   "source": [
    "mc_callback = tf.keras.callbacks.ModelCheckpoint(\n",
    "    'logs/best_model.h5',\n",
    "    monitor='val_sparse_categorical_accuracy',\n",
    "    save_best_only=True\n",
    ")"
   ]
  },
  {
   "cell_type": "markdown",
   "metadata": {},
   "source": [
    "### Tensorboard\n",
    "`TensorflowBoard(log_dir)` [API](https://www.tensorflow.org/api_docs/python/tf/keras/callbacks/TensorBoard)\n",
    "Create Tensorboard to visualize the training process. Use the following command to get access to the TensorBoard.\n",
    "```batch\n",
    "$ tensorboard --logdir=logs\n",
    "```"
   ]
  },
  {
   "cell_type": "code",
   "execution_count": 5,
   "metadata": {},
   "outputs": [],
   "source": [
    "tb_callback = tf.keras.callbacks.TensorBoard(log_dir='logs')"
   ]
  },
  {
   "cell_type": "markdown",
   "metadata": {},
   "source": [
    "### Example"
   ]
  },
  {
   "cell_type": "code",
   "execution_count": 6,
   "metadata": {},
   "outputs": [],
   "source": [
    "class MLP(tf.keras.Model):\n",
    "    def __init__(self, encoding_dim, activation='relu'):\n",
    "        super().__init__()\n",
    "        self.encoding_dim = encoding_dim\n",
    "        self.activation = activation\n",
    "        self.network = tf.keras.Sequential([\n",
    "            keras.layers.Flatten(input_shape=(28, 28, 1)),\n",
    "            keras.layers.Dense(self.encoding_dim, activation=self.activation),\n",
    "            keras.layers.Dense(10)\n",
    "        ])\n",
    "\n",
    "    def call(self, x):\n",
    "        return self.network(x)"
   ]
  },
  {
   "cell_type": "code",
   "execution_count": 7,
   "metadata": {},
   "outputs": [],
   "source": [
    "mnist = tfds.image.MNIST()\n",
    "mnist_data = mnist.as_dataset(batch_size=-1, shuffle_files=True)\n",
    "mnist_train, mnist_test = mnist_data[\"train\"], mnist_data[\"test\"]"
   ]
  },
  {
   "cell_type": "code",
   "execution_count": 8,
   "metadata": {},
   "outputs": [],
   "source": [
    "model = MLP(encoding_dim=128)\n",
    "model.compile(optimizer=optimizers.Adam(), \n",
    "              loss=losses.SparseCategoricalCrossentropy(from_logits=True),\n",
    "              metrics=[metrics.SparseCategoricalAccuracy()])"
   ]
  },
  {
   "cell_type": "code",
   "execution_count": 9,
   "metadata": {},
   "outputs": [
    {
     "name": "stdout",
     "output_type": "stream",
     "text": [
      "Train on 45000 samples, validate on 15000 samples\n",
      "Epoch 1/10\n",
      "45000/45000 [==============================] - 5s 107us/sample - loss: 3.1884 - sparse_categorical_accuracy: 0.8510 - val_loss: 0.5546 - val_sparse_categorical_accuracy: 0.8843\n",
      "Epoch 2/10\n",
      "45000/45000 [==============================] - 4s 91us/sample - loss: 0.4005 - sparse_categorical_accuracy: 0.9050 - val_loss: 0.4379 - val_sparse_categorical_accuracy: 0.9029\n",
      "Epoch 3/10\n",
      "45000/45000 [==============================] - 4s 94us/sample - loss: 0.3006 - sparse_categorical_accuracy: 0.9236 - val_loss: 0.3158 - val_sparse_categorical_accuracy: 0.9210\n"
     ]
    }
   ],
   "source": [
    "history = model.fit(\n",
    "    mnist_train['image'],\n",
    "    mnist_train['label'],\n",
    "    epochs=10,\n",
    "    validation_split=0.25,\n",
    "    callbacks=[es_callback]\n",
    ")"
   ]
  }
 ],
 "metadata": {
  "kernelspec": {
   "display_name": "Python 3",
   "language": "python",
   "name": "python3"
  },
  "language_info": {
   "codemirror_mode": {
    "name": "ipython",
    "version": 3
   },
   "file_extension": ".py",
   "mimetype": "text/x-python",
   "name": "python",
   "nbconvert_exporter": "python",
   "pygments_lexer": "ipython3",
   "version": "3.7.9"
  }
 },
 "nbformat": 4,
 "nbformat_minor": 4
}
