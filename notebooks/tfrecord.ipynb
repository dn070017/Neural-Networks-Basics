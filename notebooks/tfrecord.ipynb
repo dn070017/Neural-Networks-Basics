{
 "cells": [
  {
   "cell_type": "markdown",
   "metadata": {},
   "source": [
    "## Import Packages, Environment Setting"
   ]
  },
  {
   "cell_type": "code",
   "execution_count": 1,
   "metadata": {},
   "outputs": [],
   "source": [
    "import numpy as np\n",
    "import tensorflow as tf\n",
    "import tensorflow_datasets as tfds\n",
    "\n",
    "tfds.disable_progress_bar()\n",
    "\n",
    "physical_devices = tf.config.list_physical_devices('GPU') \n",
    "tf.config.experimental.set_memory_growth(physical_devices[0], True)"
   ]
  },
  {
   "cell_type": "markdown",
   "metadata": {},
   "source": [
    "Tensorflow Record is useful for storing serialized string efficiently. In this section, we introduce some basic use case of Tensorflow Record."
   ]
  },
  {
   "cell_type": "markdown",
   "metadata": {},
   "source": [
    "## Construct from Example\n",
    "`tf.trian.Example` message provide an efficient way to construct serialized data structure for custom dataset. The pipeline is to create dictionary of every feature using `tf.train.Feature` for each instance, and then transform this dictionary into `tf.train.Features` object. Thereafter, create `tf.train.Example` using `tf.train.Features`, and finally create `TFRecord` using the serialize string of `tf.train.Example`.\n",
    "\n",
    "For instance, if we have a dataset consist of `100 instance` with `3 features` and `1 target`:"
   ]
  },
  {
   "cell_type": "markdown",
   "metadata": {},
   "source": [
    "### Create Feature object\n",
    "`tf.train.Feature(float_list=tf.train.FloatList(value=data))`\n",
    "\n",
    "We need to first construct `tf.train.Feature` object for each instance. Here, we focus on float features since they are the most commonly used data type. However, `tf.train.Feature` can be generalized to [other format](https://www.tensorflow.org/tutorials/load_data/tfrecord#data_types_for_tftrainexample)."
   ]
  },
  {
   "cell_type": "code",
   "execution_count": 2,
   "metadata": {},
   "outputs": [],
   "source": [
    "np.random.seed(0)\n",
    "X = np.random.normal(0, 1, 300).reshape(100, 3)\n",
    "y = np.random.normal(0, 1, 100)\n",
    "dict_of_features_for_sample_0 = {\n",
    "    'feature A': tf.train.Feature(float_list=tf.train.FloatList(value=[X[0, 0]])),\n",
    "    'feature B': tf.train.Feature(float_list=tf.train.FloatList(value=[X[0, 1]])),\n",
    "    'feature C': tf.train.Feature(float_list=tf.train.FloatList(value=[X[0, 2]])),\n",
    "    'target': tf.train.Feature(float_list=tf.train.FloatList(value=[y[0]])),\n",
    "}"
   ]
  },
  {
   "cell_type": "markdown",
   "metadata": {},
   "source": [
    "### Create Features object\n",
    "`tf.train.Features(dict)`\n",
    "\n",
    "Next, we construct `Features` object using the dictionary created from previous step."
   ]
  },
  {
   "cell_type": "code",
   "execution_count": 3,
   "metadata": {},
   "outputs": [],
   "source": [
    "features_for_sample_0 = tf.train.Features(feature=dict_of_features_for_sample_0)"
   ]
  },
  {
   "cell_type": "markdown",
   "metadata": {},
   "source": [
    "### Create Example object\n",
    "`tf.train.Example(features=features)`\n",
    "\n",
    "Lastly, we coonstruct `tf.train.Example` using `tf.train.Features`."
   ]
  },
  {
   "cell_type": "code",
   "execution_count": 4,
   "metadata": {},
   "outputs": [],
   "source": [
    "example_for_sample_0 = tf.train.Example(features=features_for_sample_0)"
   ]
  },
  {
   "cell_type": "markdown",
   "metadata": {},
   "source": [
    "### Construct serialized string\n",
    "`example.SerializeToString()`"
   ]
  },
  {
   "cell_type": "code",
   "execution_count": 5,
   "metadata": {},
   "outputs": [
    {
     "data": {
      "text/plain": [
       "b'\\nY\\n\\x15\\n\\tfeature A\\x12\\x08\\x12\\x06\\n\\x04x\\xcc\\xe1?\\n\\x15\\n\\tfeature B\\x12\\x08\\x12\\x06\\n\\x04h\\xe1\\xcc>\\n\\x15\\n\\tfeature C\\x12\\x08\\x12\\x06\\n\\x04\\x93\\x8ez?\\n\\x12\\n\\x06target\\x12\\x08\\x12\\x06\\n\\x04F<\\xa7\\xbf'"
      ]
     },
     "execution_count": 5,
     "metadata": {},
     "output_type": "execute_result"
    }
   ],
   "source": [
    "example_for_sample_0.SerializeToString()"
   ]
  },
  {
   "cell_type": "markdown",
   "metadata": {},
   "source": [
    "### Implement serialization as function\n",
    "Here, we implement a function to automate the entire process that can be effeciently applied on every instance. Note that we will have to __coerce__ the type to float to avoid issues when dealing with Tensorflow Tensors."
   ]
  },
  {
   "cell_type": "code",
   "execution_count": 6,
   "metadata": {},
   "outputs": [],
   "source": [
    "def serialize_example(featureA, featureB, featureC, target):\n",
    "   \n",
    "    dict_of_features = {\n",
    "        'feature A': tf.train.Feature(float_list=tf.train.FloatList(value=[float(featureA)])),\n",
    "        'feature B': tf.train.Feature(float_list=tf.train.FloatList(value=[float(featureB)])),\n",
    "        'feature C': tf.train.Feature(float_list=tf.train.FloatList(value=[float(featureC)])),\n",
    "        'target': tf.train.Feature(float_list=tf.train.FloatList(value=[float(target)])),\n",
    "    }\n",
    "    features = tf.train.Features(feature=dict_of_features)\n",
    "    example = tf.train.Example(features=features)\n",
    "    \n",
    "    return example.SerializeToString()"
   ]
  },
  {
   "cell_type": "markdown",
   "metadata": {},
   "source": [
    "### Write as TFRecord"
   ]
  },
  {
   "cell_type": "code",
   "execution_count": 7,
   "metadata": {},
   "outputs": [],
   "source": [
    "n_instances = X.shape[0]\n",
    "with tf.io.TFRecordWriter('example.tfrecords') as writer:\n",
    "    for i in range(n_instances):\n",
    "        example = serialize_example(X[i, 0], X[i, 1], X[i, 2], y[i])\n",
    "        writer.write(example)"
   ]
  },
  {
   "cell_type": "markdown",
   "metadata": {},
   "source": [
    "## Construct from Tensor\n",
    "We can easily construct the serialized string using the serialization function and `map` function."
   ]
  },
  {
   "cell_type": "code",
   "execution_count": 8,
   "metadata": {},
   "outputs": [],
   "source": [
    "np.random.seed(0)\n",
    "X = np.random.normal(0, 1, 300).reshape(100, 3)\n",
    "y = np.random.normal(0, 1, 100).reshape(100)\n",
    "\n",
    "dataset = tf.data.Dataset.from_tensor_slices({\n",
    "    'feature A': X[:, 0],\n",
    "    'feature B': X[:, 1],\n",
    "    'feature C': X[:, 2],\n",
    "    'target': y\n",
    "})"
   ]
  },
  {
   "cell_type": "markdown",
   "metadata": {},
   "source": [
    "Note that we will have to use `tf.py_function` since the `serialize_example` function is a native Python function that does not operate on the graph."
   ]
  },
  {
   "cell_type": "code",
   "execution_count": 9,
   "metadata": {},
   "outputs": [],
   "source": [
    "def serialize_dataset(x):\n",
    "    serialize_string = tf.py_function(\n",
    "        serialize_example,\n",
    "        (x['feature A'], x['feature B'], x['feature C'], x['target']),\n",
    "        tf.string\n",
    "    )\n",
    "    return tf.reshape(serialize_string, ())"
   ]
  },
  {
   "cell_type": "code",
   "execution_count": 10,
   "metadata": {},
   "outputs": [],
   "source": [
    "with tf.io.TFRecordWriter('example.tfrecords') as writer:\n",
    "    for example in dataset.map(serialize_dataset):\n",
    "        writer.write(example.numpy())"
   ]
  },
  {
   "cell_type": "markdown",
   "metadata": {},
   "source": [
    "## Read TFRecord\n",
    "First we read as dataset with serialized string."
   ]
  },
  {
   "cell_type": "code",
   "execution_count": 11,
   "metadata": {},
   "outputs": [],
   "source": [
    "serialized_string_dataset = tf.data.TFRecordDataset('example.tfrecords')"
   ]
  },
  {
   "cell_type": "markdown",
   "metadata": {},
   "source": [
    "Thereafter, we decode the dataset with feature description."
   ]
  },
  {
   "cell_type": "code",
   "execution_count": 12,
   "metadata": {},
   "outputs": [],
   "source": [
    "feature_description = {\n",
    "    'feature A': tf.io.FixedLenFeature([], tf.float32, default_value=0.0),\n",
    "    'feature B': tf.io.FixedLenFeature([], tf.float32, default_value=0.0),\n",
    "    'feature C': tf.io.FixedLenFeature([], tf.float32, default_value=0.0),\n",
    "    'target': tf.io.FixedLenFeature([], tf.float32, default_value=0.0),\n",
    "}\n",
    "\n",
    "def decode_serialized_string(serialized_string):\n",
    "    return tf.io.parse_single_example(serialized_string, feature_description)"
   ]
  },
  {
   "cell_type": "code",
   "execution_count": 13,
   "metadata": {},
   "outputs": [],
   "source": [
    "dataset = serialized_string_dataset.map(decode_serialized_string)"
   ]
  }
 ],
 "metadata": {
  "kernelspec": {
   "display_name": "Python 3",
   "language": "python",
   "name": "python3"
  },
  "language_info": {
   "codemirror_mode": {
    "name": "ipython",
    "version": 3
   },
   "file_extension": ".py",
   "mimetype": "text/x-python",
   "name": "python",
   "nbconvert_exporter": "python",
   "pygments_lexer": "ipython3",
   "version": "3.7.9"
  }
 },
 "nbformat": 4,
 "nbformat_minor": 4
}
