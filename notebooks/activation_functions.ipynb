{
 "cells": [
  {
   "cell_type": "markdown",
   "metadata": {},
   "source": [
    "## Import Packages, Environment Setting"
   ]
  },
  {
   "cell_type": "code",
   "execution_count": 1,
   "metadata": {},
   "outputs": [
    {
     "data": {
      "text/html": [
       "\n",
       "    <div class=\"bk-root\">\n",
       "        <a href=\"https://bokeh.org\" target=\"_blank\" class=\"bk-logo bk-logo-small bk-logo-notebook\"></a>\n",
       "        <span id=\"1001\">Loading BokehJS ...</span>\n",
       "    </div>"
      ]
     },
     "metadata": {},
     "output_type": "display_data"
    },
    {
     "data": {
      "application/javascript": [
       "\n",
       "(function(root) {\n",
       "  function now() {\n",
       "    return new Date();\n",
       "  }\n",
       "\n",
       "  var force = true;\n",
       "\n",
       "  if (typeof root._bokeh_onload_callbacks === \"undefined\" || force === true) {\n",
       "    root._bokeh_onload_callbacks = [];\n",
       "    root._bokeh_is_loading = undefined;\n",
       "  }\n",
       "\n",
       "  var JS_MIME_TYPE = 'application/javascript';\n",
       "  var HTML_MIME_TYPE = 'text/html';\n",
       "  var EXEC_MIME_TYPE = 'application/vnd.bokehjs_exec.v0+json';\n",
       "  var CLASS_NAME = 'output_bokeh rendered_html';\n",
       "\n",
       "  /**\n",
       "   * Render data to the DOM node\n",
       "   */\n",
       "  function render(props, node) {\n",
       "    var script = document.createElement(\"script\");\n",
       "    node.appendChild(script);\n",
       "  }\n",
       "\n",
       "  /**\n",
       "   * Handle when an output is cleared or removed\n",
       "   */\n",
       "  function handleClearOutput(event, handle) {\n",
       "    var cell = handle.cell;\n",
       "\n",
       "    var id = cell.output_area._bokeh_element_id;\n",
       "    var server_id = cell.output_area._bokeh_server_id;\n",
       "    // Clean up Bokeh references\n",
       "    if (id != null && id in Bokeh.index) {\n",
       "      Bokeh.index[id].model.document.clear();\n",
       "      delete Bokeh.index[id];\n",
       "    }\n",
       "\n",
       "    if (server_id !== undefined) {\n",
       "      // Clean up Bokeh references\n",
       "      var cmd = \"from bokeh.io.state import curstate; print(curstate().uuid_to_server['\" + server_id + \"'].get_sessions()[0].document.roots[0]._id)\";\n",
       "      cell.notebook.kernel.execute(cmd, {\n",
       "        iopub: {\n",
       "          output: function(msg) {\n",
       "            var id = msg.content.text.trim();\n",
       "            if (id in Bokeh.index) {\n",
       "              Bokeh.index[id].model.document.clear();\n",
       "              delete Bokeh.index[id];\n",
       "            }\n",
       "          }\n",
       "        }\n",
       "      });\n",
       "      // Destroy server and session\n",
       "      var cmd = \"import bokeh.io.notebook as ion; ion.destroy_server('\" + server_id + \"')\";\n",
       "      cell.notebook.kernel.execute(cmd);\n",
       "    }\n",
       "  }\n",
       "\n",
       "  /**\n",
       "   * Handle when a new output is added\n",
       "   */\n",
       "  function handleAddOutput(event, handle) {\n",
       "    var output_area = handle.output_area;\n",
       "    var output = handle.output;\n",
       "\n",
       "    // limit handleAddOutput to display_data with EXEC_MIME_TYPE content only\n",
       "    if ((output.output_type != \"display_data\") || (!output.data.hasOwnProperty(EXEC_MIME_TYPE))) {\n",
       "      return\n",
       "    }\n",
       "\n",
       "    var toinsert = output_area.element.find(\".\" + CLASS_NAME.split(' ')[0]);\n",
       "\n",
       "    if (output.metadata[EXEC_MIME_TYPE][\"id\"] !== undefined) {\n",
       "      toinsert[toinsert.length - 1].firstChild.textContent = output.data[JS_MIME_TYPE];\n",
       "      // store reference to embed id on output_area\n",
       "      output_area._bokeh_element_id = output.metadata[EXEC_MIME_TYPE][\"id\"];\n",
       "    }\n",
       "    if (output.metadata[EXEC_MIME_TYPE][\"server_id\"] !== undefined) {\n",
       "      var bk_div = document.createElement(\"div\");\n",
       "      bk_div.innerHTML = output.data[HTML_MIME_TYPE];\n",
       "      var script_attrs = bk_div.children[0].attributes;\n",
       "      for (var i = 0; i < script_attrs.length; i++) {\n",
       "        toinsert[toinsert.length - 1].firstChild.setAttribute(script_attrs[i].name, script_attrs[i].value);\n",
       "        toinsert[toinsert.length - 1].firstChild.textContent = bk_div.children[0].textContent\n",
       "      }\n",
       "      // store reference to server id on output_area\n",
       "      output_area._bokeh_server_id = output.metadata[EXEC_MIME_TYPE][\"server_id\"];\n",
       "    }\n",
       "  }\n",
       "\n",
       "  function register_renderer(events, OutputArea) {\n",
       "\n",
       "    function append_mime(data, metadata, element) {\n",
       "      // create a DOM node to render to\n",
       "      var toinsert = this.create_output_subarea(\n",
       "        metadata,\n",
       "        CLASS_NAME,\n",
       "        EXEC_MIME_TYPE\n",
       "      );\n",
       "      this.keyboard_manager.register_events(toinsert);\n",
       "      // Render to node\n",
       "      var props = {data: data, metadata: metadata[EXEC_MIME_TYPE]};\n",
       "      render(props, toinsert[toinsert.length - 1]);\n",
       "      element.append(toinsert);\n",
       "      return toinsert\n",
       "    }\n",
       "\n",
       "    /* Handle when an output is cleared or removed */\n",
       "    events.on('clear_output.CodeCell', handleClearOutput);\n",
       "    events.on('delete.Cell', handleClearOutput);\n",
       "\n",
       "    /* Handle when a new output is added */\n",
       "    events.on('output_added.OutputArea', handleAddOutput);\n",
       "\n",
       "    /**\n",
       "     * Register the mime type and append_mime function with output_area\n",
       "     */\n",
       "    OutputArea.prototype.register_mime_type(EXEC_MIME_TYPE, append_mime, {\n",
       "      /* Is output safe? */\n",
       "      safe: true,\n",
       "      /* Index of renderer in `output_area.display_order` */\n",
       "      index: 0\n",
       "    });\n",
       "  }\n",
       "\n",
       "  // register the mime type if in Jupyter Notebook environment and previously unregistered\n",
       "  if (root.Jupyter !== undefined) {\n",
       "    var events = require('base/js/events');\n",
       "    var OutputArea = require('notebook/js/outputarea').OutputArea;\n",
       "\n",
       "    if (OutputArea.prototype.mime_types().indexOf(EXEC_MIME_TYPE) == -1) {\n",
       "      register_renderer(events, OutputArea);\n",
       "    }\n",
       "  }\n",
       "\n",
       "  \n",
       "  if (typeof (root._bokeh_timeout) === \"undefined\" || force === true) {\n",
       "    root._bokeh_timeout = Date.now() + 5000;\n",
       "    root._bokeh_failed_load = false;\n",
       "  }\n",
       "\n",
       "  var NB_LOAD_WARNING = {'data': {'text/html':\n",
       "     \"<div style='background-color: #fdd'>\\n\"+\n",
       "     \"<p>\\n\"+\n",
       "     \"BokehJS does not appear to have successfully loaded. If loading BokehJS from CDN, this \\n\"+\n",
       "     \"may be due to a slow or bad network connection. Possible fixes:\\n\"+\n",
       "     \"</p>\\n\"+\n",
       "     \"<ul>\\n\"+\n",
       "     \"<li>re-rerun `output_notebook()` to attempt to load from CDN again, or</li>\\n\"+\n",
       "     \"<li>use INLINE resources instead, as so:</li>\\n\"+\n",
       "     \"</ul>\\n\"+\n",
       "     \"<code>\\n\"+\n",
       "     \"from bokeh.resources import INLINE\\n\"+\n",
       "     \"output_notebook(resources=INLINE)\\n\"+\n",
       "     \"</code>\\n\"+\n",
       "     \"</div>\"}};\n",
       "\n",
       "  function display_loaded() {\n",
       "    var el = document.getElementById(\"1001\");\n",
       "    if (el != null) {\n",
       "      el.textContent = \"BokehJS is loading...\";\n",
       "    }\n",
       "    if (root.Bokeh !== undefined) {\n",
       "      if (el != null) {\n",
       "        el.textContent = \"BokehJS \" + root.Bokeh.version + \" successfully loaded.\";\n",
       "      }\n",
       "    } else if (Date.now() < root._bokeh_timeout) {\n",
       "      setTimeout(display_loaded, 100)\n",
       "    }\n",
       "  }\n",
       "\n",
       "\n",
       "  function run_callbacks() {\n",
       "    try {\n",
       "      root._bokeh_onload_callbacks.forEach(function(callback) {\n",
       "        if (callback != null)\n",
       "          callback();\n",
       "      });\n",
       "    } finally {\n",
       "      delete root._bokeh_onload_callbacks\n",
       "    }\n",
       "    console.debug(\"Bokeh: all callbacks have finished\");\n",
       "  }\n",
       "\n",
       "  function load_libs(css_urls, js_urls, callback) {\n",
       "    if (css_urls == null) css_urls = [];\n",
       "    if (js_urls == null) js_urls = [];\n",
       "\n",
       "    root._bokeh_onload_callbacks.push(callback);\n",
       "    if (root._bokeh_is_loading > 0) {\n",
       "      console.debug(\"Bokeh: BokehJS is being loaded, scheduling callback at\", now());\n",
       "      return null;\n",
       "    }\n",
       "    if (js_urls == null || js_urls.length === 0) {\n",
       "      run_callbacks();\n",
       "      return null;\n",
       "    }\n",
       "    console.debug(\"Bokeh: BokehJS not loaded, scheduling load and callback at\", now());\n",
       "    root._bokeh_is_loading = css_urls.length + js_urls.length;\n",
       "\n",
       "    function on_load() {\n",
       "      root._bokeh_is_loading--;\n",
       "      if (root._bokeh_is_loading === 0) {\n",
       "        console.debug(\"Bokeh: all BokehJS libraries/stylesheets loaded\");\n",
       "        run_callbacks()\n",
       "      }\n",
       "    }\n",
       "\n",
       "    function on_error() {\n",
       "      console.error(\"failed to load \" + url);\n",
       "    }\n",
       "\n",
       "    for (var i = 0; i < css_urls.length; i++) {\n",
       "      var url = css_urls[i];\n",
       "      const element = document.createElement(\"link\");\n",
       "      element.onload = on_load;\n",
       "      element.onerror = on_error;\n",
       "      element.rel = \"stylesheet\";\n",
       "      element.type = \"text/css\";\n",
       "      element.href = url;\n",
       "      console.debug(\"Bokeh: injecting link tag for BokehJS stylesheet: \", url);\n",
       "      document.body.appendChild(element);\n",
       "    }\n",
       "\n",
       "    const hashes = {\"https://cdn.bokeh.org/bokeh/release/bokeh-2.2.3.min.js\": \"T2yuo9Oe71Cz/I4X9Ac5+gpEa5a8PpJCDlqKYO0CfAuEszu1JrXLl8YugMqYe3sM\", \"https://cdn.bokeh.org/bokeh/release/bokeh-widgets-2.2.3.min.js\": \"98GDGJ0kOMCUMUePhksaQ/GYgB3+NH9h996V88sh3aOiUNX3N+fLXAtry6xctSZ6\", \"https://cdn.bokeh.org/bokeh/release/bokeh-tables-2.2.3.min.js\": \"89bArO+nlbP3sgakeHjCo1JYxYR5wufVgA3IbUvDY+K7w4zyxJqssu7wVnfeKCq8\"};\n",
       "\n",
       "    for (var i = 0; i < js_urls.length; i++) {\n",
       "      var url = js_urls[i];\n",
       "      var element = document.createElement('script');\n",
       "      element.onload = on_load;\n",
       "      element.onerror = on_error;\n",
       "      element.async = false;\n",
       "      element.src = url;\n",
       "      if (url in hashes) {\n",
       "        element.crossOrigin = \"anonymous\";\n",
       "        element.integrity = \"sha384-\" + hashes[url];\n",
       "      }\n",
       "      console.debug(\"Bokeh: injecting script tag for BokehJS library: \", url);\n",
       "      document.head.appendChild(element);\n",
       "    }\n",
       "  };\n",
       "\n",
       "  function inject_raw_css(css) {\n",
       "    const element = document.createElement(\"style\");\n",
       "    element.appendChild(document.createTextNode(css));\n",
       "    document.body.appendChild(element);\n",
       "  }\n",
       "\n",
       "  \n",
       "  var js_urls = [\"https://cdn.bokeh.org/bokeh/release/bokeh-2.2.3.min.js\", \"https://cdn.bokeh.org/bokeh/release/bokeh-widgets-2.2.3.min.js\", \"https://cdn.bokeh.org/bokeh/release/bokeh-tables-2.2.3.min.js\"];\n",
       "  var css_urls = [];\n",
       "  \n",
       "\n",
       "  var inline_js = [\n",
       "    function(Bokeh) {\n",
       "      Bokeh.set_log_level(\"info\");\n",
       "    },\n",
       "    function(Bokeh) {\n",
       "    \n",
       "    \n",
       "    }\n",
       "  ];\n",
       "\n",
       "  function run_inline_js() {\n",
       "    \n",
       "    if (root.Bokeh !== undefined || force === true) {\n",
       "      \n",
       "    for (var i = 0; i < inline_js.length; i++) {\n",
       "      inline_js[i].call(root, root.Bokeh);\n",
       "    }\n",
       "    if (force === true) {\n",
       "        display_loaded();\n",
       "      }} else if (Date.now() < root._bokeh_timeout) {\n",
       "      setTimeout(run_inline_js, 100);\n",
       "    } else if (!root._bokeh_failed_load) {\n",
       "      console.log(\"Bokeh: BokehJS failed to load within specified timeout.\");\n",
       "      root._bokeh_failed_load = true;\n",
       "    } else if (force !== true) {\n",
       "      var cell = $(document.getElementById(\"1001\")).parents('.cell').data().cell;\n",
       "      cell.output_area.append_execute_result(NB_LOAD_WARNING)\n",
       "    }\n",
       "\n",
       "  }\n",
       "\n",
       "  if (root._bokeh_is_loading === 0) {\n",
       "    console.debug(\"Bokeh: BokehJS loaded, going straight to plotting\");\n",
       "    run_inline_js();\n",
       "  } else {\n",
       "    load_libs(css_urls, js_urls, function() {\n",
       "      console.debug(\"Bokeh: BokehJS plotting callback run at\", now());\n",
       "      run_inline_js();\n",
       "    });\n",
       "  }\n",
       "}(window));"
      ],
      "application/vnd.bokehjs_load.v0+json": "\n(function(root) {\n  function now() {\n    return new Date();\n  }\n\n  var force = true;\n\n  if (typeof root._bokeh_onload_callbacks === \"undefined\" || force === true) {\n    root._bokeh_onload_callbacks = [];\n    root._bokeh_is_loading = undefined;\n  }\n\n  \n\n  \n  if (typeof (root._bokeh_timeout) === \"undefined\" || force === true) {\n    root._bokeh_timeout = Date.now() + 5000;\n    root._bokeh_failed_load = false;\n  }\n\n  var NB_LOAD_WARNING = {'data': {'text/html':\n     \"<div style='background-color: #fdd'>\\n\"+\n     \"<p>\\n\"+\n     \"BokehJS does not appear to have successfully loaded. If loading BokehJS from CDN, this \\n\"+\n     \"may be due to a slow or bad network connection. Possible fixes:\\n\"+\n     \"</p>\\n\"+\n     \"<ul>\\n\"+\n     \"<li>re-rerun `output_notebook()` to attempt to load from CDN again, or</li>\\n\"+\n     \"<li>use INLINE resources instead, as so:</li>\\n\"+\n     \"</ul>\\n\"+\n     \"<code>\\n\"+\n     \"from bokeh.resources import INLINE\\n\"+\n     \"output_notebook(resources=INLINE)\\n\"+\n     \"</code>\\n\"+\n     \"</div>\"}};\n\n  function display_loaded() {\n    var el = document.getElementById(\"1001\");\n    if (el != null) {\n      el.textContent = \"BokehJS is loading...\";\n    }\n    if (root.Bokeh !== undefined) {\n      if (el != null) {\n        el.textContent = \"BokehJS \" + root.Bokeh.version + \" successfully loaded.\";\n      }\n    } else if (Date.now() < root._bokeh_timeout) {\n      setTimeout(display_loaded, 100)\n    }\n  }\n\n\n  function run_callbacks() {\n    try {\n      root._bokeh_onload_callbacks.forEach(function(callback) {\n        if (callback != null)\n          callback();\n      });\n    } finally {\n      delete root._bokeh_onload_callbacks\n    }\n    console.debug(\"Bokeh: all callbacks have finished\");\n  }\n\n  function load_libs(css_urls, js_urls, callback) {\n    if (css_urls == null) css_urls = [];\n    if (js_urls == null) js_urls = [];\n\n    root._bokeh_onload_callbacks.push(callback);\n    if (root._bokeh_is_loading > 0) {\n      console.debug(\"Bokeh: BokehJS is being loaded, scheduling callback at\", now());\n      return null;\n    }\n    if (js_urls == null || js_urls.length === 0) {\n      run_callbacks();\n      return null;\n    }\n    console.debug(\"Bokeh: BokehJS not loaded, scheduling load and callback at\", now());\n    root._bokeh_is_loading = css_urls.length + js_urls.length;\n\n    function on_load() {\n      root._bokeh_is_loading--;\n      if (root._bokeh_is_loading === 0) {\n        console.debug(\"Bokeh: all BokehJS libraries/stylesheets loaded\");\n        run_callbacks()\n      }\n    }\n\n    function on_error() {\n      console.error(\"failed to load \" + url);\n    }\n\n    for (var i = 0; i < css_urls.length; i++) {\n      var url = css_urls[i];\n      const element = document.createElement(\"link\");\n      element.onload = on_load;\n      element.onerror = on_error;\n      element.rel = \"stylesheet\";\n      element.type = \"text/css\";\n      element.href = url;\n      console.debug(\"Bokeh: injecting link tag for BokehJS stylesheet: \", url);\n      document.body.appendChild(element);\n    }\n\n    const hashes = {\"https://cdn.bokeh.org/bokeh/release/bokeh-2.2.3.min.js\": \"T2yuo9Oe71Cz/I4X9Ac5+gpEa5a8PpJCDlqKYO0CfAuEszu1JrXLl8YugMqYe3sM\", \"https://cdn.bokeh.org/bokeh/release/bokeh-widgets-2.2.3.min.js\": \"98GDGJ0kOMCUMUePhksaQ/GYgB3+NH9h996V88sh3aOiUNX3N+fLXAtry6xctSZ6\", \"https://cdn.bokeh.org/bokeh/release/bokeh-tables-2.2.3.min.js\": \"89bArO+nlbP3sgakeHjCo1JYxYR5wufVgA3IbUvDY+K7w4zyxJqssu7wVnfeKCq8\"};\n\n    for (var i = 0; i < js_urls.length; i++) {\n      var url = js_urls[i];\n      var element = document.createElement('script');\n      element.onload = on_load;\n      element.onerror = on_error;\n      element.async = false;\n      element.src = url;\n      if (url in hashes) {\n        element.crossOrigin = \"anonymous\";\n        element.integrity = \"sha384-\" + hashes[url];\n      }\n      console.debug(\"Bokeh: injecting script tag for BokehJS library: \", url);\n      document.head.appendChild(element);\n    }\n  };\n\n  function inject_raw_css(css) {\n    const element = document.createElement(\"style\");\n    element.appendChild(document.createTextNode(css));\n    document.body.appendChild(element);\n  }\n\n  \n  var js_urls = [\"https://cdn.bokeh.org/bokeh/release/bokeh-2.2.3.min.js\", \"https://cdn.bokeh.org/bokeh/release/bokeh-widgets-2.2.3.min.js\", \"https://cdn.bokeh.org/bokeh/release/bokeh-tables-2.2.3.min.js\"];\n  var css_urls = [];\n  \n\n  var inline_js = [\n    function(Bokeh) {\n      Bokeh.set_log_level(\"info\");\n    },\n    function(Bokeh) {\n    \n    \n    }\n  ];\n\n  function run_inline_js() {\n    \n    if (root.Bokeh !== undefined || force === true) {\n      \n    for (var i = 0; i < inline_js.length; i++) {\n      inline_js[i].call(root, root.Bokeh);\n    }\n    if (force === true) {\n        display_loaded();\n      }} else if (Date.now() < root._bokeh_timeout) {\n      setTimeout(run_inline_js, 100);\n    } else if (!root._bokeh_failed_load) {\n      console.log(\"Bokeh: BokehJS failed to load within specified timeout.\");\n      root._bokeh_failed_load = true;\n    } else if (force !== true) {\n      var cell = $(document.getElementById(\"1001\")).parents('.cell').data().cell;\n      cell.output_area.append_execute_result(NB_LOAD_WARNING)\n    }\n\n  }\n\n  if (root._bokeh_is_loading === 0) {\n    console.debug(\"Bokeh: BokehJS loaded, going straight to plotting\");\n    run_inline_js();\n  } else {\n    load_libs(css_urls, js_urls, function() {\n      console.debug(\"Bokeh: BokehJS plotting callback run at\", now());\n      run_inline_js();\n    });\n  }\n}(window));"
     },
     "metadata": {},
     "output_type": "display_data"
    }
   ],
   "source": [
    "import numpy as np\n",
    "import os\n",
    "import pandas as pd\n",
    "import tensorflow as tf\n",
    "\n",
    "from bokeh.io import output_notebook, export_png, reset_output\n",
    "from bokeh.layouts import row, column\n",
    "from bokeh.palettes import linear_palette, Magma256\n",
    "from bokeh.plotting import figure, output_file, show, ColumnDataSource\n",
    "from bokeh.models import Range1d, CustomJS, Slider, ColorBar, LinearColorMapper\n",
    "from tensorflow.keras import models\n",
    "from tensorflow.keras import activations\n",
    "from selenium.webdriver import Chrome, ChromeOptions\n",
    "\n",
    "reset_output()\n",
    "output_notebook()"
   ]
  },
  {
   "cell_type": "code",
   "execution_count": 3,
   "metadata": {},
   "outputs": [],
   "source": [
    "options = ChromeOptions()\n",
    "\n",
    "options.add_argument('--headless')\n",
    "metrics = { \"deviceMetrics\": { \"pixelRatio\": 1.0 } }\n",
    "options.add_experimental_option(\"mobileEmulation\", metrics)\n",
    "web_driver = Chrome(options=options)"
   ]
  },
  {
   "cell_type": "code",
   "execution_count": 20,
   "metadata": {},
   "outputs": [],
   "source": [
    "def visualize(name, X, y, gradient, ymin=None, ymax=None, color='black'):\n",
    "    X = X.numpy()\n",
    "    y = y.numpy()\n",
    "    gradient = gradient.numpy()\n",
    "\n",
    "    \n",
    "    xmin, xmax = np.min(X), np.max(X)\n",
    "    if not ymin:\n",
    "        ymin = np.min(y)\n",
    "    if not ymax:\n",
    "        ymax = np.max(y)\n",
    "    fig1 = figure(title=name, tools=[], x_axis_label='X', y_axis_label='f(X)')\n",
    "    fig1.line(X, y, line_width=5, color=color)\n",
    "    fig1.x_range=Range1d(xmin, xmax)\n",
    "    fig1.y_range=Range1d(ymin, ymax)\n",
    "\n",
    "    ymin, ymax = -1.25, 1.25\n",
    "    fig2 = figure(\n",
    "        title=f'{name} (Derivative)', \n",
    "        tools=[], \n",
    "        x_axis_label='X', \n",
    "        y_axis_label='gradient(X)'\n",
    "    )\n",
    "    fig2.line(X, gradient, line_width=5, color=color)\n",
    "    fig2.x_range=Range1d(xmin, xmax)\n",
    "    fig2.y_range=Range1d(ymin, ymax)\n",
    "\n",
    "    fig1.title.text_font_size = '16pt'\n",
    "    fig1.xaxis.axis_label_text_font_size = '16pt'\n",
    "    fig1.yaxis.axis_label_text_font_size = '16pt'\n",
    "    fig2.title.text_font_size = '16pt'\n",
    "    fig2.xaxis.axis_label_text_font_size = '16pt'\n",
    "    fig2.yaxis.axis_label_text_font_size = \"16pt\"\n",
    "    fig1.title.align = 'center'\n",
    "    fig2.title.align = 'center'\n",
    "\n",
    "    show(row(fig1, fig2))\n",
    "    export_png(row(fig1, fig2), filename=f'{name}.png')\n",
    "    \n",
    "def visualize2D(name, y, gradient):\n",
    "    figure_list = []\n",
    "\n",
    "    labels = (\n",
    "        f'{name} y', \n",
    "        f'{name} y1 derivative with respect to X', \n",
    "        f'{name} y2 derivative with repect to X'\n",
    "    )\n",
    "    \n",
    "    for target, label in zip((y, gradient[0], gradient[1]), labels):\n",
    "        for i in range(2):\n",
    "            fig = figure(\n",
    "                title=f'{label}{i+1}', \n",
    "                tools=[], \n",
    "                x_axis_label='X1',\n",
    "                y_axis_label='X2', \n",
    "                x_range=(-1, 1), \n",
    "                y_range=(-1, 1)\n",
    "            )\n",
    "\n",
    "            color_mapper = LinearColorMapper(\n",
    "                Magma256,\n",
    "                low=target.numpy().min(),\n",
    "                high=target.numpy().max()\n",
    "            )\n",
    "            color_bar = ColorBar(\n",
    "                color_mapper=color_mapper,\n",
    "                border_line_color=None,\n",
    "                location=(0,0),\n",
    "                label_standoff=8,\n",
    "                scale_alpha=0.5\n",
    "            )\n",
    "\n",
    "            fig.add_layout(color_bar, 'right')\n",
    "            fig.image(\n",
    "                image=[target.numpy()[:, i].reshape(50, 50)],\n",
    "                name='y1',\n",
    "                x=-1, y=-1, dw=2, dh=2,\n",
    "                alpha=0.5,\n",
    "                color_mapper=color_mapper)\n",
    "\n",
    "            figure_list.append(fig)\n",
    "\n",
    "    show(column(\n",
    "        row(figure_list[0], figure_list[1]), \n",
    "        row(figure_list[2], figure_list[3]), \n",
    "        row(figure_list[4], figure_list[5])\n",
    "    ))\n",
    "    \n",
    "    export_png(column(\n",
    "        row(figure_list[0], figure_list[1]), \n",
    "        row(figure_list[2], figure_list[3]), \n",
    "        row(figure_list[4], figure_list[5])), filename=f'{name}.png')"
   ]
  },
  {
   "cell_type": "code",
   "execution_count": 5,
   "metadata": {},
   "outputs": [],
   "source": [
    "X = tf.Variable(tf.linspace(-10., 10., 100))"
   ]
  },
  {
   "cell_type": "markdown",
   "metadata": {},
   "source": [
    "## Identity Function\n",
    "* Equation\n",
    "$$f(x)=x$$\n",
    "* Derivative\n",
    "$$\\begin{align}\\frac{\\partial f(x)}{\\partial x}=1\\end{align}$$\n",
    "* Properties:\n",
    "    * Mathematically __does not__ affect the network at all. \n",
    "    * Practically, in order to unify the design structure of the neural network (as linear transformation followed by activation function), most of the deep learning framework implemented identify function as one of the activation functions."
   ]
  },
  {
   "cell_type": "code",
   "execution_count": 8,
   "metadata": {},
   "outputs": [
    {
     "data": {
      "text/html": [
       "\n",
       "\n",
       "\n",
       "\n",
       "\n",
       "\n",
       "  <div class=\"bk-root\" id=\"7ece576b-8cb6-4058-80fa-34fe2b930f1c\" data-root-id=\"1351\"></div>\n"
      ]
     },
     "metadata": {},
     "output_type": "display_data"
    },
    {
     "data": {
      "application/javascript": [
       "(function(root) {\n",
       "  function embed_document(root) {\n",
       "    \n",
       "  var docs_json = {\"a190c670-0ae4-4207-be19-7a41686451e4\":{\"roots\":{\"references\":[{\"attributes\":{\"children\":[{\"id\":\"1297\"},{\"id\":\"1324\"}]},\"id\":\"1351\",\"type\":\"Row\"},{\"attributes\":{\"data_source\":{\"id\":\"1317\"},\"glyph\":{\"id\":\"1318\"},\"hover_glyph\":null,\"muted_glyph\":null,\"nonselection_glyph\":{\"id\":\"1319\"},\"selection_glyph\":null,\"view\":{\"id\":\"1321\"}},\"id\":\"1320\",\"type\":\"GlyphRenderer\"},{\"attributes\":{},\"id\":\"1369\",\"type\":\"BasicTickFormatter\"},{\"attributes\":{\"line_width\":5,\"x\":{\"field\":\"x\"},\"y\":{\"field\":\"y\"}},\"id\":\"1318\",\"type\":\"Line\"},{\"attributes\":{},\"id\":\"1336\",\"type\":\"BasicTicker\"},{\"attributes\":{},\"id\":\"1313\",\"type\":\"BasicTicker\"},{\"attributes\":{\"data_source\":{\"id\":\"1344\"},\"glyph\":{\"id\":\"1345\"},\"hover_glyph\":null,\"muted_glyph\":null,\"nonselection_glyph\":{\"id\":\"1346\"},\"selection_glyph\":null,\"view\":{\"id\":\"1348\"}},\"id\":\"1347\",\"type\":\"GlyphRenderer\"},{\"attributes\":{},\"id\":\"1309\",\"type\":\"BasicTicker\"},{\"attributes\":{\"active_drag\":\"auto\",\"active_inspect\":\"auto\",\"active_multi\":null,\"active_scroll\":\"auto\",\"active_tap\":\"auto\"},\"id\":\"1316\",\"type\":\"Toolbar\"},{\"attributes\":{\"active_drag\":\"auto\",\"active_inspect\":\"auto\",\"active_multi\":null,\"active_scroll\":\"auto\",\"active_tap\":\"auto\"},\"id\":\"1343\",\"type\":\"Toolbar\"},{\"attributes\":{},\"id\":\"1379\",\"type\":\"UnionRenderers\"},{\"attributes\":{},\"id\":\"1304\",\"type\":\"LinearScale\"},{\"attributes\":{\"end\":10.0,\"start\":-10.0},\"id\":\"1322\",\"type\":\"Range1d\"},{\"attributes\":{},\"id\":\"1378\",\"type\":\"Selection\"},{\"attributes\":{\"source\":{\"id\":\"1344\"}},\"id\":\"1348\",\"type\":\"CDSView\"},{\"attributes\":{\"end\":10.0,\"start\":-10.0},\"id\":\"1323\",\"type\":\"Range1d\"},{\"attributes\":{},\"id\":\"1375\",\"type\":\"BasicTickFormatter\"},{\"attributes\":{\"data\":{\"x\":{\"__ndarray__\":\"AAAgwYbEHMENiRnBk00WwRoSE8Gg1g/BJ5sMwa1fCcE0JAbBuugCwYJa/8CO4/jAm2zywKj168C1fuXAwgffwM+Q2MDcGdLA6aLLwPYrxcADtb7AED64wB3HscAqUKvANtmkwENinsBQ65fAXXSRwGr9isB3hoTACB98wCIxb8A8Q2LAVlVVwHBnSMCKeTvApIsuwL6dIcDYrxTA8sEHwBio9b9IzNu/gPDBv7AUqL/oOI6/MLpov6ACNb8ASwG/wCabvoDezr2A3s49wCabPgBLAT+QAjU/MLpoP+A4jj+wFKg/ePDBP0jM2z8QqPU/8MEHQNSvFEC8nSFAoIsuQIh5O0BwZ0hAVFVVQDxDYkAgMW9ACB98QHaGhEBq/YpAXHSRQFDrl0BCYp5ANtmkQChQq0Acx7FADj64QAK1vkD0K8VA6KLLQNwZ0kDQkNhAwAffQLR+5UCo9etAnGzyQIzj+ECAWv9AuugCQTQkBkGsXwlBJpsMQaDWD0EaEhNBlE0WQQyJGUGGxBxBAAAgQQ==\",\"dtype\":\"float32\",\"order\":\"little\",\"shape\":[100]},\"y\":{\"__ndarray__\":\"AAAgwYbEHMENiRnBk00WwRoSE8Gg1g/BJ5sMwa1fCcE0JAbBuugCwYJa/8CO4/jAm2zywKj168C1fuXAwgffwM+Q2MDcGdLA6aLLwPYrxcADtb7AED64wB3HscAqUKvANtmkwENinsBQ65fAXXSRwGr9isB3hoTACB98wCIxb8A8Q2LAVlVVwHBnSMCKeTvApIsuwL6dIcDYrxTA8sEHwBio9b9IzNu/gPDBv7AUqL/oOI6/MLpov6ACNb8ASwG/wCabvoDezr2A3s49wCabPgBLAT+QAjU/MLpoP+A4jj+wFKg/ePDBP0jM2z8QqPU/8MEHQNSvFEC8nSFAoIsuQIh5O0BwZ0hAVFVVQDxDYkAgMW9ACB98QHaGhEBq/YpAXHSRQFDrl0BCYp5ANtmkQChQq0Acx7FADj64QAK1vkD0K8VA6KLLQNwZ0kDQkNhAwAffQLR+5UCo9etAnGzyQIzj+ECAWv9AuugCQTQkBkGsXwlBJpsMQaDWD0EaEhNBlE0WQQyJGUGGxBxBAAAgQQ==\",\"dtype\":\"float32\",\"order\":\"little\",\"shape\":[100]}},\"selected\":{\"id\":\"1376\"},\"selection_policy\":{\"id\":\"1377\"}},\"id\":\"1317\",\"type\":\"ColumnDataSource\"},{\"attributes\":{\"line_width\":5,\"x\":{\"field\":\"x\"},\"y\":{\"field\":\"y\"}},\"id\":\"1345\",\"type\":\"Line\"},{\"attributes\":{\"axis_label\":\"X\",\"axis_label_text_font_size\":\"16pt\",\"formatter\":{\"id\":\"1373\"},\"ticker\":{\"id\":\"1336\"}},\"id\":\"1335\",\"type\":\"LinearAxis\"},{\"attributes\":{},\"id\":\"1331\",\"type\":\"LinearScale\"},{\"attributes\":{\"source\":{\"id\":\"1317\"}},\"id\":\"1321\",\"type\":\"CDSView\"},{\"attributes\":{\"below\":[{\"id\":\"1308\"}],\"center\":[{\"id\":\"1311\"},{\"id\":\"1315\"}],\"left\":[{\"id\":\"1312\"}],\"renderers\":[{\"id\":\"1320\"}],\"title\":{\"id\":\"1298\"},\"toolbar\":{\"id\":\"1316\"},\"x_range\":{\"id\":\"1322\"},\"x_scale\":{\"id\":\"1304\"},\"y_range\":{\"id\":\"1323\"},\"y_scale\":{\"id\":\"1306\"}},\"id\":\"1297\",\"subtype\":\"Figure\",\"type\":\"Plot\"},{\"attributes\":{\"data\":{\"x\":{\"__ndarray__\":\"AAAgwYbEHMENiRnBk00WwRoSE8Gg1g/BJ5sMwa1fCcE0JAbBuugCwYJa/8CO4/jAm2zywKj168C1fuXAwgffwM+Q2MDcGdLA6aLLwPYrxcADtb7AED64wB3HscAqUKvANtmkwENinsBQ65fAXXSRwGr9isB3hoTACB98wCIxb8A8Q2LAVlVVwHBnSMCKeTvApIsuwL6dIcDYrxTA8sEHwBio9b9IzNu/gPDBv7AUqL/oOI6/MLpov6ACNb8ASwG/wCabvoDezr2A3s49wCabPgBLAT+QAjU/MLpoP+A4jj+wFKg/ePDBP0jM2z8QqPU/8MEHQNSvFEC8nSFAoIsuQIh5O0BwZ0hAVFVVQDxDYkAgMW9ACB98QHaGhEBq/YpAXHSRQFDrl0BCYp5ANtmkQChQq0Acx7FADj64QAK1vkD0K8VA6KLLQNwZ0kDQkNhAwAffQLR+5UCo9etAnGzyQIzj+ECAWv9AuugCQTQkBkGsXwlBJpsMQaDWD0EaEhNBlE0WQQyJGUGGxBxBAAAgQQ==\",\"dtype\":\"float32\",\"order\":\"little\",\"shape\":[100]},\"y\":{\"__ndarray__\":\"AACAPwAAgD8AAIA/AACAPwAAgD8AAIA/AACAPwAAgD8AAIA/AACAPwAAgD8AAIA/AACAPwAAgD8AAIA/AACAPwAAgD8AAIA/AACAPwAAgD8AAIA/AACAPwAAgD8AAIA/AACAPwAAgD8AAIA/AACAPwAAgD8AAIA/AACAPwAAgD8AAIA/AACAPwAAgD8AAIA/AACAPwAAgD8AAIA/AACAPwAAgD8AAIA/AACAPwAAgD8AAIA/AACAPwAAgD8AAIA/AACAPwAAgD8AAIA/AACAPwAAgD8AAIA/AACAPwAAgD8AAIA/AACAPwAAgD8AAIA/AACAPwAAgD8AAIA/AACAPwAAgD8AAIA/AACAPwAAgD8AAIA/AACAPwAAgD8AAIA/AACAPwAAgD8AAIA/AACAPwAAgD8AAIA/AACAPwAAgD8AAIA/AACAPwAAgD8AAIA/AACAPwAAgD8AAIA/AACAPwAAgD8AAIA/AACAPwAAgD8AAIA/AACAPwAAgD8AAIA/AACAPwAAgD8AAIA/AACAPw==\",\"dtype\":\"float32\",\"order\":\"little\",\"shape\":[100]}},\"selected\":{\"id\":\"1378\"},\"selection_policy\":{\"id\":\"1379\"}},\"id\":\"1344\",\"type\":\"ColumnDataSource\"},{\"attributes\":{},\"id\":\"1333\",\"type\":\"LinearScale\"},{\"attributes\":{\"line_alpha\":0.1,\"line_width\":5,\"x\":{\"field\":\"x\"},\"y\":{\"field\":\"y\"}},\"id\":\"1319\",\"type\":\"Line\"},{\"attributes\":{\"axis\":{\"id\":\"1312\"},\"dimension\":1,\"ticker\":null},\"id\":\"1315\",\"type\":\"Grid\"},{\"attributes\":{},\"id\":\"1340\",\"type\":\"BasicTicker\"},{\"attributes\":{},\"id\":\"1306\",\"type\":\"LinearScale\"},{\"attributes\":{},\"id\":\"1371\",\"type\":\"BasicTickFormatter\"},{\"attributes\":{\"align\":\"center\",\"text\":\"Identity (Derivative)\",\"text_font_size\":{\"value\":\"16pt\"}},\"id\":\"1325\",\"type\":\"Title\"},{\"attributes\":{\"axis\":{\"id\":\"1308\"},\"ticker\":null},\"id\":\"1311\",\"type\":\"Grid\"},{\"attributes\":{\"align\":\"center\",\"text\":\"Identity\",\"text_font_size\":{\"value\":\"16pt\"}},\"id\":\"1298\",\"type\":\"Title\"},{\"attributes\":{},\"id\":\"1373\",\"type\":\"BasicTickFormatter\"},{\"attributes\":{\"axis\":{\"id\":\"1335\"},\"ticker\":null},\"id\":\"1338\",\"type\":\"Grid\"},{\"attributes\":{\"axis_label\":\"gradient(X)\",\"axis_label_text_font_size\":\"16pt\",\"formatter\":{\"id\":\"1375\"},\"ticker\":{\"id\":\"1340\"}},\"id\":\"1339\",\"type\":\"LinearAxis\"},{\"attributes\":{},\"id\":\"1377\",\"type\":\"UnionRenderers\"},{\"attributes\":{},\"id\":\"1376\",\"type\":\"Selection\"},{\"attributes\":{\"below\":[{\"id\":\"1335\"}],\"center\":[{\"id\":\"1338\"},{\"id\":\"1342\"}],\"left\":[{\"id\":\"1339\"}],\"renderers\":[{\"id\":\"1347\"}],\"title\":{\"id\":\"1325\"},\"toolbar\":{\"id\":\"1343\"},\"x_range\":{\"id\":\"1349\"},\"x_scale\":{\"id\":\"1331\"},\"y_range\":{\"id\":\"1350\"},\"y_scale\":{\"id\":\"1333\"}},\"id\":\"1324\",\"subtype\":\"Figure\",\"type\":\"Plot\"},{\"attributes\":{\"axis_label\":\"X\",\"axis_label_text_font_size\":\"16pt\",\"formatter\":{\"id\":\"1369\"},\"ticker\":{\"id\":\"1309\"}},\"id\":\"1308\",\"type\":\"LinearAxis\"},{\"attributes\":{\"end\":1.25,\"start\":-1.25},\"id\":\"1350\",\"type\":\"Range1d\"},{\"attributes\":{\"end\":10.0,\"start\":-10.0},\"id\":\"1349\",\"type\":\"Range1d\"},{\"attributes\":{\"axis\":{\"id\":\"1339\"},\"dimension\":1,\"ticker\":null},\"id\":\"1342\",\"type\":\"Grid\"},{\"attributes\":{\"line_alpha\":0.1,\"line_width\":5,\"x\":{\"field\":\"x\"},\"y\":{\"field\":\"y\"}},\"id\":\"1346\",\"type\":\"Line\"},{\"attributes\":{\"axis_label\":\"f(X)\",\"axis_label_text_font_size\":\"16pt\",\"formatter\":{\"id\":\"1371\"},\"ticker\":{\"id\":\"1313\"}},\"id\":\"1312\",\"type\":\"LinearAxis\"}],\"root_ids\":[\"1351\"]},\"title\":\"Bokeh Application\",\"version\":\"2.2.3\"}};\n",
       "  var render_items = [{\"docid\":\"a190c670-0ae4-4207-be19-7a41686451e4\",\"root_ids\":[\"1351\"],\"roots\":{\"1351\":\"7ece576b-8cb6-4058-80fa-34fe2b930f1c\"}}];\n",
       "  root.Bokeh.embed.embed_items_notebook(docs_json, render_items);\n",
       "\n",
       "  }\n",
       "  if (root.Bokeh !== undefined) {\n",
       "    embed_document(root);\n",
       "  } else {\n",
       "    var attempts = 0;\n",
       "    var timer = setInterval(function(root) {\n",
       "      if (root.Bokeh !== undefined) {\n",
       "        clearInterval(timer);\n",
       "        embed_document(root);\n",
       "      } else {\n",
       "        attempts++;\n",
       "        if (attempts > 100) {\n",
       "          clearInterval(timer);\n",
       "          console.log(\"Bokeh: ERROR: Unable to run BokehJS code because BokehJS library is missing\");\n",
       "        }\n",
       "      }\n",
       "    }, 10, root)\n",
       "  }\n",
       "})(window);"
      ],
      "application/vnd.bokehjs_exec.v0+json": ""
     },
     "metadata": {
      "application/vnd.bokehjs_exec.v0+json": {
       "id": "1351"
      }
     },
     "output_type": "display_data"
    }
   ],
   "source": [
    "with tf.GradientTape() as g:\n",
    "    y = activations.linear(X)\n",
    "gradient = g.gradient(y, X)\n",
    "visualize('Identity', X, y, gradient)"
   ]
  },
  {
   "cell_type": "markdown",
   "metadata": {},
   "source": [
    "## Sigmoid\n",
    "* Equation\n",
    "$$\\sigma(x)=\\frac{1}{1+\\exp(-x)}$$\n",
    "* [Derivative](https://math.stackexchange.com/questions/78575/derivative-of-sigmoid-function-sigma-x-frac11e-x)\n",
    "$$\\frac{\\partial\\sigma(x)}{\\partial x}=\\sigma(x)(1-\\sigma(x))$$\n",
    "* Properties:\n",
    "    * Neural network with only one hidden layer of sigmoid function is equivalent to __logistic regression__.\n",
    "    * One very useful property of sigmoid function is that the range is $0$ to $1$ (bounded range); therefore, it is commonly used when we want to model __probability__ (e.g. output layer of binary classification problem). \n",
    "    * In binary classification problem, sigmoid function is a special case of __softmax function__.\n",
    "    * In multi-class classification, sigmoid is preferable over softmax when we assume __a sample can belong to multiple class__ since sigmoid function treat the probability of each class separately.\n",
    "    * Could lead to __gradient vanishing__ problem."
   ]
  },
  {
   "cell_type": "code",
   "execution_count": 9,
   "metadata": {},
   "outputs": [
    {
     "data": {
      "text/html": [
       "\n",
       "\n",
       "\n",
       "\n",
       "\n",
       "\n",
       "  <div class=\"bk-root\" id=\"7d2cccc8-35f0-4939-8afa-34fde799263e\" data-root-id=\"1660\"></div>\n"
      ]
     },
     "metadata": {},
     "output_type": "display_data"
    },
    {
     "data": {
      "application/javascript": [
       "(function(root) {\n",
       "  function embed_document(root) {\n",
       "    \n",
       "  var docs_json = {\"5f8d3da7-c86c-4595-9fbe-b5cc3a88cfc2\":{\"roots\":{\"references\":[{\"attributes\":{\"children\":[{\"id\":\"1606\"},{\"id\":\"1633\"}]},\"id\":\"1660\",\"type\":\"Row\"},{\"attributes\":{\"data\":{\"x\":{\"__ndarray__\":\"AAAgwYbEHMENiRnBk00WwRoSE8Gg1g/BJ5sMwa1fCcE0JAbBuugCwYJa/8CO4/jAm2zywKj168C1fuXAwgffwM+Q2MDcGdLA6aLLwPYrxcADtb7AED64wB3HscAqUKvANtmkwENinsBQ65fAXXSRwGr9isB3hoTACB98wCIxb8A8Q2LAVlVVwHBnSMCKeTvApIsuwL6dIcDYrxTA8sEHwBio9b9IzNu/gPDBv7AUqL/oOI6/MLpov6ACNb8ASwG/wCabvoDezr2A3s49wCabPgBLAT+QAjU/MLpoP+A4jj+wFKg/ePDBP0jM2z8QqPU/8MEHQNSvFEC8nSFAoIsuQIh5O0BwZ0hAVFVVQDxDYkAgMW9ACB98QHaGhEBq/YpAXHSRQFDrl0BCYp5ANtmkQChQq0Acx7FADj64QAK1vkD0K8VA6KLLQNwZ0kDQkNhAwAffQLR+5UCo9etAnGzyQIzj+ECAWv9AuugCQTQkBkGsXwlBJpsMQaDWD0EaEhNBlE0WQQyJGUGGxBxBAAAgQQ==\",\"dtype\":\"float32\",\"order\":\"little\",\"shape\":[100]},\"y\":{\"__ndarray__\":\"YGc+OIIGaTjVl444tYKuOBeS1TiNrwI5CO8fOam5QznNhW85xY6SOW1Yszlhdts5mUUGOkFLJDq4BEk6u+91OilvljqDBLg6jRLhOr+fCTuSRig7+LVNO8RoezvflJk7kpG7OzP45DuirAs8j0kqPO5uTzyfa3w8bWOZPDQiujwTc+E8SzoIPfcuJD1lOkU97v1rPfuFjD1CaqY9t8XDPRKE5D1TKAQ+EEIXPjELKz5ZzD4+iZ9RPvl9Yj5KWHA+PDZ6Ph9Zfz4eWX8+OzZ6PklYcD79fWI+ip9RPl7MPj4wCys+FkIXPlIoBD4bhOQ9wcXDPUxqpj33hYw9A/5rPW06RT35LiQ9RjoIPRJz4TxCIro8XGOZPMVrfDzZbk88fkkqPJ2sCzwX+OQ7c5G7O/qUmTsvaXs7prZNO89HKDu0nwk7uRDhOq4DuDqyb5Y60vB1OnwASTqcSSQ6YEYGOnhw2zlKULM5go2SOf2BbzmnpkM5wPkfOdS7AjlwetU4SHyuOIV9jjiw/Gg4yX0+OA==\",\"dtype\":\"float32\",\"order\":\"little\",\"shape\":[100]}},\"selected\":{\"id\":\"1701\"},\"selection_policy\":{\"id\":\"1702\"}},\"id\":\"1653\",\"type\":\"ColumnDataSource\"},{\"attributes\":{\"active_drag\":\"auto\",\"active_inspect\":\"auto\",\"active_multi\":null,\"active_scroll\":\"auto\",\"active_tap\":\"auto\"},\"id\":\"1652\",\"type\":\"Toolbar\"},{\"attributes\":{},\"id\":\"1613\",\"type\":\"LinearScale\"},{\"attributes\":{\"end\":10.0,\"start\":-10.0},\"id\":\"1658\",\"type\":\"Range1d\"},{\"attributes\":{\"axis\":{\"id\":\"1617\"},\"ticker\":null},\"id\":\"1620\",\"type\":\"Grid\"},{\"attributes\":{\"active_drag\":\"auto\",\"active_inspect\":\"auto\",\"active_multi\":null,\"active_scroll\":\"auto\",\"active_tap\":\"auto\"},\"id\":\"1625\",\"type\":\"Toolbar\"},{\"attributes\":{},\"id\":\"1640\",\"type\":\"LinearScale\"},{\"attributes\":{},\"id\":\"1696\",\"type\":\"BasicTickFormatter\"},{\"attributes\":{},\"id\":\"1622\",\"type\":\"BasicTicker\"},{\"attributes\":{\"align\":\"center\",\"text\":\"Sigmoid\",\"text_font_size\":{\"value\":\"16pt\"}},\"id\":\"1607\",\"type\":\"Title\"},{\"attributes\":{\"end\":1.25,\"start\":-1.25},\"id\":\"1659\",\"type\":\"Range1d\"},{\"attributes\":{},\"id\":\"1692\",\"type\":\"BasicTickFormatter\"},{\"attributes\":{\"align\":\"center\",\"text\":\"Sigmoid (Derivative)\",\"text_font_size\":{\"value\":\"16pt\"}},\"id\":\"1634\",\"type\":\"Title\"},{\"attributes\":{\"axis_label\":\"f(X)\",\"axis_label_text_font_size\":\"16pt\",\"formatter\":{\"id\":\"1694\"},\"ticker\":{\"id\":\"1622\"}},\"id\":\"1621\",\"type\":\"LinearAxis\"},{\"attributes\":{\"axis_label\":\"X\",\"axis_label_text_font_size\":\"16pt\",\"formatter\":{\"id\":\"1696\"},\"ticker\":{\"id\":\"1645\"}},\"id\":\"1644\",\"type\":\"LinearAxis\"},{\"attributes\":{},\"id\":\"1694\",\"type\":\"BasicTickFormatter\"},{\"attributes\":{\"source\":{\"id\":\"1626\"}},\"id\":\"1630\",\"type\":\"CDSView\"},{\"attributes\":{},\"id\":\"1645\",\"type\":\"BasicTicker\"},{\"attributes\":{},\"id\":\"1649\",\"type\":\"BasicTicker\"},{\"attributes\":{},\"id\":\"1699\",\"type\":\"Selection\"},{\"attributes\":{\"axis\":{\"id\":\"1644\"},\"ticker\":null},\"id\":\"1647\",\"type\":\"Grid\"},{\"attributes\":{},\"id\":\"1642\",\"type\":\"LinearScale\"},{\"attributes\":{},\"id\":\"1618\",\"type\":\"BasicTicker\"},{\"attributes\":{},\"id\":\"1702\",\"type\":\"UnionRenderers\"},{\"attributes\":{\"axis\":{\"id\":\"1648\"},\"dimension\":1,\"ticker\":null},\"id\":\"1651\",\"type\":\"Grid\"},{\"attributes\":{},\"id\":\"1700\",\"type\":\"UnionRenderers\"},{\"attributes\":{\"axis\":{\"id\":\"1621\"},\"dimension\":1,\"ticker\":null},\"id\":\"1624\",\"type\":\"Grid\"},{\"attributes\":{},\"id\":\"1698\",\"type\":\"BasicTickFormatter\"},{\"attributes\":{\"axis_label\":\"X\",\"axis_label_text_font_size\":\"16pt\",\"formatter\":{\"id\":\"1692\"},\"ticker\":{\"id\":\"1618\"}},\"id\":\"1617\",\"type\":\"LinearAxis\"},{\"attributes\":{\"end\":10.0,\"start\":-10.0},\"id\":\"1631\",\"type\":\"Range1d\"},{\"attributes\":{\"line_color\":\"royalblue\",\"line_width\":5,\"x\":{\"field\":\"x\"},\"y\":{\"field\":\"y\"}},\"id\":\"1654\",\"type\":\"Line\"},{\"attributes\":{\"axis_label\":\"gradient(X)\",\"axis_label_text_font_size\":\"16pt\",\"formatter\":{\"id\":\"1698\"},\"ticker\":{\"id\":\"1649\"}},\"id\":\"1648\",\"type\":\"LinearAxis\"},{\"attributes\":{\"source\":{\"id\":\"1653\"}},\"id\":\"1657\",\"type\":\"CDSView\"},{\"attributes\":{\"below\":[{\"id\":\"1617\"}],\"center\":[{\"id\":\"1620\"},{\"id\":\"1624\"}],\"left\":[{\"id\":\"1621\"}],\"renderers\":[{\"id\":\"1629\"}],\"title\":{\"id\":\"1607\"},\"toolbar\":{\"id\":\"1625\"},\"x_range\":{\"id\":\"1631\"},\"x_scale\":{\"id\":\"1613\"},\"y_range\":{\"id\":\"1632\"},\"y_scale\":{\"id\":\"1615\"}},\"id\":\"1606\",\"subtype\":\"Figure\",\"type\":\"Plot\"},{\"attributes\":{\"below\":[{\"id\":\"1644\"}],\"center\":[{\"id\":\"1647\"},{\"id\":\"1651\"}],\"left\":[{\"id\":\"1648\"}],\"renderers\":[{\"id\":\"1656\"}],\"title\":{\"id\":\"1634\"},\"toolbar\":{\"id\":\"1652\"},\"x_range\":{\"id\":\"1658\"},\"x_scale\":{\"id\":\"1640\"},\"y_range\":{\"id\":\"1659\"},\"y_scale\":{\"id\":\"1642\"}},\"id\":\"1633\",\"subtype\":\"Figure\",\"type\":\"Plot\"},{\"attributes\":{\"data_source\":{\"id\":\"1653\"},\"glyph\":{\"id\":\"1654\"},\"hover_glyph\":null,\"muted_glyph\":null,\"nonselection_glyph\":{\"id\":\"1655\"},\"selection_glyph\":null,\"view\":{\"id\":\"1657\"}},\"id\":\"1656\",\"type\":\"GlyphRenderer\"},{\"attributes\":{},\"id\":\"1615\",\"type\":\"LinearScale\"},{\"attributes\":{},\"id\":\"1701\",\"type\":\"Selection\"},{\"attributes\":{\"line_color\":\"royalblue\",\"line_width\":5,\"x\":{\"field\":\"x\"},\"y\":{\"field\":\"y\"}},\"id\":\"1627\",\"type\":\"Line\"},{\"attributes\":{\"line_alpha\":0.1,\"line_color\":\"royalblue\",\"line_width\":5,\"x\":{\"field\":\"x\"},\"y\":{\"field\":\"y\"}},\"id\":\"1628\",\"type\":\"Line\"},{\"attributes\":{\"end\":1.25,\"start\":-1.25},\"id\":\"1632\",\"type\":\"Range1d\"},{\"attributes\":{\"line_alpha\":0.1,\"line_color\":\"royalblue\",\"line_width\":5,\"x\":{\"field\":\"x\"},\"y\":{\"field\":\"y\"}},\"id\":\"1655\",\"type\":\"Line\"},{\"attributes\":{\"data_source\":{\"id\":\"1626\"},\"glyph\":{\"id\":\"1627\"},\"hover_glyph\":null,\"muted_glyph\":null,\"nonselection_glyph\":{\"id\":\"1628\"},\"selection_glyph\":null,\"view\":{\"id\":\"1630\"}},\"id\":\"1629\",\"type\":\"GlyphRenderer\"},{\"attributes\":{\"data\":{\"x\":{\"__ndarray__\":\"AAAgwYbEHMENiRnBk00WwRoSE8Gg1g/BJ5sMwa1fCcE0JAbBuugCwYJa/8CO4/jAm2zywKj168C1fuXAwgffwM+Q2MDcGdLA6aLLwPYrxcADtb7AED64wB3HscAqUKvANtmkwENinsBQ65fAXXSRwGr9isB3hoTACB98wCIxb8A8Q2LAVlVVwHBnSMCKeTvApIsuwL6dIcDYrxTA8sEHwBio9b9IzNu/gPDBv7AUqL/oOI6/MLpov6ACNb8ASwG/wCabvoDezr2A3s49wCabPgBLAT+QAjU/MLpoP+A4jj+wFKg/ePDBP0jM2z8QqPU/8MEHQNSvFEC8nSFAoIsuQIh5O0BwZ0hAVFVVQDxDYkAgMW9ACB98QHaGhEBq/YpAXHSRQFDrl0BCYp5ANtmkQChQq0Acx7FADj64QAK1vkD0K8VA6KLLQNwZ0kDQkNhAwAffQLR+5UCo9etAnGzyQIzj+ECAWv9AuugCQTQkBkGsXwlBJpsMQaDWD0EaEhNBlE0WQQyJGUGGxBxBAAAgQQ==\",\"dtype\":\"float32\",\"order\":\"little\",\"shape\":[100]},\"y\":{\"__ndarray__\":\"l2k+ONIJaThRmo44bYauOKmX1Ti5swI5R/UfOQTDQznQk285Q5mSOSRosznrjds5OVcGOqVlJDo+LEk66Sp2OnabljrWRrg61XXhOgvqCTvBtSg7UFxOO5VhfDvlTpo7n6e8O5yX5jvF4gw8UhgsPNUgUjyMN4A8kl+cPBKRvjxhBeg8ZhYNPQ5aKz1WxE8912x7PUTFlz1st7Y9Ij7bPcIFAz624xs+MoA4PuoMWT6Pm30+BwqTPgsWqT6JscA+nIHZPukU8z6MdQY/Mz8TPzynHz/4dCs//Ho2PxqZQD/GvEk/8d9RPxMHWT+OPl8/OphkPxEpaT9YB20/MUlwP7oDcz9fSnU/mi53P9W/eD93C3o/BB17P0P+ez99t3w/n099P3XMfT/RMn4/sYZ+P2LLfj+eA38/ozF/P0lXfz8Wdn8/Ro9/P92jfz+ytH8/dcJ/P7bNfz/n1n8/at5/P4/kfz+U6X8/re1/Pwfxfz/F838/APZ/P9T3fz9U+X8/jPp/P4z7fz9c/H8/Bv1/Pw==\",\"dtype\":\"float32\",\"order\":\"little\",\"shape\":[100]}},\"selected\":{\"id\":\"1699\"},\"selection_policy\":{\"id\":\"1700\"}},\"id\":\"1626\",\"type\":\"ColumnDataSource\"}],\"root_ids\":[\"1660\"]},\"title\":\"Bokeh Application\",\"version\":\"2.2.3\"}};\n",
       "  var render_items = [{\"docid\":\"5f8d3da7-c86c-4595-9fbe-b5cc3a88cfc2\",\"root_ids\":[\"1660\"],\"roots\":{\"1660\":\"7d2cccc8-35f0-4939-8afa-34fde799263e\"}}];\n",
       "  root.Bokeh.embed.embed_items_notebook(docs_json, render_items);\n",
       "\n",
       "  }\n",
       "  if (root.Bokeh !== undefined) {\n",
       "    embed_document(root);\n",
       "  } else {\n",
       "    var attempts = 0;\n",
       "    var timer = setInterval(function(root) {\n",
       "      if (root.Bokeh !== undefined) {\n",
       "        clearInterval(timer);\n",
       "        embed_document(root);\n",
       "      } else {\n",
       "        attempts++;\n",
       "        if (attempts > 100) {\n",
       "          clearInterval(timer);\n",
       "          console.log(\"Bokeh: ERROR: Unable to run BokehJS code because BokehJS library is missing\");\n",
       "        }\n",
       "      }\n",
       "    }, 10, root)\n",
       "  }\n",
       "})(window);"
      ],
      "application/vnd.bokehjs_exec.v0+json": ""
     },
     "metadata": {
      "application/vnd.bokehjs_exec.v0+json": {
       "id": "1660"
      }
     },
     "output_type": "display_data"
    }
   ],
   "source": [
    "with tf.GradientTape() as g:\n",
    "    y = activations.sigmoid(X)\n",
    "gradient = g.gradient(y, X)\n",
    "visualize('Sigmoid', X, y, gradient, color='royalblue', ymin=-1.25, ymax=1.25)"
   ]
  },
  {
   "cell_type": "markdown",
   "metadata": {},
   "source": [
    "## Hyperbolic Tangent\n",
    "* Equation\n",
    "$$\\tanh(x)=\\frac{\\exp(x)-\\exp(-x)}{\\exp(x)+\\exp(-x)}$$\n",
    "\n",
    "* Derivative\n",
    "$$\\frac{\\partial(\\tanh(x))}{\\partial x}=\\frac{1}{\\cosh^2(x)}$$\n",
    "\n",
    "* Description:\n",
    "    * Commonly used in the gate of __long short-term memory (LSTM)__ and __gate recurrent unit (GRU)__."
   ]
  },
  {
   "cell_type": "code",
   "execution_count": 10,
   "metadata": {},
   "outputs": [
    {
     "data": {
      "text/html": [
       "\n",
       "\n",
       "\n",
       "\n",
       "\n",
       "\n",
       "  <div class=\"bk-root\" id=\"d8d78e57-706c-4776-b9a2-e70ff9e343b0\" data-root-id=\"1983\"></div>\n"
      ]
     },
     "metadata": {},
     "output_type": "display_data"
    },
    {
     "data": {
      "application/javascript": [
       "(function(root) {\n",
       "  function embed_document(root) {\n",
       "    \n",
       "  var docs_json = {\"979df0f9-dfaa-486a-a5d5-ed69b821409e\":{\"roots\":{\"references\":[{\"attributes\":{\"children\":[{\"id\":\"1929\"},{\"id\":\"1956\"}]},\"id\":\"1983\",\"type\":\"Row\"},{\"attributes\":{\"active_drag\":\"auto\",\"active_inspect\":\"auto\",\"active_multi\":null,\"active_scroll\":\"auto\",\"active_tap\":\"auto\"},\"id\":\"1975\",\"type\":\"Toolbar\"},{\"attributes\":{\"data\":{\"x\":{\"__ndarray__\":\"AAAgwYbEHMENiRnBk00WwRoSE8Gg1g/BJ5sMwa1fCcE0JAbBuugCwYJa/8CO4/jAm2zywKj168C1fuXAwgffwM+Q2MDcGdLA6aLLwPYrxcADtb7AED64wB3HscAqUKvANtmkwENinsBQ65fAXXSRwGr9isB3hoTACB98wCIxb8A8Q2LAVlVVwHBnSMCKeTvApIsuwL6dIcDYrxTA8sEHwBio9b9IzNu/gPDBv7AUqL/oOI6/MLpov6ACNb8ASwG/wCabvoDezr2A3s49wCabPgBLAT+QAjU/MLpoP+A4jj+wFKg/ePDBP0jM2z8QqPU/8MEHQNSvFEC8nSFAoIsuQIh5O0BwZ0hAVFVVQDxDYkAgMW9ACB98QHaGhEBq/YpAXHSRQFDrl0BCYp5ANtmkQChQq0Acx7FADj64QAK1vkD0K8VA6KLLQNwZ0kDQkNhAwAffQLR+5UCo9etAnGzyQIzj+ECAWv9AuugCQTQkBkGsXwlBJpsMQaDWD0EaEhNBlE0WQQyJGUGGxBxBAAAgQQ==\",\"dtype\":\"float32\",\"order\":\"little\",\"shape\":[100]},\"y\":{\"__ndarray__\":\"AACAvwAAgL8AAIC/AACAvwAAgL///3+///9/v///f7/+/3+//f9/v/z/f7/6/3+/9/9/v/P/f7/s/3+/4v9/v9T/f7+9/3+/nP9/v2v/f78g/3+/sf5/vwv+f78R/X+/m/t/v2v5f78k9n+/O/F/v+Hpf7/f3n+/Ys5/v7K1f7+7kH+/aFl/v58Gf7/Sin6/0dF9v6+9fL9CInu/1r54v7Q1db9qAXC/zGhov/B0Xb/D8E2/g384v7/cG78Iou6+DZKWvh8rzr0fK849DZKWPgii7j603Bs/g384P77wTT/wdF0/yWhoP2oBcD+zNXU/1b54P0Eiez+vvXw/0dF9P9GKfj+fBn8/aFl/P7uQfz+ytX8/Ys5/P9/efz/h6X8/O/F/PyT2fz9r+X8/m/t/PxH9fz8L/n8/sf5/PyD/fz9r/38/nP9/P73/fz/U/38/4v9/P+z/fz/z/38/9/9/P/r/fz/8/38//f9/P/7/fz///38///9/P///fz8AAIA/AACAPwAAgD8AAIA/AACAPw==\",\"dtype\":\"float32\",\"order\":\"little\",\"shape\":[100]}},\"selected\":{\"id\":\"2036\"},\"selection_policy\":{\"id\":\"2037\"}},\"id\":\"1949\",\"type\":\"ColumnDataSource\"},{\"attributes\":{\"end\":10.0,\"start\":-10.0},\"id\":\"1981\",\"type\":\"Range1d\"},{\"attributes\":{},\"id\":\"2036\",\"type\":\"Selection\"},{\"attributes\":{},\"id\":\"2031\",\"type\":\"BasicTickFormatter\"},{\"attributes\":{\"align\":\"center\",\"text\":\"Hyperbolic Tangent (Derivative)\",\"text_font_size\":{\"value\":\"16pt\"}},\"id\":\"1957\",\"type\":\"Title\"},{\"attributes\":{},\"id\":\"2037\",\"type\":\"UnionRenderers\"},{\"attributes\":{},\"id\":\"2039\",\"type\":\"UnionRenderers\"},{\"attributes\":{\"axis\":{\"id\":\"1971\"},\"dimension\":1,\"ticker\":null},\"id\":\"1974\",\"type\":\"Grid\"},{\"attributes\":{},\"id\":\"2035\",\"type\":\"BasicTickFormatter\"},{\"attributes\":{\"active_drag\":\"auto\",\"active_inspect\":\"auto\",\"active_multi\":null,\"active_scroll\":\"auto\",\"active_tap\":\"auto\"},\"id\":\"1948\",\"type\":\"Toolbar\"},{\"attributes\":{\"align\":\"center\",\"text\":\"Hyperbolic Tangent\",\"text_font_size\":{\"value\":\"16pt\"}},\"id\":\"1930\",\"type\":\"Title\"},{\"attributes\":{\"axis\":{\"id\":\"1967\"},\"ticker\":null},\"id\":\"1970\",\"type\":\"Grid\"},{\"attributes\":{\"axis\":{\"id\":\"1944\"},\"dimension\":1,\"ticker\":null},\"id\":\"1947\",\"type\":\"Grid\"},{\"attributes\":{},\"id\":\"1938\",\"type\":\"LinearScale\"},{\"attributes\":{\"end\":10.0,\"start\":-10.0},\"id\":\"1954\",\"type\":\"Range1d\"},{\"attributes\":{},\"id\":\"1945\",\"type\":\"BasicTicker\"},{\"attributes\":{\"axis\":{\"id\":\"1940\"},\"ticker\":null},\"id\":\"1943\",\"type\":\"Grid\"},{\"attributes\":{},\"id\":\"1941\",\"type\":\"BasicTicker\"},{\"attributes\":{\"line_alpha\":0.1,\"line_color\":\"deepskyblue\",\"line_width\":5,\"x\":{\"field\":\"x\"},\"y\":{\"field\":\"y\"}},\"id\":\"1978\",\"type\":\"Line\"},{\"attributes\":{\"axis_label\":\"X\",\"axis_label_text_font_size\":\"16pt\",\"formatter\":{\"id\":\"2029\"},\"ticker\":{\"id\":\"1941\"}},\"id\":\"1940\",\"type\":\"LinearAxis\"},{\"attributes\":{\"end\":1.25,\"start\":-1.25},\"id\":\"1955\",\"type\":\"Range1d\"},{\"attributes\":{},\"id\":\"2033\",\"type\":\"BasicTickFormatter\"},{\"attributes\":{},\"id\":\"1963\",\"type\":\"LinearScale\"},{\"attributes\":{\"line_color\":\"deepskyblue\",\"line_width\":5,\"x\":{\"field\":\"x\"},\"y\":{\"field\":\"y\"}},\"id\":\"1950\",\"type\":\"Line\"},{\"attributes\":{},\"id\":\"1968\",\"type\":\"BasicTicker\"},{\"attributes\":{\"data\":{\"x\":{\"__ndarray__\":\"AAAgwYbEHMENiRnBk00WwRoSE8Gg1g/BJ5sMwa1fCcE0JAbBuugCwYJa/8CO4/jAm2zywKj168C1fuXAwgffwM+Q2MDcGdLA6aLLwPYrxcADtb7AED64wB3HscAqUKvANtmkwENinsBQ65fAXXSRwGr9isB3hoTACB98wCIxb8A8Q2LAVlVVwHBnSMCKeTvApIsuwL6dIcDYrxTA8sEHwBio9b9IzNu/gPDBv7AUqL/oOI6/MLpov6ACNb8ASwG/wCabvoDezr2A3s49wCabPgBLAT+QAjU/MLpoP+A4jj+wFKg/ePDBP0jM2z8QqPU/8MEHQNSvFEC8nSFAoIsuQIh5O0BwZ0hAVFVVQDxDYkAgMW9ACB98QHaGhEBq/YpAXHSRQFDrl0BCYp5ANtmkQChQq0Acx7FADj64QAK1vkD0K8VA6KLLQNwZ0kDQkNhAwAffQLR+5UCo9etAnGzyQIzj+ECAWv9AuugCQTQkBkGsXwlBJpsMQaDWD0EaEhNBlE0WQQyJGUGGxBxBAAAgQQ==\",\"dtype\":\"float32\",\"order\":\"little\",\"shape\":[100]},\"y\":{\"__ndarray__\":\"AAAAAAAAAAAAAAAAAAAAAAAAAAAAAAA0AAAANAAAADT//380//+/NP7//zT+/z81/f+PNfv/zzX6/x828v9vNvH/rzbu/wU32f9HN9X/lDee/983kn8nOAt/ejjtvrs4y54MOUudUjn2vJ05L0nsOVvwMDpte4Q6xGTGOm+GFDujWV47y2GmO4nn+DsADzo8nvOKPF5AzzzgPBo9MttkPVIBqT3K6vc9jQc0PsjZgD4LqbQ+6BD2PvIaIT+VY0g/IdxpP9pnfT/aZ30/IdxpP5VjSD8AGyE/6BD2PhuptD7I2YA+owc0Psrq9z1hAak9UdtkPf88Gj1eQM88nvOKPIAPOjyJ5/g7y2GmO6NZXjtvhhQ7xGTGOm17hDpb8DA6L0nsOfa8nTlLnVI5y54MOe2+uzgLf3o4kn8nOJ7/3zfV/5Q32f9HN+7/BTfx/6828v9vNvr/Hzb7/881/f+PNf7/PzX+//80//+/NP//fzQAAAA0AAAANAAAADQAAAAAAAAAAAAAAAAAAAAAAAAAAA==\",\"dtype\":\"float32\",\"order\":\"little\",\"shape\":[100]}},\"selected\":{\"id\":\"2038\"},\"selection_policy\":{\"id\":\"2039\"}},\"id\":\"1976\",\"type\":\"ColumnDataSource\"},{\"attributes\":{\"below\":[{\"id\":\"1967\"}],\"center\":[{\"id\":\"1970\"},{\"id\":\"1974\"}],\"left\":[{\"id\":\"1971\"}],\"renderers\":[{\"id\":\"1979\"}],\"title\":{\"id\":\"1957\"},\"toolbar\":{\"id\":\"1975\"},\"x_range\":{\"id\":\"1981\"},\"x_scale\":{\"id\":\"1963\"},\"y_range\":{\"id\":\"1982\"},\"y_scale\":{\"id\":\"1965\"}},\"id\":\"1956\",\"subtype\":\"Figure\",\"type\":\"Plot\"},{\"attributes\":{\"axis_label\":\"f(X)\",\"axis_label_text_font_size\":\"16pt\",\"formatter\":{\"id\":\"2031\"},\"ticker\":{\"id\":\"1945\"}},\"id\":\"1944\",\"type\":\"LinearAxis\"},{\"attributes\":{\"line_alpha\":0.1,\"line_color\":\"deepskyblue\",\"line_width\":5,\"x\":{\"field\":\"x\"},\"y\":{\"field\":\"y\"}},\"id\":\"1951\",\"type\":\"Line\"},{\"attributes\":{},\"id\":\"2038\",\"type\":\"Selection\"},{\"attributes\":{\"end\":1.25,\"start\":-1.25},\"id\":\"1982\",\"type\":\"Range1d\"},{\"attributes\":{\"source\":{\"id\":\"1976\"}},\"id\":\"1980\",\"type\":\"CDSView\"},{\"attributes\":{\"line_color\":\"deepskyblue\",\"line_width\":5,\"x\":{\"field\":\"x\"},\"y\":{\"field\":\"y\"}},\"id\":\"1977\",\"type\":\"Line\"},{\"attributes\":{\"axis_label\":\"X\",\"axis_label_text_font_size\":\"16pt\",\"formatter\":{\"id\":\"2033\"},\"ticker\":{\"id\":\"1968\"}},\"id\":\"1967\",\"type\":\"LinearAxis\"},{\"attributes\":{\"data_source\":{\"id\":\"1976\"},\"glyph\":{\"id\":\"1977\"},\"hover_glyph\":null,\"muted_glyph\":null,\"nonselection_glyph\":{\"id\":\"1978\"},\"selection_glyph\":null,\"view\":{\"id\":\"1980\"}},\"id\":\"1979\",\"type\":\"GlyphRenderer\"},{\"attributes\":{},\"id\":\"1965\",\"type\":\"LinearScale\"},{\"attributes\":{\"below\":[{\"id\":\"1940\"}],\"center\":[{\"id\":\"1943\"},{\"id\":\"1947\"}],\"left\":[{\"id\":\"1944\"}],\"renderers\":[{\"id\":\"1952\"}],\"title\":{\"id\":\"1930\"},\"toolbar\":{\"id\":\"1948\"},\"x_range\":{\"id\":\"1954\"},\"x_scale\":{\"id\":\"1936\"},\"y_range\":{\"id\":\"1955\"},\"y_scale\":{\"id\":\"1938\"}},\"id\":\"1929\",\"subtype\":\"Figure\",\"type\":\"Plot\"},{\"attributes\":{\"source\":{\"id\":\"1949\"}},\"id\":\"1953\",\"type\":\"CDSView\"},{\"attributes\":{},\"id\":\"1972\",\"type\":\"BasicTicker\"},{\"attributes\":{},\"id\":\"1936\",\"type\":\"LinearScale\"},{\"attributes\":{},\"id\":\"2029\",\"type\":\"BasicTickFormatter\"},{\"attributes\":{\"data_source\":{\"id\":\"1949\"},\"glyph\":{\"id\":\"1950\"},\"hover_glyph\":null,\"muted_glyph\":null,\"nonselection_glyph\":{\"id\":\"1951\"},\"selection_glyph\":null,\"view\":{\"id\":\"1953\"}},\"id\":\"1952\",\"type\":\"GlyphRenderer\"},{\"attributes\":{\"axis_label\":\"gradient(X)\",\"axis_label_text_font_size\":\"16pt\",\"formatter\":{\"id\":\"2035\"},\"ticker\":{\"id\":\"1972\"}},\"id\":\"1971\",\"type\":\"LinearAxis\"}],\"root_ids\":[\"1983\"]},\"title\":\"Bokeh Application\",\"version\":\"2.2.3\"}};\n",
       "  var render_items = [{\"docid\":\"979df0f9-dfaa-486a-a5d5-ed69b821409e\",\"root_ids\":[\"1983\"],\"roots\":{\"1983\":\"d8d78e57-706c-4776-b9a2-e70ff9e343b0\"}}];\n",
       "  root.Bokeh.embed.embed_items_notebook(docs_json, render_items);\n",
       "\n",
       "  }\n",
       "  if (root.Bokeh !== undefined) {\n",
       "    embed_document(root);\n",
       "  } else {\n",
       "    var attempts = 0;\n",
       "    var timer = setInterval(function(root) {\n",
       "      if (root.Bokeh !== undefined) {\n",
       "        clearInterval(timer);\n",
       "        embed_document(root);\n",
       "      } else {\n",
       "        attempts++;\n",
       "        if (attempts > 100) {\n",
       "          clearInterval(timer);\n",
       "          console.log(\"Bokeh: ERROR: Unable to run BokehJS code because BokehJS library is missing\");\n",
       "        }\n",
       "      }\n",
       "    }, 10, root)\n",
       "  }\n",
       "})(window);"
      ],
      "application/vnd.bokehjs_exec.v0+json": ""
     },
     "metadata": {
      "application/vnd.bokehjs_exec.v0+json": {
       "id": "1983"
      }
     },
     "output_type": "display_data"
    }
   ],
   "source": [
    "with tf.GradientTape() as g:\n",
    "    y = activations.tanh(X)\n",
    "gradient = g.gradient(y, X)\n",
    "visualize('Hyperbolic Tangent', X, y, gradient, color='deepskyblue', ymin=-1.25, ymax=1.25)"
   ]
  },
  {
   "cell_type": "markdown",
   "metadata": {},
   "source": [
    "## Rectified Linear Unit (ReLU)\n",
    "* Equation\n",
    "$$\\text{ReLU}(x)=\\max(0, x)$$\n",
    "\n",
    "* Derivative\n",
    "$$\\begin{align}\\frac{\\partial(\\text{ReLU}(x))}{\\partial x}=\\begin{cases}1\\;&\\text{if } x > 0\\\\0\\;&\\text{otherwise}\\end{cases}\\end{align}$$\n",
    "\n",
    "* Properties:\n",
    "    * The most commonly used activation function in the hiddent layer of multilayer perceptron network.\n",
    "    * The output of the activation function is a sparse (have many zeros) tensor. Therefore, it requires less computational time and memory to reach convergence.\n",
    "    * Computational efficient to compute the derivative since it does not require exponential computation (about 1.5x faster than sigmoid and 2x faster than hyperbolic tangent).\n",
    "    * The sparisty could potentially __prevent overfitting__.\n",
    "    * However, the sparsity might also lead to __dying ReLU__ problem (some weight will never be updated)\n",
    "    * Might cause __gradient exploding__ problem (will discuss in recurrent neural network) when the gradient of the linear combination before applying ReLU is large.\n",
    "    * Alleviate gradient vanishing problem."
   ]
  },
  {
   "cell_type": "code",
   "execution_count": 11,
   "metadata": {},
   "outputs": [
    {
     "data": {
      "text/html": [
       "\n",
       "\n",
       "\n",
       "\n",
       "\n",
       "\n",
       "  <div class=\"bk-root\" id=\"37dcc44e-762f-49e8-acad-9e030bcc2d02\" data-root-id=\"2320\"></div>\n"
      ]
     },
     "metadata": {},
     "output_type": "display_data"
    },
    {
     "data": {
      "application/javascript": [
       "(function(root) {\n",
       "  function embed_document(root) {\n",
       "    \n",
       "  var docs_json = {\"3f12a32e-9f6a-4da9-85e8-7314c8311c38\":{\"roots\":{\"references\":[{\"attributes\":{\"children\":[{\"id\":\"2266\"},{\"id\":\"2293\"}]},\"id\":\"2320\",\"type\":\"Row\"},{\"attributes\":{\"active_drag\":\"auto\",\"active_inspect\":\"auto\",\"active_multi\":null,\"active_scroll\":\"auto\",\"active_tap\":\"auto\"},\"id\":\"2285\",\"type\":\"Toolbar\"},{\"attributes\":{},\"id\":\"2309\",\"type\":\"BasicTicker\"},{\"attributes\":{\"axis_label\":\"X\",\"axis_label_text_font_size\":\"16pt\",\"formatter\":{\"id\":\"2380\"},\"ticker\":{\"id\":\"2278\"}},\"id\":\"2277\",\"type\":\"LinearAxis\"},{\"attributes\":{},\"id\":\"2384\",\"type\":\"BasicTickFormatter\"},{\"attributes\":{},\"id\":\"2387\",\"type\":\"Selection\"},{\"attributes\":{\"axis\":{\"id\":\"2304\"},\"ticker\":null},\"id\":\"2307\",\"type\":\"Grid\"},{\"attributes\":{},\"id\":\"2300\",\"type\":\"LinearScale\"},{\"attributes\":{},\"id\":\"2389\",\"type\":\"Selection\"},{\"attributes\":{\"line_alpha\":0.1,\"line_color\":\"lightcoral\",\"line_width\":5,\"x\":{\"field\":\"x\"},\"y\":{\"field\":\"y\"}},\"id\":\"2288\",\"type\":\"Line\"},{\"attributes\":{},\"id\":\"2305\",\"type\":\"BasicTicker\"},{\"attributes\":{\"active_drag\":\"auto\",\"active_inspect\":\"auto\",\"active_multi\":null,\"active_scroll\":\"auto\",\"active_tap\":\"auto\"},\"id\":\"2312\",\"type\":\"Toolbar\"},{\"attributes\":{\"source\":{\"id\":\"2286\"}},\"id\":\"2290\",\"type\":\"CDSView\"},{\"attributes\":{\"end\":10.0,\"start\":-10},\"id\":\"2292\",\"type\":\"Range1d\"},{\"attributes\":{},\"id\":\"2273\",\"type\":\"LinearScale\"},{\"attributes\":{\"axis\":{\"id\":\"2308\"},\"dimension\":1,\"ticker\":null},\"id\":\"2311\",\"type\":\"Grid\"},{\"attributes\":{\"axis_label\":\"gradient(X)\",\"axis_label_text_font_size\":\"16pt\",\"formatter\":{\"id\":\"2386\"},\"ticker\":{\"id\":\"2309\"}},\"id\":\"2308\",\"type\":\"LinearAxis\"},{\"attributes\":{\"below\":[{\"id\":\"2304\"}],\"center\":[{\"id\":\"2307\"},{\"id\":\"2311\"}],\"left\":[{\"id\":\"2308\"}],\"renderers\":[{\"id\":\"2316\"}],\"title\":{\"id\":\"2294\"},\"toolbar\":{\"id\":\"2312\"},\"x_range\":{\"id\":\"2318\"},\"x_scale\":{\"id\":\"2300\"},\"y_range\":{\"id\":\"2319\"},\"y_scale\":{\"id\":\"2302\"}},\"id\":\"2293\",\"subtype\":\"Figure\",\"type\":\"Plot\"},{\"attributes\":{\"end\":1.25,\"start\":-1.25},\"id\":\"2319\",\"type\":\"Range1d\"},{\"attributes\":{\"axis_label\":\"X\",\"axis_label_text_font_size\":\"16pt\",\"formatter\":{\"id\":\"2384\"},\"ticker\":{\"id\":\"2305\"}},\"id\":\"2304\",\"type\":\"LinearAxis\"},{\"attributes\":{},\"id\":\"2278\",\"type\":\"BasicTicker\"},{\"attributes\":{\"source\":{\"id\":\"2313\"}},\"id\":\"2317\",\"type\":\"CDSView\"},{\"attributes\":{\"align\":\"center\",\"text\":\"ReLU\",\"text_font_size\":{\"value\":\"16pt\"}},\"id\":\"2267\",\"type\":\"Title\"},{\"attributes\":{\"axis_label\":\"f(X)\",\"axis_label_text_font_size\":\"16pt\",\"formatter\":{\"id\":\"2382\"},\"ticker\":{\"id\":\"2282\"}},\"id\":\"2281\",\"type\":\"LinearAxis\"},{\"attributes\":{\"line_alpha\":0.1,\"line_color\":\"lightcoral\",\"line_width\":5,\"x\":{\"field\":\"x\"},\"y\":{\"field\":\"y\"}},\"id\":\"2315\",\"type\":\"Line\"},{\"attributes\":{\"data\":{\"x\":{\"__ndarray__\":\"AAAgwYbEHMENiRnBk00WwRoSE8Gg1g/BJ5sMwa1fCcE0JAbBuugCwYJa/8CO4/jAm2zywKj168C1fuXAwgffwM+Q2MDcGdLA6aLLwPYrxcADtb7AED64wB3HscAqUKvANtmkwENinsBQ65fAXXSRwGr9isB3hoTACB98wCIxb8A8Q2LAVlVVwHBnSMCKeTvApIsuwL6dIcDYrxTA8sEHwBio9b9IzNu/gPDBv7AUqL/oOI6/MLpov6ACNb8ASwG/wCabvoDezr2A3s49wCabPgBLAT+QAjU/MLpoP+A4jj+wFKg/ePDBP0jM2z8QqPU/8MEHQNSvFEC8nSFAoIsuQIh5O0BwZ0hAVFVVQDxDYkAgMW9ACB98QHaGhEBq/YpAXHSRQFDrl0BCYp5ANtmkQChQq0Acx7FADj64QAK1vkD0K8VA6KLLQNwZ0kDQkNhAwAffQLR+5UCo9etAnGzyQIzj+ECAWv9AuugCQTQkBkGsXwlBJpsMQaDWD0EaEhNBlE0WQQyJGUGGxBxBAAAgQQ==\",\"dtype\":\"float32\",\"order\":\"little\",\"shape\":[100]},\"y\":{\"__ndarray__\":\"AAAAAAAAAAAAAAAAAAAAAAAAAAAAAAAAAAAAAAAAAAAAAAAAAAAAAAAAAAAAAAAAAAAAAAAAAAAAAAAAAAAAAAAAAAAAAAAAAAAAAAAAAAAAAAAAAAAAAAAAAAAAAAAAAAAAAAAAAAAAAAAAAAAAAAAAAAAAAAAAAAAAAAAAAAAAAAAAAAAAAAAAAAAAAAAAAAAAAAAAAAAAAAAAAAAAAAAAAAAAAAAAAAAAAAAAAAAAAAAAAAAAAAAAAAAAAAAAAAAAAAAAAAAAAIA/AACAPwAAgD8AAIA/AACAPwAAgD8AAIA/AACAPwAAgD8AAIA/AACAPwAAgD8AAIA/AACAPwAAgD8AAIA/AACAPwAAgD8AAIA/AACAPwAAgD8AAIA/AACAPwAAgD8AAIA/AACAPwAAgD8AAIA/AACAPwAAgD8AAIA/AACAPwAAgD8AAIA/AACAPwAAgD8AAIA/AACAPwAAgD8AAIA/AACAPwAAgD8AAIA/AACAPwAAgD8AAIA/AACAPwAAgD8AAIA/AACAPw==\",\"dtype\":\"float32\",\"order\":\"little\",\"shape\":[100]}},\"selected\":{\"id\":\"2389\"},\"selection_policy\":{\"id\":\"2390\"}},\"id\":\"2313\",\"type\":\"ColumnDataSource\"},{\"attributes\":{},\"id\":\"2382\",\"type\":\"BasicTickFormatter\"},{\"attributes\":{\"end\":10.0,\"start\":-10.0},\"id\":\"2291\",\"type\":\"Range1d\"},{\"attributes\":{\"axis\":{\"id\":\"2281\"},\"dimension\":1,\"ticker\":null},\"id\":\"2284\",\"type\":\"Grid\"},{\"attributes\":{\"end\":10.0,\"start\":-10.0},\"id\":\"2318\",\"type\":\"Range1d\"},{\"attributes\":{},\"id\":\"2390\",\"type\":\"UnionRenderers\"},{\"attributes\":{},\"id\":\"2388\",\"type\":\"UnionRenderers\"},{\"attributes\":{\"line_color\":\"lightcoral\",\"line_width\":5,\"x\":{\"field\":\"x\"},\"y\":{\"field\":\"y\"}},\"id\":\"2287\",\"type\":\"Line\"},{\"attributes\":{\"align\":\"center\",\"text\":\"ReLU (Derivative)\",\"text_font_size\":{\"value\":\"16pt\"}},\"id\":\"2294\",\"type\":\"Title\"},{\"attributes\":{\"data\":{\"x\":{\"__ndarray__\":\"AAAgwYbEHMENiRnBk00WwRoSE8Gg1g/BJ5sMwa1fCcE0JAbBuugCwYJa/8CO4/jAm2zywKj168C1fuXAwgffwM+Q2MDcGdLA6aLLwPYrxcADtb7AED64wB3HscAqUKvANtmkwENinsBQ65fAXXSRwGr9isB3hoTACB98wCIxb8A8Q2LAVlVVwHBnSMCKeTvApIsuwL6dIcDYrxTA8sEHwBio9b9IzNu/gPDBv7AUqL/oOI6/MLpov6ACNb8ASwG/wCabvoDezr2A3s49wCabPgBLAT+QAjU/MLpoP+A4jj+wFKg/ePDBP0jM2z8QqPU/8MEHQNSvFEC8nSFAoIsuQIh5O0BwZ0hAVFVVQDxDYkAgMW9ACB98QHaGhEBq/YpAXHSRQFDrl0BCYp5ANtmkQChQq0Acx7FADj64QAK1vkD0K8VA6KLLQNwZ0kDQkNhAwAffQLR+5UCo9etAnGzyQIzj+ECAWv9AuugCQTQkBkGsXwlBJpsMQaDWD0EaEhNBlE0WQQyJGUGGxBxBAAAgQQ==\",\"dtype\":\"float32\",\"order\":\"little\",\"shape\":[100]},\"y\":{\"__ndarray__\":\"AAAAAAAAAAAAAAAAAAAAAAAAAAAAAAAAAAAAAAAAAAAAAAAAAAAAAAAAAAAAAAAAAAAAAAAAAAAAAAAAAAAAAAAAAAAAAAAAAAAAAAAAAAAAAAAAAAAAAAAAAAAAAAAAAAAAAAAAAAAAAAAAAAAAAAAAAAAAAAAAAAAAAAAAAAAAAAAAAAAAAAAAAAAAAAAAAAAAAAAAAAAAAAAAAAAAAAAAAAAAAAAAAAAAAAAAAAAAAAAAAAAAAAAAAAAAAAAAAAAAAAAAAACA3s49wCabPgBLAT+QAjU/MLpoP+A4jj+wFKg/ePDBP0jM2z8QqPU/8MEHQNSvFEC8nSFAoIsuQIh5O0BwZ0hAVFVVQDxDYkAgMW9ACB98QHaGhEBq/YpAXHSRQFDrl0BCYp5ANtmkQChQq0Acx7FADj64QAK1vkD0K8VA6KLLQNwZ0kDQkNhAwAffQLR+5UCo9etAnGzyQIzj+ECAWv9AuugCQTQkBkGsXwlBJpsMQaDWD0EaEhNBlE0WQQyJGUGGxBxBAAAgQQ==\",\"dtype\":\"float32\",\"order\":\"little\",\"shape\":[100]}},\"selected\":{\"id\":\"2387\"},\"selection_policy\":{\"id\":\"2388\"}},\"id\":\"2286\",\"type\":\"ColumnDataSource\"},{\"attributes\":{},\"id\":\"2275\",\"type\":\"LinearScale\"},{\"attributes\":{\"data_source\":{\"id\":\"2313\"},\"glyph\":{\"id\":\"2314\"},\"hover_glyph\":null,\"muted_glyph\":null,\"nonselection_glyph\":{\"id\":\"2315\"},\"selection_glyph\":null,\"view\":{\"id\":\"2317\"}},\"id\":\"2316\",\"type\":\"GlyphRenderer\"},{\"attributes\":{},\"id\":\"2302\",\"type\":\"LinearScale\"},{\"attributes\":{},\"id\":\"2386\",\"type\":\"BasicTickFormatter\"},{\"attributes\":{\"line_color\":\"lightcoral\",\"line_width\":5,\"x\":{\"field\":\"x\"},\"y\":{\"field\":\"y\"}},\"id\":\"2314\",\"type\":\"Line\"},{\"attributes\":{\"axis\":{\"id\":\"2277\"},\"ticker\":null},\"id\":\"2280\",\"type\":\"Grid\"},{\"attributes\":{\"data_source\":{\"id\":\"2286\"},\"glyph\":{\"id\":\"2287\"},\"hover_glyph\":null,\"muted_glyph\":null,\"nonselection_glyph\":{\"id\":\"2288\"},\"selection_glyph\":null,\"view\":{\"id\":\"2290\"}},\"id\":\"2289\",\"type\":\"GlyphRenderer\"},{\"attributes\":{},\"id\":\"2282\",\"type\":\"BasicTicker\"},{\"attributes\":{\"below\":[{\"id\":\"2277\"}],\"center\":[{\"id\":\"2280\"},{\"id\":\"2284\"}],\"left\":[{\"id\":\"2281\"}],\"renderers\":[{\"id\":\"2289\"}],\"title\":{\"id\":\"2267\"},\"toolbar\":{\"id\":\"2285\"},\"x_range\":{\"id\":\"2291\"},\"x_scale\":{\"id\":\"2273\"},\"y_range\":{\"id\":\"2292\"},\"y_scale\":{\"id\":\"2275\"}},\"id\":\"2266\",\"subtype\":\"Figure\",\"type\":\"Plot\"},{\"attributes\":{},\"id\":\"2380\",\"type\":\"BasicTickFormatter\"}],\"root_ids\":[\"2320\"]},\"title\":\"Bokeh Application\",\"version\":\"2.2.3\"}};\n",
       "  var render_items = [{\"docid\":\"3f12a32e-9f6a-4da9-85e8-7314c8311c38\",\"root_ids\":[\"2320\"],\"roots\":{\"2320\":\"37dcc44e-762f-49e8-acad-9e030bcc2d02\"}}];\n",
       "  root.Bokeh.embed.embed_items_notebook(docs_json, render_items);\n",
       "\n",
       "  }\n",
       "  if (root.Bokeh !== undefined) {\n",
       "    embed_document(root);\n",
       "  } else {\n",
       "    var attempts = 0;\n",
       "    var timer = setInterval(function(root) {\n",
       "      if (root.Bokeh !== undefined) {\n",
       "        clearInterval(timer);\n",
       "        embed_document(root);\n",
       "      } else {\n",
       "        attempts++;\n",
       "        if (attempts > 100) {\n",
       "          clearInterval(timer);\n",
       "          console.log(\"Bokeh: ERROR: Unable to run BokehJS code because BokehJS library is missing\");\n",
       "        }\n",
       "      }\n",
       "    }, 10, root)\n",
       "  }\n",
       "})(window);"
      ],
      "application/vnd.bokehjs_exec.v0+json": ""
     },
     "metadata": {
      "application/vnd.bokehjs_exec.v0+json": {
       "id": "2320"
      }
     },
     "output_type": "display_data"
    }
   ],
   "source": [
    "with tf.GradientTape() as g:\n",
    "    y = activations.relu(X, alpha=0.00)\n",
    "gradient = g.gradient(y, X)\n",
    "visualize('ReLU', X, y, gradient, color='lightcoral', ymin=-10)"
   ]
  },
  {
   "cell_type": "markdown",
   "metadata": {},
   "source": [
    "## Leaky ReLU\n",
    "* Equation\n",
    "$$\n",
    "\\begin{align}f(x)=\\begin{cases}\n",
    "x\\;\\;\\;\\;\\;\\;\\;\\;\\;&\\text{if }x > 0\\\\\n",
    "ax &\\text{otherwise}\\end{cases}\\end{align}\n",
    "$$\n",
    "\n",
    "* Derivative\n",
    "$$\\begin{align}\\frac{\\partial f(x)}{\\partial x}=\\begin{cases}1\\;&\\text{if } x > 0\\\\a\\;&\\text{otherwise}\\end{cases}\\end{align}$$\n",
    "\n",
    "* Parameters\n",
    "    * $a$ is a hyperparameter controling the slope of negative values (default in Tensorflow: $0.2$)\n",
    "* Properties:\n",
    "    * Computationally more efficient than ELU.\n",
    "    * Might cause gradient exploding problem when the gradient of the linear combination before applying Leaky ReLU is large.\n",
    "    * Alleviate gradient vanishing problem.\n",
    "    * Alleviate the dying ReLU problem."
   ]
  },
  {
   "cell_type": "code",
   "execution_count": 12,
   "metadata": {},
   "outputs": [
    {
     "data": {
      "text/html": [
       "\n",
       "\n",
       "\n",
       "\n",
       "\n",
       "\n",
       "  <div class=\"bk-root\" id=\"8c346b38-e44c-47ef-b3fb-8fc41fa53b2b\" data-root-id=\"2671\"></div>\n"
      ]
     },
     "metadata": {},
     "output_type": "display_data"
    },
    {
     "data": {
      "application/javascript": [
       "(function(root) {\n",
       "  function embed_document(root) {\n",
       "    \n",
       "  var docs_json = {\"a07401da-6246-4bbb-843a-6f496cae77b4\":{\"roots\":{\"references\":[{\"attributes\":{\"children\":[{\"id\":\"2617\"},{\"id\":\"2644\"}]},\"id\":\"2671\",\"type\":\"Row\"},{\"attributes\":{\"source\":{\"id\":\"2637\"}},\"id\":\"2641\",\"type\":\"CDSView\"},{\"attributes\":{\"active_drag\":\"auto\",\"active_inspect\":\"auto\",\"active_multi\":null,\"active_scroll\":\"auto\",\"active_tap\":\"auto\"},\"id\":\"2663\",\"type\":\"Toolbar\"},{\"attributes\":{},\"id\":\"2653\",\"type\":\"LinearScale\"},{\"attributes\":{\"end\":10.0,\"start\":-10.0},\"id\":\"2642\",\"type\":\"Range1d\"},{\"attributes\":{},\"id\":\"2751\",\"type\":\"BasicTickFormatter\"},{\"attributes\":{},\"id\":\"2752\",\"type\":\"Selection\"},{\"attributes\":{},\"id\":\"2626\",\"type\":\"LinearScale\"},{\"attributes\":{\"data\":{\"x\":{\"__ndarray__\":\"AAAgwYbEHMENiRnBk00WwRoSE8Gg1g/BJ5sMwa1fCcE0JAbBuugCwYJa/8CO4/jAm2zywKj168C1fuXAwgffwM+Q2MDcGdLA6aLLwPYrxcADtb7AED64wB3HscAqUKvANtmkwENinsBQ65fAXXSRwGr9isB3hoTACB98wCIxb8A8Q2LAVlVVwHBnSMCKeTvApIsuwL6dIcDYrxTA8sEHwBio9b9IzNu/gPDBv7AUqL/oOI6/MLpov6ACNb8ASwG/wCabvoDezr2A3s49wCabPgBLAT+QAjU/MLpoP+A4jj+wFKg/ePDBP0jM2z8QqPU/8MEHQNSvFEC8nSFAoIsuQIh5O0BwZ0hAVFVVQDxDYkAgMW9ACB98QHaGhEBq/YpAXHSRQFDrl0BCYp5ANtmkQChQq0Acx7FADj64QAK1vkD0K8VA6KLLQNwZ0kDQkNhAwAffQLR+5UCo9etAnGzyQIzj+ECAWv9AuugCQTQkBkGsXwlBJpsMQaDWD0EaEhNBlE0WQQyJGUGGxBxBAAAgQQ==\",\"dtype\":\"float32\",\"order\":\"little\",\"shape\":[100]},\"y\":{\"__ndarray__\":\"AAAAwArU+r8VqPW/H3zwvypQ678zJOa/P/jgv0jM279ToNa/XXTRv2hIzL9yHMe/fPDBv4fEvL+RmLe/m2yyv6ZArb+wFKi/u+iiv8W8nb/PkJi/2mSTv+Q4jr/vDIm/+OCDvwVqfb8aEnO/L7pov0NiXr9YClS/bbJJv4JaP7+XAjW/q6oqv8BSIL/V+hW/6qILv/9KAb8n5u2+UDbZvnqGxL6g1q++zSabvvN2hr5AjmO+jS46vufOEL5n3s69AD54vc1+pbyA3s49wCabPgBLAT+QAjU/MLpoP+A4jj+wFKg/ePDBP0jM2z8QqPU/8MEHQNSvFEC8nSFAoIsuQIh5O0BwZ0hAVFVVQDxDYkAgMW9ACB98QHaGhEBq/YpAXHSRQFDrl0BCYp5ANtmkQChQq0Acx7FADj64QAK1vkD0K8VA6KLLQNwZ0kDQkNhAwAffQLR+5UCo9etAnGzyQIzj+ECAWv9AuugCQTQkBkGsXwlBJpsMQaDWD0EaEhNBlE0WQQyJGUGGxBxBAAAgQQ==\",\"dtype\":\"float32\",\"order\":\"little\",\"shape\":[100]}},\"selected\":{\"id\":\"2752\"},\"selection_policy\":{\"id\":\"2753\"}},\"id\":\"2637\",\"type\":\"ColumnDataSource\"},{\"attributes\":{},\"id\":\"2749\",\"type\":\"BasicTickFormatter\"},{\"attributes\":{\"end\":1.25,\"start\":-1.25},\"id\":\"2670\",\"type\":\"Range1d\"},{\"attributes\":{},\"id\":\"2629\",\"type\":\"BasicTicker\"},{\"attributes\":{},\"id\":\"2624\",\"type\":\"LinearScale\"},{\"attributes\":{\"end\":10.0,\"start\":-10},\"id\":\"2643\",\"type\":\"Range1d\"},{\"attributes\":{\"axis_label\":\"X\",\"axis_label_text_font_size\":\"16pt\",\"formatter\":{\"id\":\"2749\"},\"ticker\":{\"id\":\"2656\"}},\"id\":\"2655\",\"type\":\"LinearAxis\"},{\"attributes\":{},\"id\":\"2747\",\"type\":\"BasicTickFormatter\"},{\"attributes\":{\"line_alpha\":0.1,\"line_color\":\"mediumvioletred\",\"line_width\":5,\"x\":{\"field\":\"x\"},\"y\":{\"field\":\"y\"}},\"id\":\"2666\",\"type\":\"Line\"},{\"attributes\":{\"data\":{\"x\":{\"__ndarray__\":\"AAAgwYbEHMENiRnBk00WwRoSE8Gg1g/BJ5sMwa1fCcE0JAbBuugCwYJa/8CO4/jAm2zywKj168C1fuXAwgffwM+Q2MDcGdLA6aLLwPYrxcADtb7AED64wB3HscAqUKvANtmkwENinsBQ65fAXXSRwGr9isB3hoTACB98wCIxb8A8Q2LAVlVVwHBnSMCKeTvApIsuwL6dIcDYrxTA8sEHwBio9b9IzNu/gPDBv7AUqL/oOI6/MLpov6ACNb8ASwG/wCabvoDezr2A3s49wCabPgBLAT+QAjU/MLpoP+A4jj+wFKg/ePDBP0jM2z8QqPU/8MEHQNSvFEC8nSFAoIsuQIh5O0BwZ0hAVFVVQDxDYkAgMW9ACB98QHaGhEBq/YpAXHSRQFDrl0BCYp5ANtmkQChQq0Acx7FADj64QAK1vkD0K8VA6KLLQNwZ0kDQkNhAwAffQLR+5UCo9etAnGzyQIzj+ECAWv9AuugCQTQkBkGsXwlBJpsMQaDWD0EaEhNBlE0WQQyJGUGGxBxBAAAgQQ==\",\"dtype\":\"float32\",\"order\":\"little\",\"shape\":[100]},\"y\":{\"__ndarray__\":\"zcxMPs3MTD7NzEw+zcxMPs3MTD7NzEw+zcxMPs3MTD7NzEw+zcxMPs3MTD7NzEw+zcxMPs3MTD7NzEw+zcxMPs3MTD7NzEw+zcxMPs3MTD7NzEw+zcxMPs3MTD7NzEw+zcxMPs3MTD7NzEw+zcxMPs3MTD7NzEw+zcxMPs3MTD7NzEw+zcxMPs3MTD7NzEw+zcxMPs3MTD7NzEw+zcxMPs3MTD7NzEw+zcxMPs3MTD7NzEw+zcxMPs3MTD7NzEw+zcxMPs3MTD4AAIA/AACAPwAAgD8AAIA/AACAPwAAgD8AAIA/AACAPwAAgD8AAIA/AACAPwAAgD8AAIA/AACAPwAAgD8AAIA/AACAPwAAgD8AAIA/AACAPwAAgD8AAIA/AACAPwAAgD8AAIA/AACAPwAAgD8AAIA/AACAPwAAgD8AAIA/AACAPwAAgD8AAIA/AACAPwAAgD8AAIA/AACAPwAAgD8AAIA/AACAPwAAgD8AAIA/AACAPwAAgD8AAIA/AACAPwAAgD8AAIA/AACAPw==\",\"dtype\":\"float32\",\"order\":\"little\",\"shape\":[100]}},\"selected\":{\"id\":\"2754\"},\"selection_policy\":{\"id\":\"2755\"}},\"id\":\"2664\",\"type\":\"ColumnDataSource\"},{\"attributes\":{\"source\":{\"id\":\"2664\"}},\"id\":\"2668\",\"type\":\"CDSView\"},{\"attributes\":{\"axis\":{\"id\":\"2628\"},\"ticker\":null},\"id\":\"2631\",\"type\":\"Grid\"},{\"attributes\":{\"below\":[{\"id\":\"2628\"}],\"center\":[{\"id\":\"2631\"},{\"id\":\"2635\"}],\"left\":[{\"id\":\"2632\"}],\"renderers\":[{\"id\":\"2640\"}],\"title\":{\"id\":\"2618\"},\"toolbar\":{\"id\":\"2636\"},\"x_range\":{\"id\":\"2642\"},\"x_scale\":{\"id\":\"2624\"},\"y_range\":{\"id\":\"2643\"},\"y_scale\":{\"id\":\"2626\"}},\"id\":\"2617\",\"subtype\":\"Figure\",\"type\":\"Plot\"},{\"attributes\":{},\"id\":\"2754\",\"type\":\"Selection\"},{\"attributes\":{\"active_drag\":\"auto\",\"active_inspect\":\"auto\",\"active_multi\":null,\"active_scroll\":\"auto\",\"active_tap\":\"auto\"},\"id\":\"2636\",\"type\":\"Toolbar\"},{\"attributes\":{},\"id\":\"2745\",\"type\":\"BasicTickFormatter\"},{\"attributes\":{},\"id\":\"2651\",\"type\":\"LinearScale\"},{\"attributes\":{\"axis\":{\"id\":\"2655\"},\"ticker\":null},\"id\":\"2658\",\"type\":\"Grid\"},{\"attributes\":{\"data_source\":{\"id\":\"2664\"},\"glyph\":{\"id\":\"2665\"},\"hover_glyph\":null,\"muted_glyph\":null,\"nonselection_glyph\":{\"id\":\"2666\"},\"selection_glyph\":null,\"view\":{\"id\":\"2668\"}},\"id\":\"2667\",\"type\":\"GlyphRenderer\"},{\"attributes\":{\"align\":\"center\",\"text\":\"Leaky ReLU (Derivative)\",\"text_font_size\":{\"value\":\"16pt\"}},\"id\":\"2645\",\"type\":\"Title\"},{\"attributes\":{},\"id\":\"2656\",\"type\":\"BasicTicker\"},{\"attributes\":{\"line_color\":\"mediumvioletred\",\"line_width\":5,\"x\":{\"field\":\"x\"},\"y\":{\"field\":\"y\"}},\"id\":\"2665\",\"type\":\"Line\"},{\"attributes\":{\"below\":[{\"id\":\"2655\"}],\"center\":[{\"id\":\"2658\"},{\"id\":\"2662\"}],\"left\":[{\"id\":\"2659\"}],\"renderers\":[{\"id\":\"2667\"}],\"title\":{\"id\":\"2645\"},\"toolbar\":{\"id\":\"2663\"},\"x_range\":{\"id\":\"2669\"},\"x_scale\":{\"id\":\"2651\"},\"y_range\":{\"id\":\"2670\"},\"y_scale\":{\"id\":\"2653\"}},\"id\":\"2644\",\"subtype\":\"Figure\",\"type\":\"Plot\"},{\"attributes\":{},\"id\":\"2660\",\"type\":\"BasicTicker\"},{\"attributes\":{},\"id\":\"2755\",\"type\":\"UnionRenderers\"},{\"attributes\":{\"axis\":{\"id\":\"2632\"},\"dimension\":1,\"ticker\":null},\"id\":\"2635\",\"type\":\"Grid\"},{\"attributes\":{\"axis_label\":\"gradient(X)\",\"axis_label_text_font_size\":\"16pt\",\"formatter\":{\"id\":\"2751\"},\"ticker\":{\"id\":\"2660\"}},\"id\":\"2659\",\"type\":\"LinearAxis\"},{\"attributes\":{\"axis_label\":\"X\",\"axis_label_text_font_size\":\"16pt\",\"formatter\":{\"id\":\"2745\"},\"ticker\":{\"id\":\"2629\"}},\"id\":\"2628\",\"type\":\"LinearAxis\"},{\"attributes\":{},\"id\":\"2753\",\"type\":\"UnionRenderers\"},{\"attributes\":{\"data_source\":{\"id\":\"2637\"},\"glyph\":{\"id\":\"2638\"},\"hover_glyph\":null,\"muted_glyph\":null,\"nonselection_glyph\":{\"id\":\"2639\"},\"selection_glyph\":null,\"view\":{\"id\":\"2641\"}},\"id\":\"2640\",\"type\":\"GlyphRenderer\"},{\"attributes\":{\"end\":10.0,\"start\":-10.0},\"id\":\"2669\",\"type\":\"Range1d\"},{\"attributes\":{\"align\":\"center\",\"text\":\"Leaky ReLU\",\"text_font_size\":{\"value\":\"16pt\"}},\"id\":\"2618\",\"type\":\"Title\"},{\"attributes\":{\"axis_label\":\"f(X)\",\"axis_label_text_font_size\":\"16pt\",\"formatter\":{\"id\":\"2747\"},\"ticker\":{\"id\":\"2633\"}},\"id\":\"2632\",\"type\":\"LinearAxis\"},{\"attributes\":{\"line_color\":\"mediumvioletred\",\"line_width\":5,\"x\":{\"field\":\"x\"},\"y\":{\"field\":\"y\"}},\"id\":\"2638\",\"type\":\"Line\"},{\"attributes\":{\"axis\":{\"id\":\"2659\"},\"dimension\":1,\"ticker\":null},\"id\":\"2662\",\"type\":\"Grid\"},{\"attributes\":{},\"id\":\"2633\",\"type\":\"BasicTicker\"},{\"attributes\":{\"line_alpha\":0.1,\"line_color\":\"mediumvioletred\",\"line_width\":5,\"x\":{\"field\":\"x\"},\"y\":{\"field\":\"y\"}},\"id\":\"2639\",\"type\":\"Line\"}],\"root_ids\":[\"2671\"]},\"title\":\"Bokeh Application\",\"version\":\"2.2.3\"}};\n",
       "  var render_items = [{\"docid\":\"a07401da-6246-4bbb-843a-6f496cae77b4\",\"root_ids\":[\"2671\"],\"roots\":{\"2671\":\"8c346b38-e44c-47ef-b3fb-8fc41fa53b2b\"}}];\n",
       "  root.Bokeh.embed.embed_items_notebook(docs_json, render_items);\n",
       "\n",
       "  }\n",
       "  if (root.Bokeh !== undefined) {\n",
       "    embed_document(root);\n",
       "  } else {\n",
       "    var attempts = 0;\n",
       "    var timer = setInterval(function(root) {\n",
       "      if (root.Bokeh !== undefined) {\n",
       "        clearInterval(timer);\n",
       "        embed_document(root);\n",
       "      } else {\n",
       "        attempts++;\n",
       "        if (attempts > 100) {\n",
       "          clearInterval(timer);\n",
       "          console.log(\"Bokeh: ERROR: Unable to run BokehJS code because BokehJS library is missing\");\n",
       "        }\n",
       "      }\n",
       "    }, 10, root)\n",
       "  }\n",
       "})(window);"
      ],
      "application/vnd.bokehjs_exec.v0+json": ""
     },
     "metadata": {
      "application/vnd.bokehjs_exec.v0+json": {
       "id": "2671"
      }
     },
     "output_type": "display_data"
    }
   ],
   "source": [
    "with tf.GradientTape() as g:\n",
    "    y = activations.relu(X, alpha=0.2)\n",
    "gradient = g.gradient(y, X)\n",
    "visualize('Leaky ReLU', X, y, gradient, color='mediumvioletred', ymin=-10)"
   ]
  },
  {
   "cell_type": "markdown",
   "metadata": {},
   "source": [
    "## Exponential Linear Unit (ELU)\n",
    "* Equation\n",
    "\\begin{align}f(x)=\\begin{cases}x\\;\\;\\;\\;\\;\\;\\;\\;\\;&\\text{if }x > 0\\\\a(\\exp(x)-1) &\\text{otherwise}\\end{cases}\\end{align}where $a$ is a predetermined hyper parameter (default in Tensorflow: $1$).\n",
    "* Derivative\n",
    "\\begin{align}\\frac{\\partial f(x)}{\\partial x}=\\begin{cases}1\\;&\\text{if }x > 0\\\\a\\exp(x)&\\text{otherwise}\\end{cases}\\end{align}\n",
    "* Parameters\n",
    "    * $a$ is a coefficient of exponential transformation on negative values (default in Tensorflow: $1$)\n",
    "* Properties:\n",
    "    * $f(x)\\to-a$ when $x \\to -\\infty$.\n",
    "    * Converge faster than Leaky ReLU.\n",
    "    * Might cause gradient exploding problem when the gradient of the linear combination before applying ELU is large.\n",
    "    * Alleviate gradient vanishing problem.\n",
    "    * Alleviate the dying ReLU problem."
   ]
  },
  {
   "cell_type": "code",
   "execution_count": 13,
   "metadata": {},
   "outputs": [
    {
     "data": {
      "text/html": [
       "\n",
       "\n",
       "\n",
       "\n",
       "\n",
       "\n",
       "  <div class=\"bk-root\" id=\"425d69a3-9574-490b-a01b-91b6bbd90852\" data-root-id=\"3036\"></div>\n"
      ]
     },
     "metadata": {},
     "output_type": "display_data"
    },
    {
     "data": {
      "application/javascript": [
       "(function(root) {\n",
       "  function embed_document(root) {\n",
       "    \n",
       "  var docs_json = {\"8f182861-bdab-41d3-9093-317d576a1d9b\":{\"roots\":{\"references\":[{\"attributes\":{\"children\":[{\"id\":\"2982\"},{\"id\":\"3009\"}]},\"id\":\"3036\",\"type\":\"Row\"},{\"attributes\":{\"axis_label\":\"gradient(X)\",\"axis_label_text_font_size\":\"16pt\",\"formatter\":{\"id\":\"3130\"},\"ticker\":{\"id\":\"3025\"}},\"id\":\"3024\",\"type\":\"LinearAxis\"},{\"attributes\":{},\"id\":\"3018\",\"type\":\"LinearScale\"},{\"attributes\":{\"axis\":{\"id\":\"3020\"},\"ticker\":null},\"id\":\"3023\",\"type\":\"Grid\"},{\"attributes\":{\"line_alpha\":0.1,\"line_color\":\"violet\",\"line_width\":5,\"x\":{\"field\":\"x\"},\"y\":{\"field\":\"y\"}},\"id\":\"3031\",\"type\":\"Line\"},{\"attributes\":{\"active_drag\":\"auto\",\"active_inspect\":\"auto\",\"active_multi\":null,\"active_scroll\":\"auto\",\"active_tap\":\"auto\"},\"id\":\"3001\",\"type\":\"Toolbar\"},{\"attributes\":{},\"id\":\"3021\",\"type\":\"BasicTicker\"},{\"attributes\":{\"end\":10.0,\"start\":-10.0},\"id\":\"3007\",\"type\":\"Range1d\"},{\"attributes\":{\"data\":{\"x\":{\"__ndarray__\":\"AAAgwYbEHMENiRnBk00WwRoSE8Gg1g/BJ5sMwa1fCcE0JAbBuugCwYJa/8CO4/jAm2zywKj168C1fuXAwgffwM+Q2MDcGdLA6aLLwPYrxcADtb7AED64wB3HscAqUKvANtmkwENinsBQ65fAXXSRwGr9isB3hoTACB98wCIxb8A8Q2LAVlVVwHBnSMCKeTvApIsuwL6dIcDYrxTA8sEHwBio9b9IzNu/gPDBv7AUqL/oOI6/MLpov6ACNb8ASwG/wCabvoDezr2A3s49wCabPgBLAT+QAjU/MLpoP+A4jj+wFKg/ePDBP0jM2z8QqPU/8MEHQNSvFEC8nSFAoIsuQIh5O0BwZ0hAVFVVQDxDYkAgMW9ACB98QHaGhEBq/YpAXHSRQFDrl0BCYp5ANtmkQChQq0Acx7FADj64QAK1vkD0K8VA6KLLQNwZ0kDQkNhAwAffQLR+5UCo9etAnGzyQIzj+ECAWv9AuugCQTQkBkGsXwlBJpsMQaDWD0EaEhNBlE0WQQyJGUGGxBxBAAAgQQ==\",\"dtype\":\"float32\",\"order\":\"little\",\"shape\":[100]},\"y\":{\"__ndarray__\":\"Bv1/v1z8f7+L+3+/jPp/v1P5f7/V93+/APZ/v8Pzf78G8X+/rO1/v5Hpf7+L5H+/Zt5/v+DWf7+rzX+/ZsJ/v5y0f7+7o3+/E49/v8x1f7/bVn+//TB/v6UCf7/syX6/gYR+v4wvfr+Sx32/UEh9v5GsfL/07Xu/qwR7vyjneb+6iXi/Et52v6zSdL8ZUnK/HkJvv6CCa79U7Ga/JE9hvzRwWr98B1K/17xHv1wkO78Fuiu/LtwYvxrFAb9UBcu+PtmFvqjDxL2A3s49wCabPgBLAT+QAjU/MLpoP+A4jj+wFKg/ePDBP0jM2z8QqPU/8MEHQNSvFEC8nSFAoIsuQIh5O0BwZ0hAVFVVQDxDYkAgMW9ACB98QHaGhEBq/YpAXHSRQFDrl0BCYp5ANtmkQChQq0Acx7FADj64QAK1vkD0K8VA6KLLQNwZ0kDQkNhAwAffQLR+5UCo9etAnGzyQIzj+ECAWv9AuugCQTQkBkGsXwlBJpsMQaDWD0EaEhNBlE0WQQyJGUGGxBxBAAAgQQ==\",\"dtype\":\"float32\",\"order\":\"little\",\"shape\":[100]}},\"selected\":{\"id\":\"3131\"},\"selection_policy\":{\"id\":\"3132\"}},\"id\":\"3002\",\"type\":\"ColumnDataSource\"},{\"attributes\":{},\"id\":\"2989\",\"type\":\"LinearScale\"},{\"attributes\":{\"source\":{\"id\":\"3002\"}},\"id\":\"3006\",\"type\":\"CDSView\"},{\"attributes\":{\"line_color\":\"violet\",\"line_width\":5,\"x\":{\"field\":\"x\"},\"y\":{\"field\":\"y\"}},\"id\":\"3030\",\"type\":\"Line\"},{\"attributes\":{\"axis\":{\"id\":\"3024\"},\"dimension\":1,\"ticker\":null},\"id\":\"3027\",\"type\":\"Grid\"},{\"attributes\":{},\"id\":\"3131\",\"type\":\"Selection\"},{\"attributes\":{\"below\":[{\"id\":\"2993\"}],\"center\":[{\"id\":\"2996\"},{\"id\":\"3000\"}],\"left\":[{\"id\":\"2997\"}],\"renderers\":[{\"id\":\"3005\"}],\"title\":{\"id\":\"2983\"},\"toolbar\":{\"id\":\"3001\"},\"x_range\":{\"id\":\"3007\"},\"x_scale\":{\"id\":\"2989\"},\"y_range\":{\"id\":\"3008\"},\"y_scale\":{\"id\":\"2991\"}},\"id\":\"2982\",\"subtype\":\"Figure\",\"type\":\"Plot\"},{\"attributes\":{\"source\":{\"id\":\"3029\"}},\"id\":\"3033\",\"type\":\"CDSView\"},{\"attributes\":{},\"id\":\"3133\",\"type\":\"Selection\"},{\"attributes\":{\"end\":10.0,\"start\":-10.0},\"id\":\"3034\",\"type\":\"Range1d\"},{\"attributes\":{},\"id\":\"2994\",\"type\":\"BasicTicker\"},{\"attributes\":{},\"id\":\"2998\",\"type\":\"BasicTicker\"},{\"attributes\":{},\"id\":\"3126\",\"type\":\"BasicTickFormatter\"},{\"attributes\":{\"line_alpha\":0.1,\"line_color\":\"violet\",\"line_width\":5,\"x\":{\"field\":\"x\"},\"y\":{\"field\":\"y\"}},\"id\":\"3004\",\"type\":\"Line\"},{\"attributes\":{},\"id\":\"3025\",\"type\":\"BasicTicker\"},{\"attributes\":{\"align\":\"center\",\"text\":\"ELU\",\"text_font_size\":{\"value\":\"16pt\"}},\"id\":\"2983\",\"type\":\"Title\"},{\"attributes\":{},\"id\":\"3128\",\"type\":\"BasicTickFormatter\"},{\"attributes\":{\"axis_label\":\"X\",\"axis_label_text_font_size\":\"16pt\",\"formatter\":{\"id\":\"3128\"},\"ticker\":{\"id\":\"3021\"}},\"id\":\"3020\",\"type\":\"LinearAxis\"},{\"attributes\":{\"axis_label\":\"f(X)\",\"axis_label_text_font_size\":\"16pt\",\"formatter\":{\"id\":\"3126\"},\"ticker\":{\"id\":\"2998\"}},\"id\":\"2997\",\"type\":\"LinearAxis\"},{\"attributes\":{},\"id\":\"3124\",\"type\":\"BasicTickFormatter\"},{\"attributes\":{},\"id\":\"3134\",\"type\":\"UnionRenderers\"},{\"attributes\":{},\"id\":\"3016\",\"type\":\"LinearScale\"},{\"attributes\":{\"axis\":{\"id\":\"2993\"},\"ticker\":null},\"id\":\"2996\",\"type\":\"Grid\"},{\"attributes\":{\"data\":{\"x\":{\"__ndarray__\":\"AAAgwYbEHMENiRnBk00WwRoSE8Gg1g/BJ5sMwa1fCcE0JAbBuugCwYJa/8CO4/jAm2zywKj168C1fuXAwgffwM+Q2MDcGdLA6aLLwPYrxcADtb7AED64wB3HscAqUKvANtmkwENinsBQ65fAXXSRwGr9isB3hoTACB98wCIxb8A8Q2LAVlVVwHBnSMCKeTvApIsuwL6dIcDYrxTA8sEHwBio9b9IzNu/gPDBv7AUqL/oOI6/MLpov6ACNb8ASwG/wCabvoDezr2A3s49wCabPgBLAT+QAjU/MLpoP+A4jj+wFKg/ePDBP0jM2z8QqPU/8MEHQNSvFEC8nSFAoIsuQIh5O0BwZ0hAVFVVQDxDYkAgMW9ACB98QHaGhEBq/YpAXHSRQFDrl0BCYp5ANtmkQChQq0Acx7FADj64QAK1vkD0K8VA6KLLQNwZ0kDQkNhAwAffQLR+5UCo9etAnGzyQIzj+ECAWv9AuugCQTQkBkGsXwlBJpsMQaDWD0EaEhNBlE0WQQyJGUGGxBxBAAAgQQ==\",\"dtype\":\"float32\",\"order\":\"little\",\"shape\":[100]},\"y\":{\"__ndarray__\":\"AIA+OAAAaTgAoI44AICuOACg1TgAsAI5AAAgOQDQQzkAoG85AKCSOQB4szkAqNs5AGgGOgCAJDoAVEk6AGh2OgDIljoAirg6ANrhOgA0CjsAJSk7AANPOwBbfTsACps7gL+9OwA66DuAGw48AOwtPMDbVDyAQYI8oGqfPAAbwzzAyO484B4SPUDVMj1w3lo9EO+FPQDroz1gncg94Ib1PTA/Fj4Q4jc+pAxhPki3iT72i6g+pEfOPsx1/D5WfRo/YRM9P4tnZz8AAIA/AACAPwAAgD8AAIA/AACAPwAAgD8AAIA/AACAPwAAgD8AAIA/AACAPwAAgD8AAIA/AACAPwAAgD8AAIA/AACAPwAAgD8AAIA/AACAPwAAgD8AAIA/AACAPwAAgD8AAIA/AACAPwAAgD8AAIA/AACAPwAAgD8AAIA/AACAPwAAgD8AAIA/AACAPwAAgD8AAIA/AACAPwAAgD8AAIA/AACAPwAAgD8AAIA/AACAPwAAgD8AAIA/AACAPwAAgD8AAIA/AACAPw==\",\"dtype\":\"float32\",\"order\":\"little\",\"shape\":[100]}},\"selected\":{\"id\":\"3133\"},\"selection_policy\":{\"id\":\"3134\"}},\"id\":\"3029\",\"type\":\"ColumnDataSource\"},{\"attributes\":{\"active_drag\":\"auto\",\"active_inspect\":\"auto\",\"active_multi\":null,\"active_scroll\":\"auto\",\"active_tap\":\"auto\"},\"id\":\"3028\",\"type\":\"Toolbar\"},{\"attributes\":{},\"id\":\"2991\",\"type\":\"LinearScale\"},{\"attributes\":{\"end\":10.0,\"start\":-10},\"id\":\"3008\",\"type\":\"Range1d\"},{\"attributes\":{\"line_color\":\"violet\",\"line_width\":5,\"x\":{\"field\":\"x\"},\"y\":{\"field\":\"y\"}},\"id\":\"3003\",\"type\":\"Line\"},{\"attributes\":{},\"id\":\"3132\",\"type\":\"UnionRenderers\"},{\"attributes\":{},\"id\":\"3130\",\"type\":\"BasicTickFormatter\"},{\"attributes\":{\"below\":[{\"id\":\"3020\"}],\"center\":[{\"id\":\"3023\"},{\"id\":\"3027\"}],\"left\":[{\"id\":\"3024\"}],\"renderers\":[{\"id\":\"3032\"}],\"title\":{\"id\":\"3010\"},\"toolbar\":{\"id\":\"3028\"},\"x_range\":{\"id\":\"3034\"},\"x_scale\":{\"id\":\"3016\"},\"y_range\":{\"id\":\"3035\"},\"y_scale\":{\"id\":\"3018\"}},\"id\":\"3009\",\"subtype\":\"Figure\",\"type\":\"Plot\"},{\"attributes\":{\"axis_label\":\"X\",\"axis_label_text_font_size\":\"16pt\",\"formatter\":{\"id\":\"3124\"},\"ticker\":{\"id\":\"2994\"}},\"id\":\"2993\",\"type\":\"LinearAxis\"},{\"attributes\":{\"end\":1.25,\"start\":-1.25},\"id\":\"3035\",\"type\":\"Range1d\"},{\"attributes\":{\"data_source\":{\"id\":\"3029\"},\"glyph\":{\"id\":\"3030\"},\"hover_glyph\":null,\"muted_glyph\":null,\"nonselection_glyph\":{\"id\":\"3031\"},\"selection_glyph\":null,\"view\":{\"id\":\"3033\"}},\"id\":\"3032\",\"type\":\"GlyphRenderer\"},{\"attributes\":{\"data_source\":{\"id\":\"3002\"},\"glyph\":{\"id\":\"3003\"},\"hover_glyph\":null,\"muted_glyph\":null,\"nonselection_glyph\":{\"id\":\"3004\"},\"selection_glyph\":null,\"view\":{\"id\":\"3006\"}},\"id\":\"3005\",\"type\":\"GlyphRenderer\"},{\"attributes\":{\"axis\":{\"id\":\"2997\"},\"dimension\":1,\"ticker\":null},\"id\":\"3000\",\"type\":\"Grid\"},{\"attributes\":{\"align\":\"center\",\"text\":\"ELU (Derivative)\",\"text_font_size\":{\"value\":\"16pt\"}},\"id\":\"3010\",\"type\":\"Title\"}],\"root_ids\":[\"3036\"]},\"title\":\"Bokeh Application\",\"version\":\"2.2.3\"}};\n",
       "  var render_items = [{\"docid\":\"8f182861-bdab-41d3-9093-317d576a1d9b\",\"root_ids\":[\"3036\"],\"roots\":{\"3036\":\"425d69a3-9574-490b-a01b-91b6bbd90852\"}}];\n",
       "  root.Bokeh.embed.embed_items_notebook(docs_json, render_items);\n",
       "\n",
       "  }\n",
       "  if (root.Bokeh !== undefined) {\n",
       "    embed_document(root);\n",
       "  } else {\n",
       "    var attempts = 0;\n",
       "    var timer = setInterval(function(root) {\n",
       "      if (root.Bokeh !== undefined) {\n",
       "        clearInterval(timer);\n",
       "        embed_document(root);\n",
       "      } else {\n",
       "        attempts++;\n",
       "        if (attempts > 100) {\n",
       "          clearInterval(timer);\n",
       "          console.log(\"Bokeh: ERROR: Unable to run BokehJS code because BokehJS library is missing\");\n",
       "        }\n",
       "      }\n",
       "    }, 10, root)\n",
       "  }\n",
       "})(window);"
      ],
      "application/vnd.bokehjs_exec.v0+json": ""
     },
     "metadata": {
      "application/vnd.bokehjs_exec.v0+json": {
       "id": "3036"
      }
     },
     "output_type": "display_data"
    }
   ],
   "source": [
    "with tf.GradientTape() as g:\n",
    "    y = activations.elu(X)\n",
    "gradient = g.gradient(y, X)\n",
    "visualize('ELU', X, y, gradient, color='violet', ymin=-10)"
   ]
  },
  {
   "cell_type": "markdown",
   "metadata": {},
   "source": [
    "## Swish\n",
    "* Equation\n",
    "$$f(x)=\\frac{x}{1+\\exp(-x)}$$\n",
    "* Derivative\n",
    "$$\\frac{\\partial f(x)}{\\partial x}=f(x)+\\sigma(x)(1-f(x))$$\n",
    "* Properties:\n",
    "    * Generally outperform ReLU with similar computational cost in many image related applications.\n",
    "    * Might cause gradient exploding problem when the gradient of the linear combination before applying Swish is large.\n",
    "    * Alleviate gradient vanishing problem.\n",
    "    * Alleviate the dying ReLU problem."
   ]
  },
  {
   "cell_type": "code",
   "execution_count": null,
   "metadata": {},
   "outputs": [],
   "source": [
    "with tf.GradientTape() as g:\n",
    "    y = X * activations.sigmoid(X)\n",
    "gradient = g.gradient(y, X)\n",
    "visualize('Swish', X, y, gradient, color='limegreen', ymin=-10, ymax=10)"
   ]
  },
  {
   "cell_type": "markdown",
   "metadata": {},
   "source": [
    "### Softmax\n",
    "* Equation\n",
    "\\begin{align}\\mathbf{\\hat{y}}=\\text{softmax}(\\mathbf{x})=\\frac{\\exp(\\mathbf{x})}{\\sum\\limits_{i=1}^{n} \\exp(x_i)}=\\begin{bmatrix}\n",
    "    \\frac{\\exp(x_1)}{\\sum\\limits_{i=1}^{n} \\exp(x_i)} \\\\\n",
    "    \\frac{\\exp(x_2)}{\\sum\\limits_{i=1}^{n} \\exp(x_i)} \\\\\n",
    "    \\vdots\\\\ \n",
    "    \\frac{\\exp(x_n)}{\\sum\\limits_{i=1}^{n} \\exp(x_i)} \\\\\n",
    "\\end{bmatrix}\\end{align}\n",
    "where $\\mathbf{x}=[x_i] \\in \\mathbb{R}^n$\n",
    "\n",
    "* [Derivative](https://eli.thegreenplace.net/2016/the-softmax-function-and-its-derivative/)\n",
    "$$\n",
    "\\frac{\\partial\\mathbf{\\hat{y}}}{\\partial\\mathbf{x}}=\\begin{bmatrix}\n",
    "    \\frac{\\partial\\hat{y}_1}{\\partial x_1} & \\frac{\\partial\\hat{y}_1}{\\partial x_2} & \\cdots & \\frac{\\partial\\hat{y}_1}{\\partial x_n} \\\\\n",
    "    \\frac{\\partial\\hat{y}_2}{\\partial x_1} & \\frac{\\partial\\hat{y}_2}{\\partial x_2} & \\cdots & \\frac{\\partial\\hat{y}_2}{\\partial x_n} \\\\\n",
    "    \\vdots & \\vdots & \\ddots & \\vdots \\\\ \n",
    "    \\frac{\\partial\\hat{y}_n}{\\partial x_1} & \\frac{\\partial\\hat{y}_n}{\\partial x_2} & \\cdots & \\frac{\\partial\\hat{y}_n}{\\partial x_n}\n",
    "\\end{bmatrix} = \\begin{bmatrix}\n",
    "    \\hat{y}_1(1-\\hat{y}_1) & \\hat{y}_1(0-\\hat{y}_2) & \\cdots & \\hat{y}_1(0-\\hat{y}_n) \\\\\n",
    "    \\hat{y}_2(0-\\hat{y}_1) & \\hat{y}_2(1-\\hat{y}_2) & \\cdots & \\hat{y}_2(0-\\hat{y}_n) \\\\\n",
    "    \\vdots & \\vdots & \\ddots & \\vdots \\\\ \n",
    "    \\hat{y}_n(0-\\hat{y}_1) & \\hat{y}_n(0-\\hat{y}_2) & \\cdots & \\hat{y}_n(1-\\hat{y}_n) \n",
    "\\end{bmatrix} = \\mathbf{1}\\hat{y}^T\\otimes(\\mathbf{I}-\\hat{y}\\mathbf{1}^T)\n",
    "$$\n",
    "where $\\mathbf{1} = \\{1\\}^n$\n",
    "* Properties:\n",
    "    * Note that the input for softmax shoud be a __vector__ instead of a scalar.\n",
    "    * Similar to sigmoid funciton, the range of softmax function is $0$ to $1$ (bounded range); therefore, it is also commonly used when we want to model __probability__. \n",
    "    * In multi-class classification, softmax is preferable over sigmoid when we assume that __a sample can only belong to one class__.\n",
    "* Range: $0$ to $1$"
   ]
  },
  {
   "cell_type": "code",
   "execution_count": 21,
   "metadata": {},
   "outputs": [
    {
     "data": {
      "text/html": [
       "\n",
       "\n",
       "\n",
       "\n",
       "\n",
       "\n",
       "  <div class=\"bk-root\" id=\"33a4914a-2332-4079-9704-42597334f5d3\" data-root-id=\"8290\"></div>\n"
      ]
     },
     "metadata": {},
     "output_type": "display_data"
    },
    {
     "data": {
      "application/javascript": [
       "(function(root) {\n",
       "  function embed_document(root) {\n",
       "    \n",
       "  var docs_json = {\"77a1a87e-7381-43c9-8315-9bc0047d2ffa\":{\"roots\":{\"references\":[{\"attributes\":{\"children\":[{\"id\":\"8287\"},{\"id\":\"8288\"},{\"id\":\"8289\"}]},\"id\":\"8290\",\"type\":\"Column\"},{\"attributes\":{\"axis\":{\"id\":\"8167\"},\"dimension\":1,\"ticker\":null},\"id\":\"8170\",\"type\":\"Grid\"},{\"attributes\":{},\"id\":\"8795\",\"type\":\"BasicTicker\"},{\"attributes\":{},\"id\":\"8796\",\"type\":\"BasicTickFormatter\"},{\"attributes\":{},\"id\":\"8776\",\"type\":\"BasicTickFormatter\"},{\"attributes\":{\"high\":0.25,\"low\":-0.25,\"palette\":[\"#000003\",\"#000004\",\"#000006\",\"#010007\",\"#010109\",\"#01010B\",\"#02020D\",\"#02020F\",\"#030311\",\"#040313\",\"#040415\",\"#050417\",\"#060519\",\"#07051B\",\"#08061D\",\"#09071F\",\"#0A0722\",\"#0B0824\",\"#0C0926\",\"#0D0A28\",\"#0E0A2A\",\"#0F0B2C\",\"#100C2F\",\"#110C31\",\"#120D33\",\"#140D35\",\"#150E38\",\"#160E3A\",\"#170F3C\",\"#180F3F\",\"#1A1041\",\"#1B1044\",\"#1C1046\",\"#1E1049\",\"#1F114B\",\"#20114D\",\"#221150\",\"#231152\",\"#251155\",\"#261157\",\"#281159\",\"#2A115C\",\"#2B115E\",\"#2D1060\",\"#2F1062\",\"#301065\",\"#321067\",\"#341068\",\"#350F6A\",\"#370F6C\",\"#390F6E\",\"#3B0F6F\",\"#3C0F71\",\"#3E0F72\",\"#400F73\",\"#420F74\",\"#430F75\",\"#450F76\",\"#470F77\",\"#481078\",\"#4A1079\",\"#4B1079\",\"#4D117A\",\"#4F117B\",\"#50127B\",\"#52127C\",\"#53137C\",\"#55137D\",\"#57147D\",\"#58157E\",\"#5A157E\",\"#5B167E\",\"#5D177E\",\"#5E177F\",\"#60187F\",\"#61187F\",\"#63197F\",\"#651A80\",\"#661A80\",\"#681B80\",\"#691C80\",\"#6B1C80\",\"#6C1D80\",\"#6E1E81\",\"#6F1E81\",\"#711F81\",\"#731F81\",\"#742081\",\"#762181\",\"#772181\",\"#792281\",\"#7A2281\",\"#7C2381\",\"#7E2481\",\"#7F2481\",\"#812581\",\"#822581\",\"#842681\",\"#852681\",\"#872781\",\"#892881\",\"#8A2881\",\"#8C2980\",\"#8D2980\",\"#8F2A80\",\"#912A80\",\"#922B80\",\"#942B80\",\"#952C80\",\"#972C7F\",\"#992D7F\",\"#9A2D7F\",\"#9C2E7F\",\"#9E2E7E\",\"#9F2F7E\",\"#A12F7E\",\"#A3307E\",\"#A4307D\",\"#A6317D\",\"#A7317D\",\"#A9327C\",\"#AB337C\",\"#AC337B\",\"#AE347B\",\"#B0347B\",\"#B1357A\",\"#B3357A\",\"#B53679\",\"#B63679\",\"#B83778\",\"#B93778\",\"#BB3877\",\"#BD3977\",\"#BE3976\",\"#C03A75\",\"#C23A75\",\"#C33B74\",\"#C53C74\",\"#C63C73\",\"#C83D72\",\"#CA3E72\",\"#CB3E71\",\"#CD3F70\",\"#CE4070\",\"#D0416F\",\"#D1426E\",\"#D3426D\",\"#D4436D\",\"#D6446C\",\"#D7456B\",\"#D9466A\",\"#DA4769\",\"#DC4869\",\"#DD4968\",\"#DE4A67\",\"#E04B66\",\"#E14C66\",\"#E24D65\",\"#E44E64\",\"#E55063\",\"#E65162\",\"#E75262\",\"#E85461\",\"#EA5560\",\"#EB5660\",\"#EC585F\",\"#ED595F\",\"#EE5B5E\",\"#EE5D5D\",\"#EF5E5D\",\"#F0605D\",\"#F1615C\",\"#F2635C\",\"#F3655C\",\"#F3675B\",\"#F4685B\",\"#F56A5B\",\"#F56C5B\",\"#F66E5B\",\"#F6705B\",\"#F7715B\",\"#F7735C\",\"#F8755C\",\"#F8775C\",\"#F9795C\",\"#F97B5D\",\"#F97D5D\",\"#FA7F5E\",\"#FA805E\",\"#FA825F\",\"#FB8460\",\"#FB8660\",\"#FB8861\",\"#FB8A62\",\"#FC8C63\",\"#FC8E63\",\"#FC9064\",\"#FC9265\",\"#FC9366\",\"#FD9567\",\"#FD9768\",\"#FD9969\",\"#FD9B6A\",\"#FD9D6B\",\"#FD9F6C\",\"#FDA16E\",\"#FDA26F\",\"#FDA470\",\"#FEA671\",\"#FEA873\",\"#FEAA74\",\"#FEAC75\",\"#FEAE76\",\"#FEAF78\",\"#FEB179\",\"#FEB37B\",\"#FEB57C\",\"#FEB77D\",\"#FEB97F\",\"#FEBB80\",\"#FEBC82\",\"#FEBE83\",\"#FEC085\",\"#FEC286\",\"#FEC488\",\"#FEC689\",\"#FEC78B\",\"#FEC98D\",\"#FECB8E\",\"#FDCD90\",\"#FDCF92\",\"#FDD193\",\"#FDD295\",\"#FDD497\",\"#FDD698\",\"#FDD89A\",\"#FDDA9C\",\"#FDDC9D\",\"#FDDD9F\",\"#FDDFA1\",\"#FDE1A3\",\"#FCE3A5\",\"#FCE5A6\",\"#FCE6A8\",\"#FCE8AA\",\"#FCEAAC\",\"#FCECAE\",\"#FCEEB0\",\"#FCF0B1\",\"#FCF1B3\",\"#FCF3B5\",\"#FCF5B7\",\"#FBF7B9\",\"#FBF9BB\",\"#FBFABD\",\"#FBFCBF\"]},\"id\":\"8226\",\"type\":\"LinearColorMapper\"},{\"attributes\":{\"active_drag\":\"auto\",\"active_inspect\":\"auto\",\"active_multi\":null,\"active_scroll\":\"auto\",\"active_tap\":\"auto\"},\"id\":\"8144\",\"type\":\"Toolbar\"},{\"attributes\":{},\"id\":\"8786\",\"type\":\"BasicTickFormatter\"},{\"attributes\":{},\"id\":\"8195\",\"type\":\"BasicTicker\"},{\"attributes\":{},\"id\":\"8794\",\"type\":\"BasicTickFormatter\"},{\"attributes\":{},\"id\":\"8132\",\"type\":\"LinearScale\"},{\"attributes\":{\"data\":{\"image\":[{\"__ndarray__\":\"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\",\"dtype\":\"float32\",\"order\":\"little\",\"shape\":[50,50]}]},\"selected\":{\"id\":\"8815\"},\"selection_policy\":{\"id\":\"8816\"}},\"id\":\"8228\",\"type\":\"ColumnDataSource\"},{\"attributes\":{},\"id\":\"8810\",\"type\":\"UnionRenderers\"},{\"attributes\":{},\"id\":\"8784\",\"type\":\"BasicTickFormatter\"},{\"attributes\":{\"start\":-1},\"id\":\"8182\",\"type\":\"Range1d\"},{\"attributes\":{\"color_mapper\":{\"id\":\"8226\"},\"formatter\":{\"id\":\"8796\"},\"label_standoff\":8,\"location\":[0,0],\"scale_alpha\":0.5,\"ticker\":{\"id\":\"8795\"}},\"id\":\"8227\",\"type\":\"ColorBar\"},{\"attributes\":{},\"id\":\"8809\",\"type\":\"Selection\"},{\"attributes\":{\"axis\":{\"id\":\"8140\"},\"dimension\":1,\"ticker\":null},\"id\":\"8143\",\"type\":\"Grid\"},{\"attributes\":{},\"id\":\"8780\",\"type\":\"BasicTickFormatter\"},{\"attributes\":{\"start\":-1},\"id\":\"8209\",\"type\":\"Range1d\"},{\"attributes\":{},\"id\":\"8164\",\"type\":\"BasicTicker\"},{\"attributes\":{\"color_mapper\":{\"id\":\"8226\"},\"dh\":{\"units\":\"data\",\"value\":2},\"dw\":{\"units\":\"data\",\"value\":2},\"global_alpha\":0.5,\"image\":{\"field\":\"image\"},\"x\":{\"value\":-1},\"y\":{\"value\":-1}},\"id\":\"8229\",\"type\":\"Image\"},{\"attributes\":{},\"id\":\"8808\",\"type\":\"BasicTickFormatter\"},{\"attributes\":{\"text\":\"Softmax y1\"},\"id\":\"8126\",\"type\":\"Title\"},{\"attributes\":{\"color_mapper\":{\"id\":\"8172\"},\"formatter\":{\"id\":\"8784\"},\"label_standoff\":8,\"location\":[0,0],\"scale_alpha\":0.5,\"ticker\":{\"id\":\"8783\"}},\"id\":\"8173\",\"type\":\"ColorBar\"},{\"attributes\":{},\"id\":\"8806\",\"type\":\"BasicTickFormatter\"},{\"attributes\":{\"data_source\":{\"id\":\"8282\"},\"glyph\":{\"id\":\"8283\"},\"hover_glyph\":null,\"muted_glyph\":null,\"name\":\"y1\",\"nonselection_glyph\":{\"id\":\"8284\"},\"selection_glyph\":null,\"view\":{\"id\":\"8286\"}},\"id\":\"8285\",\"type\":\"GlyphRenderer\"},{\"attributes\":{\"color_mapper\":{\"id\":\"8280\"},\"dh\":{\"units\":\"data\",\"value\":2},\"dw\":{\"units\":\"data\",\"value\":2},\"global_alpha\":0.1,\"image\":{\"field\":\"image\"},\"x\":{\"value\":-1},\"y\":{\"value\":-1}},\"id\":\"8284\",\"type\":\"Image\"},{\"attributes\":{\"text\":\"Softmax y1 derivative with respect to X1\"},\"id\":\"8180\",\"type\":\"Title\"},{\"attributes\":{\"axis\":{\"id\":\"8194\"},\"dimension\":1,\"ticker\":null},\"id\":\"8197\",\"type\":\"Grid\"},{\"attributes\":{\"color_mapper\":{\"id\":\"8172\"},\"dh\":{\"units\":\"data\",\"value\":2},\"dw\":{\"units\":\"data\",\"value\":2},\"global_alpha\":0.1,\"image\":{\"field\":\"image\"},\"x\":{\"value\":-1},\"y\":{\"value\":-1}},\"id\":\"8176\",\"type\":\"Image\"},{\"attributes\":{},\"id\":\"8815\",\"type\":\"Selection\"},{\"attributes\":{\"start\":-1},\"id\":\"8211\",\"type\":\"Range1d\"},{\"attributes\":{\"below\":[{\"id\":\"8217\"}],\"center\":[{\"id\":\"8220\"},{\"id\":\"8224\"}],\"left\":[{\"id\":\"8221\"}],\"renderers\":[{\"id\":\"8231\"}],\"right\":[{\"id\":\"8227\"}],\"title\":{\"id\":\"8207\"},\"toolbar\":{\"id\":\"8225\"},\"x_range\":{\"id\":\"8209\"},\"x_scale\":{\"id\":\"8213\"},\"y_range\":{\"id\":\"8211\"},\"y_scale\":{\"id\":\"8215\"}},\"id\":\"8206\",\"subtype\":\"Figure\",\"type\":\"Plot\"},{\"attributes\":{\"axis_label\":\"X2\",\"formatter\":{\"id\":\"8782\"},\"ticker\":{\"id\":\"8168\"}},\"id\":\"8167\",\"type\":\"LinearAxis\"},{\"attributes\":{\"start\":-1},\"id\":\"8184\",\"type\":\"Range1d\"},{\"attributes\":{},\"id\":\"8811\",\"type\":\"Selection\"},{\"attributes\":{\"below\":[{\"id\":\"8136\"}],\"center\":[{\"id\":\"8139\"},{\"id\":\"8143\"}],\"left\":[{\"id\":\"8140\"}],\"renderers\":[{\"id\":\"8150\"}],\"right\":[{\"id\":\"8146\"}],\"title\":{\"id\":\"8126\"},\"toolbar\":{\"id\":\"8144\"},\"x_range\":{\"id\":\"8128\"},\"x_scale\":{\"id\":\"8132\"},\"y_range\":{\"id\":\"8130\"},\"y_scale\":{\"id\":\"8134\"}},\"id\":\"8125\",\"subtype\":\"Figure\",\"type\":\"Plot\"},{\"attributes\":{\"text\":\"Softmax y2 derivative with repect to X1\"},\"id\":\"8234\",\"type\":\"Title\"},{\"attributes\":{\"axis_label\":\"X2\",\"formatter\":{\"id\":\"8788\"},\"ticker\":{\"id\":\"8195\"}},\"id\":\"8194\",\"type\":\"LinearAxis\"},{\"attributes\":{\"data\":{\"image\":[{\"__ndarray__\":\"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\",\"dtype\":\"float32\",\"order\":\"little\",\"shape\":[50,50]}]},\"selected\":{\"id\":\"8809\"},\"selection_policy\":{\"id\":\"8810\"}},\"id\":\"8147\",\"type\":\"ColumnDataSource\"},{\"attributes\":{\"color_mapper\":{\"id\":\"8226\"},\"dh\":{\"units\":\"data\",\"value\":2},\"dw\":{\"units\":\"data\",\"value\":2},\"global_alpha\":0.1,\"image\":{\"field\":\"image\"},\"x\":{\"value\":-1},\"y\":{\"value\":-1}},\"id\":\"8230\",\"type\":\"Image\"},{\"attributes\":{},\"id\":\"8188\",\"type\":\"LinearScale\"},{\"attributes\":{\"data_source\":{\"id\":\"8228\"},\"glyph\":{\"id\":\"8229\"},\"hover_glyph\":null,\"muted_glyph\":null,\"name\":\"y1\",\"nonselection_glyph\":{\"id\":\"8230\"},\"selection_glyph\":null,\"view\":{\"id\":\"8232\"}},\"id\":\"8231\",\"type\":\"GlyphRenderer\"},{\"attributes\":{},\"id\":\"8812\",\"type\":\"UnionRenderers\"},{\"attributes\":{},\"id\":\"8213\",\"type\":\"LinearScale\"},{\"attributes\":{},\"id\":\"8813\",\"type\":\"Selection\"},{\"attributes\":{\"active_drag\":\"auto\",\"active_inspect\":\"auto\",\"active_multi\":null,\"active_scroll\":\"auto\",\"active_tap\":\"auto\"},\"id\":\"8198\",\"type\":\"Toolbar\"},{\"attributes\":{},\"id\":\"8215\",\"type\":\"LinearScale\"},{\"attributes\":{},\"id\":\"8245\",\"type\":\"BasicTicker\"},{\"attributes\":{},\"id\":\"8134\",\"type\":\"LinearScale\"},{\"attributes\":{\"axis_label\":\"X1\",\"formatter\":{\"id\":\"8786\"},\"ticker\":{\"id\":\"8191\"}},\"id\":\"8190\",\"type\":\"LinearAxis\"},{\"attributes\":{\"data_source\":{\"id\":\"8174\"},\"glyph\":{\"id\":\"8175\"},\"hover_glyph\":null,\"muted_glyph\":null,\"name\":\"y1\",\"nonselection_glyph\":{\"id\":\"8176\"},\"selection_glyph\":null,\"view\":{\"id\":\"8178\"}},\"id\":\"8177\",\"type\":\"GlyphRenderer\"},{\"attributes\":{},\"id\":\"8814\",\"type\":\"UnionRenderers\"},{\"attributes\":{},\"id\":\"8218\",\"type\":\"BasicTicker\"},{\"attributes\":{},\"id\":\"8186\",\"type\":\"LinearScale\"},{\"attributes\":{\"text\":\"Softmax y1 derivative with respect to X2\"},\"id\":\"8207\",\"type\":\"Title\"},{\"attributes\":{\"color_mapper\":{\"id\":\"8145\"},\"dh\":{\"units\":\"data\",\"value\":2},\"dw\":{\"units\":\"data\",\"value\":2},\"global_alpha\":0.1,\"image\":{\"field\":\"image\"},\"x\":{\"value\":-1},\"y\":{\"value\":-1}},\"id\":\"8149\",\"type\":\"Image\"},{\"attributes\":{\"source\":{\"id\":\"8174\"}},\"id\":\"8178\",\"type\":\"CDSView\"},{\"attributes\":{},\"id\":\"8801\",\"type\":\"BasicTicker\"},{\"attributes\":{},\"id\":\"8820\",\"type\":\"UnionRenderers\"},{\"attributes\":{\"below\":[{\"id\":\"8244\"}],\"center\":[{\"id\":\"8247\"},{\"id\":\"8251\"}],\"left\":[{\"id\":\"8248\"}],\"renderers\":[{\"id\":\"8258\"}],\"right\":[{\"id\":\"8254\"}],\"title\":{\"id\":\"8234\"},\"toolbar\":{\"id\":\"8252\"},\"x_range\":{\"id\":\"8236\"},\"x_scale\":{\"id\":\"8240\"},\"y_range\":{\"id\":\"8238\"},\"y_scale\":{\"id\":\"8242\"}},\"id\":\"8233\",\"subtype\":\"Figure\",\"type\":\"Plot\"},{\"attributes\":{\"axis_label\":\"X1\",\"formatter\":{\"id\":\"8792\"},\"ticker\":{\"id\":\"8218\"}},\"id\":\"8217\",\"type\":\"LinearAxis\"},{\"attributes\":{},\"id\":\"8802\",\"type\":\"BasicTickFormatter\"},{\"attributes\":{},\"id\":\"8222\",\"type\":\"BasicTicker\"},{\"attributes\":{\"source\":{\"id\":\"8228\"}},\"id\":\"8232\",\"type\":\"CDSView\"},{\"attributes\":{},\"id\":\"8816\",\"type\":\"UnionRenderers\"},{\"attributes\":{\"start\":-1},\"id\":\"8130\",\"type\":\"Range1d\"},{\"attributes\":{\"color_mapper\":{\"id\":\"8199\"},\"formatter\":{\"id\":\"8790\"},\"label_standoff\":8,\"location\":[0,0],\"scale_alpha\":0.5,\"ticker\":{\"id\":\"8789\"}},\"id\":\"8200\",\"type\":\"ColorBar\"},{\"attributes\":{\"axis\":{\"id\":\"8217\"},\"ticker\":null},\"id\":\"8220\",\"type\":\"Grid\"},{\"attributes\":{},\"id\":\"8778\",\"type\":\"BasicTickFormatter\"},{\"attributes\":{\"start\":-1},\"id\":\"8236\",\"type\":\"Range1d\"},{\"attributes\":{\"color_mapper\":{\"id\":\"8199\"},\"dh\":{\"units\":\"data\",\"value\":2},\"dw\":{\"units\":\"data\",\"value\":2},\"global_alpha\":0.1,\"image\":{\"field\":\"image\"},\"x\":{\"value\":-1},\"y\":{\"value\":-1}},\"id\":\"8203\",\"type\":\"Image\"},{\"attributes\":{\"high\":0.25,\"low\":-0.25,\"palette\":[\"#000003\",\"#000004\",\"#000006\",\"#010007\",\"#010109\",\"#01010B\",\"#02020D\",\"#02020F\",\"#030311\",\"#040313\",\"#040415\",\"#050417\",\"#060519\",\"#07051B\",\"#08061D\",\"#09071F\",\"#0A0722\",\"#0B0824\",\"#0C0926\",\"#0D0A28\",\"#0E0A2A\",\"#0F0B2C\",\"#100C2F\",\"#110C31\",\"#120D33\",\"#140D35\",\"#150E38\",\"#160E3A\",\"#170F3C\",\"#180F3F\",\"#1A1041\",\"#1B1044\",\"#1C1046\",\"#1E1049\",\"#1F114B\",\"#20114D\",\"#221150\",\"#231152\",\"#251155\",\"#261157\",\"#281159\",\"#2A115C\",\"#2B115E\",\"#2D1060\",\"#2F1062\",\"#301065\",\"#321067\",\"#341068\",\"#350F6A\",\"#370F6C\",\"#390F6E\",\"#3B0F6F\",\"#3C0F71\",\"#3E0F72\",\"#400F73\",\"#420F74\",\"#430F75\",\"#450F76\",\"#470F77\",\"#481078\",\"#4A1079\",\"#4B1079\",\"#4D117A\",\"#4F117B\",\"#50127B\",\"#52127C\",\"#53137C\",\"#55137D\",\"#57147D\",\"#58157E\",\"#5A157E\",\"#5B167E\",\"#5D177E\",\"#5E177F\",\"#60187F\",\"#61187F\",\"#63197F\",\"#651A80\",\"#661A80\",\"#681B80\",\"#691C80\",\"#6B1C80\",\"#6C1D80\",\"#6E1E81\",\"#6F1E81\",\"#711F81\",\"#731F81\",\"#742081\",\"#762181\",\"#772181\",\"#792281\",\"#7A2281\",\"#7C2381\",\"#7E2481\",\"#7F2481\",\"#812581\",\"#822581\",\"#842681\",\"#852681\",\"#872781\",\"#892881\",\"#8A2881\",\"#8C2980\",\"#8D2980\",\"#8F2A80\",\"#912A80\",\"#922B80\",\"#942B80\",\"#952C80\",\"#972C7F\",\"#992D7F\",\"#9A2D7F\",\"#9C2E7F\",\"#9E2E7E\",\"#9F2F7E\",\"#A12F7E\",\"#A3307E\",\"#A4307D\",\"#A6317D\",\"#A7317D\",\"#A9327C\",\"#AB337C\",\"#AC337B\",\"#AE347B\",\"#B0347B\",\"#B1357A\",\"#B3357A\",\"#B53679\",\"#B63679\",\"#B83778\",\"#B93778\",\"#BB3877\",\"#BD3977\",\"#BE3976\",\"#C03A75\",\"#C23A75\",\"#C33B74\",\"#C53C74\",\"#C63C73\",\"#C83D72\",\"#CA3E72\",\"#CB3E71\",\"#CD3F70\",\"#CE4070\",\"#D0416F\",\"#D1426E\",\"#D3426D\",\"#D4436D\",\"#D6446C\",\"#D7456B\",\"#D9466A\",\"#DA4769\",\"#DC4869\",\"#DD4968\",\"#DE4A67\",\"#E04B66\",\"#E14C66\",\"#E24D65\",\"#E44E64\",\"#E55063\",\"#E65162\",\"#E75262\",\"#E85461\",\"#EA5560\",\"#EB5660\",\"#EC585F\",\"#ED595F\",\"#EE5B5E\",\"#EE5D5D\",\"#EF5E5D\",\"#F0605D\",\"#F1615C\",\"#F2635C\",\"#F3655C\",\"#F3675B\",\"#F4685B\",\"#F56A5B\",\"#F56C5B\",\"#F66E5B\",\"#F6705B\",\"#F7715B\",\"#F7735C\",\"#F8755C\",\"#F8775C\",\"#F9795C\",\"#F97B5D\",\"#F97D5D\",\"#FA7F5E\",\"#FA805E\",\"#FA825F\",\"#FB8460\",\"#FB8660\",\"#FB8861\",\"#FB8A62\",\"#FC8C63\",\"#FC8E63\",\"#FC9064\",\"#FC9265\",\"#FC9366\",\"#FD9567\",\"#FD9768\",\"#FD9969\",\"#FD9B6A\",\"#FD9D6B\",\"#FD9F6C\",\"#FDA16E\",\"#FDA26F\",\"#FDA470\",\"#FEA671\",\"#FEA873\",\"#FEAA74\",\"#FEAC75\",\"#FEAE76\",\"#FEAF78\",\"#FEB179\",\"#FEB37B\",\"#FEB57C\",\"#FEB77D\",\"#FEB97F\",\"#FEBB80\",\"#FEBC82\",\"#FEBE83\",\"#FEC085\",\"#FEC286\",\"#FEC488\",\"#FEC689\",\"#FEC78B\",\"#FEC98D\",\"#FECB8E\",\"#FDCD90\",\"#FDCF92\",\"#FDD193\",\"#FDD295\",\"#FDD497\",\"#FDD698\",\"#FDD89A\",\"#FDDA9C\",\"#FDDC9D\",\"#FDDD9F\",\"#FDDFA1\",\"#FDE1A3\",\"#FCE3A5\",\"#FCE5A6\",\"#FCE6A8\",\"#FCE8AA\",\"#FCEAAC\",\"#FCECAE\",\"#FCEEB0\",\"#FCF0B1\",\"#FCF1B3\",\"#FCF3B5\",\"#FCF5B7\",\"#FBF7B9\",\"#FBF9BB\",\"#FBFABD\",\"#FBFCBF\"]},\"id\":\"8253\",\"type\":\"LinearColorMapper\"},{\"attributes\":{\"color_mapper\":{\"id\":\"8145\"},\"dh\":{\"units\":\"data\",\"value\":2},\"dw\":{\"units\":\"data\",\"value\":2},\"global_alpha\":0.5,\"image\":{\"field\":\"image\"},\"x\":{\"value\":-1},\"y\":{\"value\":-1}},\"id\":\"8148\",\"type\":\"Image\"},{\"attributes\":{},\"id\":\"8817\",\"type\":\"Selection\"},{\"attributes\":{\"active_drag\":\"auto\",\"active_inspect\":\"auto\",\"active_multi\":null,\"active_scroll\":\"auto\",\"active_tap\":\"auto\"},\"id\":\"8279\",\"type\":\"Toolbar\"},{\"attributes\":{},\"id\":\"8777\",\"type\":\"BasicTicker\"},{\"attributes\":{},\"id\":\"8818\",\"type\":\"UnionRenderers\"},{\"attributes\":{\"start\":-1},\"id\":\"8238\",\"type\":\"Range1d\"},{\"attributes\":{},\"id\":\"8804\",\"type\":\"BasicTickFormatter\"},{\"attributes\":{\"axis_label\":\"X2\",\"formatter\":{\"id\":\"8794\"},\"ticker\":{\"id\":\"8222\"}},\"id\":\"8221\",\"type\":\"LinearAxis\"},{\"attributes\":{},\"id\":\"8774\",\"type\":\"BasicTickFormatter\"},{\"attributes\":{},\"id\":\"8168\",\"type\":\"BasicTicker\"},{\"attributes\":{\"axis\":{\"id\":\"8221\"},\"dimension\":1,\"ticker\":null},\"id\":\"8224\",\"type\":\"Grid\"},{\"attributes\":{},\"id\":\"8819\",\"type\":\"Selection\"},{\"attributes\":{\"children\":[{\"id\":\"8179\"},{\"id\":\"8206\"}]},\"id\":\"8288\",\"type\":\"Row\"},{\"attributes\":{\"active_drag\":\"auto\",\"active_inspect\":\"auto\",\"active_multi\":null,\"active_scroll\":\"auto\",\"active_tap\":\"auto\"},\"id\":\"8225\",\"type\":\"Toolbar\"},{\"attributes\":{},\"id\":\"8783\",\"type\":\"BasicTicker\"},{\"attributes\":{},\"id\":\"8240\",\"type\":\"LinearScale\"},{\"attributes\":{\"source\":{\"id\":\"8201\"}},\"id\":\"8205\",\"type\":\"CDSView\"},{\"attributes\":{\"children\":[{\"id\":\"8233\"},{\"id\":\"8260\"}]},\"id\":\"8289\",\"type\":\"Row\"},{\"attributes\":{},\"id\":\"8242\",\"type\":\"LinearScale\"},{\"attributes\":{\"high\":0.8807970285415649,\"low\":0.11920291930437088,\"palette\":[\"#000003\",\"#000004\",\"#000006\",\"#010007\",\"#010109\",\"#01010B\",\"#02020D\",\"#02020F\",\"#030311\",\"#040313\",\"#040415\",\"#050417\",\"#060519\",\"#07051B\",\"#08061D\",\"#09071F\",\"#0A0722\",\"#0B0824\",\"#0C0926\",\"#0D0A28\",\"#0E0A2A\",\"#0F0B2C\",\"#100C2F\",\"#110C31\",\"#120D33\",\"#140D35\",\"#150E38\",\"#160E3A\",\"#170F3C\",\"#180F3F\",\"#1A1041\",\"#1B1044\",\"#1C1046\",\"#1E1049\",\"#1F114B\",\"#20114D\",\"#221150\",\"#231152\",\"#251155\",\"#261157\",\"#281159\",\"#2A115C\",\"#2B115E\",\"#2D1060\",\"#2F1062\",\"#301065\",\"#321067\",\"#341068\",\"#350F6A\",\"#370F6C\",\"#390F6E\",\"#3B0F6F\",\"#3C0F71\",\"#3E0F72\",\"#400F73\",\"#420F74\",\"#430F75\",\"#450F76\",\"#470F77\",\"#481078\",\"#4A1079\",\"#4B1079\",\"#4D117A\",\"#4F117B\",\"#50127B\",\"#52127C\",\"#53137C\",\"#55137D\",\"#57147D\",\"#58157E\",\"#5A157E\",\"#5B167E\",\"#5D177E\",\"#5E177F\",\"#60187F\",\"#61187F\",\"#63197F\",\"#651A80\",\"#661A80\",\"#681B80\",\"#691C80\",\"#6B1C80\",\"#6C1D80\",\"#6E1E81\",\"#6F1E81\",\"#711F81\",\"#731F81\",\"#742081\",\"#762181\",\"#772181\",\"#792281\",\"#7A2281\",\"#7C2381\",\"#7E2481\",\"#7F2481\",\"#812581\",\"#822581\",\"#842681\",\"#852681\",\"#872781\",\"#892881\",\"#8A2881\",\"#8C2980\",\"#8D2980\",\"#8F2A80\",\"#912A80\",\"#922B80\",\"#942B80\",\"#952C80\",\"#972C7F\",\"#992D7F\",\"#9A2D7F\",\"#9C2E7F\",\"#9E2E7E\",\"#9F2F7E\",\"#A12F7E\",\"#A3307E\",\"#A4307D\",\"#A6317D\",\"#A7317D\",\"#A9327C\",\"#AB337C\",\"#AC337B\",\"#AE347B\",\"#B0347B\",\"#B1357A\",\"#B3357A\",\"#B53679\",\"#B63679\",\"#B83778\",\"#B93778\",\"#BB3877\",\"#BD3977\",\"#BE3976\",\"#C03A75\",\"#C23A75\",\"#C33B74\",\"#C53C74\",\"#C63C73\",\"#C83D72\",\"#CA3E72\",\"#CB3E71\",\"#CD3F70\",\"#CE4070\",\"#D0416F\",\"#D1426E\",\"#D3426D\",\"#D4436D\",\"#D6446C\",\"#D7456B\",\"#D9466A\",\"#DA4769\",\"#DC4869\",\"#DD4968\",\"#DE4A67\",\"#E04B66\",\"#E14C66\",\"#E24D65\",\"#E44E64\",\"#E55063\",\"#E65162\",\"#E75262\",\"#E85461\",\"#EA5560\",\"#EB5660\",\"#EC585F\",\"#ED595F\",\"#EE5B5E\",\"#EE5D5D\",\"#EF5E5D\",\"#F0605D\",\"#F1615C\",\"#F2635C\",\"#F3655C\",\"#F3675B\",\"#F4685B\",\"#F56A5B\",\"#F56C5B\",\"#F66E5B\",\"#F6705B\",\"#F7715B\",\"#F7735C\",\"#F8755C\",\"#F8775C\",\"#F9795C\",\"#F97B5D\",\"#F97D5D\",\"#FA7F5E\",\"#FA805E\",\"#FA825F\",\"#FB8460\",\"#FB8660\",\"#FB8861\",\"#FB8A62\",\"#FC8C63\",\"#FC8E63\",\"#FC9064\",\"#FC9265\",\"#FC9366\",\"#FD9567\",\"#FD9768\",\"#FD9969\",\"#FD9B6A\",\"#FD9D6B\",\"#FD9F6C\",\"#FDA16E\",\"#FDA26F\",\"#FDA470\",\"#FEA671\",\"#FEA873\",\"#FEAA74\",\"#FEAC75\",\"#FEAE76\",\"#FEAF78\",\"#FEB179\",\"#FEB37B\",\"#FEB57C\",\"#FEB77D\",\"#FEB97F\",\"#FEBB80\",\"#FEBC82\",\"#FEBE83\",\"#FEC085\",\"#FEC286\",\"#FEC488\",\"#FEC689\",\"#FEC78B\",\"#FEC98D\",\"#FECB8E\",\"#FDCD90\",\"#FDCF92\",\"#FDD193\",\"#FDD295\",\"#FDD497\",\"#FDD698\",\"#FDD89A\",\"#FDDA9C\",\"#FDDC9D\",\"#FDDD9F\",\"#FDDFA1\",\"#FDE1A3\",\"#FCE3A5\",\"#FCE5A6\",\"#FCE6A8\",\"#FCE8AA\",\"#FCEAAC\",\"#FCECAE\",\"#FCEEB0\",\"#FCF0B1\",\"#FCF1B3\",\"#FCF3B5\",\"#FCF5B7\",\"#FBF7B9\",\"#FBF9BB\",\"#FBFABD\",\"#FBFCBF\"]},\"id\":\"8145\",\"type\":\"LinearColorMapper\"},{\"attributes\":{},\"id\":\"8807\",\"type\":\"BasicTicker\"},{\"attributes\":{\"source\":{\"id\":\"8282\"}},\"id\":\"8286\",\"type\":\"CDSView\"},{\"attributes\":{\"axis\":{\"id\":\"8163\"},\"ticker\":null},\"id\":\"8166\",\"type\":\"Grid\"},{\"attributes\":{\"start\":-1},\"id\":\"8128\",\"type\":\"Range1d\"},{\"attributes\":{},\"id\":\"8792\",\"type\":\"BasicTickFormatter\"},{\"attributes\":{\"axis_label\":\"X1\",\"formatter\":{\"id\":\"8798\"},\"ticker\":{\"id\":\"8245\"}},\"id\":\"8244\",\"type\":\"LinearAxis\"},{\"attributes\":{},\"id\":\"8790\",\"type\":\"BasicTickFormatter\"},{\"attributes\":{\"data\":{\"image\":[{\"__ndarray__\":\"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\",\"dtype\":\"float32\",\"order\":\"little\",\"shape\":[50,50]}]},\"selected\":{\"id\":\"8813\"},\"selection_policy\":{\"id\":\"8814\"}},\"id\":\"8201\",\"type\":\"ColumnDataSource\"},{\"attributes\":{\"data_source\":{\"id\":\"8201\"},\"glyph\":{\"id\":\"8202\"},\"hover_glyph\":null,\"muted_glyph\":null,\"name\":\"y1\",\"nonselection_glyph\":{\"id\":\"8203\"},\"selection_glyph\":null,\"view\":{\"id\":\"8205\"}},\"id\":\"8204\",\"type\":\"GlyphRenderer\"},{\"attributes\":{},\"id\":\"8249\",\"type\":\"BasicTicker\"},{\"attributes\":{\"axis\":{\"id\":\"8244\"},\"ticker\":null},\"id\":\"8247\",\"type\":\"Grid\"},{\"attributes\":{\"axis\":{\"id\":\"8275\"},\"dimension\":1,\"ticker\":null},\"id\":\"8278\",\"type\":\"Grid\"},{\"attributes\":{\"axis_label\":\"X2\",\"formatter\":{\"id\":\"8800\"},\"ticker\":{\"id\":\"8249\"}},\"id\":\"8248\",\"type\":\"LinearAxis\"},{\"attributes\":{\"color_mapper\":{\"id\":\"8199\"},\"dh\":{\"units\":\"data\",\"value\":2},\"dw\":{\"units\":\"data\",\"value\":2},\"global_alpha\":0.5,\"image\":{\"field\":\"image\"},\"x\":{\"value\":-1},\"y\":{\"value\":-1}},\"id\":\"8202\",\"type\":\"Image\"},{\"attributes\":{\"axis_label\":\"X2\",\"formatter\":{\"id\":\"8806\"},\"ticker\":{\"id\":\"8276\"}},\"id\":\"8275\",\"type\":\"LinearAxis\"},{\"attributes\":{},\"id\":\"8191\",\"type\":\"BasicTicker\"},{\"attributes\":{\"axis\":{\"id\":\"8248\"},\"dimension\":1,\"ticker\":null},\"id\":\"8251\",\"type\":\"Grid\"},{\"attributes\":{\"axis\":{\"id\":\"8190\"},\"ticker\":null},\"id\":\"8193\",\"type\":\"Grid\"},{\"attributes\":{\"color_mapper\":{\"id\":\"8172\"},\"dh\":{\"units\":\"data\",\"value\":2},\"dw\":{\"units\":\"data\",\"value\":2},\"global_alpha\":0.5,\"image\":{\"field\":\"image\"},\"x\":{\"value\":-1},\"y\":{\"value\":-1}},\"id\":\"8175\",\"type\":\"Image\"},{\"attributes\":{},\"id\":\"8276\",\"type\":\"BasicTicker\"},{\"attributes\":{},\"id\":\"8161\",\"type\":\"LinearScale\"},{\"attributes\":{\"active_drag\":\"auto\",\"active_inspect\":\"auto\",\"active_multi\":null,\"active_scroll\":\"auto\",\"active_tap\":\"auto\"},\"id\":\"8252\",\"type\":\"Toolbar\"},{\"attributes\":{},\"id\":\"8788\",\"type\":\"BasicTickFormatter\"},{\"attributes\":{\"color_mapper\":{\"id\":\"8280\"},\"dh\":{\"units\":\"data\",\"value\":2},\"dw\":{\"units\":\"data\",\"value\":2},\"global_alpha\":0.5,\"image\":{\"field\":\"image\"},\"x\":{\"value\":-1},\"y\":{\"value\":-1}},\"id\":\"8283\",\"type\":\"Image\"},{\"attributes\":{},\"id\":\"8137\",\"type\":\"BasicTicker\"},{\"attributes\":{\"active_drag\":\"auto\",\"active_inspect\":\"auto\",\"active_multi\":null,\"active_scroll\":\"auto\",\"active_tap\":\"auto\"},\"id\":\"8171\",\"type\":\"Toolbar\"},{\"attributes\":{\"color_mapper\":{\"id\":\"8280\"},\"formatter\":{\"id\":\"8808\"},\"label_standoff\":8,\"location\":[0,0],\"scale_alpha\":0.5,\"ticker\":{\"id\":\"8807\"}},\"id\":\"8281\",\"type\":\"ColorBar\"},{\"attributes\":{},\"id\":\"8800\",\"type\":\"BasicTickFormatter\"},{\"attributes\":{\"start\":-1},\"id\":\"8155\",\"type\":\"Range1d\"},{\"attributes\":{},\"id\":\"8798\",\"type\":\"BasicTickFormatter\"},{\"attributes\":{\"color_mapper\":{\"id\":\"8145\"},\"formatter\":{\"id\":\"8778\"},\"label_standoff\":8,\"location\":[0,0],\"scale_alpha\":0.5,\"ticker\":{\"id\":\"8777\"}},\"id\":\"8146\",\"type\":\"ColorBar\"},{\"attributes\":{\"axis\":{\"id\":\"8136\"},\"ticker\":null},\"id\":\"8139\",\"type\":\"Grid\"},{\"attributes\":{\"start\":-1},\"id\":\"8157\",\"type\":\"Range1d\"},{\"attributes\":{\"color_mapper\":{\"id\":\"8253\"},\"formatter\":{\"id\":\"8802\"},\"label_standoff\":8,\"location\":[0,0],\"scale_alpha\":0.5,\"ticker\":{\"id\":\"8801\"}},\"id\":\"8254\",\"type\":\"ColorBar\"},{\"attributes\":{},\"id\":\"8789\",\"type\":\"BasicTicker\"},{\"attributes\":{\"color_mapper\":{\"id\":\"8253\"},\"dh\":{\"units\":\"data\",\"value\":2},\"dw\":{\"units\":\"data\",\"value\":2},\"global_alpha\":0.1,\"image\":{\"field\":\"image\"},\"x\":{\"value\":-1},\"y\":{\"value\":-1}},\"id\":\"8257\",\"type\":\"Image\"},{\"attributes\":{\"axis_label\":\"X1\",\"formatter\":{\"id\":\"8774\"},\"ticker\":{\"id\":\"8137\"}},\"id\":\"8136\",\"type\":\"LinearAxis\"},{\"attributes\":{\"source\":{\"id\":\"8147\"}},\"id\":\"8151\",\"type\":\"CDSView\"},{\"attributes\":{\"data\":{\"image\":[{\"__ndarray__\":\"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\",\"dtype\":\"float32\",\"order\":\"little\",\"shape\":[50,50]}]},\"selected\":{\"id\":\"8817\"},\"selection_policy\":{\"id\":\"8818\"}},\"id\":\"8255\",\"type\":\"ColumnDataSource\"},{\"attributes\":{\"data_source\":{\"id\":\"8255\"},\"glyph\":{\"id\":\"8256\"},\"hover_glyph\":null,\"muted_glyph\":null,\"name\":\"y1\",\"nonselection_glyph\":{\"id\":\"8257\"},\"selection_glyph\":null,\"view\":{\"id\":\"8259\"}},\"id\":\"8258\",\"type\":\"GlyphRenderer\"},{\"attributes\":{\"below\":[{\"id\":\"8190\"}],\"center\":[{\"id\":\"8193\"},{\"id\":\"8197\"}],\"left\":[{\"id\":\"8194\"}],\"renderers\":[{\"id\":\"8204\"}],\"right\":[{\"id\":\"8200\"}],\"title\":{\"id\":\"8180\"},\"toolbar\":{\"id\":\"8198\"},\"x_range\":{\"id\":\"8182\"},\"x_scale\":{\"id\":\"8186\"},\"y_range\":{\"id\":\"8184\"},\"y_scale\":{\"id\":\"8188\"}},\"id\":\"8179\",\"subtype\":\"Figure\",\"type\":\"Plot\"},{\"attributes\":{\"color_mapper\":{\"id\":\"8253\"},\"dh\":{\"units\":\"data\",\"value\":2},\"dw\":{\"units\":\"data\",\"value\":2},\"global_alpha\":0.5,\"image\":{\"field\":\"image\"},\"x\":{\"value\":-1},\"y\":{\"value\":-1}},\"id\":\"8256\",\"type\":\"Image\"},{\"attributes\":{\"text\":\"Softmax y2 derivative with repect to X2\"},\"id\":\"8261\",\"type\":\"Title\"},{\"attributes\":{\"below\":[{\"id\":\"8271\"}],\"center\":[{\"id\":\"8274\"},{\"id\":\"8278\"}],\"left\":[{\"id\":\"8275\"}],\"renderers\":[{\"id\":\"8285\"}],\"right\":[{\"id\":\"8281\"}],\"title\":{\"id\":\"8261\"},\"toolbar\":{\"id\":\"8279\"},\"x_range\":{\"id\":\"8263\"},\"x_scale\":{\"id\":\"8267\"},\"y_range\":{\"id\":\"8265\"},\"y_scale\":{\"id\":\"8269\"}},\"id\":\"8260\",\"subtype\":\"Figure\",\"type\":\"Plot\"},{\"attributes\":{\"data_source\":{\"id\":\"8147\"},\"glyph\":{\"id\":\"8148\"},\"hover_glyph\":null,\"muted_glyph\":null,\"name\":\"y1\",\"nonselection_glyph\":{\"id\":\"8149\"},\"selection_glyph\":null,\"view\":{\"id\":\"8151\"}},\"id\":\"8150\",\"type\":\"GlyphRenderer\"},{\"attributes\":{\"source\":{\"id\":\"8255\"}},\"id\":\"8259\",\"type\":\"CDSView\"},{\"attributes\":{\"high\":0.25,\"low\":-0.25,\"palette\":[\"#000003\",\"#000004\",\"#000006\",\"#010007\",\"#010109\",\"#01010B\",\"#02020D\",\"#02020F\",\"#030311\",\"#040313\",\"#040415\",\"#050417\",\"#060519\",\"#07051B\",\"#08061D\",\"#09071F\",\"#0A0722\",\"#0B0824\",\"#0C0926\",\"#0D0A28\",\"#0E0A2A\",\"#0F0B2C\",\"#100C2F\",\"#110C31\",\"#120D33\",\"#140D35\",\"#150E38\",\"#160E3A\",\"#170F3C\",\"#180F3F\",\"#1A1041\",\"#1B1044\",\"#1C1046\",\"#1E1049\",\"#1F114B\",\"#20114D\",\"#221150\",\"#231152\",\"#251155\",\"#261157\",\"#281159\",\"#2A115C\",\"#2B115E\",\"#2D1060\",\"#2F1062\",\"#301065\",\"#321067\",\"#341068\",\"#350F6A\",\"#370F6C\",\"#390F6E\",\"#3B0F6F\",\"#3C0F71\",\"#3E0F72\",\"#400F73\",\"#420F74\",\"#430F75\",\"#450F76\",\"#470F77\",\"#481078\",\"#4A1079\",\"#4B1079\",\"#4D117A\",\"#4F117B\",\"#50127B\",\"#52127C\",\"#53137C\",\"#55137D\",\"#57147D\",\"#58157E\",\"#5A157E\",\"#5B167E\",\"#5D177E\",\"#5E177F\",\"#60187F\",\"#61187F\",\"#63197F\",\"#651A80\",\"#661A80\",\"#681B80\",\"#691C80\",\"#6B1C80\",\"#6C1D80\",\"#6E1E81\",\"#6F1E81\",\"#711F81\",\"#731F81\",\"#742081\",\"#762181\",\"#772181\",\"#792281\",\"#7A2281\",\"#7C2381\",\"#7E2481\",\"#7F2481\",\"#812581\",\"#822581\",\"#842681\",\"#852681\",\"#872781\",\"#892881\",\"#8A2881\",\"#8C2980\",\"#8D2980\",\"#8F2A80\",\"#912A80\",\"#922B80\",\"#942B80\",\"#952C80\",\"#972C7F\",\"#992D7F\",\"#9A2D7F\",\"#9C2E7F\",\"#9E2E7E\",\"#9F2F7E\",\"#A12F7E\",\"#A3307E\",\"#A4307D\",\"#A6317D\",\"#A7317D\",\"#A9327C\",\"#AB337C\",\"#AC337B\",\"#AE347B\",\"#B0347B\",\"#B1357A\",\"#B3357A\",\"#B53679\",\"#B63679\",\"#B83778\",\"#B93778\",\"#BB3877\",\"#BD3977\",\"#BE3976\",\"#C03A75\",\"#C23A75\",\"#C33B74\",\"#C53C74\",\"#C63C73\",\"#C83D72\",\"#CA3E72\",\"#CB3E71\",\"#CD3F70\",\"#CE4070\",\"#D0416F\",\"#D1426E\",\"#D3426D\",\"#D4436D\",\"#D6446C\",\"#D7456B\",\"#D9466A\",\"#DA4769\",\"#DC4869\",\"#DD4968\",\"#DE4A67\",\"#E04B66\",\"#E14C66\",\"#E24D65\",\"#E44E64\",\"#E55063\",\"#E65162\",\"#E75262\",\"#E85461\",\"#EA5560\",\"#EB5660\",\"#EC585F\",\"#ED595F\",\"#EE5B5E\",\"#EE5D5D\",\"#EF5E5D\",\"#F0605D\",\"#F1615C\",\"#F2635C\",\"#F3655C\",\"#F3675B\",\"#F4685B\",\"#F56A5B\",\"#F56C5B\",\"#F66E5B\",\"#F6705B\",\"#F7715B\",\"#F7735C\",\"#F8755C\",\"#F8775C\",\"#F9795C\",\"#F97B5D\",\"#F97D5D\",\"#FA7F5E\",\"#FA805E\",\"#FA825F\",\"#FB8460\",\"#FB8660\",\"#FB8861\",\"#FB8A62\",\"#FC8C63\",\"#FC8E63\",\"#FC9064\",\"#FC9265\",\"#FC9366\",\"#FD9567\",\"#FD9768\",\"#FD9969\",\"#FD9B6A\",\"#FD9D6B\",\"#FD9F6C\",\"#FDA16E\",\"#FDA26F\",\"#FDA470\",\"#FEA671\",\"#FEA873\",\"#FEAA74\",\"#FEAC75\",\"#FEAE76\",\"#FEAF78\",\"#FEB179\",\"#FEB37B\",\"#FEB57C\",\"#FEB77D\",\"#FEB97F\",\"#FEBB80\",\"#FEBC82\",\"#FEBE83\",\"#FEC085\",\"#FEC286\",\"#FEC488\",\"#FEC689\",\"#FEC78B\",\"#FEC98D\",\"#FECB8E\",\"#FDCD90\",\"#FDCF92\",\"#FDD193\",\"#FDD295\",\"#FDD497\",\"#FDD698\",\"#FDD89A\",\"#FDDA9C\",\"#FDDC9D\",\"#FDDD9F\",\"#FDDFA1\",\"#FDE1A3\",\"#FCE3A5\",\"#FCE5A6\",\"#FCE6A8\",\"#FCE8AA\",\"#FCEAAC\",\"#FCECAE\",\"#FCEEB0\",\"#FCF0B1\",\"#FCF1B3\",\"#FCF3B5\",\"#FCF5B7\",\"#FBF7B9\",\"#FBF9BB\",\"#FBFABD\",\"#FBFCBF\"]},\"id\":\"8199\",\"type\":\"LinearColorMapper\"},{\"attributes\":{\"high\":0.25,\"low\":-0.25,\"palette\":[\"#000003\",\"#000004\",\"#000006\",\"#010007\",\"#010109\",\"#01010B\",\"#02020D\",\"#02020F\",\"#030311\",\"#040313\",\"#040415\",\"#050417\",\"#060519\",\"#07051B\",\"#08061D\",\"#09071F\",\"#0A0722\",\"#0B0824\",\"#0C0926\",\"#0D0A28\",\"#0E0A2A\",\"#0F0B2C\",\"#100C2F\",\"#110C31\",\"#120D33\",\"#140D35\",\"#150E38\",\"#160E3A\",\"#170F3C\",\"#180F3F\",\"#1A1041\",\"#1B1044\",\"#1C1046\",\"#1E1049\",\"#1F114B\",\"#20114D\",\"#221150\",\"#231152\",\"#251155\",\"#261157\",\"#281159\",\"#2A115C\",\"#2B115E\",\"#2D1060\",\"#2F1062\",\"#301065\",\"#321067\",\"#341068\",\"#350F6A\",\"#370F6C\",\"#390F6E\",\"#3B0F6F\",\"#3C0F71\",\"#3E0F72\",\"#400F73\",\"#420F74\",\"#430F75\",\"#450F76\",\"#470F77\",\"#481078\",\"#4A1079\",\"#4B1079\",\"#4D117A\",\"#4F117B\",\"#50127B\",\"#52127C\",\"#53137C\",\"#55137D\",\"#57147D\",\"#58157E\",\"#5A157E\",\"#5B167E\",\"#5D177E\",\"#5E177F\",\"#60187F\",\"#61187F\",\"#63197F\",\"#651A80\",\"#661A80\",\"#681B80\",\"#691C80\",\"#6B1C80\",\"#6C1D80\",\"#6E1E81\",\"#6F1E81\",\"#711F81\",\"#731F81\",\"#742081\",\"#762181\",\"#772181\",\"#792281\",\"#7A2281\",\"#7C2381\",\"#7E2481\",\"#7F2481\",\"#812581\",\"#822581\",\"#842681\",\"#852681\",\"#872781\",\"#892881\",\"#8A2881\",\"#8C2980\",\"#8D2980\",\"#8F2A80\",\"#912A80\",\"#922B80\",\"#942B80\",\"#952C80\",\"#972C7F\",\"#992D7F\",\"#9A2D7F\",\"#9C2E7F\",\"#9E2E7E\",\"#9F2F7E\",\"#A12F7E\",\"#A3307E\",\"#A4307D\",\"#A6317D\",\"#A7317D\",\"#A9327C\",\"#AB337C\",\"#AC337B\",\"#AE347B\",\"#B0347B\",\"#B1357A\",\"#B3357A\",\"#B53679\",\"#B63679\",\"#B83778\",\"#B93778\",\"#BB3877\",\"#BD3977\",\"#BE3976\",\"#C03A75\",\"#C23A75\",\"#C33B74\",\"#C53C74\",\"#C63C73\",\"#C83D72\",\"#CA3E72\",\"#CB3E71\",\"#CD3F70\",\"#CE4070\",\"#D0416F\",\"#D1426E\",\"#D3426D\",\"#D4436D\",\"#D6446C\",\"#D7456B\",\"#D9466A\",\"#DA4769\",\"#DC4869\",\"#DD4968\",\"#DE4A67\",\"#E04B66\",\"#E14C66\",\"#E24D65\",\"#E44E64\",\"#E55063\",\"#E65162\",\"#E75262\",\"#E85461\",\"#EA5560\",\"#EB5660\",\"#EC585F\",\"#ED595F\",\"#EE5B5E\",\"#EE5D5D\",\"#EF5E5D\",\"#F0605D\",\"#F1615C\",\"#F2635C\",\"#F3655C\",\"#F3675B\",\"#F4685B\",\"#F56A5B\",\"#F56C5B\",\"#F66E5B\",\"#F6705B\",\"#F7715B\",\"#F7735C\",\"#F8755C\",\"#F8775C\",\"#F9795C\",\"#F97B5D\",\"#F97D5D\",\"#FA7F5E\",\"#FA805E\",\"#FA825F\",\"#FB8460\",\"#FB8660\",\"#FB8861\",\"#FB8A62\",\"#FC8C63\",\"#FC8E63\",\"#FC9064\",\"#FC9265\",\"#FC9366\",\"#FD9567\",\"#FD9768\",\"#FD9969\",\"#FD9B6A\",\"#FD9D6B\",\"#FD9F6C\",\"#FDA16E\",\"#FDA26F\",\"#FDA470\",\"#FEA671\",\"#FEA873\",\"#FEAA74\",\"#FEAC75\",\"#FEAE76\",\"#FEAF78\",\"#FEB179\",\"#FEB37B\",\"#FEB57C\",\"#FEB77D\",\"#FEB97F\",\"#FEBB80\",\"#FEBC82\",\"#FEBE83\",\"#FEC085\",\"#FEC286\",\"#FEC488\",\"#FEC689\",\"#FEC78B\",\"#FEC98D\",\"#FECB8E\",\"#FDCD90\",\"#FDCF92\",\"#FDD193\",\"#FDD295\",\"#FDD497\",\"#FDD698\",\"#FDD89A\",\"#FDDA9C\",\"#FDDC9D\",\"#FDDD9F\",\"#FDDFA1\",\"#FDE1A3\",\"#FCE3A5\",\"#FCE5A6\",\"#FCE6A8\",\"#FCE8AA\",\"#FCEAAC\",\"#FCECAE\",\"#FCEEB0\",\"#FCF0B1\",\"#FCF1B3\",\"#FCF3B5\",\"#FCF5B7\",\"#FBF7B9\",\"#FBF9BB\",\"#FBFABD\",\"#FBFCBF\"]},\"id\":\"8280\",\"type\":\"LinearColorMapper\"},{\"attributes\":{\"start\":-1},\"id\":\"8263\",\"type\":\"Range1d\"},{\"attributes\":{\"start\":-1},\"id\":\"8265\",\"type\":\"Range1d\"},{\"attributes\":{\"high\":0.8807970285415649,\"low\":0.11920291930437088,\"palette\":[\"#000003\",\"#000004\",\"#000006\",\"#010007\",\"#010109\",\"#01010B\",\"#02020D\",\"#02020F\",\"#030311\",\"#040313\",\"#040415\",\"#050417\",\"#060519\",\"#07051B\",\"#08061D\",\"#09071F\",\"#0A0722\",\"#0B0824\",\"#0C0926\",\"#0D0A28\",\"#0E0A2A\",\"#0F0B2C\",\"#100C2F\",\"#110C31\",\"#120D33\",\"#140D35\",\"#150E38\",\"#160E3A\",\"#170F3C\",\"#180F3F\",\"#1A1041\",\"#1B1044\",\"#1C1046\",\"#1E1049\",\"#1F114B\",\"#20114D\",\"#221150\",\"#231152\",\"#251155\",\"#261157\",\"#281159\",\"#2A115C\",\"#2B115E\",\"#2D1060\",\"#2F1062\",\"#301065\",\"#321067\",\"#341068\",\"#350F6A\",\"#370F6C\",\"#390F6E\",\"#3B0F6F\",\"#3C0F71\",\"#3E0F72\",\"#400F73\",\"#420F74\",\"#430F75\",\"#450F76\",\"#470F77\",\"#481078\",\"#4A1079\",\"#4B1079\",\"#4D117A\",\"#4F117B\",\"#50127B\",\"#52127C\",\"#53137C\",\"#55137D\",\"#57147D\",\"#58157E\",\"#5A157E\",\"#5B167E\",\"#5D177E\",\"#5E177F\",\"#60187F\",\"#61187F\",\"#63197F\",\"#651A80\",\"#661A80\",\"#681B80\",\"#691C80\",\"#6B1C80\",\"#6C1D80\",\"#6E1E81\",\"#6F1E81\",\"#711F81\",\"#731F81\",\"#742081\",\"#762181\",\"#772181\",\"#792281\",\"#7A2281\",\"#7C2381\",\"#7E2481\",\"#7F2481\",\"#812581\",\"#822581\",\"#842681\",\"#852681\",\"#872781\",\"#892881\",\"#8A2881\",\"#8C2980\",\"#8D2980\",\"#8F2A80\",\"#912A80\",\"#922B80\",\"#942B80\",\"#952C80\",\"#972C7F\",\"#992D7F\",\"#9A2D7F\",\"#9C2E7F\",\"#9E2E7E\",\"#9F2F7E\",\"#A12F7E\",\"#A3307E\",\"#A4307D\",\"#A6317D\",\"#A7317D\",\"#A9327C\",\"#AB337C\",\"#AC337B\",\"#AE347B\",\"#B0347B\",\"#B1357A\",\"#B3357A\",\"#B53679\",\"#B63679\",\"#B83778\",\"#B93778\",\"#BB3877\",\"#BD3977\",\"#BE3976\",\"#C03A75\",\"#C23A75\",\"#C33B74\",\"#C53C74\",\"#C63C73\",\"#C83D72\",\"#CA3E72\",\"#CB3E71\",\"#CD3F70\",\"#CE4070\",\"#D0416F\",\"#D1426E\",\"#D3426D\",\"#D4436D\",\"#D6446C\",\"#D7456B\",\"#D9466A\",\"#DA4769\",\"#DC4869\",\"#DD4968\",\"#DE4A67\",\"#E04B66\",\"#E14C66\",\"#E24D65\",\"#E44E64\",\"#E55063\",\"#E65162\",\"#E75262\",\"#E85461\",\"#EA5560\",\"#EB5660\",\"#EC585F\",\"#ED595F\",\"#EE5B5E\",\"#EE5D5D\",\"#EF5E5D\",\"#F0605D\",\"#F1615C\",\"#F2635C\",\"#F3655C\",\"#F3675B\",\"#F4685B\",\"#F56A5B\",\"#F56C5B\",\"#F66E5B\",\"#F6705B\",\"#F7715B\",\"#F7735C\",\"#F8755C\",\"#F8775C\",\"#F9795C\",\"#F97B5D\",\"#F97D5D\",\"#FA7F5E\",\"#FA805E\",\"#FA825F\",\"#FB8460\",\"#FB8660\",\"#FB8861\",\"#FB8A62\",\"#FC8C63\",\"#FC8E63\",\"#FC9064\",\"#FC9265\",\"#FC9366\",\"#FD9567\",\"#FD9768\",\"#FD9969\",\"#FD9B6A\",\"#FD9D6B\",\"#FD9F6C\",\"#FDA16E\",\"#FDA26F\",\"#FDA470\",\"#FEA671\",\"#FEA873\",\"#FEAA74\",\"#FEAC75\",\"#FEAE76\",\"#FEAF78\",\"#FEB179\",\"#FEB37B\",\"#FEB57C\",\"#FEB77D\",\"#FEB97F\",\"#FEBB80\",\"#FEBC82\",\"#FEBE83\",\"#FEC085\",\"#FEC286\",\"#FEC488\",\"#FEC689\",\"#FEC78B\",\"#FEC98D\",\"#FECB8E\",\"#FDCD90\",\"#FDCF92\",\"#FDD193\",\"#FDD295\",\"#FDD497\",\"#FDD698\",\"#FDD89A\",\"#FDDA9C\",\"#FDDC9D\",\"#FDDD9F\",\"#FDDFA1\",\"#FDE1A3\",\"#FCE3A5\",\"#FCE5A6\",\"#FCE6A8\",\"#FCE8AA\",\"#FCEAAC\",\"#FCECAE\",\"#FCEEB0\",\"#FCF0B1\",\"#FCF1B3\",\"#FCF3B5\",\"#FCF5B7\",\"#FBF7B9\",\"#FBF9BB\",\"#FBFABD\",\"#FBFCBF\"]},\"id\":\"8172\",\"type\":\"LinearColorMapper\"},{\"attributes\":{\"data\":{\"image\":[{\"__ndarray__\":\"AAAAP7fG+j6LjvU+mFjwPvol6z7E9+U+Dc/gPuSs2z5QktY+VoDRPvN3zD4Zesc+tofCPq2hvT7WyLg+Av6zPvNBrz5mlao+BvmlPnptoT5V85w+JouYPms1lD6Z8o8+F8OLPkGnhz5nn4M+oVd/PmyZdz6LBHA+TJloPuRXYT5wQFo+/1JTPpCPTD4K9kU+SIY/PhdAOT4yIzM+RS8tPvRjJz7WwCE+ckUcPkzxFj7YwxE+iLwMPsLaBz7mHQM+nwr9Pakg9D2knAI/AAAAP7fG+j6LjvU+mFjwPvol6z7E9+U+Dc/gPuSs2z5QktY+VoDRPvJ3zD4Zesc+tofCPq2hvT7WyLg+Av6zPvNBrz5klao+BvmlPnptoT5V85w+JouYPms1lD6Z8o8+F8OLPkGnhz5nn4M+oVd/PmiZdz6LBHA+TJloPuRXYT5wQFo+/1JTPpCPTD4K9kU+SIY/PhdAOT4yIzM+RS8tPvRjJz7VwCE+ckUcPkzxFj7YwxE+iLwMPsLaBz7mHQM+nwr9Pbs4BT+knAI/AAAAP7fG+j6MjvU+mFjwPvol6z7E9+U+Dc/gPuSs2z5QktY+VoDRPvN3zD4Zesc+tofCPq2hvT7WyLg+Av6zPvNBrz5mlao+B/mlPnptoT5V85w+JouYPms1lD6Z8o8+F8OLPkGnhz5nn4M+oVd/PmyZdz6NBHA+TploPuRXYT5xQFo+AVNTPo6PTD4K9kU+SIY/PhdAOT4yIzM+RS8tPvRjJz7WwCE+c0UcPkzxFj7ZwxE+iLwMPsHaBz7mHQM+s9MHP7s4BT+knAI/AAAAP7fG+j6LjvU+mFjwPvol6z7E9+U+Dc/gPuSs2z5QktY+VoDRPvN3zD4Zesc+tofCPq2hvT7WyLg+Av6zPvNBrz5mlao+BvmlPnptoT5V85w+JouYPms1lD6Z8o8+F8OLPkGnhz5nn4M+oVd/PmyZdz6NBHA+TploPuRXYT5xQFo+/1JTPo6PTD4K9kU+SIY/PhdAOT4yIzM+RS8tPvRjJz7WwCE+c0UcPkzxFj7ZwxE+h7wMPsHaBz4DbQo/s9MHP7o4BT+knAI/AAAAP7fG+j6LjvU+mFjwPvol6z7E9+U+Dc/gPuSs2z5QktY+VoDRPvN3zD4Zesc+tofCPq2hvT7WyLg+Av6zPvNBrz5klao+BvmlPnptoT5V85w+JouYPms1lD6Z8o8+F8OLPkGnhz5nn4M+oVd/PmyZdz6NBHA+TploPuRXYT5uQFo+/1JTPo6PTD4K9kU+SIY/PhdAOT4yIzM+RS8tPvRjJz7WwCE+c0UcPkzxFj7WwxE+h7wMPh4EDT8EbQo/s9MHP7s4BT+knAI/AAAAP7fG+j6MjvU+mVjwPvol6z7E9+U+Dc/gPuSs2z5QktY+V4DRPvN3zD4Zesc+tofCPq2hvT7WyLg+Av6zPvNBrz5mlao+B/mlPnptoT5V85w+JouYPmw1lD6a8o8+F8OLPkGnhz5nn4M+oVd/PmyZdz6NBHA+TploPuRXYT5wQFo+/1JTPpCPTD4K9kU+SoY/PhdAOT4yIzM+RS8tPvRjJz7WwCE+c0UcPkzxFj7YwxE+eZgPPx4EDT8DbQo/s9MHP7s4BT+knAI/AAAAP7fG+j6MjvU+mFjwPvol6z7E9+U+Dc/gPuSs2z5QktY+VoDRPvN3zD4Zesc+tofCPq2hvT7WyLg+Av6zPvNBrz5mlao+BvmlPnptoT5V85w+JouYPmw1lD6Z8o8+F8OLPkGnhz5nn4M+oVd/PmyZdz6NBHA+TJloPuRXYT5wQFo+/1JTPpCPTD4K9kU+SIY/PhdAOT4yIzM+RS8tPvRjJz7WwCE+ckUcPkzxFj6PKRI/eZgPPx4EDT8DbQo/s9MHP7o4BT+knAI/AAAAP7fG+j6LjvU+mFjwPvol6z7E9+U+Dc/gPuSs2z5QktY+VoDRPvN3zD4Zesc+tofCPq2hvT7WyLg+Av6zPvNBrz5klao+BvmlPnptoT5V85w+JouYPms1lD6Z8o8+F8OLPkGnhz5nn4M+oVd/PmyZdz6LBHA+TJloPuRXYT5wQFo+/1JTPpCPTD4K9kU+SIY/PhdAOT4yIzM+RS8tPvRjJz7VwCE+ckUcPti2FD+PKRI/eZgPPx4EDT8DbQo/s9MHP7o4BT+knAI/AAAAP7fG+j6LjvU+mFjwPvol6z7E9+U+Dc/gPuSs2z5QktY+VoDRPvJ3zD4Zesc+tofCPq2hvT7WyLg+Av6zPvNBrz5klao+BvmlPnptoT5V85w+JouYPms1lD6Z8o8+F8OLPkGnhz5nn4M+oVd/PmiZdz6LBHA+TJloPuRXYT5wQFo+/1JTPo6PTD4K9kU+SIY/PhdAOT4yIzM+RS8tPvNjJz7VwCE+1T8XP9m2FD+PKRI/eZgPPx4EDT8DbQo/s9MHP7s4BT+knAI/AAAAP7fG+j6LjvU+mFjwPvol6z7E9+U+Dc/gPuSs2z5QktY+VoDRPvN3zD4Zesc+tofCPq2hvT7WyLg+Av6zPvNBrz5mlao+B/mlPnptoT5V85w+JouYPms1lD6Z8o8+F8OLPkGnhz5nn4M+oVd/PmyZdz6NBHA+TploPuRXYT5xQFo+/1JTPo6PTD4K9kU+SIY/PhdAOT4yIzM+RS8tPvRjJz4HxBk/1T8XP9i2FD+PKRI/eZgPPx4EDT8DbQo/s9MHP7s4BT+knAI/AAAAP7fG+j6LjvU+mFjwPvol6z7E9+U+Dc/gPuSs2z5QktY+VoDRPvN3zD4Zesc+tofCPq2hvT7WyLg+Av6zPvNBrz5mlao+B/mlPnltoT5V85w+JouYPms1lD6Z8o8+F8OLPkGnhz5nn4M+oVd/PmyZdz6NBHA+TploPuRXYT5uQFo+/1JTPo6PTD4K9kU+SIY/PhdAOT4yIzM+RS8tPvNCHD8HxBk/1T8XP9m2FD+PKRI/eZgPPx4EDT8EbQo/tNMHP7s4BT+knAI/AAAAP7fG+j6MjvU+mVjwPvol6z7E9+U+Dc/gPuSs2z5QktY+V4DRPvN3zD4Zesc+tofCPq2hvT7WyLg+Av6zPvRBrz5mlao+BvmlPnptoT5V85w+JouYPmw1lD6a8o8+F8OLPkGnhz5nn4M+oVd/PmyZdz6NBHA+TploPuRXYT5wQFo+/1JTPpCPTD4K9kU+SoY/PhdAOT4yIzM+JbweP/NCHD8HxBk/1T8XP9m2FD+PKRI/eZgPPx4EDT8EbQo/s9MHP7s4BT+knAI/AAAAP7fG+j6MjvU+mFjwPvol6z7E9+U+Dc/gPuSs2z5QktY+VoDRPvN3zD4Zesc+tofCPq2hvT7WyLg+Av6zPvRBrz5klao+BvmlPnptoT5V85w+JouYPmw1lD6a8o8+F8OLPkGnhz5nn4M+oVd/PmyZdz6NBHA+TJloPuRXYT5wQFo+/1JTPpCPTD4K9kU+SIY/PhdAOT4qLyE/JbweP/NCHD8HxBk/1T8XP9i2FD+PKRI/eZgPPx4EDT8DbQo/s9MHP7o4BT+knAI/AAAAP7fG+j6LjvU+mFjwPvol6z7E9+U+Dc/gPuSs2z5QktY+VoDRPvN3zD4Zesc+tofCPq2hvT7WyLg+Av6zPvNBrz5klao+BvmlPnptoT5V85w+JouYPmw1lD6Z8o8+F8OLPkGnhz5nn4M+oVd/PmyZdz6LBHA+TJloPuRXYT5wQFo+/1JTPpCPTD4K9kU+SIY/PpWbIz8qLyE/JbweP/NCHD8HxBk/1T8XP9i2FD+PKRI/eZgPPx4EDT8DbQo/s9MHP7o4BT+knAI/AAAAP7fG+j6LjvU+mFjwPvol6z7E9+U+Dc/gPuSs2z5QktY+VoDRPvJ3zD4Zesc+tofCPq2hvT7WyLg+Af6zPvNBrz5klao+BvmlPnptoT5V85w+JouYPms1lD6Z8o8+F8OLPkGnhz5nn4M+oVd/PmiZdz6LBHA+TJloPuRXYT5wQFo+/1JTPo6PTD4K9kU+/wAmP5abIz8qLyE/JbweP/NCHD8HxBk/1T8XP9m2FD+PKRI/eZgPPx4EDT8DbQo/s9MHP7s4BT+knAI/AAAAP7fG+j6MjvU+mFjwPvol6z7E9+U+Dc/gPuSs2z5QktY+VoDRPvN3zD4Zesc+tofCPq2hvT7WyLg+Av6zPvNBrz5mlao+B/mlPnptoT5W85w+JouYPms1lD6Z8o8+F8OLPkGnhz5nn4M+oVd/PmyZdz6NBHA+TploPuRXYT5xQFo+/1JTPo6PTD4HXyg//wAmP5WbIz8qLyE/JbweP/NCHD8HxBk/1T8XP9m2FD+PKRI/eZgPPx4EDT8DbQo/s9MHP7s4BT+knAI/AAAAP7fG+j6LjvU+mFjwPvol6z7E9+U+Dc/gPuSs2z5QktY+VoDRPvN3zD4Zesc+tofCPq2hvT7WyLg+Av6zPvNBrz5mlao+B/mlPnptoT5V85w+JouYPms1lD6Z8o8+F8OLPkGnhz5nn4M+oVd/PmyZdz6NBHA+TploPuRXYT5uQFo+/1JTPk21Kj8HXyg//wAmP5WbIz8qLyE/JbweP/NCHD8HxBk/1T8XP9i2FD+PKRI/eZgPPx4EDT8DbQo/s9MHP7o4BT+knAI/AAAAP7fG+j6LjvU+mFjwPvol6z7E9+U+Dc/gPuSs2z5QktY+VoDRPvN3zD4Zesc+tofCPq2hvT7WyLg+Av6zPvNBrz5mlao+B/mlPnltoT5V85w+JouYPms1lD6Z8o8+F8OLPkGnhz5nn4M+oVd/PmyZdz6NBHA+TploPuFXYT5uQFo+fQMtP021Kj8HXyg//wAmP5abIz8qLyE/JbweP/NCHD8HxBk/1T8XP9m2FD+PKRI/eZgPPx4EDT8EbQo/s9MHP7s4BT+knAI/AAAAP7fG+j6MjvU+mFjwPvol6z7E9+U+Dc/gPuSs2z5QktY+V4DRPvN3zD4Zesc+tofCPq2hvT7WyLg+Av6zPvRBrz5mlao+BvmlPnptoT5V85w+JouYPmw1lD6a8o8+F8OLPkGnhz5nn4M+oVd/PmyZdz6NBHA+TJloPuRXYT5DSS8/fQMtP021Kj8HXyg//wAmP5WbIz8qLyE/JbweP/NCHD8HxBk/1T8XP9i2FD+PKRI/eZgPPx4EDT8DbQo/s9MHP7s4BT+knAI/AAAAP7fG+j6LjvU+mFjwPvol6z7E9+U+Dc/gPuSs2z5QktY+V4DRPvJ3zD4Zesc+tofCPq2hvT7WyLg+Av6zPvRBrz5klao+BvmlPnptoT5V85w+JouYPmw1lD6Z8o8+F8OLPkGnhz5nn4M+oVd/PmyZdz6LBHA+TJloPlWGMT9DSS8/fQMtP021Kj8HXyg//wAmP5WbIz8qLyE/JbweP/NCHD8HxBk/1T8XP9i2FD+PKRI/eZgPPx4EDT8DbQo/s9MHP7o4BT+knAI/AAAAP7fG+j6LjvU+mFjwPvol6z7E9+U+Dc/gPuSs2z5QktY+VYDRPvJ3zD4Zesc+tofCPq2hvT7WyLg+Av6zPvNBrz5klao+BvmlPnptoT5V85w+JouYPms1lD6Z8o8+F8OLPkGnhz5nn4M+oVd/PmiZdz6LBHA+bbozP1WGMT9DSS8/fQMtP021Kj8HXyg//wAmP5abIz8qLyE/JbweP/NCHD8HxBk/1T8XP9m2FD+PKRI/eZgPPx4EDT8EbQo/s9MHP7s4BT+knAI/AAAAP7fG+j6MjvU+mFjwPvol6z7E9+U+Dc/gPuSs2z5QktY+VoDRPvN3zD4Zesc+tofCPq2hvT7WyLg+Av6zPvNBrz5mlao+B/mlPnptoT5W85w+JouYPms1lD6Z8o8+F8OLPkGnhz5nn4M+oVd/PmyZdz5K5TU/bbozP1WGMT9DSS8/fQMtP021Kj8HXyg//wAmP5abIz8qLyE/JbweP/NCHD8HxBk/1T8XP9m2FD+PKRI/eZgPPx4EDT8DbQo/s9MHP7s4BT+knAI/AAAAP7fG+j6LjvU+mFjwPvol6z7E9+U+Dc/gPuSs2z5QktY+VoDRPvN3zD4Zesc+tofCPq2hvT7WyLg+Av6zPvNBrz5mlao+B/mlPnptoT5V85w+JouYPms1lD6Z8o8+F8OLPkGnhz5nn4M+oVd/PrMGOD9K5TU/bLozP1WGMT9DSS8/fQMtP021Kj8HXyg//wAmP5WbIz8qLyE/JbweP/NCHD8HxBk/1T8XP9i2FD+PKRI/eZgPPx4EDT8DbQo/s9MHP7o4BT+knAI/AAAAP7fG+j6LjvU+mFjwPvol6z7E9+U+Dc/gPuSs2z5QktY+VoDRPvN3zD4Zesc+tofCPq2hvT7WyLg+Av6zPvNBrz5mlao+B/mlPnltoT5V85w+JouYPms1lD6Z8o8+F8OLPkGnhz5nn4M+dR46P7QGOD9K5TU/bbozP1WGMT9DSS8/fQMtP021Kj8HXyg//wAmP5abIz8qLyE/JbweP/NCHD8HxBk/1T8XP9m2FD+PKRI/eZgPPx4EDT8EbQo/s9MHP7s4BT+knAI/AAAAP7fG+j6MjvU+mVjwPvol6z7E9+U+Dc/gPuSs2z5QktY+V4DRPvN3zD4Zesc+tofCPq2hvT7WyLg+Av6zPvRBrz5mlao+BvmlPnptoT5V85w+JouYPmw1lD6a8o8+F8OLPkGnhz5gLDw/dR46P7MGOD9K5TU/bbozP1WGMT9DSS8/fQMtP021Kj8HXyg//wAmP5WbIz8qLyE/JbweP/NCHD8HxBk/1T8XP9m2FD+PKRI/eZgPPx4EDT8DbQo/s9MHP7s4BT+knAI/AAAAP7fG+j6MjvU+mVjwPvol6z7E9+U+Dc/gPuSs2z5QktY+V4DRPvN3zD4Zesc+tofCPq2hvT7WyLg+Av6zPvRBrz5klao+BvmlPnptoT5V85w+JouYPmw1lD6Z8o8+F8OLPkwwPj9gLDw/dR46P7MGOD9K5TU/bLozP1WGMT9DSS8/fQMtP021Kj8HXyg//wAmP5WbIz8qLyE/JbweP/NCHD8HxBk/1T8XP9i2FD+PKRI/eZgPPx4EDT8DbQo/s9MHP7o4BT+knAI/AAAAP7fG+j6MjvU+mFjwPvol6z7E9+U+Dc/gPuSs2z5QktY+V4DRPvJ3zD4Zesc+tofCPq2hvT7WyLg+Av6zPvNBrz5klao+BvmlPnptoT5V85w+JouYPms1lD6Z8o8+GCpAP0wwPj9gLDw/dR46P7MGOD9K5TU/bLozP1WGMT9DSS8/fQMtP021Kj8HXyg//wAmP5WbIz8qLyE/JbweP/NCHD8HxBk/1T8XP9i2FD+PKRI/eZgPPx4EDT8DbQo/s9MHP7o4BT+knAI/AAAAP7fG+j6LjvU+mFjwPvol6z7E9+U+Dc/gPuSs2z5QktY+VYDRPvJ3zD4Zesc+tofCPq2hvT7WyLg+Af6zPvNBrz5klao+BvmlPnptoT5V85w+JouYPms1lD6mGUI/GCpAP0wwPj9gLDw/dR46P7MGOD9K5TU/bLozP1WGMT9DSS8/fQMtP021Kj8HXyg//wAmP5WbIz8qLyE/JbweP/NCHD8HxBk/1T8XP9i2FD+OKRI/eZgPPx4EDT8DbQo/s9MHP7o4BT+knAI/AAAAP7fG+j6LjvU+mFjwPvol6z7E9+U+Dc/gPuSs2z5QktY+VYDRPvJ3zD4Zesc+tofCPq2hvT7WyLg+Af6zPvNBrz5klao+BvmlPnptoT5V85w+JouYPt7+Qz+mGUI/GCpAP0wwPj9gLDw/dR46P7QGOD9L5TU/bbozP1WGMT9DSS8/fQMtP021Kj8HXyg/AAEmP5abIz8qLyE/JbweP/NCHD8HxBk/1T8XP9m2FD+PKRI/epgPPx4EDT8EbQo/tNMHP7s4BT+lnAI/AAAAP7fG+j6MjvU+mVjwPvol6z7F9+U+Ds/gPuSs2z5QktY+V4DRPvN3zD4Zesc+t4fCPq2hvT7WyLg+Av6zPvRBrz5mlao+B/mlPnptoT5V85w+rNlFP97+Qz+mGUI/GCpAP0wwPj9gLDw/dR46P7QGOD9L5TU/bbozP1WGMT9DSS8/fQMtP021Kj8HXyg//wAmP5abIz8qLyE/JbweP/NCHD8HxBk/1T8XP9m2FD+PKRI/eZgPPx4EDT8EbQo/tNMHP7s4BT+knAI/AAAAP7fG+j6MjvU+mVjwPvol6z7F9+U+Dc/gPuSs2z5QktY+V4DRPvN3zD4Zesc+tofCPq2hvT7WyLg+Av6zPvRBrz5mlao+BvmlPnptoT4Hqkc/rNlFP9z+Qz+mGUI/GCpAP0wwPj9gLDw/dR46P7QGOD9K5TU/bbozP1WGMT9DSS8/fQMtP021Kj8HXyg//wAmP5abIz8qLyE/JbweP/NCHD8HxBk/1T8XP9m2FD+PKRI/eZgPPx4EDT8EbQo/tNMHP7o4BT+knAI/AAAAP7fG+j6MjvU+mVjwPvol6z7E9+U+Dc/gPuSs2z5QktY+V4DRPvN3zD4Zesc+tofCPq2hvT7WyLg+Av6zPvRBrz5klao+BvmlPuRvST8Hqkc/rNlFP9z+Qz+mGUI/GCpAP0wwPj9gLDw/dR46P7MGOD9K5TU/bLozP1WGMT9DSS8/fQMtP021Kj8HXyg//wAmP5WbIz8qLyE/JbweP/NCHD8HxBk/1T8XP9i2FD+PKRI/eZgPPx4EDT8EbQo/s9MHP7o4BT+knAI/AAAAP7fG+j6MjvU+mVjwPvol6z7E9+U+Dc/gPuSs2z5QktY+V4DRPvJ3zD4Zesc+tofCPq2hvT7WyLg+Av6zPvNBrz5klao+QStLP+RvST8Hqkc/rNlFP9z+Qz+mGUI/GCpAP0wwPj9gLDw/dR46P7MGOD9K5TU/bLozP1WGMT9DSS8/fQMtP021Kj8HXyg//wAmP5WbIz8qLyE/JbweP/NCHD8HxBk/1T8XP9i2FD+PKRI/eZgPPx4EDT8DbQo/s9MHP7o4BT+knAI/AAAAP7fG+j6MjvU+mFjwPvol6z7E9+U+Dc/gPuSs2z5QktY+VYDRPvJ3zD4Zesc+tofCPq2hvT7WyLg+Af6zPvNBrz4c3Ew/QStLP+RvST8Hqkc/rNlFP9z+Qz+mGUI/GCpAP0wwPj9gLDw/dR46P7MGOD9K5TU/bLozP1WGMT9DSS8/fQMtP021Kj8HXyg//wAmP5WbIz8qLyE/JbweP/NCHD8HxBk/1T8XP9i2FD+PKRI/eZgPPx4EDT8DbQo/s9MHP7o4BT+knAI/AAAAP7fG+j6LjvU+mFjwPvol6z7E9+U+Dc/gPuSs2z5QktY+VYDRPvJ3zD4Zesc+tofCPq2hvT7WyLg+Af6zPn2CTj8c3Ew/PytLP+RvST8Hqkc/rNlFP9z+Qz+mGUI/GCpAP0wwPj9gLDw/dR46P7MGOD9K5TU/bLozP1WGMT9DSS8/fQMtP021Kj8HXyg//wAmP5SbIz8qLyE/JbweP/NCHD8HxBk/1T8XP9i2FD+PKRI/eZgPPx4EDT8DbQo/s9MHP7o4BT+knAI/AAAAP7fG+j6LjvU+mFjwPvol6z7E9+U+Dc/gPuKs2z5QktY+VYDRPvJ3zD4Zesc+tofCPqyhvT7WyLg+bh5QP36CTj8c3Ew/QStLP+RvST8Hqkc/rNlFP97+Qz+mGUI/GCpAP0wwPj9gLDw/dR46P7QGOD9L5TU/bbozP1WGMT9DSS8/fQMtP021Kj8HXyg//wAmP5abIz8qLyE/JbweP/NCHD8HxBk/1T8XP9m2FD+PKRI/eZgPPx4EDT8EbQo/tNMHP7s4BT+lnAI/AAAAP7fG+j6MjvU+mVjwPvol6z7F9+U+Dc/gPuSs2z5QktY+V4DRPvN3zD4Zesc+tofCPq2hvT76r1E/bh5QP36CTj8c3Ew/QStLP+RvST8Hqkc/rNlFP97+Qz+mGUI/GCpAP0wwPj9gLDw/dR46P7QGOD9K5TU/bbozP1WGMT9DSS8/fQMtP021Kj8HXyg//wAmP5abIz8qLyE/JbweP/NCHD8HxBk/1T8XP9i2FD+PKRI/eZgPPx4EDT8EbQo/tNMHP7s4BT+knAI/AAAAP7fG+j6MjvU+mVjwPvol6z7E9+U+Dc/gPuSs2z5QktY+V4DRPvN3zD4Zesc+tofCPjQ3Uz/6r1E/bh5QP36CTj8c3Ew/QStLP+RvST8Hqkc/rNlFP9z+Qz+mGUI/GCpAP0wwPj9gLDw/dR46P7MGOD9K5TU/bbozP1WGMT9DSS8/fQMtP021Kj8HXyg//wAmP5WbIz8qLyE/JbweP/NCHD8HxBk/1T8XP9i2FD+PKRI/eZgPPx4EDT8EbQo/tNMHP7o4BT+knAI/AAAAP7fG+j6MjvU+mVjwPvol6z7E9+U+Dc/gPuSs2z5QktY+V4DRPvJ3zD4Zesc+LrRUPzQ3Uz/6r1E/bh5QP36CTj8c3Ew/QStLP+RvST8Hqkc/rNlFP9z+Qz+mGUI/GCpAP0wwPj9gLDw/dR46P7MGOD9K5TU/bLozP1WGMT9DSS8/fQMtP021Kj8HXyg//wAmP5WbIz8qLyE/JbweP/NCHD8HxBk/1T8XP9i2FD+PKRI/eZgPPx4EDT8EbQo/s9MHP7o4BT+knAI/AAAAP7fG+j6MjvU+mFjwPvol6z7E9+U+Dc/gPuSs2z5QktY+VYDRPvJ3zD4CJ1Y/LrRUPzQ3Uz/6r1E/bh5QP32CTj8c3Ew/QStLP+RvST8Hqkc/rNlFP9z+Qz+mGUI/GCpAP0wwPj9gLDw/dR46P7MGOD9K5TU/bLozP1WGMT9DSS8/fQMtP021Kj8HXyg//wAmP5WbIz8qLyE/JbweP/NCHD8HxBk/1T8XP9i2FD+PKRI/eZgPPx4EDT8DbQo/s9MHP7o4BT+knAI/AAAAP7fG+j6LjvU+mFjwPvol6z7E9+U+Dc/gPuSs2z5QktY+VYDRPsqPVz8CJ1Y/LrRUPzQ3Uz/6r1E/bh5QP32CTj8c3Ew/QStLP+RvST8Hqkc/rNlFP9z+Qz+mGUI/GCpAP0wwPj9gLDw/dR46P7MGOD9K5TU/bLozP1WGMT9DSS8/fQMtP021Kj8HXyg//wAmP5WbIz8qLyE/JbweP/NCHD8HxBk/1T8XP9i2FD+PKRI/eZgPPx4EDT8DbQo/s9MHP7o4BT+knAI/AAAAP7fG+j6LjvU+mFjwPvol6z7E9+U+Dc/gPuKs2z5QktY+o+5YP8qPVz8CJ1Y/LrRUPzQ3Uz/6r1E/bh5QP36CTj8c3Ew/QStLP+RvST8Hqkc/rNlFP97+Qz+mGUI/GCpAP0wwPj9gLDw/dR46P7QGOD9L5TU/bbozP1WGMT9DSS8/fQMtP021Kj8HXyg/AAEmP5abIz8qLyE/JbweP/NCHD8HxBk/1T8XP9m2FD+PKRI/eZgPPx4EDT8EbQo/tNMHP7s4BT+lnAI/AAAAP7fG+j6MjvU+mVjwPvol6z7F9+U+Dc/gPuSs2z6tQ1o/o+5YP8qPVz8CJ1Y/LrRUPzQ3Uz/6r1E/bh5QP36CTj8c3Ew/QStLP+RvST8Hqkc/rNlFP97+Qz+mGUI/GCpAP0wwPj9gLDw/dR46P7QGOD9K5TU/bbozP1WGMT9DSS8/fQMtP021Kj8HXyg/AAEmP5WbIz8qLyE/JbweP/NCHD8HxBk/1T8XP9m2FD+PKRI/eZgPPx4EDT8EbQo/tNMHP7s4BT+knAI/AAAAP7fG+j6MjvU+mVjwPvol6z7E9+U+Dc/gPgqPWz+tQ1o/o+5YP8qPVz8CJ1Y/LrRUPzQ3Uz/6r1E/bh5QP36CTj8c3Ew/QStLP+RvST8Hqkc/rNlFP9z+Qz+mGUI/GCpAP0wwPj9gLDw/dR46P7MGOD9K5TU/bbozP1WGMT9DSS8/fQMtP021Kj8HXyg//wAmP5WbIz8qLyE/JbweP/NCHD8HxBk/1T8XP9i2FD+PKRI/eZgPPx4EDT8EbQo/tNMHP7o4BT+knAI/AAAAP7fG+j6MjvU+mVjwPvol6z7E9+U+39BcPwqPWz+tQ1o/o+5YP8qPVz8CJ1Y/LrRUPzQ3Uz/6r1E/bh5QP36CTj8c3Ew/QStLP+RvST8Hqkc/rNlFP9z+Qz+mGUI/GCpAP0wwPj9gLDw/dR46P7MGOD9K5TU/bLozP1WGMT9DSS8/fQMtP021Kj8HXyg//wAmP5WbIz8qLyE/JbweP/NCHD8HxBk/1T8XP9i2FD+PKRI/eZgPPx4EDT8EbQo/s9MHP7o4BT+knAI/AAAAP7fG+j6MjvU+mFjwPvol6z5QCV4/39BcPwqPWz+tQ1o/o+5YP8qPVz8CJ1Y/LrRUPzQ3Uz/6r1E/bh5QP32CTj8c3Ew/QStLP+RvST8Hqkc/rNlFP9z+Qz+mGUI/GCpAP0wwPj9gLDw/dR46P7MGOD9K5TU/bLozP1WGMT9DSS8/fQMtP021Kj8HXyg//wAmP5WbIz8qLyE/JbweP/NCHD8HxBk/1T8XP9i2FD+PKRI/eZgPPx4EDT8DbQo/s9MHP7o4BT+knAI/AAAAP7fG+j6LjvU+mFjwPoY4Xz9QCV4/3dBcPwqPWz+tQ1o/o+5YP8qPVz8CJ1Y/LrRUPzQ3Uz/6r1E/bh5QP32CTj8c3Ew/QStLP+RvST8Hqkc/rNlFP9z+Qz+mGUI/GCpAP0wwPj9gLDw/dR46P7MGOD9K5TU/bLozP1WGMT9DSS8/fQMtP021Kj8HXyg//wAmP5WbIz8qLyE/JbweP/NCHD8HxBk/1T8XP9i2FD+PKRI/eZgPPx4EDT8DbQo/s9MHP7o4BT+knAI/AAAAP7fG+j6LjvU+rF5gP4Y4Xz9QCV4/39BcPwqPWz+tQ1o/o+5YP8qPVz8CJ1Y/LrRUPzQ3Uz/6r1E/bh5QP36CTj8c3Ew/QStLP+RvST8Hqkc/rNlFP97+Qz+mGUI/GCpAP0wwPj9gLDw/dR46P7QGOD9L5TU/bbozP1aGMT9DSS8/fQMtP021Kj8HXyg/AAEmP5abIz8qLyE/JbweP/NCHD8HxBk/1T8XP9m2FD+PKRI/eZgPPx4EDT8EbQo/tNMHP7s4BT+lnAI/AAAAP7fG+j7qe2E/rF5gP4Y4Xz9QCV4/39BcPwqPWz+tQ1o/o+5YP8qPVz8CJ1Y/LrRUPzQ3Uz/6r1E/bh5QP36CTj8c3Ew/QStLP+RvST8Hqkc/rNlFP97+Qz+mGUI/GCpAP0wwPj9gLDw/dR46P7QGOD9L5TU/bbozP1WGMT9DSS8/fQMtP021Kj8HXyg/AAEmP5abIz8qLyE/JbweP/NCHD8HxBk/1T8XP9m2FD+PKRI/eZgPPx4EDT8EbQo/tNMHP7s4BT+knAI/AAAAPw==\",\"dtype\":\"float32\",\"order\":\"little\",\"shape\":[50,50]}]},\"selected\":{\"id\":\"8811\"},\"selection_policy\":{\"id\":\"8812\"}},\"id\":\"8174\",\"type\":\"ColumnDataSource\"},{\"attributes\":{\"text\":\"Softmax y2\"},\"id\":\"8153\",\"type\":\"Title\"},{\"attributes\":{},\"id\":\"8267\",\"type\":\"LinearScale\"},{\"attributes\":{\"axis_label\":\"X2\",\"formatter\":{\"id\":\"8776\"},\"ticker\":{\"id\":\"8141\"}},\"id\":\"8140\",\"type\":\"LinearAxis\"},{\"attributes\":{},\"id\":\"8159\",\"type\":\"LinearScale\"},{\"attributes\":{},\"id\":\"8269\",\"type\":\"LinearScale\"},{\"attributes\":{\"data\":{\"image\":[{\"__ndarray__\":\"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\",\"dtype\":\"float32\",\"order\":\"little\",\"shape\":[50,50]}]},\"selected\":{\"id\":\"8819\"},\"selection_policy\":{\"id\":\"8820\"}},\"id\":\"8282\",\"type\":\"ColumnDataSource\"},{\"attributes\":{\"below\":[{\"id\":\"8163\"}],\"center\":[{\"id\":\"8166\"},{\"id\":\"8170\"}],\"left\":[{\"id\":\"8167\"}],\"renderers\":[{\"id\":\"8177\"}],\"right\":[{\"id\":\"8173\"}],\"title\":{\"id\":\"8153\"},\"toolbar\":{\"id\":\"8171\"},\"x_range\":{\"id\":\"8155\"},\"x_scale\":{\"id\":\"8159\"},\"y_range\":{\"id\":\"8157\"},\"y_scale\":{\"id\":\"8161\"}},\"id\":\"8152\",\"subtype\":\"Figure\",\"type\":\"Plot\"},{\"attributes\":{\"axis_label\":\"X1\",\"formatter\":{\"id\":\"8804\"},\"ticker\":{\"id\":\"8272\"}},\"id\":\"8271\",\"type\":\"LinearAxis\"},{\"attributes\":{},\"id\":\"8272\",\"type\":\"BasicTicker\"},{\"attributes\":{\"children\":[{\"id\":\"8125\"},{\"id\":\"8152\"}]},\"id\":\"8287\",\"type\":\"Row\"},{\"attributes\":{\"axis_label\":\"X1\",\"formatter\":{\"id\":\"8780\"},\"ticker\":{\"id\":\"8164\"}},\"id\":\"8163\",\"type\":\"LinearAxis\"},{\"attributes\":{},\"id\":\"8141\",\"type\":\"BasicTicker\"},{\"attributes\":{\"axis\":{\"id\":\"8271\"},\"ticker\":null},\"id\":\"8274\",\"type\":\"Grid\"},{\"attributes\":{},\"id\":\"8782\",\"type\":\"BasicTickFormatter\"}],\"root_ids\":[\"8290\"]},\"title\":\"Bokeh Application\",\"version\":\"2.2.3\"}};\n",
       "  var render_items = [{\"docid\":\"77a1a87e-7381-43c9-8315-9bc0047d2ffa\",\"root_ids\":[\"8290\"],\"roots\":{\"8290\":\"33a4914a-2332-4079-9704-42597334f5d3\"}}];\n",
       "  root.Bokeh.embed.embed_items_notebook(docs_json, render_items);\n",
       "\n",
       "  }\n",
       "  if (root.Bokeh !== undefined) {\n",
       "    embed_document(root);\n",
       "  } else {\n",
       "    var attempts = 0;\n",
       "    var timer = setInterval(function(root) {\n",
       "      if (root.Bokeh !== undefined) {\n",
       "        clearInterval(timer);\n",
       "        embed_document(root);\n",
       "      } else {\n",
       "        attempts++;\n",
       "        if (attempts > 100) {\n",
       "          clearInterval(timer);\n",
       "          console.log(\"Bokeh: ERROR: Unable to run BokehJS code because BokehJS library is missing\");\n",
       "        }\n",
       "      }\n",
       "    }, 10, root)\n",
       "  }\n",
       "})(window);"
      ],
      "application/vnd.bokehjs_exec.v0+json": ""
     },
     "metadata": {
      "application/vnd.bokehjs_exec.v0+json": {
       "id": "8290"
      }
     },
     "output_type": "display_data"
    }
   ],
   "source": [
    "X = tf.Variable(tf.linspace(-1., 1., 50))\n",
    "X = tf.meshgrid(X, X)\n",
    "\n",
    "X1 = tf.reshape(X[0], (2500, 1))\n",
    "X2 = tf.reshape(X[1], (2500, 1))\n",
    "\n",
    "with tf.GradientTape(persistent=True) as g:\n",
    "    g.watch([X1, X2])\n",
    "    y = activations.softmax(tf.concat([X1, X2], axis=1))\n",
    "    y1, y2 = tf.split(y, [1, 1], axis=1)\n",
    "\n",
    "gradient = list()\n",
    "gradient.append(tf.concat([g.gradient(y1, X1), g.gradient(y1, X2)], axis=1))\n",
    "gradient.append(tf.concat([g.gradient(y2, X1), g.gradient(y2, X2)], axis=1))\n",
    "visualize2D('Softmax', y, gradient)"
   ]
  },
  {
   "cell_type": "code",
   "execution_count": null,
   "metadata": {},
   "outputs": [],
   "source": []
  }
 ],
 "metadata": {
  "kernelspec": {
   "display_name": "Python 3",
   "language": "python",
   "name": "python3"
  },
  "language_info": {
   "codemirror_mode": {
    "name": "ipython",
    "version": 3
   },
   "file_extension": ".py",
   "mimetype": "text/x-python",
   "name": "python",
   "nbconvert_exporter": "python",
   "pygments_lexer": "ipython3",
   "version": "3.7.9"
  }
 },
 "nbformat": 4,
 "nbformat_minor": 4
}
