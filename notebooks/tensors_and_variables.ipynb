{
 "cells": [
  {
   "cell_type": "markdown",
   "metadata": {},
   "source": [
    "## Import Packages, Environment Setting"
   ]
  },
  {
   "cell_type": "code",
   "execution_count": 1,
   "metadata": {
    "tags": []
   },
   "outputs": [],
   "source": [
    "import tensorflow as tf\n",
    "import tensorflow_probability as tfp"
   ]
  },
  {
   "cell_type": "markdown",
   "metadata": {},
   "source": [
    "## Tensor Declaration\n",
    "We often use $\\mathbf{X}$ to denote the feature tensor of the samples. The values in a tensor object is **not mutable**. The following table shows some conventional ways to structure different feature. In this note, we specifically focus on $2$-dimensional tensor for simplicity:\n",
    "\n",
    "| Data | Feature |\n",
    "|:---- |:------- |\n",
    "| Structured | $x_{i,j}$ is the $j$-th feature of the $i$-th sample. |\n",
    "| Sequential | $x_{i,p,j}$ is the $j$-th feature at position p of the $i$-th sample. |\n",
    "| Image | $x_{i,v,h,c}$ is the feature at $(h, v)$ pixel at channel $c$ of the $i$-th sample. |\n",
    "| Video | $x_{i,f,v,h,c}$ is the feature at $(h, v)$ pixel at channel $c$ at frame $f$ of the $i$-th sample. |"
   ]
  },
  {
   "cell_type": "markdown",
   "metadata": {},
   "source": [
    "## Tensors Declaration\n",
    "\n",
    "### Identity matrix\n",
    "`tf.eye(dim)` [API](https://www.tensorflow.org/api_docs/python/tf/eye)\n",
    "\n",
    "Create an identity matrix"
   ]
  },
  {
   "cell_type": "code",
   "execution_count": 2,
   "metadata": {},
   "outputs": [
    {
     "data": {
      "text/plain": [
       "<tf.Tensor: shape=(4, 4), dtype=float32, numpy=\n",
       "array([[1., 0., 0., 0.],\n",
       "       [0., 1., 0., 0.],\n",
       "       [0., 0., 1., 0.],\n",
       "       [0., 0., 0., 1.]], dtype=float32)>"
      ]
     },
     "execution_count": 2,
     "metadata": {},
     "output_type": "execute_result"
    }
   ],
   "source": [
    "tf.eye(4)"
   ]
  },
  {
   "cell_type": "markdown",
   "metadata": {},
   "source": [
    "### Tensor of ones\n",
    "\n",
    "`tf.ones(shape)` [API](https://www.tensorflow.org/api_docs/python/tf/ones)\n",
    "\n",
    "Create a tensor full of ones with the given shape"
   ]
  },
  {
   "cell_type": "code",
   "execution_count": 3,
   "metadata": {},
   "outputs": [
    {
     "data": {
      "text/plain": [
       "<tf.Tensor: shape=(4, 5), dtype=float32, numpy=\n",
       "array([[1., 1., 1., 1., 1.],\n",
       "       [1., 1., 1., 1., 1.],\n",
       "       [1., 1., 1., 1., 1.],\n",
       "       [1., 1., 1., 1., 1.]], dtype=float32)>"
      ]
     },
     "execution_count": 3,
     "metadata": {},
     "output_type": "execute_result"
    }
   ],
   "source": [
    "tf.ones((4, 5))"
   ]
  },
  {
   "cell_type": "markdown",
   "metadata": {},
   "source": [
    "### Tensor of zeros\n",
    "\n",
    "`tf.zeros(shape)` [API](https://www.tensorflow.org/api_docs/python/tf/zeros)\n",
    "\n",
    "Create a tensor full of zeros with the given shape"
   ]
  },
  {
   "cell_type": "code",
   "execution_count": 4,
   "metadata": {},
   "outputs": [
    {
     "data": {
      "text/plain": [
       "<tf.Tensor: shape=(4, 5), dtype=float32, numpy=\n",
       "array([[0., 0., 0., 0., 0.],\n",
       "       [0., 0., 0., 0., 0.],\n",
       "       [0., 0., 0., 0., 0.],\n",
       "       [0., 0., 0., 0., 0.]], dtype=float32)>"
      ]
     },
     "execution_count": 4,
     "metadata": {},
     "output_type": "execute_result"
    }
   ],
   "source": [
    "tf.zeros((4, 5))"
   ]
  },
  {
   "cell_type": "markdown",
   "metadata": {},
   "source": [
    "### Tensor of ones\n",
    "\n",
    "`tf.ones_like(tensor)` [API](https://www.tensorflow.org/api_docs/python/tf/ones_like) \n",
    "\n",
    "Create a tensor full of ones with same shape as the given tensor"
   ]
  },
  {
   "cell_type": "code",
   "execution_count": 5,
   "metadata": {},
   "outputs": [
    {
     "data": {
      "text/plain": [
       "<tf.Tensor: shape=(4, 5), dtype=float32, numpy=\n",
       "array([[1., 1., 1., 1., 1.],\n",
       "       [1., 1., 1., 1., 1.],\n",
       "       [1., 1., 1., 1., 1.],\n",
       "       [1., 1., 1., 1., 1.]], dtype=float32)>"
      ]
     },
     "execution_count": 5,
     "metadata": {},
     "output_type": "execute_result"
    }
   ],
   "source": [
    "X = tf.zeros((4, 5))\n",
    "tf.ones_like(X)"
   ]
  },
  {
   "cell_type": "markdown",
   "metadata": {},
   "source": [
    "### Tensor of zeros\n",
    "\n",
    "`tf.zeros_like(tensor)` [API](https://www.tensorflow.org/api_docs/python/tf/zeros_like)\n",
    "\n",
    "Create a tensor full of zeros with same shape as the given tensor"
   ]
  },
  {
   "cell_type": "code",
   "execution_count": 6,
   "metadata": {},
   "outputs": [
    {
     "data": {
      "text/plain": [
       "<tf.Tensor: shape=(4, 5), dtype=float32, numpy=\n",
       "array([[0., 0., 0., 0., 0.],\n",
       "       [0., 0., 0., 0., 0.],\n",
       "       [0., 0., 0., 0., 0.],\n",
       "       [0., 0., 0., 0., 0.]], dtype=float32)>"
      ]
     },
     "execution_count": 6,
     "metadata": {},
     "output_type": "execute_result"
    }
   ],
   "source": [
    "X = tf.ones((4, 5))\n",
    "tf.zeros_like(X)"
   ]
  },
  {
   "cell_type": "markdown",
   "metadata": {},
   "source": [
    "### Tensor of values sampled from normal distribution\n",
    "\n",
    "`tf.random.normal(shape, mean, stddev)` [API](https://www.tensorflow.org/api_docs/python/tf/random/normal)\n",
    "\n",
    "Create a tensor with values sampled from normal distribution"
   ]
  },
  {
   "cell_type": "code",
   "execution_count": 7,
   "metadata": {},
   "outputs": [
    {
     "data": {
      "text/plain": [
       "<tf.Tensor: shape=(4, 5), dtype=float32, numpy=\n",
       "array([[ 0.5611227 ,  0.00626846, -0.32072705,  0.7328628 , -0.7427286 ],\n",
       "       [ 0.54453015, -0.7499871 ,  0.21586704, -0.3624112 ,  0.8946143 ],\n",
       "       [ 0.4947995 ,  0.11716036,  0.66186786, -0.6555192 , -0.0829044 ],\n",
       "       [-0.11504537, -0.2242107 ,  0.520573  , -0.24790908, -0.55330634]],\n",
       "      dtype=float32)>"
      ]
     },
     "execution_count": 7,
     "metadata": {},
     "output_type": "execute_result"
    }
   ],
   "source": [
    "tf.random.normal((4, 5), 0, 0.5)"
   ]
  },
  {
   "cell_type": "markdown",
   "metadata": {},
   "source": [
    "### Tensor of values sampled from uniform distribution\n",
    "\n",
    "`tf.random.uniform(shape, min, max)` [API](https://www.tensorflow.org/api_docs/python/tf/random/uniform)\n",
    "\n",
    "Create a tensor with values sampled from uniform distribution"
   ]
  },
  {
   "cell_type": "code",
   "execution_count": 8,
   "metadata": {},
   "outputs": [
    {
     "data": {
      "text/plain": [
       "<tf.Tensor: shape=(4, 5), dtype=float32, numpy=\n",
       "array([[-1.5792332 , -2.2363796 ,  0.52635705, -1.2432559 , -0.38668972],\n",
       "       [-2.7568192 , -1.1419466 , -1.2625546 ,  0.3137622 , -0.7589686 ],\n",
       "       [ 0.5909195 , -1.5370245 , -0.15258765, -0.08633375, -0.30068612],\n",
       "       [-2.2829576 , -2.1256752 , -1.3503302 , -0.28539228, -0.31904173]],\n",
       "      dtype=float32)>"
      ]
     },
     "execution_count": 8,
     "metadata": {},
     "output_type": "execute_result"
    }
   ],
   "source": [
    "tf.random.normal((4, 5), -1, 1)"
   ]
  },
  {
   "cell_type": "markdown",
   "metadata": {},
   "source": [
    "### Tensor from Python List or Numpy Array\n",
    "\n",
    "`tf.convert_to_tensor(ref)` [API](https://www.tensorflow.org/api_docs/python/tf/convert_to_tensor)\n",
    "\n",
    "Create a tensor with the same shape as the given Python List or Numpy Array"
   ]
  },
  {
   "cell_type": "code",
   "execution_count": 9,
   "metadata": {},
   "outputs": [
    {
     "data": {
      "text/plain": [
       "<tf.Tensor: shape=(4, 5), dtype=float32, numpy=\n",
       "array([[ 0.,  1.,  2.,  3.,  4.],\n",
       "       [ 5.,  6.,  7.,  8.,  9.],\n",
       "       [10., 11., 12., 13., 14.],\n",
       "       [15., 16., 17., 18., 19.]], dtype=float32)>"
      ]
     },
     "execution_count": 9,
     "metadata": {},
     "output_type": "execute_result"
    }
   ],
   "source": [
    "data = [list(range(5 * i, 5 * i + 5)) for i in range(4)]\n",
    "tf.convert_to_tensor(data, dtype=tf.float32)"
   ]
  },
  {
   "cell_type": "markdown",
   "metadata": {},
   "source": [
    "### Duplicate Tensor\n",
    "\n",
    "`tf.identity(tensor)` [API](https://www.tensorflow.org/api_docs/python/tf/identity)\n",
    "\n",
    "Create a tensor with the same shape and values as the given Tensor (the created object is different)."
   ]
  },
  {
   "cell_type": "code",
   "execution_count": 10,
   "metadata": {},
   "outputs": [
    {
     "data": {
      "text/plain": [
       "<tf.Tensor: shape=(4, 5), dtype=int32, numpy=\n",
       "array([[ 0,  1,  2,  3,  4],\n",
       "       [ 5,  6,  7,  8,  9],\n",
       "       [10, 11, 12, 13, 14],\n",
       "       [15, 16, 17, 18, 19]])>"
      ]
     },
     "execution_count": 10,
     "metadata": {},
     "output_type": "execute_result"
    }
   ],
   "source": [
    "X = tf.convert_to_tensor(data)\n",
    "Y = tf.identity(X)\n",
    "Y"
   ]
  },
  {
   "cell_type": "code",
   "execution_count": 11,
   "metadata": {},
   "outputs": [
    {
     "data": {
      "text/plain": [
       "False"
      ]
     },
     "execution_count": 11,
     "metadata": {},
     "output_type": "execute_result"
    }
   ],
   "source": [
    "X is Y"
   ]
  },
  {
   "cell_type": "markdown",
   "metadata": {},
   "source": [
    "## Tensors Property\n",
    "\n",
    "`tf.Tensor` [API](https://www.tensorflow.org/api_docs/python/tf/Tensor) \n",
    "\n",
    "Note that unlike variables in Python, the tensor and variable with different `dtype` **cannot** perform numerical operations with each other. Therefore, it is recommended to use `tf.float32` for all the Tensors and Variables in most of the cases.\n"
   ]
  },
  {
   "cell_type": "code",
   "execution_count": 12,
   "metadata": {},
   "outputs": [
    {
     "data": {
      "text/plain": [
       "'/job:localhost/replica:0/task:0/device:CPU:0'"
      ]
     },
     "execution_count": 12,
     "metadata": {},
     "output_type": "execute_result"
    }
   ],
   "source": [
    "X.device"
   ]
  },
  {
   "cell_type": "code",
   "execution_count": 13,
   "metadata": {},
   "outputs": [
    {
     "data": {
      "text/plain": [
       "tf.int32"
      ]
     },
     "execution_count": 13,
     "metadata": {},
     "output_type": "execute_result"
    }
   ],
   "source": [
    "X.dtype"
   ]
  },
  {
   "cell_type": "code",
   "execution_count": 14,
   "metadata": {},
   "outputs": [
    {
     "data": {
      "text/plain": [
       "TensorShape([4, 5])"
      ]
     },
     "execution_count": 14,
     "metadata": {},
     "output_type": "execute_result"
    }
   ],
   "source": [
    "X.shape"
   ]
  },
  {
   "cell_type": "code",
   "execution_count": 15,
   "metadata": {},
   "outputs": [
    {
     "data": {
      "text/plain": [
       "array([[ 0,  1,  2,  3,  4],\n",
       "       [ 5,  6,  7,  8,  9],\n",
       "       [10, 11, 12, 13, 14],\n",
       "       [15, 16, 17, 18, 19]])"
      ]
     },
     "execution_count": 15,
     "metadata": {},
     "output_type": "execute_result"
    }
   ],
   "source": [
    "X.numpy()"
   ]
  },
  {
   "cell_type": "markdown",
   "metadata": {},
   "source": [
    "## Variables Declaration\n",
    "\n",
    "Since the values in Tensor objects cannot be changed, we often use Variable object for the **trainable** parameters in the neural networks.\n",
    "\n",
    "### Variable from Python List, Numpy Array or Tensor\n",
    "\n",
    "`tf.Variable(init)` [API](https://www.tensorflow.org/api_docs/python/tf/Variable)"
   ]
  },
  {
   "cell_type": "code",
   "execution_count": 16,
   "metadata": {},
   "outputs": [
    {
     "data": {
      "text/plain": [
       "<tf.Variable 'Variable:0' shape=(5, 1) dtype=float32, numpy=\n",
       "array([[0.],\n",
       "       [1.],\n",
       "       [2.],\n",
       "       [3.],\n",
       "       [4.]], dtype=float32)>"
      ]
     },
     "execution_count": 16,
     "metadata": {},
     "output_type": "execute_result"
    }
   ],
   "source": [
    "tf.Variable([[0], [1], [2], [3], [4]], dtype=tf.float32)"
   ]
  },
  {
   "cell_type": "markdown",
   "metadata": {},
   "source": [
    "### Replace all values in Variable\n",
    "\n",
    "`V.assign(values)`, `V.assign_add(delta)`, `V.assign_sub(delta)`\n",
    "\n",
    "The provided values need to have the same shape as the Variable object `V`. Note that these operations replace the values and also return a new unread Variable object if `read_value=True`"
   ]
  },
  {
   "cell_type": "code",
   "execution_count": 17,
   "metadata": {},
   "outputs": [
    {
     "data": {
      "text/plain": [
       "<tf.Variable 'Variable:0' shape=(5, 1) dtype=float32, numpy=\n",
       "array([[4.],\n",
       "       [3.],\n",
       "       [2.],\n",
       "       [1.],\n",
       "       [0.]], dtype=float32)>"
      ]
     },
     "execution_count": 17,
     "metadata": {},
     "output_type": "execute_result"
    }
   ],
   "source": [
    "w = tf.Variable([[0], [1], [2], [3], [4]], dtype=tf.float32)\n",
    "w.assign([[4], [3], [2], [1], [0]])\n",
    "w"
   ]
  },
  {
   "cell_type": "markdown",
   "metadata": {},
   "source": [
    "### Replace values in specific position in Variable\n",
    "\n",
    "`V.scatter_nd_update(indices, values)`, `V.scatter_nd_add(indices, delta)`, `V.scatter_nd_sub(indices, delta)`\n",
    "\n",
    "The provided indices need to have the same dimension as the Variable object `V`. Note that these operations replace the values and also return a new unread Variable object if `read_value=True`\n"
   ]
  },
  {
   "cell_type": "code",
   "execution_count": 18,
   "metadata": {},
   "outputs": [
    {
     "data": {
      "text/plain": [
       "<tf.Variable 'Variable:0' shape=(5, 1) dtype=float32, numpy=\n",
       "array([[0.],\n",
       "       [3.],\n",
       "       [2.],\n",
       "       [1.],\n",
       "       [0.]], dtype=float32)>"
      ]
     },
     "execution_count": 18,
     "metadata": {},
     "output_type": "execute_result"
    }
   ],
   "source": [
    "w = tf.Variable([[4], [3], [2], [1], [0]], dtype=tf.float32)\n",
    "indices = tf.convert_to_tensor([[0, 0]])\n",
    "updates = tf.convert_to_tensor([0], dtype=tf.float32)\n",
    "w.scatter_nd_update(indices, updates)\n",
    "w"
   ]
  },
  {
   "cell_type": "markdown",
   "metadata": {},
   "source": [
    "## Common Operations for Tensors and Variables\n",
    "\n",
    "### Reshape\n",
    "\n",
    "`tf.reshape(tensor, shape)` [API](https://www.tensorflow.org/api_docs/python/tf/reshape)\n",
    "\n",
    "Return the given Tensor with the given shape"
   ]
  },
  {
   "cell_type": "code",
   "execution_count": 19,
   "metadata": {},
   "outputs": [
    {
     "data": {
      "text/plain": [
       "<tf.Tensor: shape=(10, 2), dtype=float32, numpy=\n",
       "array([[ 0.,  1.],\n",
       "       [ 2.,  3.],\n",
       "       [ 4.,  5.],\n",
       "       [ 6.,  7.],\n",
       "       [ 8.,  9.],\n",
       "       [10., 11.],\n",
       "       [12., 13.],\n",
       "       [14., 15.],\n",
       "       [16., 17.],\n",
       "       [18., 19.]], dtype=float32)>"
      ]
     },
     "execution_count": 19,
     "metadata": {},
     "output_type": "execute_result"
    }
   ],
   "source": [
    "data = [list(range(5 * i, 5 * i + 5)) for i in range(4)]\n",
    "X = tf.convert_to_tensor(data, dtype=tf.float32)\n",
    "tf.reshape(X, (10, 2))"
   ]
  },
  {
   "cell_type": "markdown",
   "metadata": {},
   "source": [
    "### Transpose\n",
    "\n",
    "`tf.transpose(tensor, [dim_1, dim_2, ...])` [API](https://www.tensorflow.org/api_docs/python/tf/transpose)\n",
    "\n",
    "Return the given Tensor with swapped axes.  The original axes are denoted as `0, 1, 2, ...` . The provided permutation use the index in the Python List to indicate the new order of the original axes. For instance `[1, 0]` suggests putting the second axis of the original Tensor to the first one, and putting the first axis to the second one."
   ]
  },
  {
   "cell_type": "code",
   "execution_count": 20,
   "metadata": {},
   "outputs": [
    {
     "data": {
      "text/plain": [
       "<tf.Tensor: shape=(5, 4), dtype=float32, numpy=\n",
       "array([[ 0.,  5., 10., 15.],\n",
       "       [ 1.,  6., 11., 16.],\n",
       "       [ 2.,  7., 12., 17.],\n",
       "       [ 3.,  8., 13., 18.],\n",
       "       [ 4.,  9., 14., 19.]], dtype=float32)>"
      ]
     },
     "execution_count": 20,
     "metadata": {},
     "output_type": "execute_result"
    }
   ],
   "source": [
    "data = [list(range(5 * i, 5 * i + 5)) for i in range(4)]\n",
    "X = tf.convert_to_tensor(data, dtype=tf.float32)\n",
    "tf.transpose(X, [1, 0])"
   ]
  },
  {
   "cell_type": "markdown",
   "metadata": {},
   "source": [
    "### Split\n",
    "\n",
    "`tf.split(tensor, num, axis)` [API](https://www.tensorflow.org/api_docs/python/tf/split)\n",
    "\n",
    "Return a list consists of `num` of Tensor that split from the given Tensor in the given `axis`"
   ]
  },
  {
   "cell_type": "code",
   "execution_count": 21,
   "metadata": {},
   "outputs": [
    {
     "data": {
      "text/plain": [
       "<tf.Tensor: shape=(2, 5), dtype=int32, numpy=\n",
       "array([[0, 1, 2, 3, 4],\n",
       "       [5, 6, 7, 8, 9]])>"
      ]
     },
     "execution_count": 21,
     "metadata": {},
     "output_type": "execute_result"
    }
   ],
   "source": [
    "data = [list(range(5 * i, 5 * i + 5)) for i in range(4)]\n",
    "X = tf.convert_to_tensor(data)\n",
    "Y = tf.split(X, 2, axis=0)\n",
    "Y[0]"
   ]
  },
  {
   "cell_type": "code",
   "execution_count": 22,
   "metadata": {},
   "outputs": [
    {
     "data": {
      "text/plain": [
       "<tf.Tensor: shape=(2, 5), dtype=int32, numpy=\n",
       "array([[10, 11, 12, 13, 14],\n",
       "       [15, 16, 17, 18, 19]])>"
      ]
     },
     "execution_count": 22,
     "metadata": {},
     "output_type": "execute_result"
    }
   ],
   "source": [
    "Y[1]"
   ]
  },
  {
   "cell_type": "markdown",
   "metadata": {},
   "source": [
    "### Concatenate\n",
    "\n",
    "`tf.concat(list, axis)` [API](https://www.tensorflow.org/api_docs/python/tf/concat)\n",
    "\n",
    "Return the concatenation of list of Tensors along the given `axis`"
   ]
  },
  {
   "cell_type": "code",
   "execution_count": 23,
   "metadata": {},
   "outputs": [
    {
     "data": {
      "text/plain": [
       "<tf.Tensor: shape=(4, 5), dtype=float32, numpy=\n",
       "array([[ 0.,  1.,  2.,  3.,  4.],\n",
       "       [ 5.,  6.,  7.,  8.,  9.],\n",
       "       [10., 11., 12., 13., 14.],\n",
       "       [15., 16., 17., 18., 19.]], dtype=float32)>"
      ]
     },
     "execution_count": 23,
     "metadata": {},
     "output_type": "execute_result"
    }
   ],
   "source": [
    "a = tf.convert_to_tensor([[0., 1., 2., 3., 4.], [5., 6., 7., 8., 9.]])\n",
    "b = tf.convert_to_tensor([[10., 11., 12., 13., 14.], [15., 16., 17., 18., 19.]])\n",
    "tf.concat([a, b], axis=0)"
   ]
  },
  {
   "cell_type": "markdown",
   "metadata": {},
   "source": [
    "### Stack\n",
    "\n",
    "`tf.stack(list, axis)` [API](https://www.tensorflow.org/api_docs/python/tf/stack)\n",
    "\n",
    "Return the concatenation of list of Tensors along the given `axis`. Note the difference in shape compare to `tf.concat`."
   ]
  },
  {
   "cell_type": "code",
   "execution_count": 24,
   "metadata": {},
   "outputs": [
    {
     "data": {
      "text/plain": [
       "<tf.Tensor: shape=(2, 2, 5), dtype=float32, numpy=\n",
       "array([[[ 0.,  1.,  2.,  3.,  4.],\n",
       "        [ 5.,  6.,  7.,  8.,  9.]],\n",
       "\n",
       "       [[10., 11., 12., 13., 14.],\n",
       "        [15., 16., 17., 18., 19.]]], dtype=float32)>"
      ]
     },
     "execution_count": 24,
     "metadata": {},
     "output_type": "execute_result"
    }
   ],
   "source": [
    "a = tf.convert_to_tensor([[0., 1., 2., 3., 4.], [5., 6., 7., 8., 9.]])\n",
    "b = tf.convert_to_tensor([[10., 11., 12., 13., 14.], [15., 16., 17., 18., 19.]])\n",
    "tf.stack([a, b], axis=0)"
   ]
  },
  {
   "cell_type": "markdown",
   "metadata": {},
   "source": [
    "### Squeeze\n",
    "\n",
    "`tf.squeeze(tensor)` [API](https://www.tensorflow.org/api_docs/python/tf/squeeze)\n",
    "\n",
    "Return the tensor that remove the dimensions with only one element."
   ]
  },
  {
   "cell_type": "code",
   "execution_count": 25,
   "metadata": {},
   "outputs": [
    {
     "data": {
      "text/plain": [
       "<tf.Tensor: shape=(5,), dtype=float32, numpy=array([0., 1., 2., 3., 4.], dtype=float32)>"
      ]
     },
     "execution_count": 25,
     "metadata": {},
     "output_type": "execute_result"
    }
   ],
   "source": [
    "X = tf.convert_to_tensor([[0.], [1.], [2.], [3.], [4.]])\n",
    "tf.squeeze(X)"
   ]
  },
  {
   "cell_type": "markdown",
   "metadata": {},
   "source": [
    "### Expand Dimension\n",
    "\n",
    "`tf.expand_dim(tensor, axis)` [API](https://www.tensorflow.org/api_docs/python/tf/expand_dims)\n",
    "\n",
    "Return the tensor that expand the dimensions on the given `axis`."
   ]
  },
  {
   "cell_type": "code",
   "execution_count": 26,
   "metadata": {},
   "outputs": [
    {
     "data": {
      "text/plain": [
       "<tf.Tensor: shape=(5, 1), dtype=float32, numpy=\n",
       "array([[0.],\n",
       "       [1.],\n",
       "       [2.],\n",
       "       [3.],\n",
       "       [4.]], dtype=float32)>"
      ]
     },
     "execution_count": 26,
     "metadata": {},
     "output_type": "execute_result"
    }
   ],
   "source": [
    "X = tf.convert_to_tensor([0., 1., 2., 3., 4.])\n",
    "tf.expand_dims(X, axis=1)"
   ]
  },
  {
   "cell_type": "markdown",
   "metadata": {},
   "source": [
    "### Assign values for given condition\n",
    "\n",
    "`tf.where(condition, x, y)` [API](https://www.tensorflow.org/api_docs/python/tf/where)\n",
    "\n",
    "Create a Tensor with values equals to `x` if the condition is met for a specific position. The values equals to `y` if the condition is not met. Note that the shape for `x`, `y`the Tensor used in the condition need to be the same."
   ]
  },
  {
   "cell_type": "code",
   "execution_count": 27,
   "metadata": {},
   "outputs": [
    {
     "data": {
      "text/plain": [
       "<tf.Tensor: shape=(4, 5), dtype=float64, numpy=\n",
       "array([[  0.,   1.,   4.,   9.,  16.],\n",
       "       [ 25.,  36.,  49.,  64.,  81.],\n",
       "       [100.,   0.,   0.,   0.,   0.],\n",
       "       [  0.,   0.,   0.,   0.,   0.]])>"
      ]
     },
     "execution_count": 27,
     "metadata": {},
     "output_type": "execute_result"
    }
   ],
   "source": [
    "data = [list(range(5 * i, 5 * i + 5)) for i in range(4)]\n",
    "X = tf.convert_to_tensor(data, dtype=tf.float64)\n",
    "tf.where(X > 10, tf.zeros_like(X), tf.pow(X, 2))"
   ]
  },
  {
   "cell_type": "markdown",
   "metadata": {},
   "source": [
    "### Arithmetic Operations\n",
    "\n",
    "`tf.matmul(operand_1, operand_2)` , `operators` [API](https://www.tensorflow.org/api_docs/python/tf/linalg/matmul)\n",
    "\n",
    "The arithmetic operators performed elementwise operations, so the operands need to share the same shape."
   ]
  },
  {
   "cell_type": "code",
   "execution_count": 28,
   "metadata": {},
   "outputs": [
    {
     "data": {
      "text/plain": [
       "<tf.Tensor: shape=(4, 1), dtype=float32, numpy=\n",
       "array([[ 10.],\n",
       "       [ 60.],\n",
       "       [110.],\n",
       "       [160.]], dtype=float32)>"
      ]
     },
     "execution_count": 28,
     "metadata": {},
     "output_type": "execute_result"
    }
   ],
   "source": [
    "data = [list(range(5 * i, 5 * i + 5)) for i in range(4)]\n",
    "X = tf.convert_to_tensor(data, dtype=tf.float32)\n",
    "w = tf.Variable([[4], [3], [2], [1], [0]], dtype=tf.float32)\n",
    "tf.matmul(X, w)"
   ]
  },
  {
   "cell_type": "markdown",
   "metadata": {},
   "source": [
    "### Power and Log-transformation\n",
    "\n",
    "`tf.pow(tensor, power)` [API](https://www.tensorflow.org/api_docs/python/tf/math/pow), `tf.math.log(tensor)` [API](https://www.tensorflow.org/api_docs/python/tf/math/log)\n",
    "\n",
    "Return the Tensor after exponential natural log transformation."
   ]
  },
  {
   "cell_type": "code",
   "execution_count": 29,
   "metadata": {},
   "outputs": [
    {
     "data": {
      "text/plain": [
       "<tf.Tensor: shape=(4, 5), dtype=float64, numpy=\n",
       "array([[  0.,   1.,   4.,   9.,  16.],\n",
       "       [ 25.,  36.,  49.,  64.,  81.],\n",
       "       [100., 121., 144., 169., 196.],\n",
       "       [225., 256., 289., 324., 361.]])>"
      ]
     },
     "execution_count": 29,
     "metadata": {},
     "output_type": "execute_result"
    }
   ],
   "source": [
    "data = [list(range(5 * i, 5 * i + 5)) for i in range(4)]\n",
    "X = tf.convert_to_tensor(data, dtype=tf.float64)\n",
    "tf.pow(X, 2)"
   ]
  },
  {
   "cell_type": "markdown",
   "metadata": {},
   "source": [
    "### Basic Statistics\n",
    "\n",
    "`tf.reduce_min(tensor, axis)` [API](https://www.tensorflow.org/api_docs/python/tf/math/reduce_min), `tf.reduce_max(tensor, axis)` [API](https://www.tensorflow.org/api_docs/python/tf/math/reduce_max), `tf.reduce_sum(tensor, axis)` [API](https://www.tensorflow.org/api_docs/python/tf/math/reduce_sum), `tf.reduce_mean(tensor, axis)` [API](https://www.tensorflow.org/api_docs/python/tf/math/reduce_mean)\n",
    "\n",
    "Compute the statistics along with the given `axis`. If `axis` is not provided, compute the statistics considering the entire Tensor."
   ]
  },
  {
   "cell_type": "code",
   "execution_count": 30,
   "metadata": {},
   "outputs": [
    {
     "data": {
      "text/plain": [
       "<tf.Tensor: shape=(4,), dtype=float32, numpy=array([ 2.,  7., 12., 17.], dtype=float32)>"
      ]
     },
     "execution_count": 30,
     "metadata": {},
     "output_type": "execute_result"
    }
   ],
   "source": [
    "data = [list(range(5 * i, 5 * i + 5)) for i in range(4)]\n",
    "X = tf.convert_to_tensor(data, dtype=tf.float32)\n",
    "tf.reduce_mean(X, 1)"
   ]
  },
  {
   "cell_type": "markdown",
   "metadata": {},
   "source": [
    "### Percentile\n",
    "\n",
    "`tfp.stats.percentile(tensor, percentile, axis)` [API](https://www.tensorflow.org/probability/api_docs/python/tfp/stats/percentile)\n",
    "\n",
    "Compute the statistics along with the given `axis`. If `axis` is not provided, compute the statistics considering the entire Tensor."
   ]
  },
  {
   "cell_type": "code",
   "execution_count": 31,
   "metadata": {},
   "outputs": [
    {
     "data": {
      "text/plain": [
       "<tf.Tensor: shape=(4,), dtype=float32, numpy=array([ 2.,  7., 12., 17.], dtype=float32)>"
      ]
     },
     "execution_count": 31,
     "metadata": {},
     "output_type": "execute_result"
    }
   ],
   "source": [
    "data = [list(range(5 * i, 5 * i + 5)) for i in range(4)]\n",
    "X = tf.convert_to_tensor(data, dtype=tf.float32)\n",
    "tfp.stats.percentile(X, 50, axis=1)"
   ]
  },
  {
   "cell_type": "markdown",
   "metadata": {},
   "source": [
    "### Sort\n",
    "\n",
    "`tf.sort(tensor, axis, direction)` [API](https://www.tensorflow.org/api_docs/python/tf/sort)\n",
    "\n",
    "Return the sorted tensor on the give `axis`. Note that the original tensor remains unchanged."
   ]
  },
  {
   "cell_type": "code",
   "execution_count": 32,
   "metadata": {},
   "outputs": [
    {
     "data": {
      "text/plain": [
       "<tf.Tensor: shape=(4, 5), dtype=float32, numpy=\n",
       "array([[15., 16., 17., 18., 19.],\n",
       "       [10., 11., 12., 13., 14.],\n",
       "       [ 5.,  6.,  7.,  8.,  9.],\n",
       "       [ 0.,  1.,  2.,  3.,  4.]], dtype=float32)>"
      ]
     },
     "execution_count": 32,
     "metadata": {},
     "output_type": "execute_result"
    }
   ],
   "source": [
    "data = [list(range(5 * i, 5 * i + 5)) for i in range(4)]\n",
    "X = tf.convert_to_tensor(data, dtype=tf.float32)\n",
    "tf.sort(X, 0, 'DESCENDING')"
   ]
  },
  {
   "cell_type": "markdown",
   "metadata": {},
   "source": [
    "## Order\n",
    "\n",
    "`tf.argsort(tensor, axis, direction)` [API](https://www.tensorflow.org/api_docs/python/tf/argsort)\n",
    "\n",
    "Return the sorted order of each element in tensor on the give `axis`. "
   ]
  },
  {
   "cell_type": "code",
   "execution_count": 33,
   "metadata": {},
   "outputs": [
    {
     "data": {
      "text/plain": [
       "<tf.Tensor: shape=(4, 5), dtype=int32, numpy=\n",
       "array([[3, 3, 3, 3, 3],\n",
       "       [2, 2, 2, 2, 2],\n",
       "       [1, 1, 1, 1, 1],\n",
       "       [0, 0, 0, 0, 0]])>"
      ]
     },
     "execution_count": 33,
     "metadata": {},
     "output_type": "execute_result"
    }
   ],
   "source": [
    "data = [list(range(5 * i, 5 * i + 5)) for i in range(4)]\n",
    "X = tf.convert_to_tensor(data, dtype=tf.float32)\n",
    "tf.argsort(X, 0, 'DESCENDING')"
   ]
  }
 ],
 "metadata": {
  "kernelspec": {
   "display_name": "Python 3",
   "language": "python",
   "name": "python3"
  },
  "language_info": {
   "codemirror_mode": {
    "name": "ipython",
    "version": 3
   },
   "file_extension": ".py",
   "mimetype": "text/x-python",
   "name": "python",
   "nbconvert_exporter": "python",
   "pygments_lexer": "ipython3",
   "version": "3.7.9"
  }
 },
 "nbformat": 4,
 "nbformat_minor": 4
}
