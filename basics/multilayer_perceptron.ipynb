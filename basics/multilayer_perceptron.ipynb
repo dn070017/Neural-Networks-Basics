{
 "cells": [
  {
   "cell_type": "markdown",
   "metadata": {},
   "source": [
    "## Import Packages, Environment Setting"
   ]
  },
  {
   "cell_type": "code",
   "execution_count": 1,
   "metadata": {},
   "outputs": [
    {
     "data": {
      "text/html": [
       "\n",
       "    <div class=\"bk-root\">\n",
       "        <a href=\"https://bokeh.org\" target=\"_blank\" class=\"bk-logo bk-logo-small bk-logo-notebook\"></a>\n",
       "        <span id=\"1001\">Loading BokehJS ...</span>\n",
       "    </div>"
      ]
     },
     "metadata": {},
     "output_type": "display_data"
    },
    {
     "data": {
      "application/javascript": [
       "\n",
       "(function(root) {\n",
       "  function now() {\n",
       "    return new Date();\n",
       "  }\n",
       "\n",
       "  var force = true;\n",
       "\n",
       "  if (typeof root._bokeh_onload_callbacks === \"undefined\" || force === true) {\n",
       "    root._bokeh_onload_callbacks = [];\n",
       "    root._bokeh_is_loading = undefined;\n",
       "  }\n",
       "\n",
       "  var JS_MIME_TYPE = 'application/javascript';\n",
       "  var HTML_MIME_TYPE = 'text/html';\n",
       "  var EXEC_MIME_TYPE = 'application/vnd.bokehjs_exec.v0+json';\n",
       "  var CLASS_NAME = 'output_bokeh rendered_html';\n",
       "\n",
       "  /**\n",
       "   * Render data to the DOM node\n",
       "   */\n",
       "  function render(props, node) {\n",
       "    var script = document.createElement(\"script\");\n",
       "    node.appendChild(script);\n",
       "  }\n",
       "\n",
       "  /**\n",
       "   * Handle when an output is cleared or removed\n",
       "   */\n",
       "  function handleClearOutput(event, handle) {\n",
       "    var cell = handle.cell;\n",
       "\n",
       "    var id = cell.output_area._bokeh_element_id;\n",
       "    var server_id = cell.output_area._bokeh_server_id;\n",
       "    // Clean up Bokeh references\n",
       "    if (id != null && id in Bokeh.index) {\n",
       "      Bokeh.index[id].model.document.clear();\n",
       "      delete Bokeh.index[id];\n",
       "    }\n",
       "\n",
       "    if (server_id !== undefined) {\n",
       "      // Clean up Bokeh references\n",
       "      var cmd = \"from bokeh.io.state import curstate; print(curstate().uuid_to_server['\" + server_id + \"'].get_sessions()[0].document.roots[0]._id)\";\n",
       "      cell.notebook.kernel.execute(cmd, {\n",
       "        iopub: {\n",
       "          output: function(msg) {\n",
       "            var id = msg.content.text.trim();\n",
       "            if (id in Bokeh.index) {\n",
       "              Bokeh.index[id].model.document.clear();\n",
       "              delete Bokeh.index[id];\n",
       "            }\n",
       "          }\n",
       "        }\n",
       "      });\n",
       "      // Destroy server and session\n",
       "      var cmd = \"import bokeh.io.notebook as ion; ion.destroy_server('\" + server_id + \"')\";\n",
       "      cell.notebook.kernel.execute(cmd);\n",
       "    }\n",
       "  }\n",
       "\n",
       "  /**\n",
       "   * Handle when a new output is added\n",
       "   */\n",
       "  function handleAddOutput(event, handle) {\n",
       "    var output_area = handle.output_area;\n",
       "    var output = handle.output;\n",
       "\n",
       "    // limit handleAddOutput to display_data with EXEC_MIME_TYPE content only\n",
       "    if ((output.output_type != \"display_data\") || (!output.data.hasOwnProperty(EXEC_MIME_TYPE))) {\n",
       "      return\n",
       "    }\n",
       "\n",
       "    var toinsert = output_area.element.find(\".\" + CLASS_NAME.split(' ')[0]);\n",
       "\n",
       "    if (output.metadata[EXEC_MIME_TYPE][\"id\"] !== undefined) {\n",
       "      toinsert[toinsert.length - 1].firstChild.textContent = output.data[JS_MIME_TYPE];\n",
       "      // store reference to embed id on output_area\n",
       "      output_area._bokeh_element_id = output.metadata[EXEC_MIME_TYPE][\"id\"];\n",
       "    }\n",
       "    if (output.metadata[EXEC_MIME_TYPE][\"server_id\"] !== undefined) {\n",
       "      var bk_div = document.createElement(\"div\");\n",
       "      bk_div.innerHTML = output.data[HTML_MIME_TYPE];\n",
       "      var script_attrs = bk_div.children[0].attributes;\n",
       "      for (var i = 0; i < script_attrs.length; i++) {\n",
       "        toinsert[toinsert.length - 1].firstChild.setAttribute(script_attrs[i].name, script_attrs[i].value);\n",
       "        toinsert[toinsert.length - 1].firstChild.textContent = bk_div.children[0].textContent\n",
       "      }\n",
       "      // store reference to server id on output_area\n",
       "      output_area._bokeh_server_id = output.metadata[EXEC_MIME_TYPE][\"server_id\"];\n",
       "    }\n",
       "  }\n",
       "\n",
       "  function register_renderer(events, OutputArea) {\n",
       "\n",
       "    function append_mime(data, metadata, element) {\n",
       "      // create a DOM node to render to\n",
       "      var toinsert = this.create_output_subarea(\n",
       "        metadata,\n",
       "        CLASS_NAME,\n",
       "        EXEC_MIME_TYPE\n",
       "      );\n",
       "      this.keyboard_manager.register_events(toinsert);\n",
       "      // Render to node\n",
       "      var props = {data: data, metadata: metadata[EXEC_MIME_TYPE]};\n",
       "      render(props, toinsert[toinsert.length - 1]);\n",
       "      element.append(toinsert);\n",
       "      return toinsert\n",
       "    }\n",
       "\n",
       "    /* Handle when an output is cleared or removed */\n",
       "    events.on('clear_output.CodeCell', handleClearOutput);\n",
       "    events.on('delete.Cell', handleClearOutput);\n",
       "\n",
       "    /* Handle when a new output is added */\n",
       "    events.on('output_added.OutputArea', handleAddOutput);\n",
       "\n",
       "    /**\n",
       "     * Register the mime type and append_mime function with output_area\n",
       "     */\n",
       "    OutputArea.prototype.register_mime_type(EXEC_MIME_TYPE, append_mime, {\n",
       "      /* Is output safe? */\n",
       "      safe: true,\n",
       "      /* Index of renderer in `output_area.display_order` */\n",
       "      index: 0\n",
       "    });\n",
       "  }\n",
       "\n",
       "  // register the mime type if in Jupyter Notebook environment and previously unregistered\n",
       "  if (root.Jupyter !== undefined) {\n",
       "    var events = require('base/js/events');\n",
       "    var OutputArea = require('notebook/js/outputarea').OutputArea;\n",
       "\n",
       "    if (OutputArea.prototype.mime_types().indexOf(EXEC_MIME_TYPE) == -1) {\n",
       "      register_renderer(events, OutputArea);\n",
       "    }\n",
       "  }\n",
       "\n",
       "  \n",
       "  if (typeof (root._bokeh_timeout) === \"undefined\" || force === true) {\n",
       "    root._bokeh_timeout = Date.now() + 5000;\n",
       "    root._bokeh_failed_load = false;\n",
       "  }\n",
       "\n",
       "  var NB_LOAD_WARNING = {'data': {'text/html':\n",
       "     \"<div style='background-color: #fdd'>\\n\"+\n",
       "     \"<p>\\n\"+\n",
       "     \"BokehJS does not appear to have successfully loaded. If loading BokehJS from CDN, this \\n\"+\n",
       "     \"may be due to a slow or bad network connection. Possible fixes:\\n\"+\n",
       "     \"</p>\\n\"+\n",
       "     \"<ul>\\n\"+\n",
       "     \"<li>re-rerun `output_notebook()` to attempt to load from CDN again, or</li>\\n\"+\n",
       "     \"<li>use INLINE resources instead, as so:</li>\\n\"+\n",
       "     \"</ul>\\n\"+\n",
       "     \"<code>\\n\"+\n",
       "     \"from bokeh.resources import INLINE\\n\"+\n",
       "     \"output_notebook(resources=INLINE)\\n\"+\n",
       "     \"</code>\\n\"+\n",
       "     \"</div>\"}};\n",
       "\n",
       "  function display_loaded() {\n",
       "    var el = document.getElementById(\"1001\");\n",
       "    if (el != null) {\n",
       "      el.textContent = \"BokehJS is loading...\";\n",
       "    }\n",
       "    if (root.Bokeh !== undefined) {\n",
       "      if (el != null) {\n",
       "        el.textContent = \"BokehJS \" + root.Bokeh.version + \" successfully loaded.\";\n",
       "      }\n",
       "    } else if (Date.now() < root._bokeh_timeout) {\n",
       "      setTimeout(display_loaded, 100)\n",
       "    }\n",
       "  }\n",
       "\n",
       "\n",
       "  function run_callbacks() {\n",
       "    try {\n",
       "      root._bokeh_onload_callbacks.forEach(function(callback) {\n",
       "        if (callback != null)\n",
       "          callback();\n",
       "      });\n",
       "    } finally {\n",
       "      delete root._bokeh_onload_callbacks\n",
       "    }\n",
       "    console.debug(\"Bokeh: all callbacks have finished\");\n",
       "  }\n",
       "\n",
       "  function load_libs(css_urls, js_urls, callback) {\n",
       "    if (css_urls == null) css_urls = [];\n",
       "    if (js_urls == null) js_urls = [];\n",
       "\n",
       "    root._bokeh_onload_callbacks.push(callback);\n",
       "    if (root._bokeh_is_loading > 0) {\n",
       "      console.debug(\"Bokeh: BokehJS is being loaded, scheduling callback at\", now());\n",
       "      return null;\n",
       "    }\n",
       "    if (js_urls == null || js_urls.length === 0) {\n",
       "      run_callbacks();\n",
       "      return null;\n",
       "    }\n",
       "    console.debug(\"Bokeh: BokehJS not loaded, scheduling load and callback at\", now());\n",
       "    root._bokeh_is_loading = css_urls.length + js_urls.length;\n",
       "\n",
       "    function on_load() {\n",
       "      root._bokeh_is_loading--;\n",
       "      if (root._bokeh_is_loading === 0) {\n",
       "        console.debug(\"Bokeh: all BokehJS libraries/stylesheets loaded\");\n",
       "        run_callbacks()\n",
       "      }\n",
       "    }\n",
       "\n",
       "    function on_error() {\n",
       "      console.error(\"failed to load \" + url);\n",
       "    }\n",
       "\n",
       "    for (var i = 0; i < css_urls.length; i++) {\n",
       "      var url = css_urls[i];\n",
       "      const element = document.createElement(\"link\");\n",
       "      element.onload = on_load;\n",
       "      element.onerror = on_error;\n",
       "      element.rel = \"stylesheet\";\n",
       "      element.type = \"text/css\";\n",
       "      element.href = url;\n",
       "      console.debug(\"Bokeh: injecting link tag for BokehJS stylesheet: \", url);\n",
       "      document.body.appendChild(element);\n",
       "    }\n",
       "\n",
       "    const hashes = {\"https://cdn.bokeh.org/bokeh/release/bokeh-2.1.1.min.js\": \"kLr4fYcqcSpbuI95brIH3vnnYCquzzSxHPU6XGQCIkQRGJwhg0StNbj1eegrHs12\", \"https://cdn.bokeh.org/bokeh/release/bokeh-widgets-2.1.1.min.js\": \"xIGPmVtaOm+z0BqfSOMn4lOR6ciex448GIKG4eE61LsAvmGj48XcMQZtKcE/UXZe\", \"https://cdn.bokeh.org/bokeh/release/bokeh-tables-2.1.1.min.js\": \"Dc9u1wF/0zApGIWoBbH77iWEHtdmkuYWG839Uzmv8y8yBLXebjO9ZnERsde5Ln/P\", \"https://cdn.bokeh.org/bokeh/release/bokeh-gl-2.1.1.min.js\": \"cT9JaBz7GiRXdENrJLZNSC6eMNF3nh3fa5fTF51Svp+ukxPdwcU5kGXGPBgDCa2j\"};\n",
       "\n",
       "    for (var i = 0; i < js_urls.length; i++) {\n",
       "      var url = js_urls[i];\n",
       "      var element = document.createElement('script');\n",
       "      element.onload = on_load;\n",
       "      element.onerror = on_error;\n",
       "      element.async = false;\n",
       "      element.src = url;\n",
       "      if (url in hashes) {\n",
       "        element.crossOrigin = \"anonymous\";\n",
       "        element.integrity = \"sha384-\" + hashes[url];\n",
       "      }\n",
       "      console.debug(\"Bokeh: injecting script tag for BokehJS library: \", url);\n",
       "      document.head.appendChild(element);\n",
       "    }\n",
       "  };\n",
       "\n",
       "  function inject_raw_css(css) {\n",
       "    const element = document.createElement(\"style\");\n",
       "    element.appendChild(document.createTextNode(css));\n",
       "    document.body.appendChild(element);\n",
       "  }\n",
       "\n",
       "  \n",
       "  var js_urls = [\"https://cdn.bokeh.org/bokeh/release/bokeh-2.1.1.min.js\", \"https://cdn.bokeh.org/bokeh/release/bokeh-widgets-2.1.1.min.js\", \"https://cdn.bokeh.org/bokeh/release/bokeh-tables-2.1.1.min.js\", \"https://cdn.bokeh.org/bokeh/release/bokeh-gl-2.1.1.min.js\"];\n",
       "  var css_urls = [];\n",
       "  \n",
       "\n",
       "  var inline_js = [\n",
       "    function(Bokeh) {\n",
       "      Bokeh.set_log_level(\"info\");\n",
       "    },\n",
       "    function(Bokeh) {\n",
       "    \n",
       "    \n",
       "    }\n",
       "  ];\n",
       "\n",
       "  function run_inline_js() {\n",
       "    \n",
       "    if (root.Bokeh !== undefined || force === true) {\n",
       "      \n",
       "    for (var i = 0; i < inline_js.length; i++) {\n",
       "      inline_js[i].call(root, root.Bokeh);\n",
       "    }\n",
       "    if (force === true) {\n",
       "        display_loaded();\n",
       "      }} else if (Date.now() < root._bokeh_timeout) {\n",
       "      setTimeout(run_inline_js, 100);\n",
       "    } else if (!root._bokeh_failed_load) {\n",
       "      console.log(\"Bokeh: BokehJS failed to load within specified timeout.\");\n",
       "      root._bokeh_failed_load = true;\n",
       "    } else if (force !== true) {\n",
       "      var cell = $(document.getElementById(\"1001\")).parents('.cell').data().cell;\n",
       "      cell.output_area.append_execute_result(NB_LOAD_WARNING)\n",
       "    }\n",
       "\n",
       "  }\n",
       "\n",
       "  if (root._bokeh_is_loading === 0) {\n",
       "    console.debug(\"Bokeh: BokehJS loaded, going straight to plotting\");\n",
       "    run_inline_js();\n",
       "  } else {\n",
       "    load_libs(css_urls, js_urls, function() {\n",
       "      console.debug(\"Bokeh: BokehJS plotting callback run at\", now());\n",
       "      run_inline_js();\n",
       "    });\n",
       "  }\n",
       "}(window));"
      ],
      "application/vnd.bokehjs_load.v0+json": "\n(function(root) {\n  function now() {\n    return new Date();\n  }\n\n  var force = true;\n\n  if (typeof root._bokeh_onload_callbacks === \"undefined\" || force === true) {\n    root._bokeh_onload_callbacks = [];\n    root._bokeh_is_loading = undefined;\n  }\n\n  \n\n  \n  if (typeof (root._bokeh_timeout) === \"undefined\" || force === true) {\n    root._bokeh_timeout = Date.now() + 5000;\n    root._bokeh_failed_load = false;\n  }\n\n  var NB_LOAD_WARNING = {'data': {'text/html':\n     \"<div style='background-color: #fdd'>\\n\"+\n     \"<p>\\n\"+\n     \"BokehJS does not appear to have successfully loaded. If loading BokehJS from CDN, this \\n\"+\n     \"may be due to a slow or bad network connection. Possible fixes:\\n\"+\n     \"</p>\\n\"+\n     \"<ul>\\n\"+\n     \"<li>re-rerun `output_notebook()` to attempt to load from CDN again, or</li>\\n\"+\n     \"<li>use INLINE resources instead, as so:</li>\\n\"+\n     \"</ul>\\n\"+\n     \"<code>\\n\"+\n     \"from bokeh.resources import INLINE\\n\"+\n     \"output_notebook(resources=INLINE)\\n\"+\n     \"</code>\\n\"+\n     \"</div>\"}};\n\n  function display_loaded() {\n    var el = document.getElementById(\"1001\");\n    if (el != null) {\n      el.textContent = \"BokehJS is loading...\";\n    }\n    if (root.Bokeh !== undefined) {\n      if (el != null) {\n        el.textContent = \"BokehJS \" + root.Bokeh.version + \" successfully loaded.\";\n      }\n    } else if (Date.now() < root._bokeh_timeout) {\n      setTimeout(display_loaded, 100)\n    }\n  }\n\n\n  function run_callbacks() {\n    try {\n      root._bokeh_onload_callbacks.forEach(function(callback) {\n        if (callback != null)\n          callback();\n      });\n    } finally {\n      delete root._bokeh_onload_callbacks\n    }\n    console.debug(\"Bokeh: all callbacks have finished\");\n  }\n\n  function load_libs(css_urls, js_urls, callback) {\n    if (css_urls == null) css_urls = [];\n    if (js_urls == null) js_urls = [];\n\n    root._bokeh_onload_callbacks.push(callback);\n    if (root._bokeh_is_loading > 0) {\n      console.debug(\"Bokeh: BokehJS is being loaded, scheduling callback at\", now());\n      return null;\n    }\n    if (js_urls == null || js_urls.length === 0) {\n      run_callbacks();\n      return null;\n    }\n    console.debug(\"Bokeh: BokehJS not loaded, scheduling load and callback at\", now());\n    root._bokeh_is_loading = css_urls.length + js_urls.length;\n\n    function on_load() {\n      root._bokeh_is_loading--;\n      if (root._bokeh_is_loading === 0) {\n        console.debug(\"Bokeh: all BokehJS libraries/stylesheets loaded\");\n        run_callbacks()\n      }\n    }\n\n    function on_error() {\n      console.error(\"failed to load \" + url);\n    }\n\n    for (var i = 0; i < css_urls.length; i++) {\n      var url = css_urls[i];\n      const element = document.createElement(\"link\");\n      element.onload = on_load;\n      element.onerror = on_error;\n      element.rel = \"stylesheet\";\n      element.type = \"text/css\";\n      element.href = url;\n      console.debug(\"Bokeh: injecting link tag for BokehJS stylesheet: \", url);\n      document.body.appendChild(element);\n    }\n\n    const hashes = {\"https://cdn.bokeh.org/bokeh/release/bokeh-2.1.1.min.js\": \"kLr4fYcqcSpbuI95brIH3vnnYCquzzSxHPU6XGQCIkQRGJwhg0StNbj1eegrHs12\", \"https://cdn.bokeh.org/bokeh/release/bokeh-widgets-2.1.1.min.js\": \"xIGPmVtaOm+z0BqfSOMn4lOR6ciex448GIKG4eE61LsAvmGj48XcMQZtKcE/UXZe\", \"https://cdn.bokeh.org/bokeh/release/bokeh-tables-2.1.1.min.js\": \"Dc9u1wF/0zApGIWoBbH77iWEHtdmkuYWG839Uzmv8y8yBLXebjO9ZnERsde5Ln/P\", \"https://cdn.bokeh.org/bokeh/release/bokeh-gl-2.1.1.min.js\": \"cT9JaBz7GiRXdENrJLZNSC6eMNF3nh3fa5fTF51Svp+ukxPdwcU5kGXGPBgDCa2j\"};\n\n    for (var i = 0; i < js_urls.length; i++) {\n      var url = js_urls[i];\n      var element = document.createElement('script');\n      element.onload = on_load;\n      element.onerror = on_error;\n      element.async = false;\n      element.src = url;\n      if (url in hashes) {\n        element.crossOrigin = \"anonymous\";\n        element.integrity = \"sha384-\" + hashes[url];\n      }\n      console.debug(\"Bokeh: injecting script tag for BokehJS library: \", url);\n      document.head.appendChild(element);\n    }\n  };\n\n  function inject_raw_css(css) {\n    const element = document.createElement(\"style\");\n    element.appendChild(document.createTextNode(css));\n    document.body.appendChild(element);\n  }\n\n  \n  var js_urls = [\"https://cdn.bokeh.org/bokeh/release/bokeh-2.1.1.min.js\", \"https://cdn.bokeh.org/bokeh/release/bokeh-widgets-2.1.1.min.js\", \"https://cdn.bokeh.org/bokeh/release/bokeh-tables-2.1.1.min.js\", \"https://cdn.bokeh.org/bokeh/release/bokeh-gl-2.1.1.min.js\"];\n  var css_urls = [];\n  \n\n  var inline_js = [\n    function(Bokeh) {\n      Bokeh.set_log_level(\"info\");\n    },\n    function(Bokeh) {\n    \n    \n    }\n  ];\n\n  function run_inline_js() {\n    \n    if (root.Bokeh !== undefined || force === true) {\n      \n    for (var i = 0; i < inline_js.length; i++) {\n      inline_js[i].call(root, root.Bokeh);\n    }\n    if (force === true) {\n        display_loaded();\n      }} else if (Date.now() < root._bokeh_timeout) {\n      setTimeout(run_inline_js, 100);\n    } else if (!root._bokeh_failed_load) {\n      console.log(\"Bokeh: BokehJS failed to load within specified timeout.\");\n      root._bokeh_failed_load = true;\n    } else if (force !== true) {\n      var cell = $(document.getElementById(\"1001\")).parents('.cell').data().cell;\n      cell.output_area.append_execute_result(NB_LOAD_WARNING)\n    }\n\n  }\n\n  if (root._bokeh_is_loading === 0) {\n    console.debug(\"Bokeh: BokehJS loaded, going straight to plotting\");\n    run_inline_js();\n  } else {\n    load_libs(css_urls, js_urls, function() {\n      console.debug(\"Bokeh: BokehJS plotting callback run at\", now());\n      run_inline_js();\n    });\n  }\n}(window));"
     },
     "metadata": {},
     "output_type": "display_data"
    }
   ],
   "source": [
    "import tensorflow as tf\n",
    "import tensorflow.keras as keras\n",
    "import tensorflow.keras.losses as losses\n",
    "import tensorflow.keras.metrics as metrics\n",
    "import tensorflow.keras.optimizers as optimizers\n",
    "\n",
    "import tensorflow_datasets as tfds\n",
    "\n",
    "import numpy as np\n",
    "import itertools as it\n",
    "\n",
    "from bokeh.plotting import figure, show\n",
    "from bokeh.layouts import row\n",
    "from bokeh.io import output_notebook, reset_output\n",
    "\n",
    "reset_output()\n",
    "output_notebook()"
   ]
  },
  {
   "cell_type": "markdown",
   "metadata": {},
   "source": [
    "## Multilayer Perceptron\n",
    "### Forward Pass\n",
    "The multilayer perceptron consists of multiple layers of operations. The output of each __neuron__ in the layer is the linear combination of the input matrix followed by a activation function. For instance:\n",
    "\n",
    "$$\n",
    "\\mathbf{a}^1_1 = f^1(\\mathbf{X^0w^1_1}+b^1)\n",
    "$$\n",
    "\n",
    "The output of every neuron in the same layer will then be concatenate by columns into a matrix:\n",
    "\n",
    "$$\n",
    "\\mathbf{A}=[a_{i,j}]=\n",
    "\\begin{bmatrix}\n",
    "    \\mathbf{a}_1 & \\mathbf{a}_2 & \\cdots &　\\mathbf{a}_1\n",
    "\\end{bmatrix}=\n",
    "\\begin{bmatrix}\n",
    "    a_{1,1} & a_{1,2} & \\cdots & a_{1,n}\\\\\n",
    "    a_{2,1} & a_{2,2} & \\cdots & a_{2,n}\\\\\n",
    "    \\vdots & \\vdots & \\ddots & \\vdots\\\\\n",
    "    a_{m,1} & a_{m,2} & \\cdots & a_{m,n}\\\\\n",
    "\\end{bmatrix}\n",
    "$$\n",
    "\n",
    "and feed to the next layer as the input. This process continue until the last layer of the network, generate the prediction $\\mathbf{\\hat{Y}}$. \n",
    "\n",
    "### Backpropagation\n",
    "The objective to train this network is to find the optimal weight $\\mathbf{W}^*$ that minimize the objective function between the output of the network $\\mathbf{\\hat{Y}}$ and the groud truth target $\\mathbf{Y}$. To be more specific, we first compute the gradient of the objective function with respect to the output of the network $\\mathbf{\\hat{Y}}$,  the Jacobian matrix of every activation function from the last layer with respect to the linear transformation and the Jacobian matrix of linear transformation with respect to the weight:\n",
    "$$\n",
    "\\nabla_\\mathbf{\\hat{Y}}L(\\mathbf{Y}, \\mathbf{\\hat{Y}}),\\;\\;\\;J_{f^k}(\\mathbf{x})=\\frac{\\partial\\mathbf{a}_i^k}{\\partial\\mathbf{x}_i^k},\\;\\;\\;J_{\\mathbf{A}^{k-1}w^k_i}(\\mathbf{a_i^{k-1}})=\\frac{\\partial\\mathbf{x}_i^k}{\\partial\\mathbf{w}_i^k}=\\mathbf{a}_i^{k-1}\n",
    "$$\n",
    "The gradient of the objective function with respect to the weight in the last layer is:\n",
    "$$\n",
    "\\nabla_\\mathbf{w_1^k}L(\\mathbf{Y}, \\mathbf{\\hat{Y}})=(\\frac{\\partial\\mathbf{x}_i^{k}}{\\partial\\mathbf{w}_i^k})^T(\\frac{\\partial\\mathbf{a}_i^k}{\\partial\\mathbf{x}_i^k})^T\\nabla_\\mathbf{\\hat{Y}}L(\\mathbf{Y}, \\mathbf{\\hat{Y}})\n",
    "$$\n",
    "The process continue until the input layer. The gradient of the objective function with respect to the weight $\\mathbf{w}_i$ in layer $l$ can be written as:\n",
    "$$\n",
    "\\nabla_{w_i^l}L(\\mathbf{Y}, \\mathbf{\\hat{Y}})=(\\frac{\\partial\\mathbf{x}_i^l}{\\partial\\mathbf{w}_i^l})^T(\\frac{\\partial\\mathbf{a}_i^l}{\\partial\\mathbf{x}_i^l})^T\\sum\\limits_{j=1}^{n_{l+1}}\\nabla_\\mathbf{w_j^{l+1}}L(\\mathbf{Y}, \\mathbf{\\hat{Y}})\n",
    "$$\n",
    "After computing the gradient, We can apply gradient descent in combination with optimizers to optimize the weight in each layer $\\mathbf{W}^l$\n",
    "\n",
    "![multilayer_perceptron](assets/multilayer_perceptron.png)"
   ]
  },
  {
   "cell_type": "code",
   "execution_count": 2,
   "metadata": {},
   "outputs": [],
   "source": [
    "mnist = tfds.image.MNIST()\n",
    "mnist_data = mnist.as_dataset(batch_size=-1, shuffle_files=True)\n",
    "mnist_train, mnist_test = mnist_data[\"train\"], mnist_data[\"test\"]"
   ]
  },
  {
   "cell_type": "code",
   "execution_count": 3,
   "metadata": {},
   "outputs": [
    {
     "data": {
      "text/html": [
       "\n",
       "\n",
       "\n",
       "\n",
       "\n",
       "\n",
       "  <div class=\"bk-root\" id=\"c7f7255f-6dd5-4319-89e3-b5e2db1256c6\" data-root-id=\"1002\"></div>\n"
      ]
     },
     "metadata": {},
     "output_type": "display_data"
    },
    {
     "data": {
      "application/javascript": [
       "(function(root) {\n",
       "  function embed_document(root) {\n",
       "    \n",
       "  var docs_json = {\"6b151bab-4c80-4f33-b8c6-b3c774baf70e\":{\"roots\":{\"references\":[{\"attributes\":{\"below\":[{\"id\":\"1013\"}],\"center\":[{\"id\":\"1016\"},{\"id\":\"1020\"}],\"left\":[{\"id\":\"1017\"}],\"plot_height\":250,\"plot_width\":250,\"renderers\":[{\"id\":\"1027\"}],\"title\":{\"id\":\"1003\"},\"toolbar\":{\"id\":\"1021\"},\"x_range\":{\"id\":\"1005\"},\"x_scale\":{\"id\":\"1009\"},\"y_range\":{\"id\":\"1007\"},\"y_scale\":{\"id\":\"1011\"}},\"id\":\"1002\",\"subtype\":\"Figure\",\"type\":\"Plot\"},{\"attributes\":{},\"id\":\"1009\",\"type\":\"LinearScale\"},{\"attributes\":{},\"id\":\"1014\",\"type\":\"BasicTicker\"},{\"attributes\":{\"text\":\"Label: 4\"},\"id\":\"1003\",\"type\":\"Title\"},{\"attributes\":{},\"id\":\"1018\",\"type\":\"BasicTicker\"},{\"attributes\":{},\"id\":\"1033\",\"type\":\"BasicTickFormatter\"},{\"attributes\":{\"active_drag\":\"auto\",\"active_inspect\":\"auto\",\"active_multi\":null,\"active_scroll\":\"auto\",\"active_tap\":\"auto\"},\"id\":\"1021\",\"type\":\"Toolbar\"},{\"attributes\":{\"axis\":{\"id\":\"1013\"},\"ticker\":null},\"id\":\"1016\",\"type\":\"Grid\"},{\"attributes\":{\"axis\":{\"id\":\"1017\"},\"dimension\":1,\"ticker\":null},\"id\":\"1020\",\"type\":\"Grid\"},{\"attributes\":{},\"id\":\"1035\",\"type\":\"UnionRenderers\"},{\"attributes\":{\"data\":{\"image\":[{\"__ndarray__\":\"AAAAAAAAAAAAAAAAAAAAAAAAAAAAAAAAAAAAAAAAAAAAAAAAAAAAAAAAAAAAAAAAAAAAAAAAAAAAAAAAAAAAAAAAAAAAAAAAAAAAAAAAAAAAAAAAAAAAAAAAAAAAAGf96DAAAAAAAAAAAAAAAAAAAAAAAAAAAAAAAADP/f23CgAAAAAAAAAAAAAAAAAAAAAAAAAAAAAAYPr9/WgAAAAAAAAAAAAAAAAAAAAAAAAAAAAAAACX/f3dHAAAAAAAAAAAAAAAAAAAAAAAAAAAAAAAB8H9/bUAAAAAAAAAAAAAAAAAAAAAAAAAAAAAAABp+v3xQAAAAAAAAAAAAAAAAAAAAAAAAAAAAAAAAJb9/rsAAAAAAAAAAAAAAAAAAAAAPJU2AAAAAAAq5P77pjg4OCUAAAAAAAAAAAAAAM395goAAzux6f3+/f39/f3wwj8AAAAAAAAAAAC5/v7Rd8H+/v7+//7+/v7+/v7TGQAAAAAAAAAAMfb9/f39/f3dmYf9/f0STaD6/Z8AAAAAAAAAAAA7/f397JVDDwAItP39IAAAk/2fAAAAAAAAAAAACaj9/bIAAAAAADv9/boCAF/9mwAAAAAAAAAAAAAH5P32MgAAAAAb7P39LwBrYxYAAAAAAAAAAAAAACnz/X8AAAAAAJH9/S8AAAAAAAAAAAAAAAAAAAAAuv3tDgAAAAAb/f2kAAAAAAAAAAAAAAAAAAAAAA7c/WcAAAAAB+H98BkAAAAAAAAAAAAAAAAAAAAAuv2eAAAAAAA/+f1LAAAAAAAAAAAAAAAAAAAAAGf9lwAAAAAAAOv9SwAAAAAAAAAAAAAAAAAAAAAFhEEAAAAAAACD/ksAAAAAAAAAAAAAAAAAAAAAAAAAAAAAAAAAAAAAAAAAAAAAAAAAAAAAAAAAAAAAAAAAAAAAAAAAAAAAAAAAAAAAAAAAAAAAAAAAAAAAAAAAAAAAAAAAAAAAAAAAAAAAAAAAAAAAAAAAAAAAAAAAAAAAAAAAAAAAAAAAAAAAAAAAAAAAAAAAAAAAAAAAAAAAAAAAAA==\",\"dtype\":\"uint8\",\"order\":\"little\",\"shape\":[28,28]}]},\"selected\":{\"id\":\"1034\"},\"selection_policy\":{\"id\":\"1035\"}},\"id\":\"1022\",\"type\":\"ColumnDataSource\"},{\"attributes\":{\"palette\":[\"#000000\",\"#252525\",\"#525252\",\"#737373\",\"#969696\",\"#bdbdbd\",\"#d9d9d9\",\"#f0f0f0\",\"#ffffff\"]},\"id\":\"1026\",\"type\":\"LinearColorMapper\"},{\"attributes\":{\"color_mapper\":{\"id\":\"1026\"},\"dh\":{\"units\":\"data\",\"value\":10},\"dw\":{\"units\":\"data\",\"value\":10},\"global_alpha\":0.1,\"image\":{\"field\":\"image\"},\"x\":{\"value\":0},\"y\":{\"value\":0}},\"id\":\"1025\",\"type\":\"Image\"},{\"attributes\":{},\"id\":\"1034\",\"type\":\"Selection\"},{\"attributes\":{\"data_source\":{\"id\":\"1022\"},\"glyph\":{\"id\":\"1023\"},\"hover_glyph\":null,\"muted_glyph\":null,\"nonselection_glyph\":{\"id\":\"1025\"},\"selection_glyph\":null,\"view\":{\"id\":\"1028\"}},\"id\":\"1027\",\"type\":\"GlyphRenderer\"},{\"attributes\":{\"palette\":[\"#000000\",\"#252525\",\"#525252\",\"#737373\",\"#969696\",\"#bdbdbd\",\"#d9d9d9\",\"#f0f0f0\",\"#ffffff\"]},\"id\":\"1024\",\"type\":\"LinearColorMapper\"},{\"attributes\":{},\"id\":\"1031\",\"type\":\"BasicTickFormatter\"},{\"attributes\":{\"range_padding\":0},\"id\":\"1007\",\"type\":\"DataRange1d\"},{\"attributes\":{\"source\":{\"id\":\"1022\"}},\"id\":\"1028\",\"type\":\"CDSView\"},{\"attributes\":{\"range_padding\":0},\"id\":\"1005\",\"type\":\"DataRange1d\"},{\"attributes\":{},\"id\":\"1011\",\"type\":\"LinearScale\"},{\"attributes\":{\"color_mapper\":{\"id\":\"1024\"},\"dh\":{\"units\":\"data\",\"value\":10},\"dw\":{\"units\":\"data\",\"value\":10},\"image\":{\"field\":\"image\"},\"x\":{\"value\":0},\"y\":{\"value\":0}},\"id\":\"1023\",\"type\":\"Image\"},{\"attributes\":{\"formatter\":{\"id\":\"1033\"},\"ticker\":{\"id\":\"1018\"}},\"id\":\"1017\",\"type\":\"LinearAxis\"},{\"attributes\":{\"formatter\":{\"id\":\"1031\"},\"ticker\":{\"id\":\"1014\"}},\"id\":\"1013\",\"type\":\"LinearAxis\"}],\"root_ids\":[\"1002\"]},\"title\":\"Bokeh Application\",\"version\":\"2.1.1\"}};\n",
       "  var render_items = [{\"docid\":\"6b151bab-4c80-4f33-b8c6-b3c774baf70e\",\"root_ids\":[\"1002\"],\"roots\":{\"1002\":\"c7f7255f-6dd5-4319-89e3-b5e2db1256c6\"}}];\n",
       "  root.Bokeh.embed.embed_items_notebook(docs_json, render_items);\n",
       "\n",
       "  }\n",
       "  if (root.Bokeh !== undefined) {\n",
       "    embed_document(root);\n",
       "  } else {\n",
       "    var attempts = 0;\n",
       "    var timer = setInterval(function(root) {\n",
       "      if (root.Bokeh !== undefined) {\n",
       "        clearInterval(timer);\n",
       "        embed_document(root);\n",
       "      } else {\n",
       "        attempts++;\n",
       "        if (attempts > 100) {\n",
       "          clearInterval(timer);\n",
       "          console.log(\"Bokeh: ERROR: Unable to run BokehJS code because BokehJS library is missing\");\n",
       "        }\n",
       "      }\n",
       "    }, 10, root)\n",
       "  }\n",
       "})(window);"
      ],
      "application/vnd.bokehjs_exec.v0+json": ""
     },
     "metadata": {
      "application/vnd.bokehjs_exec.v0+json": {
       "id": "1002"
      }
     },
     "output_type": "display_data"
    }
   ],
   "source": [
    "image, label = mnist_train['image'][0], mnist_train['label'][0]\n",
    "\n",
    "fig = figure(title=f'Label: {label}', plot_height=250, plot_width=250, tools=[])\n",
    "fig.x_range.range_padding = fig.y_range.range_padding = 0\n",
    "fig.image(image=[np.flipud(tf.reshape(image, (28, 28)).numpy())], x=0, y=0, dw=10, dh=10)\n",
    "show(fig)"
   ]
  },
  {
   "cell_type": "markdown",
   "metadata": {},
   "source": [
    "## Define Network Structure"
   ]
  },
  {
   "cell_type": "code",
   "execution_count": 4,
   "metadata": {},
   "outputs": [],
   "source": [
    "model = keras.Sequential([\n",
    "    keras.layers.Flatten(input_shape=(28, 28, 1)),\n",
    "    keras.layers.Dense(128, activation='relu'),\n",
    "    keras.layers.Dense(10)\n",
    "])"
   ]
  },
  {
   "cell_type": "markdown",
   "metadata": {},
   "source": [
    "## Define Network Properties"
   ]
  },
  {
   "cell_type": "code",
   "execution_count": 5,
   "metadata": {},
   "outputs": [],
   "source": [
    "model.compile(optimizer=optimizers.Adam(), \n",
    "              loss=losses.SparseCategoricalCrossentropy(from_logits=True),\n",
    "              metrics=[metrics.SparseCategoricalAccuracy()])"
   ]
  },
  {
   "cell_type": "code",
   "execution_count": 6,
   "metadata": {},
   "outputs": [
    {
     "name": "stdout",
     "output_type": "stream",
     "text": [
      "Train on 45000 samples, validate on 15000 samples\n",
      "Epoch 1/10\n",
      "45000/45000 [==============================] - 3s 60us/sample - loss: 3.4746 - sparse_categorical_accuracy: 0.8506 - val_loss: 0.6950 - val_sparse_categorical_accuracy: 0.8363\n",
      "Epoch 2/10\n",
      "45000/45000 [==============================] - 2s 51us/sample - loss: 0.4736 - sparse_categorical_accuracy: 0.8975 - val_loss: 0.5141 - val_sparse_categorical_accuracy: 0.9028\n",
      "Epoch 3/10\n",
      "45000/45000 [==============================] - 2s 51us/sample - loss: 0.3364 - sparse_categorical_accuracy: 0.9180 - val_loss: 0.3959 - val_sparse_categorical_accuracy: 0.9170\n",
      "Epoch 4/10\n",
      "45000/45000 [==============================] - 2s 53us/sample - loss: 0.2855 - sparse_categorical_accuracy: 0.9287 - val_loss: 0.3382 - val_sparse_categorical_accuracy: 0.9205\n",
      "Epoch 5/10\n",
      "45000/45000 [==============================] - 2s 51us/sample - loss: 0.2469 - sparse_categorical_accuracy: 0.9374 - val_loss: 0.3755 - val_sparse_categorical_accuracy: 0.9253\n",
      "Epoch 6/10\n",
      "45000/45000 [==============================] - 2s 49us/sample - loss: 0.2305 - sparse_categorical_accuracy: 0.9430 - val_loss: 0.2762 - val_sparse_categorical_accuracy: 0.9368\n",
      "Epoch 7/10\n",
      "45000/45000 [==============================] - 2s 50us/sample - loss: 0.2081 - sparse_categorical_accuracy: 0.9478 - val_loss: 0.2754 - val_sparse_categorical_accuracy: 0.9405\n",
      "Epoch 8/10\n",
      "45000/45000 [==============================] - 2s 50us/sample - loss: 0.2071 - sparse_categorical_accuracy: 0.9506 - val_loss: 0.3136 - val_sparse_categorical_accuracy: 0.9365\n",
      "Epoch 9/10\n",
      "45000/45000 [==============================] - 2s 51us/sample - loss: 0.1912 - sparse_categorical_accuracy: 0.9536 - val_loss: 0.3105 - val_sparse_categorical_accuracy: 0.9391\n",
      "Epoch 10/10\n",
      "45000/45000 [==============================] - 2s 50us/sample - loss: 0.1862 - sparse_categorical_accuracy: 0.9541 - val_loss: 0.3023 - val_sparse_categorical_accuracy: 0.9403\n"
     ]
    }
   ],
   "source": [
    "history = model.fit(mnist_train['image'], mnist_train['label'], epochs=10, validation_split=0.25)"
   ]
  },
  {
   "cell_type": "code",
   "execution_count": 7,
   "metadata": {},
   "outputs": [],
   "source": [
    "train_accuracy = history.history['sparse_categorical_accuracy']\n",
    "val_accuracy = history.history['val_sparse_categorical_accuracy']\n",
    "train_loss, val_loss = history.history['loss'], history.history['val_loss']"
   ]
  },
  {
   "cell_type": "code",
   "execution_count": 8,
   "metadata": {},
   "outputs": [
    {
     "data": {
      "text/html": [
       "\n",
       "\n",
       "\n",
       "\n",
       "\n",
       "\n",
       "  <div class=\"bk-root\" id=\"a7caef6a-e0ec-490e-9088-e45743226dea\" data-root-id=\"1176\"></div>\n"
      ]
     },
     "metadata": {},
     "output_type": "display_data"
    },
    {
     "data": {
      "application/javascript": [
       "(function(root) {\n",
       "  function embed_document(root) {\n",
       "    \n",
       "  var docs_json = {\"d85c4cc6-2284-43b2-b804-2698abb99d60\":{\"roots\":{\"references\":[{\"attributes\":{\"children\":[{\"id\":\"1127\"},{\"id\":\"1078\"}]},\"id\":\"1176\",\"type\":\"Row\"},{\"attributes\":{\"axis\":{\"id\":\"1093\"},\"dimension\":1,\"ticker\":null},\"id\":\"1096\",\"type\":\"Grid\"},{\"attributes\":{\"line_alpha\":0.1,\"line_color\":\"salmon\",\"line_width\":5,\"x\":{\"field\":\"x\"},\"y\":{\"field\":\"y\"}},\"id\":\"1149\",\"type\":\"Line\"},{\"attributes\":{\"below\":[{\"id\":\"1089\"}],\"center\":[{\"id\":\"1092\"},{\"id\":\"1096\"},{\"id\":\"1110\"}],\"left\":[{\"id\":\"1093\"}],\"plot_height\":500,\"plot_width\":500,\"renderers\":[{\"id\":\"1101\"},{\"id\":\"1115\"}],\"title\":{\"id\":\"1079\"},\"toolbar\":{\"id\":\"1097\"},\"x_range\":{\"id\":\"1081\"},\"x_scale\":{\"id\":\"1085\"},\"y_range\":{\"id\":\"1083\"},\"y_scale\":{\"id\":\"1087\"}},\"id\":\"1078\",\"subtype\":\"Figure\",\"type\":\"Plot\"},{\"attributes\":{\"data_source\":{\"id\":\"1098\"},\"glyph\":{\"id\":\"1099\"},\"hover_glyph\":null,\"muted_glyph\":null,\"nonselection_glyph\":{\"id\":\"1100\"},\"selection_glyph\":null,\"view\":{\"id\":\"1102\"}},\"id\":\"1101\",\"type\":\"GlyphRenderer\"},{\"attributes\":{\"label\":{\"value\":\"validation\"},\"renderers\":[{\"id\":\"1164\"}]},\"id\":\"1175\",\"type\":\"LegendItem\"},{\"attributes\":{\"line_alpha\":0.1,\"line_color\":\"limegreen\",\"line_width\":5,\"x\":{\"field\":\"x\"},\"y\":{\"field\":\"y\"}},\"id\":\"1114\",\"type\":\"Line\"},{\"attributes\":{\"source\":{\"id\":\"1098\"}},\"id\":\"1102\",\"type\":\"CDSView\"},{\"attributes\":{\"data\":{\"x\":{\"__ndarray__\":\"AQAAAAIAAAADAAAABAAAAAUAAAAGAAAABwAAAAgAAAAJAAAACgAAAA==\",\"dtype\":\"int32\",\"order\":\"little\",\"shape\":[10]},\"y\":[0.6949711031277974,0.514136903733015,0.3958962843000889,0.33818241955588263,0.37553903973698616,0.2762396152379612,0.2754035666730255,0.3136141466061274,0.3104877633621295,0.3022893728966514]},\"selected\":{\"id\":\"1124\"},\"selection_policy\":{\"id\":\"1125\"}},\"id\":\"1112\",\"type\":\"ColumnDataSource\"},{\"attributes\":{\"source\":{\"id\":\"1112\"}},\"id\":\"1116\",\"type\":\"CDSView\"},{\"attributes\":{\"text\":\"Loss\"},\"id\":\"1079\",\"type\":\"Title\"},{\"attributes\":{\"line_color\":\"salmon\",\"line_width\":5,\"x\":{\"field\":\"x\"},\"y\":{\"field\":\"y\"}},\"id\":\"1148\",\"type\":\"Line\"},{\"attributes\":{\"axis\":{\"id\":\"1138\"},\"ticker\":null},\"id\":\"1141\",\"type\":\"Grid\"},{\"attributes\":{},\"id\":\"1083\",\"type\":\"DataRange1d\"},{\"attributes\":{},\"id\":\"1157\",\"type\":\"Selection\"},{\"attributes\":{},\"id\":\"1125\",\"type\":\"UnionRenderers\"},{\"attributes\":{\"formatter\":{\"id\":\"1156\"},\"ticker\":{\"id\":\"1143\"}},\"id\":\"1142\",\"type\":\"LinearAxis\"},{\"attributes\":{\"label\":{\"value\":\"train\"},\"renderers\":[{\"id\":\"1101\"}]},\"id\":\"1111\",\"type\":\"LegendItem\"},{\"attributes\":{\"data\":{\"x\":{\"__ndarray__\":\"AQAAAAIAAAADAAAABAAAAAUAAAAGAAAABwAAAAgAAAAJAAAACgAAAA==\",\"dtype\":\"int32\",\"order\":\"little\",\"shape\":[10]},\"y\":[0.8363333344459534,0.9028000235557556,0.9169999957084656,0.9205333590507507,0.9253333210945129,0.9368000030517578,0.9404666423797607,0.9364666938781738,0.93913334608078,0.9402666687965393]},\"selected\":{\"id\":\"1173\"},\"selection_policy\":{\"id\":\"1174\"}},\"id\":\"1161\",\"type\":\"ColumnDataSource\"},{\"attributes\":{},\"id\":\"1143\",\"type\":\"BasicTicker\"},{\"attributes\":{\"data_source\":{\"id\":\"1147\"},\"glyph\":{\"id\":\"1148\"},\"hover_glyph\":null,\"muted_glyph\":null,\"nonselection_glyph\":{\"id\":\"1149\"},\"selection_glyph\":null,\"view\":{\"id\":\"1151\"}},\"id\":\"1150\",\"type\":\"GlyphRenderer\"},{\"attributes\":{\"active_drag\":\"auto\",\"active_inspect\":\"auto\",\"active_multi\":null,\"active_scroll\":\"auto\",\"active_tap\":\"auto\"},\"id\":\"1146\",\"type\":\"Toolbar\"},{\"attributes\":{},\"id\":\"1081\",\"type\":\"DataRange1d\"},{\"attributes\":{\"source\":{\"id\":\"1147\"}},\"id\":\"1151\",\"type\":\"CDSView\"},{\"attributes\":{},\"id\":\"1174\",\"type\":\"UnionRenderers\"},{\"attributes\":{},\"id\":\"1156\",\"type\":\"BasicTickFormatter\"},{\"attributes\":{},\"id\":\"1109\",\"type\":\"UnionRenderers\"},{\"attributes\":{\"below\":[{\"id\":\"1138\"}],\"center\":[{\"id\":\"1141\"},{\"id\":\"1145\"},{\"id\":\"1159\"}],\"left\":[{\"id\":\"1142\"}],\"plot_height\":500,\"plot_width\":500,\"renderers\":[{\"id\":\"1150\"},{\"id\":\"1164\"}],\"title\":{\"id\":\"1128\"},\"toolbar\":{\"id\":\"1146\"},\"x_range\":{\"id\":\"1130\"},\"x_scale\":{\"id\":\"1134\"},\"y_range\":{\"id\":\"1132\"},\"y_scale\":{\"id\":\"1136\"}},\"id\":\"1127\",\"subtype\":\"Figure\",\"type\":\"Plot\"},{\"attributes\":{\"text\":\"Accuracy\"},\"id\":\"1128\",\"type\":\"Title\"},{\"attributes\":{},\"id\":\"1158\",\"type\":\"UnionRenderers\"},{\"attributes\":{},\"id\":\"1108\",\"type\":\"Selection\"},{\"attributes\":{},\"id\":\"1154\",\"type\":\"BasicTickFormatter\"},{\"attributes\":{\"label\":{\"value\":\"validation\"},\"renderers\":[{\"id\":\"1115\"}]},\"id\":\"1126\",\"type\":\"LegendItem\"},{\"attributes\":{\"axis\":{\"id\":\"1142\"},\"dimension\":1,\"ticker\":null},\"id\":\"1145\",\"type\":\"Grid\"},{\"attributes\":{\"formatter\":{\"id\":\"1105\"},\"ticker\":{\"id\":\"1090\"}},\"id\":\"1089\",\"type\":\"LinearAxis\"},{\"attributes\":{\"data\":{\"x\":{\"__ndarray__\":\"AQAAAAIAAAADAAAABAAAAAUAAAAGAAAABwAAAAgAAAAJAAAACgAAAA==\",\"dtype\":\"int32\",\"order\":\"little\",\"shape\":[10]},\"y\":[0.8506222367286682,0.8974888920783997,0.9179777503013611,0.9287111163139343,0.9373555779457092,0.9429555535316467,0.9477777481079102,0.9506000280380249,0.9535777568817139,0.9540888667106628]},\"selected\":{\"id\":\"1157\"},\"selection_policy\":{\"id\":\"1158\"}},\"id\":\"1147\",\"type\":\"ColumnDataSource\"},{\"attributes\":{},\"id\":\"1105\",\"type\":\"BasicTickFormatter\"},{\"attributes\":{\"data\":{\"x\":{\"__ndarray__\":\"AQAAAAIAAAADAAAABAAAAAUAAAAGAAAABwAAAAgAAAAJAAAACgAAAA==\",\"dtype\":\"int32\",\"order\":\"little\",\"shape\":[10]},\"y\":[3.4745700475108228,0.47359142027795315,0.33641384074389935,0.28549904913206897,0.24687043759665556,0.2305288657695262,0.2080865770544236,0.20713713618549162,0.1911926427875335,0.18621701028152213]},\"selected\":{\"id\":\"1108\"},\"selection_policy\":{\"id\":\"1109\"}},\"id\":\"1098\",\"type\":\"ColumnDataSource\"},{\"attributes\":{},\"id\":\"1085\",\"type\":\"LinearScale\"},{\"attributes\":{\"line_color\":\"salmon\",\"line_width\":5,\"x\":{\"field\":\"x\"},\"y\":{\"field\":\"y\"}},\"id\":\"1099\",\"type\":\"Line\"},{\"attributes\":{},\"id\":\"1087\",\"type\":\"LinearScale\"},{\"attributes\":{\"label\":{\"value\":\"train\"},\"renderers\":[{\"id\":\"1150\"}]},\"id\":\"1160\",\"type\":\"LegendItem\"},{\"attributes\":{\"data_source\":{\"id\":\"1112\"},\"glyph\":{\"id\":\"1113\"},\"hover_glyph\":null,\"muted_glyph\":null,\"nonselection_glyph\":{\"id\":\"1114\"},\"selection_glyph\":null,\"view\":{\"id\":\"1116\"}},\"id\":\"1115\",\"type\":\"GlyphRenderer\"},{\"attributes\":{},\"id\":\"1132\",\"type\":\"DataRange1d\"},{\"attributes\":{\"items\":[{\"id\":\"1111\"},{\"id\":\"1126\"}]},\"id\":\"1110\",\"type\":\"Legend\"},{\"attributes\":{\"line_alpha\":0.1,\"line_color\":\"limegreen\",\"line_width\":5,\"x\":{\"field\":\"x\"},\"y\":{\"field\":\"y\"}},\"id\":\"1163\",\"type\":\"Line\"},{\"attributes\":{},\"id\":\"1130\",\"type\":\"DataRange1d\"},{\"attributes\":{},\"id\":\"1090\",\"type\":\"BasicTicker\"},{\"attributes\":{\"items\":[{\"id\":\"1160\"},{\"id\":\"1175\"}]},\"id\":\"1159\",\"type\":\"Legend\"},{\"attributes\":{\"line_color\":\"limegreen\",\"line_width\":5,\"x\":{\"field\":\"x\"},\"y\":{\"field\":\"y\"}},\"id\":\"1162\",\"type\":\"Line\"},{\"attributes\":{},\"id\":\"1107\",\"type\":\"BasicTickFormatter\"},{\"attributes\":{\"axis\":{\"id\":\"1089\"},\"ticker\":null},\"id\":\"1092\",\"type\":\"Grid\"},{\"attributes\":{\"formatter\":{\"id\":\"1154\"},\"ticker\":{\"id\":\"1139\"}},\"id\":\"1138\",\"type\":\"LinearAxis\"},{\"attributes\":{\"formatter\":{\"id\":\"1107\"},\"ticker\":{\"id\":\"1094\"}},\"id\":\"1093\",\"type\":\"LinearAxis\"},{\"attributes\":{},\"id\":\"1094\",\"type\":\"BasicTicker\"},{\"attributes\":{},\"id\":\"1173\",\"type\":\"Selection\"},{\"attributes\":{},\"id\":\"1124\",\"type\":\"Selection\"},{\"attributes\":{\"data_source\":{\"id\":\"1161\"},\"glyph\":{\"id\":\"1162\"},\"hover_glyph\":null,\"muted_glyph\":null,\"nonselection_glyph\":{\"id\":\"1163\"},\"selection_glyph\":null,\"view\":{\"id\":\"1165\"}},\"id\":\"1164\",\"type\":\"GlyphRenderer\"},{\"attributes\":{},\"id\":\"1134\",\"type\":\"LinearScale\"},{\"attributes\":{\"active_drag\":\"auto\",\"active_inspect\":\"auto\",\"active_multi\":null,\"active_scroll\":\"auto\",\"active_tap\":\"auto\"},\"id\":\"1097\",\"type\":\"Toolbar\"},{\"attributes\":{\"line_alpha\":0.1,\"line_color\":\"salmon\",\"line_width\":5,\"x\":{\"field\":\"x\"},\"y\":{\"field\":\"y\"}},\"id\":\"1100\",\"type\":\"Line\"},{\"attributes\":{\"source\":{\"id\":\"1161\"}},\"id\":\"1165\",\"type\":\"CDSView\"},{\"attributes\":{\"line_color\":\"limegreen\",\"line_width\":5,\"x\":{\"field\":\"x\"},\"y\":{\"field\":\"y\"}},\"id\":\"1113\",\"type\":\"Line\"},{\"attributes\":{},\"id\":\"1136\",\"type\":\"LinearScale\"},{\"attributes\":{},\"id\":\"1139\",\"type\":\"BasicTicker\"}],\"root_ids\":[\"1176\"]},\"title\":\"Bokeh Application\",\"version\":\"2.1.1\"}};\n",
       "  var render_items = [{\"docid\":\"d85c4cc6-2284-43b2-b804-2698abb99d60\",\"root_ids\":[\"1176\"],\"roots\":{\"1176\":\"a7caef6a-e0ec-490e-9088-e45743226dea\"}}];\n",
       "  root.Bokeh.embed.embed_items_notebook(docs_json, render_items);\n",
       "\n",
       "  }\n",
       "  if (root.Bokeh !== undefined) {\n",
       "    embed_document(root);\n",
       "  } else {\n",
       "    var attempts = 0;\n",
       "    var timer = setInterval(function(root) {\n",
       "      if (root.Bokeh !== undefined) {\n",
       "        clearInterval(timer);\n",
       "        embed_document(root);\n",
       "      } else {\n",
       "        attempts++;\n",
       "        if (attempts > 100) {\n",
       "          clearInterval(timer);\n",
       "          console.log(\"Bokeh: ERROR: Unable to run BokehJS code because BokehJS library is missing\");\n",
       "        }\n",
       "      }\n",
       "    }, 10, root)\n",
       "  }\n",
       "})(window);"
      ],
      "application/vnd.bokehjs_exec.v0+json": ""
     },
     "metadata": {
      "application/vnd.bokehjs_exec.v0+json": {
       "id": "1176"
      }
     },
     "output_type": "display_data"
    }
   ],
   "source": [
    "num_epochs = np.arange(len(train_loss)) + 1\n",
    "fig_loss = figure(title=f'Loss', plot_height=500, plot_width=500, tools=[])\n",
    "fig_loss.line(num_epochs, train_loss, color='salmon', line_width=5, legend_label='train')\n",
    "fig_loss.line(num_epochs, val_loss, color='limegreen', line_width=5, legend_label='validation')\n",
    "fig_acc = figure(title=f'Accuracy', plot_height=500, plot_width=500, tools=[])\n",
    "fig_acc.line(num_epochs, train_accuracy, color='salmon', line_width=5, legend_label='train')\n",
    "fig_acc.line(num_epochs, val_accuracy, color='limegreen', line_width=5, legend_label='validation')\n",
    "show(row(fig_acc, fig_loss))"
   ]
  },
  {
   "cell_type": "code",
   "execution_count": 9,
   "metadata": {},
   "outputs": [],
   "source": [
    "y_pred = model.predict(mnist_test['image'])"
   ]
  },
  {
   "cell_type": "code",
   "execution_count": 10,
   "metadata": {},
   "outputs": [
    {
     "data": {
      "text/html": [
       "\n",
       "\n",
       "\n",
       "\n",
       "\n",
       "\n",
       "  <div class=\"bk-root\" id=\"97f4d6e0-070c-41be-a6ea-198792eac78c\" data-root-id=\"1310\"></div>\n"
      ]
     },
     "metadata": {},
     "output_type": "display_data"
    },
    {
     "data": {
      "application/javascript": [
       "(function(root) {\n",
       "  function embed_document(root) {\n",
       "    \n",
       "  var docs_json = {\"557d4673-fab9-4fd1-9e5e-2137819aca5b\":{\"roots\":{\"references\":[{\"attributes\":{\"below\":[{\"id\":\"1321\"}],\"center\":[{\"id\":\"1324\"},{\"id\":\"1328\"}],\"left\":[{\"id\":\"1325\"}],\"plot_height\":250,\"plot_width\":250,\"renderers\":[{\"id\":\"1335\"}],\"title\":{\"id\":\"1311\"},\"toolbar\":{\"id\":\"1329\"},\"x_range\":{\"id\":\"1313\"},\"x_scale\":{\"id\":\"1317\"},\"y_range\":{\"id\":\"1315\"},\"y_scale\":{\"id\":\"1319\"}},\"id\":\"1310\",\"subtype\":\"Figure\",\"type\":\"Plot\"},{\"attributes\":{},\"id\":\"1367\",\"type\":\"Selection\"},{\"attributes\":{\"range_padding\":0},\"id\":\"1315\",\"type\":\"DataRange1d\"},{\"attributes\":{},\"id\":\"1366\",\"type\":\"BasicTickFormatter\"},{\"attributes\":{},\"id\":\"1368\",\"type\":\"UnionRenderers\"},{\"attributes\":{\"formatter\":{\"id\":\"1364\"},\"ticker\":{\"id\":\"1322\"}},\"id\":\"1321\",\"type\":\"LinearAxis\"},{\"attributes\":{},\"id\":\"1326\",\"type\":\"BasicTicker\"},{\"attributes\":{\"color_mapper\":{\"id\":\"1332\"},\"dh\":{\"units\":\"data\",\"value\":10},\"dw\":{\"units\":\"data\",\"value\":10},\"image\":{\"field\":\"image\"},\"x\":{\"value\":0},\"y\":{\"value\":0}},\"id\":\"1331\",\"type\":\"Image\"},{\"attributes\":{},\"id\":\"1319\",\"type\":\"LinearScale\"},{\"attributes\":{\"palette\":[\"#000000\",\"#252525\",\"#525252\",\"#737373\",\"#969696\",\"#bdbdbd\",\"#d9d9d9\",\"#f0f0f0\",\"#ffffff\"]},\"id\":\"1332\",\"type\":\"LinearColorMapper\"},{\"attributes\":{\"data\":{\"image\":[{\"__ndarray__\":\"AAAAAAAAAAAAAAAAAAAAAAAAAAAAAAAAAAAAAAAAAAAAAAAAAAAAAAAAAAAAAAAAAAAAAAAAAAAAAAAAAAAAAAAAAAAAAAAAAAAAAAAAAAAAAAAAAAAAAAAAAAAAAAAAAAAAAAAAAAAAAAAAAAAAAAAAAAAAAAAAAAAAAAAAAAAAAAAAAAAAAAAAAAAAAAAAAAAAAAAAAAAAAAAAAAAAAAAAAAAAAAAAAAAAAAAAAAAAAAAAAEvV+YEFAAAAAAAAAAAAAAAAAAAAAAAAAAAAVM30/v7+lQAAAAAAAAAAAAAAAAAAAAAAAAAJfPz+/v7+/vNsAAAAAAAAAAAAAAAAAAAAAAAALv7+/v7+/v7+/p4GAAAAAAAAAAAAAAAAAAAAAMr++ke1/v6Rm/7+IAAAAAAAAAAAAAAAAAAAACr0/qkAGPX+yxOU/rwAAAAAAAAAAAAAAAAAAAA6/v5qAAB39f7VUf79NwAAAAAAAAAAAAAAAAAAOv7+uQAAAHn+/u7+/jkAAAAAAAAAAAAAAAAAABLk/skAAAAFp/7+/uQSAAAAAAAAAAAAAAAAAAAAbf77KQAAAAWd4/FDAAAAAAAAAAAAAAAAAAAAABn+/jAAAAAAABUjAAAAAAAAAAAAAAAAAAAAAAAR6f7MAAAAAAAAAAAAAAAAAAAAAAAAAAAAAAAAAIL+9ioAAAAAAAAAAAAAAAAAAAAAAAAAAAAAAAAT9P53AQAAAAAAAAAAAAAAAAAAAAAAAAAAAAAAAFf+/k4AAAAAAAAAAAAAAAAAAAAAAAAAAAAAAAAG2P7MBwAAAAAAAAAAAAAAAAAAAAAAAAAAAAAAAGT9/lYAAAAAAAAAAAAAAAAAAAAAAAAAAAAAAAAAmf7XNAAAAAAAAAAAAAAAAAAAAAAAAAAAAAAAAArB/oIAAAAAAAAAAAAAAAAAAAAAAAAAAAAAAAAAJLeyAAAAAAAAAAAAAAAAAAAAAAAAAAAAAAAAAAAAAAAAAAAAAAAAAAAAAAAAAAAAAAAAAAAAAAAAAAAAAAAAAAAAAAAAAA==\",\"dtype\":\"uint8\",\"order\":\"little\",\"shape\":[28,28]}]},\"selected\":{\"id\":\"1367\"},\"selection_policy\":{\"id\":\"1368\"}},\"id\":\"1330\",\"type\":\"ColumnDataSource\"},{\"attributes\":{\"color_mapper\":{\"id\":\"1334\"},\"dh\":{\"units\":\"data\",\"value\":10},\"dw\":{\"units\":\"data\",\"value\":10},\"global_alpha\":0.1,\"image\":{\"field\":\"image\"},\"x\":{\"value\":0},\"y\":{\"value\":0}},\"id\":\"1333\",\"type\":\"Image\"},{\"attributes\":{\"palette\":[\"#000000\",\"#252525\",\"#525252\",\"#737373\",\"#969696\",\"#bdbdbd\",\"#d9d9d9\",\"#f0f0f0\",\"#ffffff\"]},\"id\":\"1334\",\"type\":\"LinearColorMapper\"},{\"attributes\":{\"text\":\"Label: 6, Prediction: 6\"},\"id\":\"1311\",\"type\":\"Title\"},{\"attributes\":{},\"id\":\"1317\",\"type\":\"LinearScale\"},{\"attributes\":{\"data_source\":{\"id\":\"1330\"},\"glyph\":{\"id\":\"1331\"},\"hover_glyph\":null,\"muted_glyph\":null,\"nonselection_glyph\":{\"id\":\"1333\"},\"selection_glyph\":null,\"view\":{\"id\":\"1336\"}},\"id\":\"1335\",\"type\":\"GlyphRenderer\"},{\"attributes\":{\"active_drag\":\"auto\",\"active_inspect\":\"auto\",\"active_multi\":null,\"active_scroll\":\"auto\",\"active_tap\":\"auto\"},\"id\":\"1329\",\"type\":\"Toolbar\"},{\"attributes\":{\"formatter\":{\"id\":\"1366\"},\"ticker\":{\"id\":\"1326\"}},\"id\":\"1325\",\"type\":\"LinearAxis\"},{\"attributes\":{},\"id\":\"1322\",\"type\":\"BasicTicker\"},{\"attributes\":{\"axis\":{\"id\":\"1321\"},\"ticker\":null},\"id\":\"1324\",\"type\":\"Grid\"},{\"attributes\":{\"range_padding\":0},\"id\":\"1313\",\"type\":\"DataRange1d\"},{\"attributes\":{\"source\":{\"id\":\"1330\"}},\"id\":\"1336\",\"type\":\"CDSView\"},{\"attributes\":{\"axis\":{\"id\":\"1325\"},\"dimension\":1,\"ticker\":null},\"id\":\"1328\",\"type\":\"Grid\"},{\"attributes\":{},\"id\":\"1364\",\"type\":\"BasicTickFormatter\"}],\"root_ids\":[\"1310\"]},\"title\":\"Bokeh Application\",\"version\":\"2.1.1\"}};\n",
       "  var render_items = [{\"docid\":\"557d4673-fab9-4fd1-9e5e-2137819aca5b\",\"root_ids\":[\"1310\"],\"roots\":{\"1310\":\"97f4d6e0-070c-41be-a6ea-198792eac78c\"}}];\n",
       "  root.Bokeh.embed.embed_items_notebook(docs_json, render_items);\n",
       "\n",
       "  }\n",
       "  if (root.Bokeh !== undefined) {\n",
       "    embed_document(root);\n",
       "  } else {\n",
       "    var attempts = 0;\n",
       "    var timer = setInterval(function(root) {\n",
       "      if (root.Bokeh !== undefined) {\n",
       "        clearInterval(timer);\n",
       "        embed_document(root);\n",
       "      } else {\n",
       "        attempts++;\n",
       "        if (attempts > 100) {\n",
       "          clearInterval(timer);\n",
       "          console.log(\"Bokeh: ERROR: Unable to run BokehJS code because BokehJS library is missing\");\n",
       "        }\n",
       "      }\n",
       "    }, 10, root)\n",
       "  }\n",
       "})(window);"
      ],
      "application/vnd.bokehjs_exec.v0+json": ""
     },
     "metadata": {
      "application/vnd.bokehjs_exec.v0+json": {
       "id": "1310"
      }
     },
     "output_type": "display_data"
    }
   ],
   "source": [
    "image, label, pred = mnist_test['image'][0], mnist_test['label'][0], y_pred.argmax(axis=1)[0]\n",
    "\n",
    "fig = figure(title=f'Label: {label}, Prediction: {pred}', plot_height=250, plot_width=250, tools=[])\n",
    "fig.x_range.range_padding = fig.y_range.range_padding = 0\n",
    "fig.image(image=[np.flipud(tf.reshape(image, (28, 28)).numpy())], x=0, y=0, dw=10, dh=10)\n",
    "show(fig)"
   ]
  },
  {
   "cell_type": "code",
   "execution_count": 11,
   "metadata": {},
   "outputs": [
    {
     "data": {
      "text/html": [
       "\n",
       "\n",
       "\n",
       "\n",
       "\n",
       "\n",
       "  <div class=\"bk-root\" id=\"dd78fa52-3d32-418a-9cbc-bbf4a9837b70\" data-root-id=\"1411\"></div>\n"
      ]
     },
     "metadata": {},
     "output_type": "display_data"
    },
    {
     "data": {
      "application/javascript": [
       "(function(root) {\n",
       "  function embed_document(root) {\n",
       "    \n",
       "  var docs_json = {\"f6721472-c17d-4075-92f3-8bf87d52a278\":{\"roots\":{\"references\":[{\"attributes\":{\"below\":[{\"id\":\"1422\"}],\"center\":[{\"id\":\"1425\"},{\"id\":\"1429\"}],\"left\":[{\"id\":\"1426\"}],\"plot_height\":250,\"plot_width\":250,\"renderers\":[{\"id\":\"1436\"}],\"title\":{\"id\":\"1412\"},\"toolbar\":{\"id\":\"1430\"},\"x_range\":{\"id\":\"1414\"},\"x_scale\":{\"id\":\"1418\"},\"y_range\":{\"id\":\"1416\"},\"y_scale\":{\"id\":\"1420\"}},\"id\":\"1411\",\"subtype\":\"Figure\",\"type\":\"Plot\"},{\"attributes\":{\"palette\":[\"#000000\",\"#252525\",\"#525252\",\"#737373\",\"#969696\",\"#bdbdbd\",\"#d9d9d9\",\"#f0f0f0\",\"#ffffff\"]},\"id\":\"1433\",\"type\":\"LinearColorMapper\"},{\"attributes\":{\"text\":\"Label: 8, Prediction: 2\"},\"id\":\"1412\",\"type\":\"Title\"},{\"attributes\":{\"palette\":[\"#000000\",\"#252525\",\"#525252\",\"#737373\",\"#969696\",\"#bdbdbd\",\"#d9d9d9\",\"#f0f0f0\",\"#ffffff\"]},\"id\":\"1435\",\"type\":\"LinearColorMapper\"},{\"attributes\":{\"data\":{\"image\":[{\"__ndarray__\":\"AAAAAAAAAAAAAAAAAAAAAAAAAAAAAAAAAAAAAAAAAAAAAAAAAAAAAAAAAAAAAAAAAAAAAAAAAAAAAAAAAAAAAAAAAAAAAAAAAAAAAAAAAAAAAAAAAAAAAAAAAAAAAAAAAAAAAAAAAAAAAAAAAAAAAAAAAAAAAAAAAAA9FAAAKfN6FAAAAAAAAAAAAAAAAAAAAAAAAAAp4BQAAACjy99SAAAAAAAAAAAAAAAAAAAAAABw1PN6AAAAAHvz/YIAAAAAAAAAAAAAAAAAAABS6tVSAAAAAAAAUv/9AAAAAAAAAAAAAAAAAAAAZv1vAAAAAAAAAABHXAAAAAAAAAAAAAAAAAAAABX+wAAAAAAAAAAA6jIAAAAAAAAAAAAAAAAAAAAAwfzpMhQACgoyrFIAAAAAAAAAAAAAAAAAAAAAAB+t/sDgKDOD/lsAAAAAAAAAAAAAAAAAAAAAAAAAKXvz/YKs/HsAAAAAAAAAAAAAAAAAAAAAAAAAAAAAUv7V/tUAAAAAAAAAAAAAAAAAAAAAAAAAAAAAAADpW+n8egAAAAAAAAAAAAAAAAAAAAAAAAAAAAAAHwpx/fQoAAAAAAAAAAAAAAAAAAAAAAAAAAAAAAAAFY7p1AAAAAAAAAAAAAAAAAAAAAAAAAAAAAAAAAAAmP0AAAAAAAAAAAAAAAAAAAAAAAAAAAAAAAAAAOn8PQAAAAAAAAAAAAAAAAAAAAAAAAAAAAAAAACY/Y4AAAAAAAAAAAAAAAAAAAAAAAAAAAAAAAAAmPzLAAAAAAAAAAAAAAAAAAAAAAAAAAAAAABmZur9ywAAAAAAAAAAAAAAAAAAAAAAAAAAAAAA/fz9/FIAAAAAAAAAAAAAAAAAAAAAAAAAAAAAAP6srYMAAAAAAAAAAAAAAAAAAAAAAAAAAAAAAAAAAAAAAAAAAAAAAAAAAAAAAAAAAAAAAAAAAAAAAAAAAAAAAAAAAAAAAAAAAAAAAAAAAAAAAAAAAAAAAAAAAAAAAAAAAAAAAAAAAAAAAAAAAAAAAAAAAAAAAAAAAAAAAAAAAA==\",\"dtype\":\"uint8\",\"order\":\"little\",\"shape\":[28,28]}]},\"selected\":{\"id\":\"1475\"},\"selection_policy\":{\"id\":\"1476\"}},\"id\":\"1431\",\"type\":\"ColumnDataSource\"},{\"attributes\":{\"source\":{\"id\":\"1431\"}},\"id\":\"1437\",\"type\":\"CDSView\"},{\"attributes\":{\"color_mapper\":{\"id\":\"1433\"},\"dh\":{\"units\":\"data\",\"value\":10},\"dw\":{\"units\":\"data\",\"value\":10},\"image\":{\"field\":\"image\"},\"x\":{\"value\":0},\"y\":{\"value\":0}},\"id\":\"1432\",\"type\":\"Image\"},{\"attributes\":{\"data_source\":{\"id\":\"1431\"},\"glyph\":{\"id\":\"1432\"},\"hover_glyph\":null,\"muted_glyph\":null,\"nonselection_glyph\":{\"id\":\"1434\"},\"selection_glyph\":null,\"view\":{\"id\":\"1437\"}},\"id\":\"1436\",\"type\":\"GlyphRenderer\"},{\"attributes\":{},\"id\":\"1420\",\"type\":\"LinearScale\"},{\"attributes\":{},\"id\":\"1475\",\"type\":\"Selection\"},{\"attributes\":{\"axis\":{\"id\":\"1426\"},\"dimension\":1,\"ticker\":null},\"id\":\"1429\",\"type\":\"Grid\"},{\"attributes\":{\"color_mapper\":{\"id\":\"1435\"},\"dh\":{\"units\":\"data\",\"value\":10},\"dw\":{\"units\":\"data\",\"value\":10},\"global_alpha\":0.1,\"image\":{\"field\":\"image\"},\"x\":{\"value\":0},\"y\":{\"value\":0}},\"id\":\"1434\",\"type\":\"Image\"},{\"attributes\":{},\"id\":\"1423\",\"type\":\"BasicTicker\"},{\"attributes\":{},\"id\":\"1472\",\"type\":\"BasicTickFormatter\"},{\"attributes\":{\"formatter\":{\"id\":\"1474\"},\"ticker\":{\"id\":\"1427\"}},\"id\":\"1426\",\"type\":\"LinearAxis\"},{\"attributes\":{},\"id\":\"1418\",\"type\":\"LinearScale\"},{\"attributes\":{\"range_padding\":0},\"id\":\"1414\",\"type\":\"DataRange1d\"},{\"attributes\":{\"formatter\":{\"id\":\"1472\"},\"ticker\":{\"id\":\"1423\"}},\"id\":\"1422\",\"type\":\"LinearAxis\"},{\"attributes\":{},\"id\":\"1476\",\"type\":\"UnionRenderers\"},{\"attributes\":{\"axis\":{\"id\":\"1422\"},\"ticker\":null},\"id\":\"1425\",\"type\":\"Grid\"},{\"attributes\":{},\"id\":\"1474\",\"type\":\"BasicTickFormatter\"},{\"attributes\":{\"range_padding\":0},\"id\":\"1416\",\"type\":\"DataRange1d\"},{\"attributes\":{\"active_drag\":\"auto\",\"active_inspect\":\"auto\",\"active_multi\":null,\"active_scroll\":\"auto\",\"active_tap\":\"auto\"},\"id\":\"1430\",\"type\":\"Toolbar\"},{\"attributes\":{},\"id\":\"1427\",\"type\":\"BasicTicker\"}],\"root_ids\":[\"1411\"]},\"title\":\"Bokeh Application\",\"version\":\"2.1.1\"}};\n",
       "  var render_items = [{\"docid\":\"f6721472-c17d-4075-92f3-8bf87d52a278\",\"root_ids\":[\"1411\"],\"roots\":{\"1411\":\"dd78fa52-3d32-418a-9cbc-bbf4a9837b70\"}}];\n",
       "  root.Bokeh.embed.embed_items_notebook(docs_json, render_items);\n",
       "\n",
       "  }\n",
       "  if (root.Bokeh !== undefined) {\n",
       "    embed_document(root);\n",
       "  } else {\n",
       "    var attempts = 0;\n",
       "    var timer = setInterval(function(root) {\n",
       "      if (root.Bokeh !== undefined) {\n",
       "        clearInterval(timer);\n",
       "        embed_document(root);\n",
       "      } else {\n",
       "        attempts++;\n",
       "        if (attempts > 100) {\n",
       "          clearInterval(timer);\n",
       "          console.log(\"Bokeh: ERROR: Unable to run BokehJS code because BokehJS library is missing\");\n",
       "        }\n",
       "      }\n",
       "    }, 10, root)\n",
       "  }\n",
       "})(window);"
      ],
      "application/vnd.bokehjs_exec.v0+json": ""
     },
     "metadata": {
      "application/vnd.bokehjs_exec.v0+json": {
       "id": "1411"
      }
     },
     "output_type": "display_data"
    }
   ],
   "source": [
    "image, label, pred = mnist_test['image'][16], mnist_test['label'][16], y_pred.argmax(axis=1)[16]\n",
    "\n",
    "fig = figure(title=f'Label: {label}, Prediction: {pred}', plot_height=250, plot_width=250, tools=[])\n",
    "fig.x_range.range_padding = fig.y_range.range_padding = 0\n",
    "fig.image(image=[np.flipud(tf.reshape(image, (28, 28)).numpy())], x=0, y=0, dw=10, dh=10)\n",
    "show(fig)"
   ]
  },
  {
   "cell_type": "code",
   "execution_count": null,
   "metadata": {},
   "outputs": [],
   "source": []
  }
 ],
 "metadata": {
  "kernelspec": {
   "display_name": "Python 3",
   "language": "python",
   "name": "python3"
  },
  "language_info": {
   "codemirror_mode": {
    "name": "ipython",
    "version": 3
   },
   "file_extension": ".py",
   "mimetype": "text/x-python",
   "name": "python",
   "nbconvert_exporter": "python",
   "pygments_lexer": "ipython3",
   "version": "3.7.7"
  }
 },
 "nbformat": 4,
 "nbformat_minor": 4
}
