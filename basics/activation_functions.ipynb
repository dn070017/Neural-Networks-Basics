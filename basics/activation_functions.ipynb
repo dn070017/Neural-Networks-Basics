{
 "cells": [
  {
   "cell_type": "markdown",
   "metadata": {},
   "source": [
    "## Import Packages, Environment Setting"
   ]
  },
  {
   "cell_type": "code",
   "execution_count": 1,
   "metadata": {},
   "outputs": [
    {
     "data": {
      "text/html": [
       "\n",
       "    <div class=\"bk-root\">\n",
       "        <a href=\"https://bokeh.org\" target=\"_blank\" class=\"bk-logo bk-logo-small bk-logo-notebook\"></a>\n",
       "        <span id=\"1001\">Loading BokehJS ...</span>\n",
       "    </div>"
      ]
     },
     "metadata": {},
     "output_type": "display_data"
    },
    {
     "data": {
      "application/javascript": [
       "\n",
       "(function(root) {\n",
       "  function now() {\n",
       "    return new Date();\n",
       "  }\n",
       "\n",
       "  var force = true;\n",
       "\n",
       "  if (typeof root._bokeh_onload_callbacks === \"undefined\" || force === true) {\n",
       "    root._bokeh_onload_callbacks = [];\n",
       "    root._bokeh_is_loading = undefined;\n",
       "  }\n",
       "\n",
       "  var JS_MIME_TYPE = 'application/javascript';\n",
       "  var HTML_MIME_TYPE = 'text/html';\n",
       "  var EXEC_MIME_TYPE = 'application/vnd.bokehjs_exec.v0+json';\n",
       "  var CLASS_NAME = 'output_bokeh rendered_html';\n",
       "\n",
       "  /**\n",
       "   * Render data to the DOM node\n",
       "   */\n",
       "  function render(props, node) {\n",
       "    var script = document.createElement(\"script\");\n",
       "    node.appendChild(script);\n",
       "  }\n",
       "\n",
       "  /**\n",
       "   * Handle when an output is cleared or removed\n",
       "   */\n",
       "  function handleClearOutput(event, handle) {\n",
       "    var cell = handle.cell;\n",
       "\n",
       "    var id = cell.output_area._bokeh_element_id;\n",
       "    var server_id = cell.output_area._bokeh_server_id;\n",
       "    // Clean up Bokeh references\n",
       "    if (id != null && id in Bokeh.index) {\n",
       "      Bokeh.index[id].model.document.clear();\n",
       "      delete Bokeh.index[id];\n",
       "    }\n",
       "\n",
       "    if (server_id !== undefined) {\n",
       "      // Clean up Bokeh references\n",
       "      var cmd = \"from bokeh.io.state import curstate; print(curstate().uuid_to_server['\" + server_id + \"'].get_sessions()[0].document.roots[0]._id)\";\n",
       "      cell.notebook.kernel.execute(cmd, {\n",
       "        iopub: {\n",
       "          output: function(msg) {\n",
       "            var id = msg.content.text.trim();\n",
       "            if (id in Bokeh.index) {\n",
       "              Bokeh.index[id].model.document.clear();\n",
       "              delete Bokeh.index[id];\n",
       "            }\n",
       "          }\n",
       "        }\n",
       "      });\n",
       "      // Destroy server and session\n",
       "      var cmd = \"import bokeh.io.notebook as ion; ion.destroy_server('\" + server_id + \"')\";\n",
       "      cell.notebook.kernel.execute(cmd);\n",
       "    }\n",
       "  }\n",
       "\n",
       "  /**\n",
       "   * Handle when a new output is added\n",
       "   */\n",
       "  function handleAddOutput(event, handle) {\n",
       "    var output_area = handle.output_area;\n",
       "    var output = handle.output;\n",
       "\n",
       "    // limit handleAddOutput to display_data with EXEC_MIME_TYPE content only\n",
       "    if ((output.output_type != \"display_data\") || (!output.data.hasOwnProperty(EXEC_MIME_TYPE))) {\n",
       "      return\n",
       "    }\n",
       "\n",
       "    var toinsert = output_area.element.find(\".\" + CLASS_NAME.split(' ')[0]);\n",
       "\n",
       "    if (output.metadata[EXEC_MIME_TYPE][\"id\"] !== undefined) {\n",
       "      toinsert[toinsert.length - 1].firstChild.textContent = output.data[JS_MIME_TYPE];\n",
       "      // store reference to embed id on output_area\n",
       "      output_area._bokeh_element_id = output.metadata[EXEC_MIME_TYPE][\"id\"];\n",
       "    }\n",
       "    if (output.metadata[EXEC_MIME_TYPE][\"server_id\"] !== undefined) {\n",
       "      var bk_div = document.createElement(\"div\");\n",
       "      bk_div.innerHTML = output.data[HTML_MIME_TYPE];\n",
       "      var script_attrs = bk_div.children[0].attributes;\n",
       "      for (var i = 0; i < script_attrs.length; i++) {\n",
       "        toinsert[toinsert.length - 1].firstChild.setAttribute(script_attrs[i].name, script_attrs[i].value);\n",
       "        toinsert[toinsert.length - 1].firstChild.textContent = bk_div.children[0].textContent\n",
       "      }\n",
       "      // store reference to server id on output_area\n",
       "      output_area._bokeh_server_id = output.metadata[EXEC_MIME_TYPE][\"server_id\"];\n",
       "    }\n",
       "  }\n",
       "\n",
       "  function register_renderer(events, OutputArea) {\n",
       "\n",
       "    function append_mime(data, metadata, element) {\n",
       "      // create a DOM node to render to\n",
       "      var toinsert = this.create_output_subarea(\n",
       "        metadata,\n",
       "        CLASS_NAME,\n",
       "        EXEC_MIME_TYPE\n",
       "      );\n",
       "      this.keyboard_manager.register_events(toinsert);\n",
       "      // Render to node\n",
       "      var props = {data: data, metadata: metadata[EXEC_MIME_TYPE]};\n",
       "      render(props, toinsert[toinsert.length - 1]);\n",
       "      element.append(toinsert);\n",
       "      return toinsert\n",
       "    }\n",
       "\n",
       "    /* Handle when an output is cleared or removed */\n",
       "    events.on('clear_output.CodeCell', handleClearOutput);\n",
       "    events.on('delete.Cell', handleClearOutput);\n",
       "\n",
       "    /* Handle when a new output is added */\n",
       "    events.on('output_added.OutputArea', handleAddOutput);\n",
       "\n",
       "    /**\n",
       "     * Register the mime type and append_mime function with output_area\n",
       "     */\n",
       "    OutputArea.prototype.register_mime_type(EXEC_MIME_TYPE, append_mime, {\n",
       "      /* Is output safe? */\n",
       "      safe: true,\n",
       "      /* Index of renderer in `output_area.display_order` */\n",
       "      index: 0\n",
       "    });\n",
       "  }\n",
       "\n",
       "  // register the mime type if in Jupyter Notebook environment and previously unregistered\n",
       "  if (root.Jupyter !== undefined) {\n",
       "    var events = require('base/js/events');\n",
       "    var OutputArea = require('notebook/js/outputarea').OutputArea;\n",
       "\n",
       "    if (OutputArea.prototype.mime_types().indexOf(EXEC_MIME_TYPE) == -1) {\n",
       "      register_renderer(events, OutputArea);\n",
       "    }\n",
       "  }\n",
       "\n",
       "  \n",
       "  if (typeof (root._bokeh_timeout) === \"undefined\" || force === true) {\n",
       "    root._bokeh_timeout = Date.now() + 5000;\n",
       "    root._bokeh_failed_load = false;\n",
       "  }\n",
       "\n",
       "  var NB_LOAD_WARNING = {'data': {'text/html':\n",
       "     \"<div style='background-color: #fdd'>\\n\"+\n",
       "     \"<p>\\n\"+\n",
       "     \"BokehJS does not appear to have successfully loaded. If loading BokehJS from CDN, this \\n\"+\n",
       "     \"may be due to a slow or bad network connection. Possible fixes:\\n\"+\n",
       "     \"</p>\\n\"+\n",
       "     \"<ul>\\n\"+\n",
       "     \"<li>re-rerun `output_notebook()` to attempt to load from CDN again, or</li>\\n\"+\n",
       "     \"<li>use INLINE resources instead, as so:</li>\\n\"+\n",
       "     \"</ul>\\n\"+\n",
       "     \"<code>\\n\"+\n",
       "     \"from bokeh.resources import INLINE\\n\"+\n",
       "     \"output_notebook(resources=INLINE)\\n\"+\n",
       "     \"</code>\\n\"+\n",
       "     \"</div>\"}};\n",
       "\n",
       "  function display_loaded() {\n",
       "    var el = document.getElementById(\"1001\");\n",
       "    if (el != null) {\n",
       "      el.textContent = \"BokehJS is loading...\";\n",
       "    }\n",
       "    if (root.Bokeh !== undefined) {\n",
       "      if (el != null) {\n",
       "        el.textContent = \"BokehJS \" + root.Bokeh.version + \" successfully loaded.\";\n",
       "      }\n",
       "    } else if (Date.now() < root._bokeh_timeout) {\n",
       "      setTimeout(display_loaded, 100)\n",
       "    }\n",
       "  }\n",
       "\n",
       "\n",
       "  function run_callbacks() {\n",
       "    try {\n",
       "      root._bokeh_onload_callbacks.forEach(function(callback) {\n",
       "        if (callback != null)\n",
       "          callback();\n",
       "      });\n",
       "    } finally {\n",
       "      delete root._bokeh_onload_callbacks\n",
       "    }\n",
       "    console.debug(\"Bokeh: all callbacks have finished\");\n",
       "  }\n",
       "\n",
       "  function load_libs(css_urls, js_urls, callback) {\n",
       "    if (css_urls == null) css_urls = [];\n",
       "    if (js_urls == null) js_urls = [];\n",
       "\n",
       "    root._bokeh_onload_callbacks.push(callback);\n",
       "    if (root._bokeh_is_loading > 0) {\n",
       "      console.debug(\"Bokeh: BokehJS is being loaded, scheduling callback at\", now());\n",
       "      return null;\n",
       "    }\n",
       "    if (js_urls == null || js_urls.length === 0) {\n",
       "      run_callbacks();\n",
       "      return null;\n",
       "    }\n",
       "    console.debug(\"Bokeh: BokehJS not loaded, scheduling load and callback at\", now());\n",
       "    root._bokeh_is_loading = css_urls.length + js_urls.length;\n",
       "\n",
       "    function on_load() {\n",
       "      root._bokeh_is_loading--;\n",
       "      if (root._bokeh_is_loading === 0) {\n",
       "        console.debug(\"Bokeh: all BokehJS libraries/stylesheets loaded\");\n",
       "        run_callbacks()\n",
       "      }\n",
       "    }\n",
       "\n",
       "    function on_error() {\n",
       "      console.error(\"failed to load \" + url);\n",
       "    }\n",
       "\n",
       "    for (var i = 0; i < css_urls.length; i++) {\n",
       "      var url = css_urls[i];\n",
       "      const element = document.createElement(\"link\");\n",
       "      element.onload = on_load;\n",
       "      element.onerror = on_error;\n",
       "      element.rel = \"stylesheet\";\n",
       "      element.type = \"text/css\";\n",
       "      element.href = url;\n",
       "      console.debug(\"Bokeh: injecting link tag for BokehJS stylesheet: \", url);\n",
       "      document.body.appendChild(element);\n",
       "    }\n",
       "\n",
       "    const hashes = {\"https://cdn.bokeh.org/bokeh/release/bokeh-2.1.1.min.js\": \"kLr4fYcqcSpbuI95brIH3vnnYCquzzSxHPU6XGQCIkQRGJwhg0StNbj1eegrHs12\", \"https://cdn.bokeh.org/bokeh/release/bokeh-widgets-2.1.1.min.js\": \"xIGPmVtaOm+z0BqfSOMn4lOR6ciex448GIKG4eE61LsAvmGj48XcMQZtKcE/UXZe\", \"https://cdn.bokeh.org/bokeh/release/bokeh-tables-2.1.1.min.js\": \"Dc9u1wF/0zApGIWoBbH77iWEHtdmkuYWG839Uzmv8y8yBLXebjO9ZnERsde5Ln/P\", \"https://cdn.bokeh.org/bokeh/release/bokeh-gl-2.1.1.min.js\": \"cT9JaBz7GiRXdENrJLZNSC6eMNF3nh3fa5fTF51Svp+ukxPdwcU5kGXGPBgDCa2j\"};\n",
       "\n",
       "    for (var i = 0; i < js_urls.length; i++) {\n",
       "      var url = js_urls[i];\n",
       "      var element = document.createElement('script');\n",
       "      element.onload = on_load;\n",
       "      element.onerror = on_error;\n",
       "      element.async = false;\n",
       "      element.src = url;\n",
       "      if (url in hashes) {\n",
       "        element.crossOrigin = \"anonymous\";\n",
       "        element.integrity = \"sha384-\" + hashes[url];\n",
       "      }\n",
       "      console.debug(\"Bokeh: injecting script tag for BokehJS library: \", url);\n",
       "      document.head.appendChild(element);\n",
       "    }\n",
       "  };\n",
       "\n",
       "  function inject_raw_css(css) {\n",
       "    const element = document.createElement(\"style\");\n",
       "    element.appendChild(document.createTextNode(css));\n",
       "    document.body.appendChild(element);\n",
       "  }\n",
       "\n",
       "  \n",
       "  var js_urls = [\"https://cdn.bokeh.org/bokeh/release/bokeh-2.1.1.min.js\", \"https://cdn.bokeh.org/bokeh/release/bokeh-widgets-2.1.1.min.js\", \"https://cdn.bokeh.org/bokeh/release/bokeh-tables-2.1.1.min.js\", \"https://cdn.bokeh.org/bokeh/release/bokeh-gl-2.1.1.min.js\"];\n",
       "  var css_urls = [];\n",
       "  \n",
       "\n",
       "  var inline_js = [\n",
       "    function(Bokeh) {\n",
       "      Bokeh.set_log_level(\"info\");\n",
       "    },\n",
       "    function(Bokeh) {\n",
       "    \n",
       "    \n",
       "    }\n",
       "  ];\n",
       "\n",
       "  function run_inline_js() {\n",
       "    \n",
       "    if (root.Bokeh !== undefined || force === true) {\n",
       "      \n",
       "    for (var i = 0; i < inline_js.length; i++) {\n",
       "      inline_js[i].call(root, root.Bokeh);\n",
       "    }\n",
       "    if (force === true) {\n",
       "        display_loaded();\n",
       "      }} else if (Date.now() < root._bokeh_timeout) {\n",
       "      setTimeout(run_inline_js, 100);\n",
       "    } else if (!root._bokeh_failed_load) {\n",
       "      console.log(\"Bokeh: BokehJS failed to load within specified timeout.\");\n",
       "      root._bokeh_failed_load = true;\n",
       "    } else if (force !== true) {\n",
       "      var cell = $(document.getElementById(\"1001\")).parents('.cell').data().cell;\n",
       "      cell.output_area.append_execute_result(NB_LOAD_WARNING)\n",
       "    }\n",
       "\n",
       "  }\n",
       "\n",
       "  if (root._bokeh_is_loading === 0) {\n",
       "    console.debug(\"Bokeh: BokehJS loaded, going straight to plotting\");\n",
       "    run_inline_js();\n",
       "  } else {\n",
       "    load_libs(css_urls, js_urls, function() {\n",
       "      console.debug(\"Bokeh: BokehJS plotting callback run at\", now());\n",
       "      run_inline_js();\n",
       "    });\n",
       "  }\n",
       "}(window));"
      ],
      "application/vnd.bokehjs_load.v0+json": "\n(function(root) {\n  function now() {\n    return new Date();\n  }\n\n  var force = true;\n\n  if (typeof root._bokeh_onload_callbacks === \"undefined\" || force === true) {\n    root._bokeh_onload_callbacks = [];\n    root._bokeh_is_loading = undefined;\n  }\n\n  \n\n  \n  if (typeof (root._bokeh_timeout) === \"undefined\" || force === true) {\n    root._bokeh_timeout = Date.now() + 5000;\n    root._bokeh_failed_load = false;\n  }\n\n  var NB_LOAD_WARNING = {'data': {'text/html':\n     \"<div style='background-color: #fdd'>\\n\"+\n     \"<p>\\n\"+\n     \"BokehJS does not appear to have successfully loaded. If loading BokehJS from CDN, this \\n\"+\n     \"may be due to a slow or bad network connection. Possible fixes:\\n\"+\n     \"</p>\\n\"+\n     \"<ul>\\n\"+\n     \"<li>re-rerun `output_notebook()` to attempt to load from CDN again, or</li>\\n\"+\n     \"<li>use INLINE resources instead, as so:</li>\\n\"+\n     \"</ul>\\n\"+\n     \"<code>\\n\"+\n     \"from bokeh.resources import INLINE\\n\"+\n     \"output_notebook(resources=INLINE)\\n\"+\n     \"</code>\\n\"+\n     \"</div>\"}};\n\n  function display_loaded() {\n    var el = document.getElementById(\"1001\");\n    if (el != null) {\n      el.textContent = \"BokehJS is loading...\";\n    }\n    if (root.Bokeh !== undefined) {\n      if (el != null) {\n        el.textContent = \"BokehJS \" + root.Bokeh.version + \" successfully loaded.\";\n      }\n    } else if (Date.now() < root._bokeh_timeout) {\n      setTimeout(display_loaded, 100)\n    }\n  }\n\n\n  function run_callbacks() {\n    try {\n      root._bokeh_onload_callbacks.forEach(function(callback) {\n        if (callback != null)\n          callback();\n      });\n    } finally {\n      delete root._bokeh_onload_callbacks\n    }\n    console.debug(\"Bokeh: all callbacks have finished\");\n  }\n\n  function load_libs(css_urls, js_urls, callback) {\n    if (css_urls == null) css_urls = [];\n    if (js_urls == null) js_urls = [];\n\n    root._bokeh_onload_callbacks.push(callback);\n    if (root._bokeh_is_loading > 0) {\n      console.debug(\"Bokeh: BokehJS is being loaded, scheduling callback at\", now());\n      return null;\n    }\n    if (js_urls == null || js_urls.length === 0) {\n      run_callbacks();\n      return null;\n    }\n    console.debug(\"Bokeh: BokehJS not loaded, scheduling load and callback at\", now());\n    root._bokeh_is_loading = css_urls.length + js_urls.length;\n\n    function on_load() {\n      root._bokeh_is_loading--;\n      if (root._bokeh_is_loading === 0) {\n        console.debug(\"Bokeh: all BokehJS libraries/stylesheets loaded\");\n        run_callbacks()\n      }\n    }\n\n    function on_error() {\n      console.error(\"failed to load \" + url);\n    }\n\n    for (var i = 0; i < css_urls.length; i++) {\n      var url = css_urls[i];\n      const element = document.createElement(\"link\");\n      element.onload = on_load;\n      element.onerror = on_error;\n      element.rel = \"stylesheet\";\n      element.type = \"text/css\";\n      element.href = url;\n      console.debug(\"Bokeh: injecting link tag for BokehJS stylesheet: \", url);\n      document.body.appendChild(element);\n    }\n\n    const hashes = {\"https://cdn.bokeh.org/bokeh/release/bokeh-2.1.1.min.js\": \"kLr4fYcqcSpbuI95brIH3vnnYCquzzSxHPU6XGQCIkQRGJwhg0StNbj1eegrHs12\", \"https://cdn.bokeh.org/bokeh/release/bokeh-widgets-2.1.1.min.js\": \"xIGPmVtaOm+z0BqfSOMn4lOR6ciex448GIKG4eE61LsAvmGj48XcMQZtKcE/UXZe\", \"https://cdn.bokeh.org/bokeh/release/bokeh-tables-2.1.1.min.js\": \"Dc9u1wF/0zApGIWoBbH77iWEHtdmkuYWG839Uzmv8y8yBLXebjO9ZnERsde5Ln/P\", \"https://cdn.bokeh.org/bokeh/release/bokeh-gl-2.1.1.min.js\": \"cT9JaBz7GiRXdENrJLZNSC6eMNF3nh3fa5fTF51Svp+ukxPdwcU5kGXGPBgDCa2j\"};\n\n    for (var i = 0; i < js_urls.length; i++) {\n      var url = js_urls[i];\n      var element = document.createElement('script');\n      element.onload = on_load;\n      element.onerror = on_error;\n      element.async = false;\n      element.src = url;\n      if (url in hashes) {\n        element.crossOrigin = \"anonymous\";\n        element.integrity = \"sha384-\" + hashes[url];\n      }\n      console.debug(\"Bokeh: injecting script tag for BokehJS library: \", url);\n      document.head.appendChild(element);\n    }\n  };\n\n  function inject_raw_css(css) {\n    const element = document.createElement(\"style\");\n    element.appendChild(document.createTextNode(css));\n    document.body.appendChild(element);\n  }\n\n  \n  var js_urls = [\"https://cdn.bokeh.org/bokeh/release/bokeh-2.1.1.min.js\", \"https://cdn.bokeh.org/bokeh/release/bokeh-widgets-2.1.1.min.js\", \"https://cdn.bokeh.org/bokeh/release/bokeh-tables-2.1.1.min.js\", \"https://cdn.bokeh.org/bokeh/release/bokeh-gl-2.1.1.min.js\"];\n  var css_urls = [];\n  \n\n  var inline_js = [\n    function(Bokeh) {\n      Bokeh.set_log_level(\"info\");\n    },\n    function(Bokeh) {\n    \n    \n    }\n  ];\n\n  function run_inline_js() {\n    \n    if (root.Bokeh !== undefined || force === true) {\n      \n    for (var i = 0; i < inline_js.length; i++) {\n      inline_js[i].call(root, root.Bokeh);\n    }\n    if (force === true) {\n        display_loaded();\n      }} else if (Date.now() < root._bokeh_timeout) {\n      setTimeout(run_inline_js, 100);\n    } else if (!root._bokeh_failed_load) {\n      console.log(\"Bokeh: BokehJS failed to load within specified timeout.\");\n      root._bokeh_failed_load = true;\n    } else if (force !== true) {\n      var cell = $(document.getElementById(\"1001\")).parents('.cell').data().cell;\n      cell.output_area.append_execute_result(NB_LOAD_WARNING)\n    }\n\n  }\n\n  if (root._bokeh_is_loading === 0) {\n    console.debug(\"Bokeh: BokehJS loaded, going straight to plotting\");\n    run_inline_js();\n  } else {\n    load_libs(css_urls, js_urls, function() {\n      console.debug(\"Bokeh: BokehJS plotting callback run at\", now());\n      run_inline_js();\n    });\n  }\n}(window));"
     },
     "metadata": {},
     "output_type": "display_data"
    }
   ],
   "source": [
    "import numpy as np\n",
    "import os\n",
    "import pandas as pd\n",
    "import tensorflow as tf\n",
    "\n",
    "from bokeh.io import output_notebook, export_png, reset_output\n",
    "from bokeh.layouts import row, column\n",
    "from bokeh.palettes import linear_palette, Magma256\n",
    "from bokeh.plotting import figure, output_file, show, ColumnDataSource\n",
    "from bokeh.models import Range1d, CustomJS, Slider, ColorBar, LinearColorMapper\n",
    "from tensorflow.keras import models\n",
    "from tensorflow.keras import activations\n",
    "\n",
    "reset_output()\n",
    "output_notebook()"
   ]
  },
  {
   "cell_type": "code",
   "execution_count": 2,
   "metadata": {},
   "outputs": [],
   "source": [
    "def visualize(name, X, y, gradient, ymin=None, ymax=None, color='black'):\n",
    "    X = X.numpy()\n",
    "    y = y.numpy()\n",
    "    gradient = gradient.numpy()\n",
    "\n",
    "    \n",
    "    xmin, xmax = np.min(X), np.max(X)\n",
    "    if not ymin:\n",
    "        ymin = np.min(y)\n",
    "    if not ymax:\n",
    "        ymax = np.max(y)\n",
    "    fig1 = figure(title=name, tools=[], x_axis_label='X', y_axis_label='f(X)')\n",
    "    fig1.line(X, y, line_width=5, color=color)\n",
    "    fig1.x_range=Range1d(xmin, xmax)\n",
    "    fig1.y_range=Range1d(ymin, ymax)\n",
    "\n",
    "    ymin, ymax = -1.25, 1.25\n",
    "    fig2 = figure(\n",
    "        title=f'{name} (Derivative)', \n",
    "        tools=[], \n",
    "        x_axis_label='X', \n",
    "        y_axis_label='gradient(X)'\n",
    "    )\n",
    "    fig2.line(X, gradient, line_width=5, color=color)\n",
    "    fig2.x_range=Range1d(xmin, xmax)\n",
    "    fig2.y_range=Range1d(ymin, ymax)\n",
    "\n",
    "    fig1.title.text_font_size = '16pt'\n",
    "    fig1.xaxis.axis_label_text_font_size = '16pt'\n",
    "    fig1.yaxis.axis_label_text_font_size = '16pt'\n",
    "    fig2.title.text_font_size = '16pt'\n",
    "    fig2.xaxis.axis_label_text_font_size = '16pt'\n",
    "    fig2.yaxis.axis_label_text_font_size = \"16pt\"\n",
    "    fig1.title.align = 'center'\n",
    "    fig2.title.align = 'center'\n",
    "\n",
    "    show(row(fig1, fig2))\n",
    "    \n",
    "def visualize2D(name, y, gradient):\n",
    "    figure_list = []\n",
    "\n",
    "    labels = (\n",
    "        f'{name} y', \n",
    "        f'{name} y1 derivative with respect to X', \n",
    "        f'{name} y2 derivative with repect to X'\n",
    "    )\n",
    "    \n",
    "    for target, label in zip((y, gradient[0], gradient[1]), labels):\n",
    "        for i in range(2):\n",
    "            fig = figure(\n",
    "                title=f'{label}{i+1}', \n",
    "                tools=[], \n",
    "                x_axis_label='X1',\n",
    "                y_axis_label='X2', \n",
    "                x_range=(-1, 1), \n",
    "                y_range=(-1, 1)\n",
    "            )\n",
    "\n",
    "            color_mapper = LinearColorMapper(\n",
    "                Magma256,\n",
    "                low=target.numpy().min(),\n",
    "                high=target.numpy().max()\n",
    "            )\n",
    "            color_bar = ColorBar(\n",
    "                color_mapper=color_mapper,\n",
    "                border_line_color=None,\n",
    "                location=(0,0),\n",
    "                label_standoff=8,\n",
    "                scale_alpha=0.5\n",
    "            )\n",
    "\n",
    "            fig.add_layout(color_bar, 'right')\n",
    "            fig.image(\n",
    "                image=[target.numpy()[:, i].reshape(50, 50)],\n",
    "                name='y1',\n",
    "                x=-1, y=-1, dw=2, dh=2,\n",
    "                alpha=0.5,\n",
    "                color_mapper=color_mapper)\n",
    "\n",
    "            figure_list.append(fig)\n",
    "\n",
    "    show(column(\n",
    "        row(figure_list[0], figure_list[1]), \n",
    "        row(figure_list[2], figure_list[3]), \n",
    "        row(figure_list[4], figure_list[5])\n",
    "    ))"
   ]
  },
  {
   "cell_type": "code",
   "execution_count": 3,
   "metadata": {},
   "outputs": [],
   "source": [
    "X = tf.Variable(tf.linspace(-10., 10., 100))"
   ]
  },
  {
   "cell_type": "markdown",
   "metadata": {},
   "source": [
    "## Identity Function\n",
    "* Equation\n",
    "$$f(x)=x$$\n",
    "* Derivative\n",
    "$$\\begin{align}\\frac{\\partial f(x)}{\\partial x}=1\\end{align}$$\n",
    "* Properties:\n",
    "    * Mathematically __does not__ affect the network at all. \n",
    "    * Practically, in order to unify the design structure of the neural network (as linear transformation followed by activation function), most of the deep learning framework implemented identify function as one of the activation functions."
   ]
  },
  {
   "cell_type": "code",
   "execution_count": 4,
   "metadata": {},
   "outputs": [
    {
     "data": {
      "text/html": [
       "\n",
       "\n",
       "\n",
       "\n",
       "\n",
       "\n",
       "  <div class=\"bk-root\" id=\"ab015e87-eb54-406c-a235-340f0bcc0bfa\" data-root-id=\"1056\"></div>\n"
      ]
     },
     "metadata": {},
     "output_type": "display_data"
    },
    {
     "data": {
      "application/javascript": [
       "(function(root) {\n",
       "  function embed_document(root) {\n",
       "    \n",
       "  var docs_json = {\"0b1b83f2-e7e4-49a9-8e1b-986cd4b9735a\":{\"roots\":{\"references\":[{\"attributes\":{\"children\":[{\"id\":\"1002\"},{\"id\":\"1029\"}]},\"id\":\"1056\",\"type\":\"Row\"},{\"attributes\":{\"active_drag\":\"auto\",\"active_inspect\":\"auto\",\"active_multi\":null,\"active_scroll\":\"auto\",\"active_tap\":\"auto\"},\"id\":\"1021\",\"type\":\"Toolbar\"},{\"attributes\":{\"axis\":{\"id\":\"1013\"},\"ticker\":null},\"id\":\"1016\",\"type\":\"Grid\"},{\"attributes\":{},\"id\":\"1069\",\"type\":\"Selection\"},{\"attributes\":{\"end\":10.0,\"start\":-10.0},\"id\":\"1027\",\"type\":\"Range1d\"},{\"attributes\":{\"axis_label\":\"X\",\"axis_label_text_font_size\":\"16pt\",\"formatter\":{\"id\":\"1062\"},\"ticker\":{\"id\":\"1014\"}},\"id\":\"1013\",\"type\":\"LinearAxis\"},{\"attributes\":{\"below\":[{\"id\":\"1040\"}],\"center\":[{\"id\":\"1043\"},{\"id\":\"1047\"}],\"left\":[{\"id\":\"1044\"}],\"renderers\":[{\"id\":\"1052\"}],\"title\":{\"id\":\"1030\"},\"toolbar\":{\"id\":\"1048\"},\"x_range\":{\"id\":\"1054\"},\"x_scale\":{\"id\":\"1036\"},\"y_range\":{\"id\":\"1055\"},\"y_scale\":{\"id\":\"1038\"}},\"id\":\"1029\",\"subtype\":\"Figure\",\"type\":\"Plot\"},{\"attributes\":{\"axis\":{\"id\":\"1017\"},\"dimension\":1,\"ticker\":null},\"id\":\"1020\",\"type\":\"Grid\"},{\"attributes\":{\"data\":{\"x\":{\"__ndarray__\":\"AAAgwYbEHMENiRnBk00WwRoSE8Gg1g/BJ5sMwa1fCcE0JAbBuugCwYJa/8CO4/jAm2zywKj168C1fuXAwgffwM+Q2MDcGdLA6aLLwPYrxcADtb7AED64wB3HscAqUKvANtmkwENinsBQ65fAXXSRwGr9isB3hoTACB98wCIxb8A8Q2LAVlVVwHBnSMCKeTvApIsuwL6dIcDYrxTA8sEHwBio9b9IzNu/gPDBv7AUqL/oOI6/MLpov6ACNb8ASwG/wCabvoDezr2A3s49wCabPgBLAT+QAjU/MLpoP+A4jj+wFKg/ePDBP0jM2z8QqPU/8MEHQNSvFEC8nSFAoIsuQIh5O0BwZ0hAVFVVQDxDYkAgMW9ACB98QHaGhEBq/YpAXHSRQFDrl0BCYp5ANtmkQChQq0Acx7FADj64QAK1vkD0K8VA6KLLQNwZ0kDQkNhAwAffQLR+5UCo9etAnGzyQIzj+ECAWv9AuugCQTQkBkGsXwlBJpsMQaDWD0EaEhNBlE0WQQyJGUGGxBxBAAAgQQ==\",\"dtype\":\"float32\",\"order\":\"little\",\"shape\":[100]},\"y\":{\"__ndarray__\":\"AACAPwAAgD8AAIA/AACAPwAAgD8AAIA/AACAPwAAgD8AAIA/AACAPwAAgD8AAIA/AACAPwAAgD8AAIA/AACAPwAAgD8AAIA/AACAPwAAgD8AAIA/AACAPwAAgD8AAIA/AACAPwAAgD8AAIA/AACAPwAAgD8AAIA/AACAPwAAgD8AAIA/AACAPwAAgD8AAIA/AACAPwAAgD8AAIA/AACAPwAAgD8AAIA/AACAPwAAgD8AAIA/AACAPwAAgD8AAIA/AACAPwAAgD8AAIA/AACAPwAAgD8AAIA/AACAPwAAgD8AAIA/AACAPwAAgD8AAIA/AACAPwAAgD8AAIA/AACAPwAAgD8AAIA/AACAPwAAgD8AAIA/AACAPwAAgD8AAIA/AACAPwAAgD8AAIA/AACAPwAAgD8AAIA/AACAPwAAgD8AAIA/AACAPwAAgD8AAIA/AACAPwAAgD8AAIA/AACAPwAAgD8AAIA/AACAPwAAgD8AAIA/AACAPwAAgD8AAIA/AACAPwAAgD8AAIA/AACAPw==\",\"dtype\":\"float32\",\"order\":\"little\",\"shape\":[100]}},\"selected\":{\"id\":\"1069\"},\"selection_policy\":{\"id\":\"1070\"}},\"id\":\"1049\",\"type\":\"ColumnDataSource\"},{\"attributes\":{\"source\":{\"id\":\"1049\"}},\"id\":\"1053\",\"type\":\"CDSView\"},{\"attributes\":{},\"id\":\"1018\",\"type\":\"BasicTicker\"},{\"attributes\":{},\"id\":\"1068\",\"type\":\"UnionRenderers\"},{\"attributes\":{},\"id\":\"1036\",\"type\":\"LinearScale\"},{\"attributes\":{\"axis_label\":\"X\",\"axis_label_text_font_size\":\"16pt\",\"formatter\":{\"id\":\"1066\"},\"ticker\":{\"id\":\"1041\"}},\"id\":\"1040\",\"type\":\"LinearAxis\"},{\"attributes\":{\"end\":10.0,\"start\":-10.0},\"id\":\"1054\",\"type\":\"Range1d\"},{\"attributes\":{\"axis\":{\"id\":\"1040\"},\"ticker\":null},\"id\":\"1043\",\"type\":\"Grid\"},{\"attributes\":{\"data\":{\"x\":{\"__ndarray__\":\"AAAgwYbEHMENiRnBk00WwRoSE8Gg1g/BJ5sMwa1fCcE0JAbBuugCwYJa/8CO4/jAm2zywKj168C1fuXAwgffwM+Q2MDcGdLA6aLLwPYrxcADtb7AED64wB3HscAqUKvANtmkwENinsBQ65fAXXSRwGr9isB3hoTACB98wCIxb8A8Q2LAVlVVwHBnSMCKeTvApIsuwL6dIcDYrxTA8sEHwBio9b9IzNu/gPDBv7AUqL/oOI6/MLpov6ACNb8ASwG/wCabvoDezr2A3s49wCabPgBLAT+QAjU/MLpoP+A4jj+wFKg/ePDBP0jM2z8QqPU/8MEHQNSvFEC8nSFAoIsuQIh5O0BwZ0hAVFVVQDxDYkAgMW9ACB98QHaGhEBq/YpAXHSRQFDrl0BCYp5ANtmkQChQq0Acx7FADj64QAK1vkD0K8VA6KLLQNwZ0kDQkNhAwAffQLR+5UCo9etAnGzyQIzj+ECAWv9AuugCQTQkBkGsXwlBJpsMQaDWD0EaEhNBlE0WQQyJGUGGxBxBAAAgQQ==\",\"dtype\":\"float32\",\"order\":\"little\",\"shape\":[100]},\"y\":{\"__ndarray__\":\"AAAgwYbEHMENiRnBk00WwRoSE8Gg1g/BJ5sMwa1fCcE0JAbBuugCwYJa/8CO4/jAm2zywKj168C1fuXAwgffwM+Q2MDcGdLA6aLLwPYrxcADtb7AED64wB3HscAqUKvANtmkwENinsBQ65fAXXSRwGr9isB3hoTACB98wCIxb8A8Q2LAVlVVwHBnSMCKeTvApIsuwL6dIcDYrxTA8sEHwBio9b9IzNu/gPDBv7AUqL/oOI6/MLpov6ACNb8ASwG/wCabvoDezr2A3s49wCabPgBLAT+QAjU/MLpoP+A4jj+wFKg/ePDBP0jM2z8QqPU/8MEHQNSvFEC8nSFAoIsuQIh5O0BwZ0hAVFVVQDxDYkAgMW9ACB98QHaGhEBq/YpAXHSRQFDrl0BCYp5ANtmkQChQq0Acx7FADj64QAK1vkD0K8VA6KLLQNwZ0kDQkNhAwAffQLR+5UCo9etAnGzyQIzj+ECAWv9AuugCQTQkBkGsXwlBJpsMQaDWD0EaEhNBlE0WQQyJGUGGxBxBAAAgQQ==\",\"dtype\":\"float32\",\"order\":\"little\",\"shape\":[100]}},\"selected\":{\"id\":\"1067\"},\"selection_policy\":{\"id\":\"1068\"}},\"id\":\"1022\",\"type\":\"ColumnDataSource\"},{\"attributes\":{\"end\":1.25,\"start\":-1.25},\"id\":\"1055\",\"type\":\"Range1d\"},{\"attributes\":{\"axis_label\":\"f(X)\",\"axis_label_text_font_size\":\"16pt\",\"formatter\":{\"id\":\"1060\"},\"ticker\":{\"id\":\"1018\"}},\"id\":\"1017\",\"type\":\"LinearAxis\"},{\"attributes\":{\"data_source\":{\"id\":\"1049\"},\"glyph\":{\"id\":\"1050\"},\"hover_glyph\":null,\"muted_glyph\":null,\"nonselection_glyph\":{\"id\":\"1051\"},\"selection_glyph\":null,\"view\":{\"id\":\"1053\"}},\"id\":\"1052\",\"type\":\"GlyphRenderer\"},{\"attributes\":{},\"id\":\"1062\",\"type\":\"BasicTickFormatter\"},{\"attributes\":{},\"id\":\"1066\",\"type\":\"BasicTickFormatter\"},{\"attributes\":{\"axis_label\":\"gradient(X)\",\"axis_label_text_font_size\":\"16pt\",\"formatter\":{\"id\":\"1064\"},\"ticker\":{\"id\":\"1045\"}},\"id\":\"1044\",\"type\":\"LinearAxis\"},{\"attributes\":{\"align\":\"center\",\"text\":\"Identity (Derivative)\",\"text_font_size\":{\"value\":\"16pt\"}},\"id\":\"1030\",\"type\":\"Title\"},{\"attributes\":{},\"id\":\"1041\",\"type\":\"BasicTicker\"},{\"attributes\":{\"active_drag\":\"auto\",\"active_inspect\":\"auto\",\"active_multi\":null,\"active_scroll\":\"auto\",\"active_tap\":\"auto\"},\"id\":\"1048\",\"type\":\"Toolbar\"},{\"attributes\":{},\"id\":\"1038\",\"type\":\"LinearScale\"},{\"attributes\":{},\"id\":\"1009\",\"type\":\"LinearScale\"},{\"attributes\":{\"line_alpha\":0.1,\"line_width\":5,\"x\":{\"field\":\"x\"},\"y\":{\"field\":\"y\"}},\"id\":\"1024\",\"type\":\"Line\"},{\"attributes\":{\"line_alpha\":0.1,\"line_width\":5,\"x\":{\"field\":\"x\"},\"y\":{\"field\":\"y\"}},\"id\":\"1051\",\"type\":\"Line\"},{\"attributes\":{\"below\":[{\"id\":\"1013\"}],\"center\":[{\"id\":\"1016\"},{\"id\":\"1020\"}],\"left\":[{\"id\":\"1017\"}],\"renderers\":[{\"id\":\"1025\"}],\"title\":{\"id\":\"1003\"},\"toolbar\":{\"id\":\"1021\"},\"x_range\":{\"id\":\"1027\"},\"x_scale\":{\"id\":\"1009\"},\"y_range\":{\"id\":\"1028\"},\"y_scale\":{\"id\":\"1011\"}},\"id\":\"1002\",\"subtype\":\"Figure\",\"type\":\"Plot\"},{\"attributes\":{},\"id\":\"1014\",\"type\":\"BasicTicker\"},{\"attributes\":{\"source\":{\"id\":\"1022\"}},\"id\":\"1026\",\"type\":\"CDSView\"},{\"attributes\":{\"line_width\":5,\"x\":{\"field\":\"x\"},\"y\":{\"field\":\"y\"}},\"id\":\"1050\",\"type\":\"Line\"},{\"attributes\":{\"axis\":{\"id\":\"1044\"},\"dimension\":1,\"ticker\":null},\"id\":\"1047\",\"type\":\"Grid\"},{\"attributes\":{},\"id\":\"1045\",\"type\":\"BasicTicker\"},{\"attributes\":{},\"id\":\"1064\",\"type\":\"BasicTickFormatter\"},{\"attributes\":{\"end\":10.0,\"start\":-10.0},\"id\":\"1028\",\"type\":\"Range1d\"},{\"attributes\":{},\"id\":\"1070\",\"type\":\"UnionRenderers\"},{\"attributes\":{},\"id\":\"1060\",\"type\":\"BasicTickFormatter\"},{\"attributes\":{\"line_width\":5,\"x\":{\"field\":\"x\"},\"y\":{\"field\":\"y\"}},\"id\":\"1023\",\"type\":\"Line\"},{\"attributes\":{},\"id\":\"1067\",\"type\":\"Selection\"},{\"attributes\":{\"align\":\"center\",\"text\":\"Identity\",\"text_font_size\":{\"value\":\"16pt\"}},\"id\":\"1003\",\"type\":\"Title\"},{\"attributes\":{\"data_source\":{\"id\":\"1022\"},\"glyph\":{\"id\":\"1023\"},\"hover_glyph\":null,\"muted_glyph\":null,\"nonselection_glyph\":{\"id\":\"1024\"},\"selection_glyph\":null,\"view\":{\"id\":\"1026\"}},\"id\":\"1025\",\"type\":\"GlyphRenderer\"},{\"attributes\":{},\"id\":\"1011\",\"type\":\"LinearScale\"}],\"root_ids\":[\"1056\"]},\"title\":\"Bokeh Application\",\"version\":\"2.1.1\"}};\n",
       "  var render_items = [{\"docid\":\"0b1b83f2-e7e4-49a9-8e1b-986cd4b9735a\",\"root_ids\":[\"1056\"],\"roots\":{\"1056\":\"ab015e87-eb54-406c-a235-340f0bcc0bfa\"}}];\n",
       "  root.Bokeh.embed.embed_items_notebook(docs_json, render_items);\n",
       "\n",
       "  }\n",
       "  if (root.Bokeh !== undefined) {\n",
       "    embed_document(root);\n",
       "  } else {\n",
       "    var attempts = 0;\n",
       "    var timer = setInterval(function(root) {\n",
       "      if (root.Bokeh !== undefined) {\n",
       "        clearInterval(timer);\n",
       "        embed_document(root);\n",
       "      } else {\n",
       "        attempts++;\n",
       "        if (attempts > 100) {\n",
       "          clearInterval(timer);\n",
       "          console.log(\"Bokeh: ERROR: Unable to run BokehJS code because BokehJS library is missing\");\n",
       "        }\n",
       "      }\n",
       "    }, 10, root)\n",
       "  }\n",
       "})(window);"
      ],
      "application/vnd.bokehjs_exec.v0+json": ""
     },
     "metadata": {
      "application/vnd.bokehjs_exec.v0+json": {
       "id": "1056"
      }
     },
     "output_type": "display_data"
    }
   ],
   "source": [
    "with tf.GradientTape() as g:\n",
    "    y = activations.linear(X)\n",
    "gradient = g.gradient(y, X)\n",
    "visualize('Identity', X, y, gradient)"
   ]
  },
  {
   "cell_type": "markdown",
   "metadata": {},
   "source": [
    "## Sigmoid\n",
    "* Equation\n",
    "$$\\sigma(x)=\\frac{1}{1+\\exp(-x)}$$\n",
    "* [Derivative](https://math.stackexchange.com/questions/78575/derivative-of-sigmoid-function-sigma-x-frac11e-x)\n",
    "$$\\frac{\\partial\\sigma(x)}{\\partial x}=\\sigma(x)(1-\\sigma(x))$$\n",
    "* Properties:\n",
    "    * Neural network with only one hidden layer of sigmoid function is equivalent to __logistic regression__.\n",
    "    * One very useful property of sigmoid function is that the range is $0$ to $1$ (bounded range); therefore, it is commonly used when we want to model __probability__ (e.g. output layer of binary classification problem). \n",
    "    * In binary classification problem, sigmoid function is a special case of __softmax function__.\n",
    "    * In multi-class classification, sigmoid is preferable over softmax when we assume __a sample can belong to multiple class__ since sigmoid function treat the probability of each class separately.\n",
    "    * Could lead to __gradient vanishing__ problem."
   ]
  },
  {
   "cell_type": "code",
   "execution_count": 5,
   "metadata": {},
   "outputs": [
    {
     "data": {
      "text/html": [
       "\n",
       "\n",
       "\n",
       "\n",
       "\n",
       "\n",
       "  <div class=\"bk-root\" id=\"a2e504d9-7e94-4578-87aa-57b24d04a651\" data-root-id=\"1209\"></div>\n"
      ]
     },
     "metadata": {},
     "output_type": "display_data"
    },
    {
     "data": {
      "application/javascript": [
       "(function(root) {\n",
       "  function embed_document(root) {\n",
       "    \n",
       "  var docs_json = {\"50eaa7cc-fbab-460d-ba7c-19836d43b3ad\":{\"roots\":{\"references\":[{\"attributes\":{\"children\":[{\"id\":\"1155\"},{\"id\":\"1182\"}]},\"id\":\"1209\",\"type\":\"Row\"},{\"attributes\":{\"align\":\"center\",\"text\":\"Sigmoid\",\"text_font_size\":{\"value\":\"16pt\"}},\"id\":\"1156\",\"type\":\"Title\"},{\"attributes\":{},\"id\":\"1191\",\"type\":\"LinearScale\"},{\"attributes\":{\"source\":{\"id\":\"1202\"}},\"id\":\"1206\",\"type\":\"CDSView\"},{\"attributes\":{},\"id\":\"1236\",\"type\":\"Selection\"},{\"attributes\":{\"line_alpha\":0.1,\"line_color\":\"royalblue\",\"line_width\":5,\"x\":{\"field\":\"x\"},\"y\":{\"field\":\"y\"}},\"id\":\"1204\",\"type\":\"Line\"},{\"attributes\":{\"end\":1.25,\"start\":-1.25},\"id\":\"1181\",\"type\":\"Range1d\"},{\"attributes\":{\"align\":\"center\",\"text\":\"Sigmoid (Derivative)\",\"text_font_size\":{\"value\":\"16pt\"}},\"id\":\"1183\",\"type\":\"Title\"},{\"attributes\":{\"active_drag\":\"auto\",\"active_inspect\":\"auto\",\"active_multi\":null,\"active_scroll\":\"auto\",\"active_tap\":\"auto\"},\"id\":\"1174\",\"type\":\"Toolbar\"},{\"attributes\":{\"axis_label\":\"gradient(X)\",\"axis_label_text_font_size\":\"16pt\",\"formatter\":{\"id\":\"1231\"},\"ticker\":{\"id\":\"1198\"}},\"id\":\"1197\",\"type\":\"LinearAxis\"},{\"attributes\":{\"active_drag\":\"auto\",\"active_inspect\":\"auto\",\"active_multi\":null,\"active_scroll\":\"auto\",\"active_tap\":\"auto\"},\"id\":\"1201\",\"type\":\"Toolbar\"},{\"attributes\":{\"line_color\":\"royalblue\",\"line_width\":5,\"x\":{\"field\":\"x\"},\"y\":{\"field\":\"y\"}},\"id\":\"1176\",\"type\":\"Line\"},{\"attributes\":{\"axis\":{\"id\":\"1170\"},\"dimension\":1,\"ticker\":null},\"id\":\"1173\",\"type\":\"Grid\"},{\"attributes\":{\"axis\":{\"id\":\"1197\"},\"dimension\":1,\"ticker\":null},\"id\":\"1200\",\"type\":\"Grid\"},{\"attributes\":{},\"id\":\"1171\",\"type\":\"BasicTicker\"},{\"attributes\":{\"axis_label\":\"f(X)\",\"axis_label_text_font_size\":\"16pt\",\"formatter\":{\"id\":\"1227\"},\"ticker\":{\"id\":\"1171\"}},\"id\":\"1170\",\"type\":\"LinearAxis\"},{\"attributes\":{},\"id\":\"1198\",\"type\":\"BasicTicker\"},{\"attributes\":{},\"id\":\"1167\",\"type\":\"BasicTicker\"},{\"attributes\":{},\"id\":\"1235\",\"type\":\"UnionRenderers\"},{\"attributes\":{\"below\":[{\"id\":\"1166\"}],\"center\":[{\"id\":\"1169\"},{\"id\":\"1173\"}],\"left\":[{\"id\":\"1170\"}],\"renderers\":[{\"id\":\"1178\"}],\"title\":{\"id\":\"1156\"},\"toolbar\":{\"id\":\"1174\"},\"x_range\":{\"id\":\"1180\"},\"x_scale\":{\"id\":\"1162\"},\"y_range\":{\"id\":\"1181\"},\"y_scale\":{\"id\":\"1164\"}},\"id\":\"1155\",\"subtype\":\"Figure\",\"type\":\"Plot\"},{\"attributes\":{\"axis\":{\"id\":\"1166\"},\"ticker\":null},\"id\":\"1169\",\"type\":\"Grid\"},{\"attributes\":{},\"id\":\"1227\",\"type\":\"BasicTickFormatter\"},{\"attributes\":{\"data\":{\"x\":{\"__ndarray__\":\"AAAgwYbEHMENiRnBk00WwRoSE8Gg1g/BJ5sMwa1fCcE0JAbBuugCwYJa/8CO4/jAm2zywKj168C1fuXAwgffwM+Q2MDcGdLA6aLLwPYrxcADtb7AED64wB3HscAqUKvANtmkwENinsBQ65fAXXSRwGr9isB3hoTACB98wCIxb8A8Q2LAVlVVwHBnSMCKeTvApIsuwL6dIcDYrxTA8sEHwBio9b9IzNu/gPDBv7AUqL/oOI6/MLpov6ACNb8ASwG/wCabvoDezr2A3s49wCabPgBLAT+QAjU/MLpoP+A4jj+wFKg/ePDBP0jM2z8QqPU/8MEHQNSvFEC8nSFAoIsuQIh5O0BwZ0hAVFVVQDxDYkAgMW9ACB98QHaGhEBq/YpAXHSRQFDrl0BCYp5ANtmkQChQq0Acx7FADj64QAK1vkD0K8VA6KLLQNwZ0kDQkNhAwAffQLR+5UCo9etAnGzyQIzj+ECAWv9AuugCQTQkBkGsXwlBJpsMQaDWD0EaEhNBlE0WQQyJGUGGxBxBAAAgQQ==\",\"dtype\":\"float32\",\"order\":\"little\",\"shape\":[100]},\"y\":{\"__ndarray__\":\"mGk+ONIJaThRmo44bYauOKmX1Ti5swI5SPUfOQTDQznPk285Q5mSOSRosznrjds5OVcGOqZlJDo+LEk66Sp2OnabljrWRrg61XXhOgvqCTvBtSg7UFxOO5dhfDvmTpo7oKe8O5yX5jvE4gw8UhgsPNQgUjyMN4A8kl+cPBKRvjxiBeg8ZhYNPQ9aKz1WxE8912x7PUPFlz1st7Y9JD7bPcIFAz614xs+MoA4PuoMWT6Pm30+BwqTPgsWqT6JscA+nIHZPukU8z6MdQY/Mz8TPzynHz/3dCs//Ho2PxqZQD/GvEk/8d9RPxMHWT+OPl8/OphkPxEpaT9YB20/MUlwP7oDcz9fSnU/mi53P9W/eD93C3o/BB17P0P+ez99t3w/n099P3XMfT/RMn4/sYZ+P2LLfj+eA38/ozF/P0lXfz8Wdn8/Ro9/P92jfz+ytH8/dcJ/P7bNfz/n1n8/at5/P4/kfz+U6X8/re1/Pwfxfz/F838/APZ/P9T3fz9U+X8/jPp/P4z7fz9c/H8/Bv1/Pw==\",\"dtype\":\"float32\",\"order\":\"little\",\"shape\":[100]}},\"selected\":{\"id\":\"1234\"},\"selection_policy\":{\"id\":\"1235\"}},\"id\":\"1175\",\"type\":\"ColumnDataSource\"},{\"attributes\":{\"end\":10.0,\"start\":-10.0},\"id\":\"1180\",\"type\":\"Range1d\"},{\"attributes\":{\"line_alpha\":0.1,\"line_color\":\"royalblue\",\"line_width\":5,\"x\":{\"field\":\"x\"},\"y\":{\"field\":\"y\"}},\"id\":\"1177\",\"type\":\"Line\"},{\"attributes\":{},\"id\":\"1194\",\"type\":\"BasicTicker\"},{\"attributes\":{\"end\":10.0,\"start\":-10.0},\"id\":\"1207\",\"type\":\"Range1d\"},{\"attributes\":{},\"id\":\"1189\",\"type\":\"LinearScale\"},{\"attributes\":{\"axis\":{\"id\":\"1193\"},\"ticker\":null},\"id\":\"1196\",\"type\":\"Grid\"},{\"attributes\":{},\"id\":\"1229\",\"type\":\"BasicTickFormatter\"},{\"attributes\":{\"data\":{\"x\":{\"__ndarray__\":\"AAAgwYbEHMENiRnBk00WwRoSE8Gg1g/BJ5sMwa1fCcE0JAbBuugCwYJa/8CO4/jAm2zywKj168C1fuXAwgffwM+Q2MDcGdLA6aLLwPYrxcADtb7AED64wB3HscAqUKvANtmkwENinsBQ65fAXXSRwGr9isB3hoTACB98wCIxb8A8Q2LAVlVVwHBnSMCKeTvApIsuwL6dIcDYrxTA8sEHwBio9b9IzNu/gPDBv7AUqL/oOI6/MLpov6ACNb8ASwG/wCabvoDezr2A3s49wCabPgBLAT+QAjU/MLpoP+A4jj+wFKg/ePDBP0jM2z8QqPU/8MEHQNSvFEC8nSFAoIsuQIh5O0BwZ0hAVFVVQDxDYkAgMW9ACB98QHaGhEBq/YpAXHSRQFDrl0BCYp5ANtmkQChQq0Acx7FADj64QAK1vkD0K8VA6KLLQNwZ0kDQkNhAwAffQLR+5UCo9etAnGzyQIzj+ECAWv9AuugCQTQkBkGsXwlBJpsMQaDWD0EaEhNBlE0WQQyJGUGGxBxBAAAgQQ==\",\"dtype\":\"float32\",\"order\":\"little\",\"shape\":[100]},\"y\":{\"__ndarray__\":\"YWc+OIIGaTjVl444tYKuOBeS1TiNrwI5Ce8fOam5QznMhW85xY6SOW1Yszlhdts5mUUGOkJLJDq4BEk6u+91OilvljqDBLg6jRLhOr+fCTuSRig7+LVNO8ZoezvglJk7k5G7OzP45DuhrAs8j0kqPO1uTzyfa3w8bWOZPDQiujwUc+E8SzoIPfguJD1lOkU97v1rPfqFjD1CaqY9uMXDPRKE5D1TKAQ+EEIXPjELKz5ZzD4+iZ9RPvl9Yj5KWHA+PDZ6Ph9Zfz4eWX8+OzZ6PklYcD7+fWI+ip9RPl7MPj4wCys+FkIXPlIoBD4bhOQ9wcXDPUxqpj33hYw9A/5rPW06RT35LiQ9RjoIPRJz4TxCIro8XGOZPMVrfDzZbk88fkkqPJ2sCzwX+OQ7c5G7O/qUmTsvaXs7prZNO89HKDu0nwk7uRDhOq4DuDqyb5Y60vB1OnwASTqcSSQ6YEYGOnhw2zlKULM5go2SOf2BbzmnpkM5wPkfOdS7AjlwetU4SHyuOIV9jjiw/Gg4yX0+OA==\",\"dtype\":\"float32\",\"order\":\"little\",\"shape\":[100]}},\"selected\":{\"id\":\"1236\"},\"selection_policy\":{\"id\":\"1237\"}},\"id\":\"1202\",\"type\":\"ColumnDataSource\"},{\"attributes\":{},\"id\":\"1164\",\"type\":\"LinearScale\"},{\"attributes\":{\"source\":{\"id\":\"1175\"}},\"id\":\"1179\",\"type\":\"CDSView\"},{\"attributes\":{\"data_source\":{\"id\":\"1175\"},\"glyph\":{\"id\":\"1176\"},\"hover_glyph\":null,\"muted_glyph\":null,\"nonselection_glyph\":{\"id\":\"1177\"},\"selection_glyph\":null,\"view\":{\"id\":\"1179\"}},\"id\":\"1178\",\"type\":\"GlyphRenderer\"},{\"attributes\":{\"axis_label\":\"X\",\"axis_label_text_font_size\":\"16pt\",\"formatter\":{\"id\":\"1229\"},\"ticker\":{\"id\":\"1167\"}},\"id\":\"1166\",\"type\":\"LinearAxis\"},{\"attributes\":{\"below\":[{\"id\":\"1193\"}],\"center\":[{\"id\":\"1196\"},{\"id\":\"1200\"}],\"left\":[{\"id\":\"1197\"}],\"renderers\":[{\"id\":\"1205\"}],\"title\":{\"id\":\"1183\"},\"toolbar\":{\"id\":\"1201\"},\"x_range\":{\"id\":\"1207\"},\"x_scale\":{\"id\":\"1189\"},\"y_range\":{\"id\":\"1208\"},\"y_scale\":{\"id\":\"1191\"}},\"id\":\"1182\",\"subtype\":\"Figure\",\"type\":\"Plot\"},{\"attributes\":{},\"id\":\"1231\",\"type\":\"BasicTickFormatter\"},{\"attributes\":{},\"id\":\"1234\",\"type\":\"Selection\"},{\"attributes\":{\"line_color\":\"royalblue\",\"line_width\":5,\"x\":{\"field\":\"x\"},\"y\":{\"field\":\"y\"}},\"id\":\"1203\",\"type\":\"Line\"},{\"attributes\":{},\"id\":\"1237\",\"type\":\"UnionRenderers\"},{\"attributes\":{},\"id\":\"1162\",\"type\":\"LinearScale\"},{\"attributes\":{\"data_source\":{\"id\":\"1202\"},\"glyph\":{\"id\":\"1203\"},\"hover_glyph\":null,\"muted_glyph\":null,\"nonselection_glyph\":{\"id\":\"1204\"},\"selection_glyph\":null,\"view\":{\"id\":\"1206\"}},\"id\":\"1205\",\"type\":\"GlyphRenderer\"},{\"attributes\":{},\"id\":\"1233\",\"type\":\"BasicTickFormatter\"},{\"attributes\":{\"axis_label\":\"X\",\"axis_label_text_font_size\":\"16pt\",\"formatter\":{\"id\":\"1233\"},\"ticker\":{\"id\":\"1194\"}},\"id\":\"1193\",\"type\":\"LinearAxis\"},{\"attributes\":{\"end\":1.25,\"start\":-1.25},\"id\":\"1208\",\"type\":\"Range1d\"}],\"root_ids\":[\"1209\"]},\"title\":\"Bokeh Application\",\"version\":\"2.1.1\"}};\n",
       "  var render_items = [{\"docid\":\"50eaa7cc-fbab-460d-ba7c-19836d43b3ad\",\"root_ids\":[\"1209\"],\"roots\":{\"1209\":\"a2e504d9-7e94-4578-87aa-57b24d04a651\"}}];\n",
       "  root.Bokeh.embed.embed_items_notebook(docs_json, render_items);\n",
       "\n",
       "  }\n",
       "  if (root.Bokeh !== undefined) {\n",
       "    embed_document(root);\n",
       "  } else {\n",
       "    var attempts = 0;\n",
       "    var timer = setInterval(function(root) {\n",
       "      if (root.Bokeh !== undefined) {\n",
       "        clearInterval(timer);\n",
       "        embed_document(root);\n",
       "      } else {\n",
       "        attempts++;\n",
       "        if (attempts > 100) {\n",
       "          clearInterval(timer);\n",
       "          console.log(\"Bokeh: ERROR: Unable to run BokehJS code because BokehJS library is missing\");\n",
       "        }\n",
       "      }\n",
       "    }, 10, root)\n",
       "  }\n",
       "})(window);"
      ],
      "application/vnd.bokehjs_exec.v0+json": ""
     },
     "metadata": {
      "application/vnd.bokehjs_exec.v0+json": {
       "id": "1209"
      }
     },
     "output_type": "display_data"
    }
   ],
   "source": [
    "with tf.GradientTape() as g:\n",
    "    y = activations.sigmoid(X)\n",
    "gradient = g.gradient(y, X)\n",
    "visualize('Sigmoid', X, y, gradient, color='royalblue', ymin=-1.25, ymax=1.25)"
   ]
  },
  {
   "cell_type": "markdown",
   "metadata": {},
   "source": [
    "## Hyperbolic Tangent\n",
    "* Equation\n",
    "$$\\tanh(x)=\\frac{\\exp(x)-\\exp(-x)}{\\exp(x)+\\exp(-x)}$$\n",
    "\n",
    "* Derivative\n",
    "$$\\frac{\\partial(\\tanh(x))}{\\partial x}=\\frac{1}{\\cosh^2(x)}$$\n",
    "\n",
    "* Description:\n",
    "    * Commonly used in the gate of __long short-term memory (LSTM)__ and __gate recurrent unit (GRU)__."
   ]
  },
  {
   "cell_type": "code",
   "execution_count": 6,
   "metadata": {},
   "outputs": [
    {
     "data": {
      "text/html": [
       "\n",
       "\n",
       "\n",
       "\n",
       "\n",
       "\n",
       "  <div class=\"bk-root\" id=\"8c353810-ec13-4609-89aa-5856bab03197\" data-root-id=\"1376\"></div>\n"
      ]
     },
     "metadata": {},
     "output_type": "display_data"
    },
    {
     "data": {
      "application/javascript": [
       "(function(root) {\n",
       "  function embed_document(root) {\n",
       "    \n",
       "  var docs_json = {\"edcf9347-7676-46c5-be3b-a866afba1089\":{\"roots\":{\"references\":[{\"attributes\":{\"children\":[{\"id\":\"1322\"},{\"id\":\"1349\"}]},\"id\":\"1376\",\"type\":\"Row\"},{\"attributes\":{\"align\":\"center\",\"text\":\"Hyperbolic Tangent (Derivative)\",\"text_font_size\":{\"value\":\"16pt\"}},\"id\":\"1350\",\"type\":\"Title\"},{\"attributes\":{\"source\":{\"id\":\"1369\"}},\"id\":\"1373\",\"type\":\"CDSView\"},{\"attributes\":{\"line_alpha\":0.1,\"line_color\":\"deepskyblue\",\"line_width\":5,\"x\":{\"field\":\"x\"},\"y\":{\"field\":\"y\"}},\"id\":\"1371\",\"type\":\"Line\"},{\"attributes\":{\"data_source\":{\"id\":\"1342\"},\"glyph\":{\"id\":\"1343\"},\"hover_glyph\":null,\"muted_glyph\":null,\"nonselection_glyph\":{\"id\":\"1344\"},\"selection_glyph\":null,\"view\":{\"id\":\"1346\"}},\"id\":\"1345\",\"type\":\"GlyphRenderer\"},{\"attributes\":{\"end\":1.25,\"start\":-1.25},\"id\":\"1348\",\"type\":\"Range1d\"},{\"attributes\":{\"axis\":{\"id\":\"1364\"},\"dimension\":1,\"ticker\":null},\"id\":\"1367\",\"type\":\"Grid\"},{\"attributes\":{},\"id\":\"1408\",\"type\":\"BasicTickFormatter\"},{\"attributes\":{\"source\":{\"id\":\"1342\"}},\"id\":\"1346\",\"type\":\"CDSView\"},{\"attributes\":{},\"id\":\"1415\",\"type\":\"Selection\"},{\"attributes\":{},\"id\":\"1417\",\"type\":\"Selection\"},{\"attributes\":{\"end\":10.0,\"start\":-10.0},\"id\":\"1347\",\"type\":\"Range1d\"},{\"attributes\":{},\"id\":\"1334\",\"type\":\"BasicTicker\"},{\"attributes\":{\"end\":1.25,\"start\":-1.25},\"id\":\"1375\",\"type\":\"Range1d\"},{\"attributes\":{\"line_alpha\":0.1,\"line_color\":\"deepskyblue\",\"line_width\":5,\"x\":{\"field\":\"x\"},\"y\":{\"field\":\"y\"}},\"id\":\"1344\",\"type\":\"Line\"},{\"attributes\":{\"axis\":{\"id\":\"1337\"},\"dimension\":1,\"ticker\":null},\"id\":\"1340\",\"type\":\"Grid\"},{\"attributes\":{\"align\":\"center\",\"text\":\"Hyperbolic Tangent\",\"text_font_size\":{\"value\":\"16pt\"}},\"id\":\"1323\",\"type\":\"Title\"},{\"attributes\":{},\"id\":\"1361\",\"type\":\"BasicTicker\"},{\"attributes\":{},\"id\":\"1410\",\"type\":\"BasicTickFormatter\"},{\"attributes\":{\"axis_label\":\"gradient(X)\",\"axis_label_text_font_size\":\"16pt\",\"formatter\":{\"id\":\"1412\"},\"ticker\":{\"id\":\"1365\"}},\"id\":\"1364\",\"type\":\"LinearAxis\"},{\"attributes\":{\"axis\":{\"id\":\"1333\"},\"ticker\":null},\"id\":\"1336\",\"type\":\"Grid\"},{\"attributes\":{},\"id\":\"1412\",\"type\":\"BasicTickFormatter\"},{\"attributes\":{\"data\":{\"x\":{\"__ndarray__\":\"AAAgwYbEHMENiRnBk00WwRoSE8Gg1g/BJ5sMwa1fCcE0JAbBuugCwYJa/8CO4/jAm2zywKj168C1fuXAwgffwM+Q2MDcGdLA6aLLwPYrxcADtb7AED64wB3HscAqUKvANtmkwENinsBQ65fAXXSRwGr9isB3hoTACB98wCIxb8A8Q2LAVlVVwHBnSMCKeTvApIsuwL6dIcDYrxTA8sEHwBio9b9IzNu/gPDBv7AUqL/oOI6/MLpov6ACNb8ASwG/wCabvoDezr2A3s49wCabPgBLAT+QAjU/MLpoP+A4jj+wFKg/ePDBP0jM2z8QqPU/8MEHQNSvFEC8nSFAoIsuQIh5O0BwZ0hAVFVVQDxDYkAgMW9ACB98QHaGhEBq/YpAXHSRQFDrl0BCYp5ANtmkQChQq0Acx7FADj64QAK1vkD0K8VA6KLLQNwZ0kDQkNhAwAffQLR+5UCo9etAnGzyQIzj+ECAWv9AuugCQTQkBkGsXwlBJpsMQaDWD0EaEhNBlE0WQQyJGUGGxBxBAAAgQQ==\",\"dtype\":\"float32\",\"order\":\"little\",\"shape\":[100]},\"y\":{\"__ndarray__\":\"AAAAAAAAAAAAAAAAAAAAAAAAAAAAAIC0AAAAAAAAgDQAAMA0AABANQAAADUAACA1AABgNQAAwDUAACA2AABwNgAArDYAAAY3AABENwAAkzcAAOE3AIAnOACAejgAwLs4AGAMOQDgUjkA4J05ADjsOQD4MDoAfIQ6AGjGOgCIFDsAWl47AGOmO4Do+DuADzo8YPOKPCBAzzzgPBo9MNtkPVABqT3I6vc9lAc0PsjZgD4EqbQ+5hD2PvIaIT+VY0g/IdxpP9pnfT/aZ30/IdxpP5VjSD/+GiE/5hD2PhqptD7I2YA+nAc0Psjq9z1QAak9MNtkPQA9Gj0gQM88oPOKPIAOOjyA6Pg7AGOmOwBaXjsAiBQ7AGjGOgB8hDoA+DA6ADjsOQDgnTkAoFI5AGAMOQBAuzgAAHo4AIAnOAAA3jcAAJQ3AABENwAABjcAALA2AABwNgAAIDYAAMA1AABgNQAAQDUAAAA1AABANQAAwDQAAIA0AAAAAAAAgLQAAAAAAAAAAAAAAAAAAAAAAAAAAA==\",\"dtype\":\"float32\",\"order\":\"little\",\"shape\":[100]}},\"selected\":{\"id\":\"1417\"},\"selection_policy\":{\"id\":\"1418\"}},\"id\":\"1369\",\"type\":\"ColumnDataSource\"},{\"attributes\":{\"active_drag\":\"auto\",\"active_inspect\":\"auto\",\"active_multi\":null,\"active_scroll\":\"auto\",\"active_tap\":\"auto\"},\"id\":\"1341\",\"type\":\"Toolbar\"},{\"attributes\":{\"below\":[{\"id\":\"1333\"}],\"center\":[{\"id\":\"1336\"},{\"id\":\"1340\"}],\"left\":[{\"id\":\"1337\"}],\"renderers\":[{\"id\":\"1345\"}],\"title\":{\"id\":\"1323\"},\"toolbar\":{\"id\":\"1341\"},\"x_range\":{\"id\":\"1347\"},\"x_scale\":{\"id\":\"1329\"},\"y_range\":{\"id\":\"1348\"},\"y_scale\":{\"id\":\"1331\"}},\"id\":\"1322\",\"subtype\":\"Figure\",\"type\":\"Plot\"},{\"attributes\":{\"active_drag\":\"auto\",\"active_inspect\":\"auto\",\"active_multi\":null,\"active_scroll\":\"auto\",\"active_tap\":\"auto\"},\"id\":\"1368\",\"type\":\"Toolbar\"},{\"attributes\":{\"axis\":{\"id\":\"1360\"},\"ticker\":null},\"id\":\"1363\",\"type\":\"Grid\"},{\"attributes\":{},\"id\":\"1365\",\"type\":\"BasicTicker\"},{\"attributes\":{\"below\":[{\"id\":\"1360\"}],\"center\":[{\"id\":\"1363\"},{\"id\":\"1367\"}],\"left\":[{\"id\":\"1364\"}],\"renderers\":[{\"id\":\"1372\"}],\"title\":{\"id\":\"1350\"},\"toolbar\":{\"id\":\"1368\"},\"x_range\":{\"id\":\"1374\"},\"x_scale\":{\"id\":\"1356\"},\"y_range\":{\"id\":\"1375\"},\"y_scale\":{\"id\":\"1358\"}},\"id\":\"1349\",\"subtype\":\"Figure\",\"type\":\"Plot\"},{\"attributes\":{},\"id\":\"1416\",\"type\":\"UnionRenderers\"},{\"attributes\":{},\"id\":\"1331\",\"type\":\"LinearScale\"},{\"attributes\":{},\"id\":\"1418\",\"type\":\"UnionRenderers\"},{\"attributes\":{\"data\":{\"x\":{\"__ndarray__\":\"AAAgwYbEHMENiRnBk00WwRoSE8Gg1g/BJ5sMwa1fCcE0JAbBuugCwYJa/8CO4/jAm2zywKj168C1fuXAwgffwM+Q2MDcGdLA6aLLwPYrxcADtb7AED64wB3HscAqUKvANtmkwENinsBQ65fAXXSRwGr9isB3hoTACB98wCIxb8A8Q2LAVlVVwHBnSMCKeTvApIsuwL6dIcDYrxTA8sEHwBio9b9IzNu/gPDBv7AUqL/oOI6/MLpov6ACNb8ASwG/wCabvoDezr2A3s49wCabPgBLAT+QAjU/MLpoP+A4jj+wFKg/ePDBP0jM2z8QqPU/8MEHQNSvFEC8nSFAoIsuQIh5O0BwZ0hAVFVVQDxDYkAgMW9ACB98QHaGhEBq/YpAXHSRQFDrl0BCYp5ANtmkQChQq0Acx7FADj64QAK1vkD0K8VA6KLLQNwZ0kDQkNhAwAffQLR+5UCo9etAnGzyQIzj+ECAWv9AuugCQTQkBkGsXwlBJpsMQaDWD0EaEhNBlE0WQQyJGUGGxBxBAAAgQQ==\",\"dtype\":\"float32\",\"order\":\"little\",\"shape\":[100]},\"y\":{\"__ndarray__\":\"AACAvwAAgL8AAIC/AACAvwAAgL8BAIC/AACAv/7/f7/9/3+/+v9/v/z/f7/7/3+/+f9/v/T/f7/s/3+/4v9/v9X/f7+9/3+/nv9/v23/f78f/3+/sf5/vwv+f78R/X+/nft/v2n5f78i9n+/PPF/v+Dpf7/f3n+/Yc5/v7G1f7+7kH+/Z1l/v54Gf7/Rin6/0tF9v7C9fL9CInu/1r54v7Q1db9qAXC/y2hov/B0Xb/F8E2/hH84v7/cG78Hou6+DZKWvh0rzr0dK849DZKWPgei7j613Bs/hH84P77wTT/wdF0/ymhoP2oBcD+0NXU/1r54P0Eiez+wvXw/0dF9P9OKfj+eBn8/Z1l/P7uQfz+xtX8/Yc5/P9/efz/g6X8/PPF/PyL2fz9r+X8/nft/PxP9fz8M/n8/sf5/PyL/fz9s/38/nv9/P73/fz/U/38/4v9/P+z/fz/0/38/+f9/P/r/fz/8/38/+v9/P/3/fz/+/38/AACAPwEAgD8AAIA/AACAPwAAgD8AAIA/AACAPw==\",\"dtype\":\"float32\",\"order\":\"little\",\"shape\":[100]}},\"selected\":{\"id\":\"1415\"},\"selection_policy\":{\"id\":\"1416\"}},\"id\":\"1342\",\"type\":\"ColumnDataSource\"},{\"attributes\":{},\"id\":\"1329\",\"type\":\"LinearScale\"},{\"attributes\":{\"line_color\":\"deepskyblue\",\"line_width\":5,\"x\":{\"field\":\"x\"},\"y\":{\"field\":\"y\"}},\"id\":\"1343\",\"type\":\"Line\"},{\"attributes\":{\"axis_label\":\"X\",\"axis_label_text_font_size\":\"16pt\",\"formatter\":{\"id\":\"1410\"},\"ticker\":{\"id\":\"1334\"}},\"id\":\"1333\",\"type\":\"LinearAxis\"},{\"attributes\":{},\"id\":\"1356\",\"type\":\"LinearScale\"},{\"attributes\":{\"axis_label\":\"X\",\"axis_label_text_font_size\":\"16pt\",\"formatter\":{\"id\":\"1414\"},\"ticker\":{\"id\":\"1361\"}},\"id\":\"1360\",\"type\":\"LinearAxis\"},{\"attributes\":{\"axis_label\":\"f(X)\",\"axis_label_text_font_size\":\"16pt\",\"formatter\":{\"id\":\"1408\"},\"ticker\":{\"id\":\"1338\"}},\"id\":\"1337\",\"type\":\"LinearAxis\"},{\"attributes\":{\"end\":10.0,\"start\":-10.0},\"id\":\"1374\",\"type\":\"Range1d\"},{\"attributes\":{\"data_source\":{\"id\":\"1369\"},\"glyph\":{\"id\":\"1370\"},\"hover_glyph\":null,\"muted_glyph\":null,\"nonselection_glyph\":{\"id\":\"1371\"},\"selection_glyph\":null,\"view\":{\"id\":\"1373\"}},\"id\":\"1372\",\"type\":\"GlyphRenderer\"},{\"attributes\":{},\"id\":\"1338\",\"type\":\"BasicTicker\"},{\"attributes\":{\"line_color\":\"deepskyblue\",\"line_width\":5,\"x\":{\"field\":\"x\"},\"y\":{\"field\":\"y\"}},\"id\":\"1370\",\"type\":\"Line\"},{\"attributes\":{},\"id\":\"1358\",\"type\":\"LinearScale\"},{\"attributes\":{},\"id\":\"1414\",\"type\":\"BasicTickFormatter\"}],\"root_ids\":[\"1376\"]},\"title\":\"Bokeh Application\",\"version\":\"2.1.1\"}};\n",
       "  var render_items = [{\"docid\":\"edcf9347-7676-46c5-be3b-a866afba1089\",\"root_ids\":[\"1376\"],\"roots\":{\"1376\":\"8c353810-ec13-4609-89aa-5856bab03197\"}}];\n",
       "  root.Bokeh.embed.embed_items_notebook(docs_json, render_items);\n",
       "\n",
       "  }\n",
       "  if (root.Bokeh !== undefined) {\n",
       "    embed_document(root);\n",
       "  } else {\n",
       "    var attempts = 0;\n",
       "    var timer = setInterval(function(root) {\n",
       "      if (root.Bokeh !== undefined) {\n",
       "        clearInterval(timer);\n",
       "        embed_document(root);\n",
       "      } else {\n",
       "        attempts++;\n",
       "        if (attempts > 100) {\n",
       "          clearInterval(timer);\n",
       "          console.log(\"Bokeh: ERROR: Unable to run BokehJS code because BokehJS library is missing\");\n",
       "        }\n",
       "      }\n",
       "    }, 10, root)\n",
       "  }\n",
       "})(window);"
      ],
      "application/vnd.bokehjs_exec.v0+json": ""
     },
     "metadata": {
      "application/vnd.bokehjs_exec.v0+json": {
       "id": "1376"
      }
     },
     "output_type": "display_data"
    }
   ],
   "source": [
    "with tf.GradientTape() as g:\n",
    "    y = activations.tanh(X)\n",
    "gradient = g.gradient(y, X)\n",
    "visualize('Hyperbolic Tangent', X, y, gradient, color='deepskyblue', ymin=-1.25, ymax=1.25)"
   ]
  },
  {
   "cell_type": "markdown",
   "metadata": {},
   "source": [
    "## Rectified Linear Unit (ReLU)\n",
    "* Equation\n",
    "$$\\text{ReLU}(x)=\\max(0, x)$$\n",
    "\n",
    "* Derivative\n",
    "$$\\begin{align}\\frac{\\partial(\\text{ReLU}(x))}{\\partial x}=\\begin{cases}1\\;&\\text{if } x > 0\\\\0\\;&\\text{otherwise}\\end{cases}\\end{align}$$\n",
    "\n",
    "* Properties:\n",
    "    * The most commonly used activation function in the hiddent layer of multilayer perceptron network.\n",
    "    * The output of the activation function is a sparse (have many zeros) tensor. Therefore, it requires less computational time and memory to reach convergence.\n",
    "    * Computational efficient to compute the derivative since it does not require exponential computation (about 1.5x faster than sigmoid and 2x faster than hyperbolic tangent).\n",
    "    * The sparisty could potentially __prevent overfitting__.\n",
    "    * However, the sparsity might also lead to __dying ReLU__ problem (some weight will never be updated)\n",
    "    * Might cause __gradient exploding__ problem (will discuss in recurrent neural network) when the gradient of the linear combination before applying ReLU is large.\n",
    "    * Alleviate gradient vanishing problem."
   ]
  },
  {
   "cell_type": "code",
   "execution_count": 7,
   "metadata": {},
   "outputs": [
    {
     "data": {
      "text/html": [
       "\n",
       "\n",
       "\n",
       "\n",
       "\n",
       "\n",
       "  <div class=\"bk-root\" id=\"e625fbd2-54d7-4ee5-8fd5-4ad79fd0e019\" data-root-id=\"1557\"></div>\n"
      ]
     },
     "metadata": {},
     "output_type": "display_data"
    },
    {
     "data": {
      "application/javascript": [
       "(function(root) {\n",
       "  function embed_document(root) {\n",
       "    \n",
       "  var docs_json = {\"8255c203-968b-4623-a838-9b75967b4e00\":{\"roots\":{\"references\":[{\"attributes\":{\"children\":[{\"id\":\"1503\"},{\"id\":\"1530\"}]},\"id\":\"1557\",\"type\":\"Row\"},{\"attributes\":{\"end\":10.0,\"start\":-10},\"id\":\"1529\",\"type\":\"Range1d\"},{\"attributes\":{\"data\":{\"x\":{\"__ndarray__\":\"AAAgwYbEHMENiRnBk00WwRoSE8Gg1g/BJ5sMwa1fCcE0JAbBuugCwYJa/8CO4/jAm2zywKj168C1fuXAwgffwM+Q2MDcGdLA6aLLwPYrxcADtb7AED64wB3HscAqUKvANtmkwENinsBQ65fAXXSRwGr9isB3hoTACB98wCIxb8A8Q2LAVlVVwHBnSMCKeTvApIsuwL6dIcDYrxTA8sEHwBio9b9IzNu/gPDBv7AUqL/oOI6/MLpov6ACNb8ASwG/wCabvoDezr2A3s49wCabPgBLAT+QAjU/MLpoP+A4jj+wFKg/ePDBP0jM2z8QqPU/8MEHQNSvFEC8nSFAoIsuQIh5O0BwZ0hAVFVVQDxDYkAgMW9ACB98QHaGhEBq/YpAXHSRQFDrl0BCYp5ANtmkQChQq0Acx7FADj64QAK1vkD0K8VA6KLLQNwZ0kDQkNhAwAffQLR+5UCo9etAnGzyQIzj+ECAWv9AuugCQTQkBkGsXwlBJpsMQaDWD0EaEhNBlE0WQQyJGUGGxBxBAAAgQQ==\",\"dtype\":\"float32\",\"order\":\"little\",\"shape\":[100]},\"y\":{\"__ndarray__\":\"AAAAAAAAAAAAAAAAAAAAAAAAAAAAAAAAAAAAAAAAAAAAAAAAAAAAAAAAAAAAAAAAAAAAAAAAAAAAAAAAAAAAAAAAAAAAAAAAAAAAAAAAAAAAAAAAAAAAAAAAAAAAAAAAAAAAAAAAAAAAAAAAAAAAAAAAAAAAAAAAAAAAAAAAAAAAAAAAAAAAAAAAAAAAAAAAAAAAAAAAAAAAAAAAAAAAAAAAAAAAAAAAAAAAAAAAAAAAAAAAAAAAAAAAAAAAAAAAAAAAAAAAAAAAAIA/AACAPwAAgD8AAIA/AACAPwAAgD8AAIA/AACAPwAAgD8AAIA/AACAPwAAgD8AAIA/AACAPwAAgD8AAIA/AACAPwAAgD8AAIA/AACAPwAAgD8AAIA/AACAPwAAgD8AAIA/AACAPwAAgD8AAIA/AACAPwAAgD8AAIA/AACAPwAAgD8AAIA/AACAPwAAgD8AAIA/AACAPwAAgD8AAIA/AACAPwAAgD8AAIA/AACAPwAAgD8AAIA/AACAPwAAgD8AAIA/AACAPw==\",\"dtype\":\"float32\",\"order\":\"little\",\"shape\":[100]}},\"selected\":{\"id\":\"1612\"},\"selection_policy\":{\"id\":\"1613\"}},\"id\":\"1550\",\"type\":\"ColumnDataSource\"},{\"attributes\":{},\"id\":\"1611\",\"type\":\"UnionRenderers\"},{\"attributes\":{},\"id\":\"1537\",\"type\":\"LinearScale\"},{\"attributes\":{},\"id\":\"1612\",\"type\":\"Selection\"},{\"attributes\":{\"end\":1.25,\"start\":-1.25},\"id\":\"1556\",\"type\":\"Range1d\"},{\"attributes\":{\"below\":[{\"id\":\"1514\"}],\"center\":[{\"id\":\"1517\"},{\"id\":\"1521\"}],\"left\":[{\"id\":\"1518\"}],\"renderers\":[{\"id\":\"1526\"}],\"title\":{\"id\":\"1504\"},\"toolbar\":{\"id\":\"1522\"},\"x_range\":{\"id\":\"1528\"},\"x_scale\":{\"id\":\"1510\"},\"y_range\":{\"id\":\"1529\"},\"y_scale\":{\"id\":\"1512\"}},\"id\":\"1503\",\"subtype\":\"Figure\",\"type\":\"Plot\"},{\"attributes\":{},\"id\":\"1613\",\"type\":\"UnionRenderers\"},{\"attributes\":{\"line_color\":\"lightcoral\",\"line_width\":5,\"x\":{\"field\":\"x\"},\"y\":{\"field\":\"y\"}},\"id\":\"1551\",\"type\":\"Line\"},{\"attributes\":{\"axis_label\":\"X\",\"axis_label_text_font_size\":\"16pt\",\"formatter\":{\"id\":\"1609\"},\"ticker\":{\"id\":\"1542\"}},\"id\":\"1541\",\"type\":\"LinearAxis\"},{\"attributes\":{\"axis_label\":\"X\",\"axis_label_text_font_size\":\"16pt\",\"formatter\":{\"id\":\"1605\"},\"ticker\":{\"id\":\"1515\"}},\"id\":\"1514\",\"type\":\"LinearAxis\"},{\"attributes\":{},\"id\":\"1605\",\"type\":\"BasicTickFormatter\"},{\"attributes\":{},\"id\":\"1515\",\"type\":\"BasicTicker\"},{\"attributes\":{\"line_alpha\":0.1,\"line_color\":\"lightcoral\",\"line_width\":5,\"x\":{\"field\":\"x\"},\"y\":{\"field\":\"y\"}},\"id\":\"1552\",\"type\":\"Line\"},{\"attributes\":{},\"id\":\"1610\",\"type\":\"Selection\"},{\"attributes\":{\"align\":\"center\",\"text\":\"ReLU\",\"text_font_size\":{\"value\":\"16pt\"}},\"id\":\"1504\",\"type\":\"Title\"},{\"attributes\":{\"active_drag\":\"auto\",\"active_inspect\":\"auto\",\"active_multi\":null,\"active_scroll\":\"auto\",\"active_tap\":\"auto\"},\"id\":\"1522\",\"type\":\"Toolbar\"},{\"attributes\":{},\"id\":\"1539\",\"type\":\"LinearScale\"},{\"attributes\":{\"data\":{\"x\":{\"__ndarray__\":\"AAAgwYbEHMENiRnBk00WwRoSE8Gg1g/BJ5sMwa1fCcE0JAbBuugCwYJa/8CO4/jAm2zywKj168C1fuXAwgffwM+Q2MDcGdLA6aLLwPYrxcADtb7AED64wB3HscAqUKvANtmkwENinsBQ65fAXXSRwGr9isB3hoTACB98wCIxb8A8Q2LAVlVVwHBnSMCKeTvApIsuwL6dIcDYrxTA8sEHwBio9b9IzNu/gPDBv7AUqL/oOI6/MLpov6ACNb8ASwG/wCabvoDezr2A3s49wCabPgBLAT+QAjU/MLpoP+A4jj+wFKg/ePDBP0jM2z8QqPU/8MEHQNSvFEC8nSFAoIsuQIh5O0BwZ0hAVFVVQDxDYkAgMW9ACB98QHaGhEBq/YpAXHSRQFDrl0BCYp5ANtmkQChQq0Acx7FADj64QAK1vkD0K8VA6KLLQNwZ0kDQkNhAwAffQLR+5UCo9etAnGzyQIzj+ECAWv9AuugCQTQkBkGsXwlBJpsMQaDWD0EaEhNBlE0WQQyJGUGGxBxBAAAgQQ==\",\"dtype\":\"float32\",\"order\":\"little\",\"shape\":[100]},\"y\":{\"__ndarray__\":\"AAAAAAAAAAAAAAAAAAAAAAAAAAAAAAAAAAAAAAAAAAAAAAAAAAAAAAAAAAAAAAAAAAAAAAAAAAAAAAAAAAAAAAAAAAAAAAAAAAAAAAAAAAAAAAAAAAAAAAAAAAAAAAAAAAAAAAAAAAAAAAAAAAAAAAAAAAAAAAAAAAAAAAAAAAAAAAAAAAAAAAAAAAAAAAAAAAAAAAAAAAAAAAAAAAAAAAAAAAAAAAAAAAAAAAAAAAAAAAAAAAAAAAAAAAAAAAAAAAAAAAAAAACA3s49wCabPgBLAT+QAjU/MLpoP+A4jj+wFKg/ePDBP0jM2z8QqPU/8MEHQNSvFEC8nSFAoIsuQIh5O0BwZ0hAVFVVQDxDYkAgMW9ACB98QHaGhEBq/YpAXHSRQFDrl0BCYp5ANtmkQChQq0Acx7FADj64QAK1vkD0K8VA6KLLQNwZ0kDQkNhAwAffQLR+5UCo9etAnGzyQIzj+ECAWv9AuugCQTQkBkGsXwlBJpsMQaDWD0EaEhNBlE0WQQyJGUGGxBxBAAAgQQ==\",\"dtype\":\"float32\",\"order\":\"little\",\"shape\":[100]}},\"selected\":{\"id\":\"1610\"},\"selection_policy\":{\"id\":\"1611\"}},\"id\":\"1523\",\"type\":\"ColumnDataSource\"},{\"attributes\":{},\"id\":\"1542\",\"type\":\"BasicTicker\"},{\"attributes\":{\"data_source\":{\"id\":\"1550\"},\"glyph\":{\"id\":\"1551\"},\"hover_glyph\":null,\"muted_glyph\":null,\"nonselection_glyph\":{\"id\":\"1552\"},\"selection_glyph\":null,\"view\":{\"id\":\"1554\"}},\"id\":\"1553\",\"type\":\"GlyphRenderer\"},{\"attributes\":{\"axis\":{\"id\":\"1541\"},\"ticker\":null},\"id\":\"1544\",\"type\":\"Grid\"},{\"attributes\":{},\"id\":\"1519\",\"type\":\"BasicTicker\"},{\"attributes\":{\"axis\":{\"id\":\"1514\"},\"ticker\":null},\"id\":\"1517\",\"type\":\"Grid\"},{\"attributes\":{\"end\":10.0,\"start\":-10.0},\"id\":\"1555\",\"type\":\"Range1d\"},{\"attributes\":{\"source\":{\"id\":\"1523\"}},\"id\":\"1527\",\"type\":\"CDSView\"},{\"attributes\":{},\"id\":\"1609\",\"type\":\"BasicTickFormatter\"},{\"attributes\":{},\"id\":\"1607\",\"type\":\"BasicTickFormatter\"},{\"attributes\":{\"source\":{\"id\":\"1550\"}},\"id\":\"1554\",\"type\":\"CDSView\"},{\"attributes\":{},\"id\":\"1510\",\"type\":\"LinearScale\"},{\"attributes\":{},\"id\":\"1512\",\"type\":\"LinearScale\"},{\"attributes\":{},\"id\":\"1603\",\"type\":\"BasicTickFormatter\"},{\"attributes\":{\"axis_label\":\"f(X)\",\"axis_label_text_font_size\":\"16pt\",\"formatter\":{\"id\":\"1603\"},\"ticker\":{\"id\":\"1519\"}},\"id\":\"1518\",\"type\":\"LinearAxis\"},{\"attributes\":{\"axis_label\":\"gradient(X)\",\"axis_label_text_font_size\":\"16pt\",\"formatter\":{\"id\":\"1607\"},\"ticker\":{\"id\":\"1546\"}},\"id\":\"1545\",\"type\":\"LinearAxis\"},{\"attributes\":{\"line_color\":\"lightcoral\",\"line_width\":5,\"x\":{\"field\":\"x\"},\"y\":{\"field\":\"y\"}},\"id\":\"1524\",\"type\":\"Line\"},{\"attributes\":{},\"id\":\"1546\",\"type\":\"BasicTicker\"},{\"attributes\":{\"axis\":{\"id\":\"1545\"},\"dimension\":1,\"ticker\":null},\"id\":\"1548\",\"type\":\"Grid\"},{\"attributes\":{\"data_source\":{\"id\":\"1523\"},\"glyph\":{\"id\":\"1524\"},\"hover_glyph\":null,\"muted_glyph\":null,\"nonselection_glyph\":{\"id\":\"1525\"},\"selection_glyph\":null,\"view\":{\"id\":\"1527\"}},\"id\":\"1526\",\"type\":\"GlyphRenderer\"},{\"attributes\":{\"align\":\"center\",\"text\":\"ReLU (Derivative)\",\"text_font_size\":{\"value\":\"16pt\"}},\"id\":\"1531\",\"type\":\"Title\"},{\"attributes\":{\"axis\":{\"id\":\"1518\"},\"dimension\":1,\"ticker\":null},\"id\":\"1521\",\"type\":\"Grid\"},{\"attributes\":{\"end\":10.0,\"start\":-10.0},\"id\":\"1528\",\"type\":\"Range1d\"},{\"attributes\":{\"active_drag\":\"auto\",\"active_inspect\":\"auto\",\"active_multi\":null,\"active_scroll\":\"auto\",\"active_tap\":\"auto\"},\"id\":\"1549\",\"type\":\"Toolbar\"},{\"attributes\":{\"line_alpha\":0.1,\"line_color\":\"lightcoral\",\"line_width\":5,\"x\":{\"field\":\"x\"},\"y\":{\"field\":\"y\"}},\"id\":\"1525\",\"type\":\"Line\"},{\"attributes\":{\"below\":[{\"id\":\"1541\"}],\"center\":[{\"id\":\"1544\"},{\"id\":\"1548\"}],\"left\":[{\"id\":\"1545\"}],\"renderers\":[{\"id\":\"1553\"}],\"title\":{\"id\":\"1531\"},\"toolbar\":{\"id\":\"1549\"},\"x_range\":{\"id\":\"1555\"},\"x_scale\":{\"id\":\"1537\"},\"y_range\":{\"id\":\"1556\"},\"y_scale\":{\"id\":\"1539\"}},\"id\":\"1530\",\"subtype\":\"Figure\",\"type\":\"Plot\"}],\"root_ids\":[\"1557\"]},\"title\":\"Bokeh Application\",\"version\":\"2.1.1\"}};\n",
       "  var render_items = [{\"docid\":\"8255c203-968b-4623-a838-9b75967b4e00\",\"root_ids\":[\"1557\"],\"roots\":{\"1557\":\"e625fbd2-54d7-4ee5-8fd5-4ad79fd0e019\"}}];\n",
       "  root.Bokeh.embed.embed_items_notebook(docs_json, render_items);\n",
       "\n",
       "  }\n",
       "  if (root.Bokeh !== undefined) {\n",
       "    embed_document(root);\n",
       "  } else {\n",
       "    var attempts = 0;\n",
       "    var timer = setInterval(function(root) {\n",
       "      if (root.Bokeh !== undefined) {\n",
       "        clearInterval(timer);\n",
       "        embed_document(root);\n",
       "      } else {\n",
       "        attempts++;\n",
       "        if (attempts > 100) {\n",
       "          clearInterval(timer);\n",
       "          console.log(\"Bokeh: ERROR: Unable to run BokehJS code because BokehJS library is missing\");\n",
       "        }\n",
       "      }\n",
       "    }, 10, root)\n",
       "  }\n",
       "})(window);"
      ],
      "application/vnd.bokehjs_exec.v0+json": ""
     },
     "metadata": {
      "application/vnd.bokehjs_exec.v0+json": {
       "id": "1557"
      }
     },
     "output_type": "display_data"
    }
   ],
   "source": [
    "with tf.GradientTape() as g:\n",
    "    y = activations.relu(X, alpha=0.00)\n",
    "gradient = g.gradient(y, X)\n",
    "visualize('ReLU', X, y, gradient, color='lightcoral', ymin=-10)"
   ]
  },
  {
   "cell_type": "markdown",
   "metadata": {},
   "source": [
    "## Leaky ReLU\n",
    "* Equation\n",
    "$$\n",
    "\\begin{align}f(x)=\\begin{cases}\n",
    "x\\;\\;\\;\\;\\;\\;\\;\\;\\;&\\text{if }x > 0\\\\\n",
    "ax &\\text{otherwise}\\end{cases}\\end{align}\n",
    "$$\n",
    "\n",
    "* Derivative\n",
    "$$\\begin{align}\\frac{\\partial f(x)}{\\partial x}=\\begin{cases}1\\;&\\text{if } x > 0\\\\a\\;&\\text{otherwise}\\end{cases}\\end{align}$$\n",
    "\n",
    "* Parameters\n",
    "    * $a$ is a hyperparameter controling the slope of negative values (default in Tensorflow: $0.2$)\n",
    "* Properties:\n",
    "    * Computationally more efficient than ELU.\n",
    "    * Might cause gradient exploding problem when the gradient of the linear combination before applying Leaky ReLU is large.\n",
    "    * Alleviate gradient vanishing problem.\n",
    "    * Alleviate the dying ReLU problem."
   ]
  },
  {
   "cell_type": "code",
   "execution_count": 8,
   "metadata": {},
   "outputs": [
    {
     "data": {
      "text/html": [
       "\n",
       "\n",
       "\n",
       "\n",
       "\n",
       "\n",
       "  <div class=\"bk-root\" id=\"1655bdce-6d0f-43e2-9edd-ba9be9603a4c\" data-root-id=\"1752\"></div>\n"
      ]
     },
     "metadata": {},
     "output_type": "display_data"
    },
    {
     "data": {
      "application/javascript": [
       "(function(root) {\n",
       "  function embed_document(root) {\n",
       "    \n",
       "  var docs_json = {\"fc2c4797-d015-4430-a035-9101a90df330\":{\"roots\":{\"references\":[{\"attributes\":{\"children\":[{\"id\":\"1698\"},{\"id\":\"1725\"}]},\"id\":\"1752\",\"type\":\"Row\"},{\"attributes\":{},\"id\":\"1710\",\"type\":\"BasicTicker\"},{\"attributes\":{},\"id\":\"1741\",\"type\":\"BasicTicker\"},{\"attributes\":{\"data_source\":{\"id\":\"1718\"},\"glyph\":{\"id\":\"1719\"},\"hover_glyph\":null,\"muted_glyph\":null,\"nonselection_glyph\":{\"id\":\"1720\"},\"selection_glyph\":null,\"view\":{\"id\":\"1722\"}},\"id\":\"1721\",\"type\":\"GlyphRenderer\"},{\"attributes\":{\"axis\":{\"id\":\"1709\"},\"ticker\":null},\"id\":\"1712\",\"type\":\"Grid\"},{\"attributes\":{\"axis\":{\"id\":\"1713\"},\"dimension\":1,\"ticker\":null},\"id\":\"1716\",\"type\":\"Grid\"},{\"attributes\":{\"data\":{\"x\":{\"__ndarray__\":\"AAAgwYbEHMENiRnBk00WwRoSE8Gg1g/BJ5sMwa1fCcE0JAbBuugCwYJa/8CO4/jAm2zywKj168C1fuXAwgffwM+Q2MDcGdLA6aLLwPYrxcADtb7AED64wB3HscAqUKvANtmkwENinsBQ65fAXXSRwGr9isB3hoTACB98wCIxb8A8Q2LAVlVVwHBnSMCKeTvApIsuwL6dIcDYrxTA8sEHwBio9b9IzNu/gPDBv7AUqL/oOI6/MLpov6ACNb8ASwG/wCabvoDezr2A3s49wCabPgBLAT+QAjU/MLpoP+A4jj+wFKg/ePDBP0jM2z8QqPU/8MEHQNSvFEC8nSFAoIsuQIh5O0BwZ0hAVFVVQDxDYkAgMW9ACB98QHaGhEBq/YpAXHSRQFDrl0BCYp5ANtmkQChQq0Acx7FADj64QAK1vkD0K8VA6KLLQNwZ0kDQkNhAwAffQLR+5UCo9etAnGzyQIzj+ECAWv9AuugCQTQkBkGsXwlBJpsMQaDWD0EaEhNBlE0WQQyJGUGGxBxBAAAgQQ==\",\"dtype\":\"float32\",\"order\":\"little\",\"shape\":[100]},\"y\":{\"__ndarray__\":\"zcxMPs3MTD7NzEw+zcxMPs3MTD7NzEw+zcxMPs3MTD7NzEw+zcxMPs3MTD7NzEw+zcxMPs3MTD7NzEw+zcxMPs3MTD7NzEw+zcxMPs3MTD7NzEw+zcxMPs3MTD7NzEw+zcxMPs3MTD7NzEw+zcxMPs3MTD7NzEw+zcxMPs3MTD7NzEw+zcxMPs3MTD7NzEw+zcxMPs3MTD7NzEw+zcxMPs3MTD7NzEw+zcxMPs3MTD7NzEw+zcxMPs3MTD7NzEw+zcxMPs3MTD4AAIA/AACAPwAAgD8AAIA/AACAPwAAgD8AAIA/AACAPwAAgD8AAIA/AACAPwAAgD8AAIA/AACAPwAAgD8AAIA/AACAPwAAgD8AAIA/AACAPwAAgD8AAIA/AACAPwAAgD8AAIA/AACAPwAAgD8AAIA/AACAPwAAgD8AAIA/AACAPwAAgD8AAIA/AACAPwAAgD8AAIA/AACAPwAAgD8AAIA/AACAPwAAgD8AAIA/AACAPwAAgD8AAIA/AACAPwAAgD8AAIA/AACAPw==\",\"dtype\":\"float32\",\"order\":\"little\",\"shape\":[100]}},\"selected\":{\"id\":\"1821\"},\"selection_policy\":{\"id\":\"1822\"}},\"id\":\"1745\",\"type\":\"ColumnDataSource\"},{\"attributes\":{\"axis_label\":\"X\",\"axis_label_text_font_size\":\"16pt\",\"formatter\":{\"id\":\"1818\"},\"ticker\":{\"id\":\"1737\"}},\"id\":\"1736\",\"type\":\"LinearAxis\"},{\"attributes\":{\"source\":{\"id\":\"1718\"}},\"id\":\"1722\",\"type\":\"CDSView\"},{\"attributes\":{},\"id\":\"1737\",\"type\":\"BasicTicker\"},{\"attributes\":{\"active_drag\":\"auto\",\"active_inspect\":\"auto\",\"active_multi\":null,\"active_scroll\":\"auto\",\"active_tap\":\"auto\"},\"id\":\"1744\",\"type\":\"Toolbar\"},{\"attributes\":{\"axis\":{\"id\":\"1736\"},\"ticker\":null},\"id\":\"1739\",\"type\":\"Grid\"},{\"attributes\":{},\"id\":\"1816\",\"type\":\"BasicTickFormatter\"},{\"attributes\":{},\"id\":\"1734\",\"type\":\"LinearScale\"},{\"attributes\":{\"data\":{\"x\":{\"__ndarray__\":\"AAAgwYbEHMENiRnBk00WwRoSE8Gg1g/BJ5sMwa1fCcE0JAbBuugCwYJa/8CO4/jAm2zywKj168C1fuXAwgffwM+Q2MDcGdLA6aLLwPYrxcADtb7AED64wB3HscAqUKvANtmkwENinsBQ65fAXXSRwGr9isB3hoTACB98wCIxb8A8Q2LAVlVVwHBnSMCKeTvApIsuwL6dIcDYrxTA8sEHwBio9b9IzNu/gPDBv7AUqL/oOI6/MLpov6ACNb8ASwG/wCabvoDezr2A3s49wCabPgBLAT+QAjU/MLpoP+A4jj+wFKg/ePDBP0jM2z8QqPU/8MEHQNSvFEC8nSFAoIsuQIh5O0BwZ0hAVFVVQDxDYkAgMW9ACB98QHaGhEBq/YpAXHSRQFDrl0BCYp5ANtmkQChQq0Acx7FADj64QAK1vkD0K8VA6KLLQNwZ0kDQkNhAwAffQLR+5UCo9etAnGzyQIzj+ECAWv9AuugCQTQkBkGsXwlBJpsMQaDWD0EaEhNBlE0WQQyJGUGGxBxBAAAgQQ==\",\"dtype\":\"float32\",\"order\":\"little\",\"shape\":[100]},\"y\":{\"__ndarray__\":\"AAAAwArU+r8VqPW/H3zwvypQ678zJOa/P/jgv0jM279ToNa/XXTRv2hIzL9yHMe/fPDBv4fEvL+RmLe/m2yyv6ZArb+wFKi/u+iiv8W8nb/PkJi/2mSTv+Q4jr/vDIm/+OCDvwVqfb8aEnO/L7pov0NiXr9YClS/bbJJv4JaP7+XAjW/q6oqv8BSIL/V+hW/6qILv/9KAb8n5u2+UDbZvnqGxL6g1q++zSabvvN2hr5AjmO+jS46vufOEL5n3s69AD54vc1+pbyA3s49wCabPgBLAT+QAjU/MLpoP+A4jj+wFKg/ePDBP0jM2z8QqPU/8MEHQNSvFEC8nSFAoIsuQIh5O0BwZ0hAVFVVQDxDYkAgMW9ACB98QHaGhEBq/YpAXHSRQFDrl0BCYp5ANtmkQChQq0Acx7FADj64QAK1vkD0K8VA6KLLQNwZ0kDQkNhAwAffQLR+5UCo9etAnGzyQIzj+ECAWv9AuugCQTQkBkGsXwlBJpsMQaDWD0EaEhNBlE0WQQyJGUGGxBxBAAAgQQ==\",\"dtype\":\"float32\",\"order\":\"little\",\"shape\":[100]}},\"selected\":{\"id\":\"1819\"},\"selection_policy\":{\"id\":\"1820\"}},\"id\":\"1718\",\"type\":\"ColumnDataSource\"},{\"attributes\":{\"end\":10.0,\"start\":-10.0},\"id\":\"1723\",\"type\":\"Range1d\"},{\"attributes\":{\"align\":\"center\",\"text\":\"Leaky ReLU (Derivative)\",\"text_font_size\":{\"value\":\"16pt\"}},\"id\":\"1726\",\"type\":\"Title\"},{\"attributes\":{\"line_alpha\":0.1,\"line_color\":\"mediumvioletred\",\"line_width\":5,\"x\":{\"field\":\"x\"},\"y\":{\"field\":\"y\"}},\"id\":\"1720\",\"type\":\"Line\"},{\"attributes\":{},\"id\":\"1732\",\"type\":\"LinearScale\"},{\"attributes\":{},\"id\":\"1821\",\"type\":\"Selection\"},{\"attributes\":{},\"id\":\"1814\",\"type\":\"BasicTickFormatter\"},{\"attributes\":{\"end\":10.0,\"start\":-10},\"id\":\"1724\",\"type\":\"Range1d\"},{\"attributes\":{\"axis\":{\"id\":\"1740\"},\"dimension\":1,\"ticker\":null},\"id\":\"1743\",\"type\":\"Grid\"},{\"attributes\":{},\"id\":\"1819\",\"type\":\"Selection\"},{\"attributes\":{},\"id\":\"1822\",\"type\":\"UnionRenderers\"},{\"attributes\":{},\"id\":\"1812\",\"type\":\"BasicTickFormatter\"},{\"attributes\":{\"align\":\"center\",\"text\":\"Leaky ReLU\",\"text_font_size\":{\"value\":\"16pt\"}},\"id\":\"1699\",\"type\":\"Title\"},{\"attributes\":{\"line_color\":\"mediumvioletred\",\"line_width\":5,\"x\":{\"field\":\"x\"},\"y\":{\"field\":\"y\"}},\"id\":\"1746\",\"type\":\"Line\"},{\"attributes\":{},\"id\":\"1820\",\"type\":\"UnionRenderers\"},{\"attributes\":{\"axis_label\":\"gradient(X)\",\"axis_label_text_font_size\":\"16pt\",\"formatter\":{\"id\":\"1816\"},\"ticker\":{\"id\":\"1741\"}},\"id\":\"1740\",\"type\":\"LinearAxis\"},{\"attributes\":{},\"id\":\"1818\",\"type\":\"BasicTickFormatter\"},{\"attributes\":{\"source\":{\"id\":\"1745\"}},\"id\":\"1749\",\"type\":\"CDSView\"},{\"attributes\":{},\"id\":\"1705\",\"type\":\"LinearScale\"},{\"attributes\":{},\"id\":\"1707\",\"type\":\"LinearScale\"},{\"attributes\":{\"below\":[{\"id\":\"1709\"}],\"center\":[{\"id\":\"1712\"},{\"id\":\"1716\"}],\"left\":[{\"id\":\"1713\"}],\"renderers\":[{\"id\":\"1721\"}],\"title\":{\"id\":\"1699\"},\"toolbar\":{\"id\":\"1717\"},\"x_range\":{\"id\":\"1723\"},\"x_scale\":{\"id\":\"1705\"},\"y_range\":{\"id\":\"1724\"},\"y_scale\":{\"id\":\"1707\"}},\"id\":\"1698\",\"subtype\":\"Figure\",\"type\":\"Plot\"},{\"attributes\":{\"line_color\":\"mediumvioletred\",\"line_width\":5,\"x\":{\"field\":\"x\"},\"y\":{\"field\":\"y\"}},\"id\":\"1719\",\"type\":\"Line\"},{\"attributes\":{\"below\":[{\"id\":\"1736\"}],\"center\":[{\"id\":\"1739\"},{\"id\":\"1743\"}],\"left\":[{\"id\":\"1740\"}],\"renderers\":[{\"id\":\"1748\"}],\"title\":{\"id\":\"1726\"},\"toolbar\":{\"id\":\"1744\"},\"x_range\":{\"id\":\"1750\"},\"x_scale\":{\"id\":\"1732\"},\"y_range\":{\"id\":\"1751\"},\"y_scale\":{\"id\":\"1734\"}},\"id\":\"1725\",\"subtype\":\"Figure\",\"type\":\"Plot\"},{\"attributes\":{\"data_source\":{\"id\":\"1745\"},\"glyph\":{\"id\":\"1746\"},\"hover_glyph\":null,\"muted_glyph\":null,\"nonselection_glyph\":{\"id\":\"1747\"},\"selection_glyph\":null,\"view\":{\"id\":\"1749\"}},\"id\":\"1748\",\"type\":\"GlyphRenderer\"},{\"attributes\":{\"axis_label\":\"X\",\"axis_label_text_font_size\":\"16pt\",\"formatter\":{\"id\":\"1814\"},\"ticker\":{\"id\":\"1710\"}},\"id\":\"1709\",\"type\":\"LinearAxis\"},{\"attributes\":{\"end\":10.0,\"start\":-10.0},\"id\":\"1750\",\"type\":\"Range1d\"},{\"attributes\":{\"axis_label\":\"f(X)\",\"axis_label_text_font_size\":\"16pt\",\"formatter\":{\"id\":\"1812\"},\"ticker\":{\"id\":\"1714\"}},\"id\":\"1713\",\"type\":\"LinearAxis\"},{\"attributes\":{\"end\":1.25,\"start\":-1.25},\"id\":\"1751\",\"type\":\"Range1d\"},{\"attributes\":{\"line_alpha\":0.1,\"line_color\":\"mediumvioletred\",\"line_width\":5,\"x\":{\"field\":\"x\"},\"y\":{\"field\":\"y\"}},\"id\":\"1747\",\"type\":\"Line\"},{\"attributes\":{},\"id\":\"1714\",\"type\":\"BasicTicker\"},{\"attributes\":{\"active_drag\":\"auto\",\"active_inspect\":\"auto\",\"active_multi\":null,\"active_scroll\":\"auto\",\"active_tap\":\"auto\"},\"id\":\"1717\",\"type\":\"Toolbar\"}],\"root_ids\":[\"1752\"]},\"title\":\"Bokeh Application\",\"version\":\"2.1.1\"}};\n",
       "  var render_items = [{\"docid\":\"fc2c4797-d015-4430-a035-9101a90df330\",\"root_ids\":[\"1752\"],\"roots\":{\"1752\":\"1655bdce-6d0f-43e2-9edd-ba9be9603a4c\"}}];\n",
       "  root.Bokeh.embed.embed_items_notebook(docs_json, render_items);\n",
       "\n",
       "  }\n",
       "  if (root.Bokeh !== undefined) {\n",
       "    embed_document(root);\n",
       "  } else {\n",
       "    var attempts = 0;\n",
       "    var timer = setInterval(function(root) {\n",
       "      if (root.Bokeh !== undefined) {\n",
       "        clearInterval(timer);\n",
       "        embed_document(root);\n",
       "      } else {\n",
       "        attempts++;\n",
       "        if (attempts > 100) {\n",
       "          clearInterval(timer);\n",
       "          console.log(\"Bokeh: ERROR: Unable to run BokehJS code because BokehJS library is missing\");\n",
       "        }\n",
       "      }\n",
       "    }, 10, root)\n",
       "  }\n",
       "})(window);"
      ],
      "application/vnd.bokehjs_exec.v0+json": ""
     },
     "metadata": {
      "application/vnd.bokehjs_exec.v0+json": {
       "id": "1752"
      }
     },
     "output_type": "display_data"
    }
   ],
   "source": [
    "with tf.GradientTape() as g:\n",
    "    y = activations.relu(X, alpha=0.2)\n",
    "gradient = g.gradient(y, X)\n",
    "visualize('Leaky ReLU', X, y, gradient, color='mediumvioletred', ymin=-10)"
   ]
  },
  {
   "cell_type": "markdown",
   "metadata": {},
   "source": [
    "## Exponential Linear Unit (ELU)\n",
    "* Equation\n",
    "\\begin{align}f(x)=\\begin{cases}\n",
    "x\\;\\;\\;\\;\\;\\;\\;\\;\\;&\\text{if }x > 0\\\\\n",
    "a(\\exp(x)-1) &\\text{otherwise}\n",
    "\\end{cases}\\end{align}where $a$ is a predetermined hyper parameter (default in Tensorflow: $1$).\n",
    "* Derivative\n",
    "\\begin{align}\\frac{\\partial f(x)}{\\partial x}=\\begin{cases}1\\;&\\text{if }x > 0\\\\a\\exp(x)&\\text{otherwise}\\end{cases}\\end{align}\n",
    "* Parameters\n",
    "    * $a$ is a coefficient of exponential transformation on negative values (default in Tensorflow: $1$)\n",
    "* Properties:\n",
    "    * $f(x)\\to-a$ when $x \\to -\\infty$.\n",
    "    * Converge faster than Leaky ReLU.\n",
    "    * Might cause gradient exploding problem when the gradient of the linear combination before applying ELU is large.\n",
    "    * Alleviate gradient vanishing problem.\n",
    "    * Alleviate the dying ReLU problem."
   ]
  },
  {
   "cell_type": "code",
   "execution_count": 9,
   "metadata": {},
   "outputs": [
    {
     "data": {
      "text/html": [
       "\n",
       "\n",
       "\n",
       "\n",
       "\n",
       "\n",
       "  <div class=\"bk-root\" id=\"61aa479a-620f-49a1-84a9-1787e8b98066\" data-root-id=\"1961\"></div>\n"
      ]
     },
     "metadata": {},
     "output_type": "display_data"
    },
    {
     "data": {
      "application/javascript": [
       "(function(root) {\n",
       "  function embed_document(root) {\n",
       "    \n",
       "  var docs_json = {\"38223659-a2c9-44a2-82b5-eae6d707945c\":{\"roots\":{\"references\":[{\"attributes\":{\"children\":[{\"id\":\"1907\"},{\"id\":\"1934\"}]},\"id\":\"1961\",\"type\":\"Row\"},{\"attributes\":{\"axis_label\":\"f(X)\",\"axis_label_text_font_size\":\"16pt\",\"formatter\":{\"id\":\"2035\"},\"ticker\":{\"id\":\"1923\"}},\"id\":\"1922\",\"type\":\"LinearAxis\"},{\"attributes\":{\"source\":{\"id\":\"1954\"}},\"id\":\"1958\",\"type\":\"CDSView\"},{\"attributes\":{},\"id\":\"1950\",\"type\":\"BasicTicker\"},{\"attributes\":{},\"id\":\"2039\",\"type\":\"BasicTickFormatter\"},{\"attributes\":{},\"id\":\"2042\",\"type\":\"Selection\"},{\"attributes\":{\"below\":[{\"id\":\"1918\"}],\"center\":[{\"id\":\"1921\"},{\"id\":\"1925\"}],\"left\":[{\"id\":\"1922\"}],\"renderers\":[{\"id\":\"1930\"}],\"title\":{\"id\":\"1908\"},\"toolbar\":{\"id\":\"1926\"},\"x_range\":{\"id\":\"1932\"},\"x_scale\":{\"id\":\"1914\"},\"y_range\":{\"id\":\"1933\"},\"y_scale\":{\"id\":\"1916\"}},\"id\":\"1907\",\"subtype\":\"Figure\",\"type\":\"Plot\"},{\"attributes\":{\"line_alpha\":0.1,\"line_color\":\"violet\",\"line_width\":5,\"x\":{\"field\":\"x\"},\"y\":{\"field\":\"y\"}},\"id\":\"1929\",\"type\":\"Line\"},{\"attributes\":{\"data\":{\"x\":{\"__ndarray__\":\"AAAgwYbEHMENiRnBk00WwRoSE8Gg1g/BJ5sMwa1fCcE0JAbBuugCwYJa/8CO4/jAm2zywKj168C1fuXAwgffwM+Q2MDcGdLA6aLLwPYrxcADtb7AED64wB3HscAqUKvANtmkwENinsBQ65fAXXSRwGr9isB3hoTACB98wCIxb8A8Q2LAVlVVwHBnSMCKeTvApIsuwL6dIcDYrxTA8sEHwBio9b9IzNu/gPDBv7AUqL/oOI6/MLpov6ACNb8ASwG/wCabvoDezr2A3s49wCabPgBLAT+QAjU/MLpoP+A4jj+wFKg/ePDBP0jM2z8QqPU/8MEHQNSvFEC8nSFAoIsuQIh5O0BwZ0hAVFVVQDxDYkAgMW9ACB98QHaGhEBq/YpAXHSRQFDrl0BCYp5ANtmkQChQq0Acx7FADj64QAK1vkD0K8VA6KLLQNwZ0kDQkNhAwAffQLR+5UCo9etAnGzyQIzj+ECAWv9AuugCQTQkBkGsXwlBJpsMQaDWD0EaEhNBlE0WQQyJGUGGxBxBAAAgQQ==\",\"dtype\":\"float32\",\"order\":\"little\",\"shape\":[100]},\"y\":{\"__ndarray__\":\"AIA+OAAAaTgAoI44AICuOACg1TgAsAI5AAAgOQDQQzkAoG85AKCSOQB4szkAqNs5AGgGOgCAJDoAVEk6AGh2OgDIljoAirg6ANrhOgA0CjsAJSk7AANPOwBbfTsACps7gL+9OwA66DuAGw48AOwtPMDbVDyAQYI8oGqfPAAbwzzAyO484B4SPUDVMj1w3lo9EO+FPQDroz1gncg94Ib1PTA/Fj4Q4jc+pAxhPki3iT72i6g+pEfOPsx1/D5WfRo/YBM9P4tnZz8AAIA/AACAPwAAgD8AAIA/AACAPwAAgD8AAIA/AACAPwAAgD8AAIA/AACAPwAAgD8AAIA/AACAPwAAgD8AAIA/AACAPwAAgD8AAIA/AACAPwAAgD8AAIA/AACAPwAAgD8AAIA/AACAPwAAgD8AAIA/AACAPwAAgD8AAIA/AACAPwAAgD8AAIA/AACAPwAAgD8AAIA/AACAPwAAgD8AAIA/AACAPwAAgD8AAIA/AACAPwAAgD8AAIA/AACAPwAAgD8AAIA/AACAPw==\",\"dtype\":\"float32\",\"order\":\"little\",\"shape\":[100]}},\"selected\":{\"id\":\"2044\"},\"selection_policy\":{\"id\":\"2045\"}},\"id\":\"1954\",\"type\":\"ColumnDataSource\"},{\"attributes\":{\"source\":{\"id\":\"1927\"}},\"id\":\"1931\",\"type\":\"CDSView\"},{\"attributes\":{},\"id\":\"2045\",\"type\":\"UnionRenderers\"},{\"attributes\":{\"below\":[{\"id\":\"1945\"}],\"center\":[{\"id\":\"1948\"},{\"id\":\"1952\"}],\"left\":[{\"id\":\"1949\"}],\"renderers\":[{\"id\":\"1957\"}],\"title\":{\"id\":\"1935\"},\"toolbar\":{\"id\":\"1953\"},\"x_range\":{\"id\":\"1959\"},\"x_scale\":{\"id\":\"1941\"},\"y_range\":{\"id\":\"1960\"},\"y_scale\":{\"id\":\"1943\"}},\"id\":\"1934\",\"subtype\":\"Figure\",\"type\":\"Plot\"},{\"attributes\":{\"axis\":{\"id\":\"1922\"},\"dimension\":1,\"ticker\":null},\"id\":\"1925\",\"type\":\"Grid\"},{\"attributes\":{\"align\":\"center\",\"text\":\"ELU\",\"text_font_size\":{\"value\":\"16pt\"}},\"id\":\"1908\",\"type\":\"Title\"},{\"attributes\":{},\"id\":\"2041\",\"type\":\"BasicTickFormatter\"},{\"attributes\":{\"align\":\"center\",\"text\":\"ELU (Derivative)\",\"text_font_size\":{\"value\":\"16pt\"}},\"id\":\"1935\",\"type\":\"Title\"},{\"attributes\":{\"axis\":{\"id\":\"1949\"},\"dimension\":1,\"ticker\":null},\"id\":\"1952\",\"type\":\"Grid\"},{\"attributes\":{\"line_color\":\"violet\",\"line_width\":5,\"x\":{\"field\":\"x\"},\"y\":{\"field\":\"y\"}},\"id\":\"1955\",\"type\":\"Line\"},{\"attributes\":{\"axis\":{\"id\":\"1945\"},\"ticker\":null},\"id\":\"1948\",\"type\":\"Grid\"},{\"attributes\":{},\"id\":\"2035\",\"type\":\"BasicTickFormatter\"},{\"attributes\":{\"axis_label\":\"X\",\"axis_label_text_font_size\":\"16pt\",\"formatter\":{\"id\":\"2041\"},\"ticker\":{\"id\":\"1946\"}},\"id\":\"1945\",\"type\":\"LinearAxis\"},{\"attributes\":{\"end\":10.0,\"start\":-10.0},\"id\":\"1959\",\"type\":\"Range1d\"},{\"attributes\":{\"data_source\":{\"id\":\"1954\"},\"glyph\":{\"id\":\"1955\"},\"hover_glyph\":null,\"muted_glyph\":null,\"nonselection_glyph\":{\"id\":\"1956\"},\"selection_glyph\":null,\"view\":{\"id\":\"1958\"}},\"id\":\"1957\",\"type\":\"GlyphRenderer\"},{\"attributes\":{},\"id\":\"1943\",\"type\":\"LinearScale\"},{\"attributes\":{},\"id\":\"2043\",\"type\":\"UnionRenderers\"},{\"attributes\":{\"active_drag\":\"auto\",\"active_inspect\":\"auto\",\"active_multi\":null,\"active_scroll\":\"auto\",\"active_tap\":\"auto\"},\"id\":\"1953\",\"type\":\"Toolbar\"},{\"attributes\":{},\"id\":\"1946\",\"type\":\"BasicTicker\"},{\"attributes\":{\"line_alpha\":0.1,\"line_color\":\"violet\",\"line_width\":5,\"x\":{\"field\":\"x\"},\"y\":{\"field\":\"y\"}},\"id\":\"1956\",\"type\":\"Line\"},{\"attributes\":{},\"id\":\"1919\",\"type\":\"BasicTicker\"},{\"attributes\":{},\"id\":\"2037\",\"type\":\"BasicTickFormatter\"},{\"attributes\":{\"active_drag\":\"auto\",\"active_inspect\":\"auto\",\"active_multi\":null,\"active_scroll\":\"auto\",\"active_tap\":\"auto\"},\"id\":\"1926\",\"type\":\"Toolbar\"},{\"attributes\":{\"end\":10.0,\"start\":-10.0},\"id\":\"1932\",\"type\":\"Range1d\"},{\"attributes\":{\"axis\":{\"id\":\"1918\"},\"ticker\":null},\"id\":\"1921\",\"type\":\"Grid\"},{\"attributes\":{\"line_color\":\"violet\",\"line_width\":5,\"x\":{\"field\":\"x\"},\"y\":{\"field\":\"y\"}},\"id\":\"1928\",\"type\":\"Line\"},{\"attributes\":{},\"id\":\"1916\",\"type\":\"LinearScale\"},{\"attributes\":{\"axis_label\":\"gradient(X)\",\"axis_label_text_font_size\":\"16pt\",\"formatter\":{\"id\":\"2039\"},\"ticker\":{\"id\":\"1950\"}},\"id\":\"1949\",\"type\":\"LinearAxis\"},{\"attributes\":{\"end\":10.0,\"start\":-10},\"id\":\"1933\",\"type\":\"Range1d\"},{\"attributes\":{},\"id\":\"1914\",\"type\":\"LinearScale\"},{\"attributes\":{\"axis_label\":\"X\",\"axis_label_text_font_size\":\"16pt\",\"formatter\":{\"id\":\"2037\"},\"ticker\":{\"id\":\"1919\"}},\"id\":\"1918\",\"type\":\"LinearAxis\"},{\"attributes\":{},\"id\":\"2044\",\"type\":\"Selection\"},{\"attributes\":{},\"id\":\"1941\",\"type\":\"LinearScale\"},{\"attributes\":{\"data\":{\"x\":{\"__ndarray__\":\"AAAgwYbEHMENiRnBk00WwRoSE8Gg1g/BJ5sMwa1fCcE0JAbBuugCwYJa/8CO4/jAm2zywKj168C1fuXAwgffwM+Q2MDcGdLA6aLLwPYrxcADtb7AED64wB3HscAqUKvANtmkwENinsBQ65fAXXSRwGr9isB3hoTACB98wCIxb8A8Q2LAVlVVwHBnSMCKeTvApIsuwL6dIcDYrxTA8sEHwBio9b9IzNu/gPDBv7AUqL/oOI6/MLpov6ACNb8ASwG/wCabvoDezr2A3s49wCabPgBLAT+QAjU/MLpoP+A4jj+wFKg/ePDBP0jM2z8QqPU/8MEHQNSvFEC8nSFAoIsuQIh5O0BwZ0hAVFVVQDxDYkAgMW9ACB98QHaGhEBq/YpAXHSRQFDrl0BCYp5ANtmkQChQq0Acx7FADj64QAK1vkD0K8VA6KLLQNwZ0kDQkNhAwAffQLR+5UCo9etAnGzyQIzj+ECAWv9AuugCQTQkBkGsXwlBJpsMQaDWD0EaEhNBlE0WQQyJGUGGxBxBAAAgQQ==\",\"dtype\":\"float32\",\"order\":\"little\",\"shape\":[100]},\"y\":{\"__ndarray__\":\"Bv1/v1z8f7+L+3+/jPp/v1P5f7/V93+/APZ/v8Pzf78G8X+/rO1/v5Hpf7+L5H+/Zt5/v+DWf7+rzX+/ZsJ/v5y0f7+7o3+/E49/v8x1f7/bVn+//TB/v6UCf7/syX6/gYR+v4wvfr+Sx32/UEh9v5GsfL/07Xu/qwR7vyjneb+6iXi/Et52v6zSdL8ZUnK/HkJvv6CCa79U7Ga/JE9hvzRwWr98B1K/17xHv1wkO78Fuiu/LtwYvxrFAb9UBcu+QNmFvqjDxL2A3s49wCabPgBLAT+QAjU/MLpoP+A4jj+wFKg/ePDBP0jM2z8QqPU/8MEHQNSvFEC8nSFAoIsuQIh5O0BwZ0hAVFVVQDxDYkAgMW9ACB98QHaGhEBq/YpAXHSRQFDrl0BCYp5ANtmkQChQq0Acx7FADj64QAK1vkD0K8VA6KLLQNwZ0kDQkNhAwAffQLR+5UCo9etAnGzyQIzj+ECAWv9AuugCQTQkBkGsXwlBJpsMQaDWD0EaEhNBlE0WQQyJGUGGxBxBAAAgQQ==\",\"dtype\":\"float32\",\"order\":\"little\",\"shape\":[100]}},\"selected\":{\"id\":\"2042\"},\"selection_policy\":{\"id\":\"2043\"}},\"id\":\"1927\",\"type\":\"ColumnDataSource\"},{\"attributes\":{},\"id\":\"1923\",\"type\":\"BasicTicker\"},{\"attributes\":{\"data_source\":{\"id\":\"1927\"},\"glyph\":{\"id\":\"1928\"},\"hover_glyph\":null,\"muted_glyph\":null,\"nonselection_glyph\":{\"id\":\"1929\"},\"selection_glyph\":null,\"view\":{\"id\":\"1931\"}},\"id\":\"1930\",\"type\":\"GlyphRenderer\"},{\"attributes\":{\"end\":1.25,\"start\":-1.25},\"id\":\"1960\",\"type\":\"Range1d\"}],\"root_ids\":[\"1961\"]},\"title\":\"Bokeh Application\",\"version\":\"2.1.1\"}};\n",
       "  var render_items = [{\"docid\":\"38223659-a2c9-44a2-82b5-eae6d707945c\",\"root_ids\":[\"1961\"],\"roots\":{\"1961\":\"61aa479a-620f-49a1-84a9-1787e8b98066\"}}];\n",
       "  root.Bokeh.embed.embed_items_notebook(docs_json, render_items);\n",
       "\n",
       "  }\n",
       "  if (root.Bokeh !== undefined) {\n",
       "    embed_document(root);\n",
       "  } else {\n",
       "    var attempts = 0;\n",
       "    var timer = setInterval(function(root) {\n",
       "      if (root.Bokeh !== undefined) {\n",
       "        clearInterval(timer);\n",
       "        embed_document(root);\n",
       "      } else {\n",
       "        attempts++;\n",
       "        if (attempts > 100) {\n",
       "          clearInterval(timer);\n",
       "          console.log(\"Bokeh: ERROR: Unable to run BokehJS code because BokehJS library is missing\");\n",
       "        }\n",
       "      }\n",
       "    }, 10, root)\n",
       "  }\n",
       "})(window);"
      ],
      "application/vnd.bokehjs_exec.v0+json": ""
     },
     "metadata": {
      "application/vnd.bokehjs_exec.v0+json": {
       "id": "1961"
      }
     },
     "output_type": "display_data"
    }
   ],
   "source": [
    "with tf.GradientTape() as g:\n",
    "    y = activations.elu(X)\n",
    "gradient = g.gradient(y, X)\n",
    "visualize('ELU', X, y, gradient, color='violet', ymin=-10)"
   ]
  },
  {
   "cell_type": "markdown",
   "metadata": {},
   "source": [
    "## Swish\n",
    "* Equation\n",
    "$$f(x)=\\frac{x}{1+\\exp(-x)}$$\n",
    "* Derivative\n",
    "$$\\frac{\\partial f(x)}{\\partial x}=f(x)+\\sigma(x)(1-f(x))$$\n",
    "* Properties:\n",
    "    * Generally outperform ReLU with similar computational cost in many image related applications.\n",
    "    * Might cause gradient exploding problem when the gradient of the linear combination before applying Swish is large.\n",
    "    * Alleviate gradient vanishing problem.\n",
    "    * Alleviate the dying ReLU problem."
   ]
  },
  {
   "cell_type": "code",
   "execution_count": 10,
   "metadata": {},
   "outputs": [
    {
     "data": {
      "text/html": [
       "\n",
       "\n",
       "\n",
       "\n",
       "\n",
       "\n",
       "  <div class=\"bk-root\" id=\"be5ce8aa-f8ff-4e92-b8c5-f220a057e51c\" data-root-id=\"2184\"></div>\n"
      ]
     },
     "metadata": {},
     "output_type": "display_data"
    },
    {
     "data": {
      "application/javascript": [
       "(function(root) {\n",
       "  function embed_document(root) {\n",
       "    \n",
       "  var docs_json = {\"b0ba5fab-065a-473d-a07a-0984255aabc9\":{\"roots\":{\"references\":[{\"attributes\":{\"children\":[{\"id\":\"2130\"},{\"id\":\"2157\"}]},\"id\":\"2184\",\"type\":\"Row\"},{\"attributes\":{\"axis\":{\"id\":\"2141\"},\"ticker\":null},\"id\":\"2144\",\"type\":\"Grid\"},{\"attributes\":{\"below\":[{\"id\":\"2141\"}],\"center\":[{\"id\":\"2144\"},{\"id\":\"2148\"}],\"left\":[{\"id\":\"2145\"}],\"renderers\":[{\"id\":\"2153\"}],\"title\":{\"id\":\"2131\"},\"toolbar\":{\"id\":\"2149\"},\"x_range\":{\"id\":\"2155\"},\"x_scale\":{\"id\":\"2137\"},\"y_range\":{\"id\":\"2156\"},\"y_scale\":{\"id\":\"2139\"}},\"id\":\"2130\",\"subtype\":\"Figure\",\"type\":\"Plot\"},{\"attributes\":{\"align\":\"center\",\"text\":\"Swish\",\"text_font_size\":{\"value\":\"16pt\"}},\"id\":\"2131\",\"type\":\"Title\"},{\"attributes\":{},\"id\":\"2166\",\"type\":\"LinearScale\"},{\"attributes\":{\"axis_label\":\"X\",\"axis_label_text_font_size\":\"16pt\",\"formatter\":{\"id\":\"2274\"},\"ticker\":{\"id\":\"2142\"}},\"id\":\"2141\",\"type\":\"LinearAxis\"},{\"attributes\":{},\"id\":\"2274\",\"type\":\"BasicTickFormatter\"},{\"attributes\":{\"axis\":{\"id\":\"2145\"},\"dimension\":1,\"ticker\":null},\"id\":\"2148\",\"type\":\"Grid\"},{\"attributes\":{\"line_color\":\"limegreen\",\"line_width\":5,\"x\":{\"field\":\"x\"},\"y\":{\"field\":\"y\"}},\"id\":\"2151\",\"type\":\"Line\"},{\"attributes\":{\"line_color\":\"limegreen\",\"line_width\":5,\"x\":{\"field\":\"x\"},\"y\":{\"field\":\"y\"}},\"id\":\"2178\",\"type\":\"Line\"},{\"attributes\":{},\"id\":\"2137\",\"type\":\"LinearScale\"},{\"attributes\":{},\"id\":\"2278\",\"type\":\"BasicTickFormatter\"},{\"attributes\":{\"axis\":{\"id\":\"2168\"},\"ticker\":null},\"id\":\"2171\",\"type\":\"Grid\"},{\"attributes\":{\"axis_label\":\"gradient(X)\",\"axis_label_text_font_size\":\"16pt\",\"formatter\":{\"id\":\"2276\"},\"ticker\":{\"id\":\"2173\"}},\"id\":\"2172\",\"type\":\"LinearAxis\"},{\"attributes\":{},\"id\":\"2164\",\"type\":\"LinearScale\"},{\"attributes\":{\"end\":1.25,\"start\":-1.25},\"id\":\"2183\",\"type\":\"Range1d\"},{\"attributes\":{\"end\":10.0,\"start\":-10.0},\"id\":\"2155\",\"type\":\"Range1d\"},{\"attributes\":{\"end\":10,\"start\":-10},\"id\":\"2156\",\"type\":\"Range1d\"},{\"attributes\":{},\"id\":\"2142\",\"type\":\"BasicTicker\"},{\"attributes\":{\"axis_label\":\"f(X)\",\"axis_label_text_font_size\":\"16pt\",\"formatter\":{\"id\":\"2272\"},\"ticker\":{\"id\":\"2146\"}},\"id\":\"2145\",\"type\":\"LinearAxis\"},{\"attributes\":{},\"id\":\"2139\",\"type\":\"LinearScale\"},{\"attributes\":{},\"id\":\"2169\",\"type\":\"BasicTicker\"},{\"attributes\":{\"line_alpha\":0.1,\"line_color\":\"limegreen\",\"line_width\":5,\"x\":{\"field\":\"x\"},\"y\":{\"field\":\"y\"}},\"id\":\"2179\",\"type\":\"Line\"},{\"attributes\":{\"align\":\"center\",\"text\":\"Swish (Derivative)\",\"text_font_size\":{\"value\":\"16pt\"}},\"id\":\"2158\",\"type\":\"Title\"},{\"attributes\":{\"axis\":{\"id\":\"2172\"},\"dimension\":1,\"ticker\":null},\"id\":\"2175\",\"type\":\"Grid\"},{\"attributes\":{},\"id\":\"2173\",\"type\":\"BasicTicker\"},{\"attributes\":{},\"id\":\"2272\",\"type\":\"BasicTickFormatter\"},{\"attributes\":{},\"id\":\"2282\",\"type\":\"UnionRenderers\"},{\"attributes\":{\"active_drag\":\"auto\",\"active_inspect\":\"auto\",\"active_multi\":null,\"active_scroll\":\"auto\",\"active_tap\":\"auto\"},\"id\":\"2176\",\"type\":\"Toolbar\"},{\"attributes\":{\"axis_label\":\"X\",\"axis_label_text_font_size\":\"16pt\",\"formatter\":{\"id\":\"2278\"},\"ticker\":{\"id\":\"2169\"}},\"id\":\"2168\",\"type\":\"LinearAxis\"},{\"attributes\":{\"below\":[{\"id\":\"2168\"}],\"center\":[{\"id\":\"2171\"},{\"id\":\"2175\"}],\"left\":[{\"id\":\"2172\"}],\"renderers\":[{\"id\":\"2180\"}],\"title\":{\"id\":\"2158\"},\"toolbar\":{\"id\":\"2176\"},\"x_range\":{\"id\":\"2182\"},\"x_scale\":{\"id\":\"2164\"},\"y_range\":{\"id\":\"2183\"},\"y_scale\":{\"id\":\"2166\"}},\"id\":\"2157\",\"subtype\":\"Figure\",\"type\":\"Plot\"},{\"attributes\":{\"end\":10.0,\"start\":-10.0},\"id\":\"2182\",\"type\":\"Range1d\"},{\"attributes\":{},\"id\":\"2276\",\"type\":\"BasicTickFormatter\"},{\"attributes\":{\"data_source\":{\"id\":\"2177\"},\"glyph\":{\"id\":\"2178\"},\"hover_glyph\":null,\"muted_glyph\":null,\"nonselection_glyph\":{\"id\":\"2179\"},\"selection_glyph\":null,\"view\":{\"id\":\"2181\"}},\"id\":\"2180\",\"type\":\"GlyphRenderer\"},{\"attributes\":{},\"id\":\"2279\",\"type\":\"Selection\"},{\"attributes\":{},\"id\":\"2146\",\"type\":\"BasicTicker\"},{\"attributes\":{\"source\":{\"id\":\"2150\"}},\"id\":\"2154\",\"type\":\"CDSView\"},{\"attributes\":{\"data\":{\"x\":{\"__ndarray__\":\"AAAgwYbEHMENiRnBk00WwRoSE8Gg1g/BJ5sMwa1fCcE0JAbBuugCwYJa/8CO4/jAm2zywKj168C1fuXAwgffwM+Q2MDcGdLA6aLLwPYrxcADtb7AED64wB3HscAqUKvANtmkwENinsBQ65fAXXSRwGr9isB3hoTACB98wCIxb8A8Q2LAVlVVwHBnSMCKeTvApIsuwL6dIcDYrxTA8sEHwBio9b9IzNu/gPDBv7AUqL/oOI6/MLpov6ACNb8ASwG/wCabvoDezr2A3s49wCabPgBLAT+QAjU/MLpoP+A4jj+wFKg/ePDBP0jM2z8QqPU/8MEHQNSvFEC8nSFAoIsuQIh5O0BwZ0hAVFVVQDxDYkAgMW9ACB98QHaGhEBq/YpAXHSRQFDrl0BCYp5ANtmkQChQq0Acx7FADj64QAK1vkD0K8VA6KLLQNwZ0kDQkNhAwAffQLR+5UCo9etAnGzyQIzj+ECAWv9AuugCQTQkBkGsXwlBJpsMQaDWD0EaEhNBlE0WQQyJGUGGxBxBAAAgQQ==\",\"dtype\":\"float32\",\"order\":\"little\",\"shape\":[100]},\"y\":{\"__ndarray__\":\"/gPuueG0DrokDSu6Te9MumFqdbrx35K6K7avug4Z0rqAEvu6M+4Vuyr0MrukdFW75G5+uxGHl7slWLS713bWu7rQ/ru5PBe86lczvJNxVLxfXHu8YYSUvMZDr7wLhs686fbyvBWqDr2ENie9AJBDvWcrZL36v4S9CAGavQMOsr2wEc29VSXrvZgjBr4PJxi+H20rviihP74YP1S+vIdovhV1e74x2IW++sWLvgSCjr6p5Iy+B6yFvqMcb77Uo0K+ZtIDvhluRL3oTlk9G3syPhZEoT7UdvI+LOQlP23/VT8vdIQ/+f6ePzxWuj9tOdY/53LyP+JrB0CqoxVAzdQjQBf3MUA2BUBAKvxNQK/aW0CwoGlAAE93QHZzgkATNYlAPO2PQOOclkDuRJ1AP+ajQKKBqkDYF7FAiam3QFM3vkC7wcRAPUnLQD7O0UAcUdhAItLeQJ9R5UDHz+tAzkzyQN7I+EAiRP9AW98CQVwcBkEcWQlBqJUMQQnSD0FFDhNBYEoWQWCGGUFLwhxBJP4fQQ==\",\"dtype\":\"float32\",\"order\":\"little\",\"shape\":[100]}},\"selected\":{\"id\":\"2279\"},\"selection_policy\":{\"id\":\"2280\"}},\"id\":\"2150\",\"type\":\"ColumnDataSource\"},{\"attributes\":{\"source\":{\"id\":\"2177\"}},\"id\":\"2181\",\"type\":\"CDSView\"},{\"attributes\":{\"data_source\":{\"id\":\"2150\"},\"glyph\":{\"id\":\"2151\"},\"hover_glyph\":null,\"muted_glyph\":null,\"nonselection_glyph\":{\"id\":\"2152\"},\"selection_glyph\":null,\"view\":{\"id\":\"2154\"}},\"id\":\"2153\",\"type\":\"GlyphRenderer\"},{\"attributes\":{\"line_alpha\":0.1,\"line_color\":\"limegreen\",\"line_width\":5,\"x\":{\"field\":\"x\"},\"y\":{\"field\":\"y\"}},\"id\":\"2152\",\"type\":\"Line\"},{\"attributes\":{},\"id\":\"2280\",\"type\":\"UnionRenderers\"},{\"attributes\":{},\"id\":\"2281\",\"type\":\"Selection\"},{\"attributes\":{\"data\":{\"x\":{\"__ndarray__\":\"AAAgwYbEHMENiRnBk00WwRoSE8Gg1g/BJ5sMwa1fCcE0JAbBuugCwYJa/8CO4/jAm2zywKj168C1fuXAwgffwM+Q2MDcGdLA6aLLwPYrxcADtb7AED64wB3HscAqUKvANtmkwENinsBQ65fAXXSRwGr9isB3hoTACB98wCIxb8A8Q2LAVlVVwHBnSMCKeTvApIsuwL6dIcDYrxTA8sEHwBio9b9IzNu/gPDBv7AUqL/oOI6/MLpov6ACNb8ASwG/wCabvoDezr2A3s49wCabPgBLAT+QAjU/MLpoP+A4jj+wFKg/ePDBP0jM2z8QqPU/8MEHQNSvFEC8nSFAoIsuQIh5O0BwZ0hAVFVVQDxDYkAgMW9ACB98QHaGhEBq/YpAXHSRQFDrl0BCYp5ANtmkQChQq0Acx7FADj64QAK1vkD0K8VA6KLLQNwZ0kDQkNhAwAffQLR+5UCo9etAnGzyQIzj+ECAWv9AuugCQTQkBkGsXwlBJpsMQaDWD0EaEhNBlE0WQQyJGUGGxBxBAAAgQQ==\",\"dtype\":\"float32\",\"order\":\"little\",\"shape\":[100]},\"y\":{\"__ndarray__\":\"BjTWuT0iALrgNhm6IRo3ugWxWrrJhIK6pbCbuqKWubpWEd26UJADu3h3HLsF7Dm7tbdcuwjigrsvD5u76323u+je2Lve+v+7NdoWvJ2EMbxIiVC8PoJ0vMkKj7xa+aa86GbCvD2s4by7jQK9DnwWvRC2LL1iPEW9JfFfvceKfL12QY29oICcvQhhq71r/Li9OBjEvR8Wy72I58u9MAjEvV6FsL1oGI69dLYyvWCt8bskcCY9CgbPPbIGMj4WAIQ+bpizPm8v5j5J6Aw/yjMmP/b/PT9NflM/Ph9mP/qYdT+u8YA/spWFP4bhiD9VCIs/g0CMP3m+jD9hsYw/hEGMP8ePiz8Rtoo/CsiJPxfUiD9X5Ic/iP+GP+Qphj+wZYU/4LOEP24UhD+whoM/mwmDP+abgj8sPII/BumBPxahgT8JY4E/si2BP/r/gD/g2IA/f7eAPwybgD/hgoA/XG6AP/RcgD84ToA/yEGAP0M3gD9hLoA/7yaAP6QggD9TG4A/4haAPyMTgD8EEIA/ZQ2APw==\",\"dtype\":\"float32\",\"order\":\"little\",\"shape\":[100]}},\"selected\":{\"id\":\"2281\"},\"selection_policy\":{\"id\":\"2282\"}},\"id\":\"2177\",\"type\":\"ColumnDataSource\"},{\"attributes\":{\"active_drag\":\"auto\",\"active_inspect\":\"auto\",\"active_multi\":null,\"active_scroll\":\"auto\",\"active_tap\":\"auto\"},\"id\":\"2149\",\"type\":\"Toolbar\"}],\"root_ids\":[\"2184\"]},\"title\":\"Bokeh Application\",\"version\":\"2.1.1\"}};\n",
       "  var render_items = [{\"docid\":\"b0ba5fab-065a-473d-a07a-0984255aabc9\",\"root_ids\":[\"2184\"],\"roots\":{\"2184\":\"be5ce8aa-f8ff-4e92-b8c5-f220a057e51c\"}}];\n",
       "  root.Bokeh.embed.embed_items_notebook(docs_json, render_items);\n",
       "\n",
       "  }\n",
       "  if (root.Bokeh !== undefined) {\n",
       "    embed_document(root);\n",
       "  } else {\n",
       "    var attempts = 0;\n",
       "    var timer = setInterval(function(root) {\n",
       "      if (root.Bokeh !== undefined) {\n",
       "        clearInterval(timer);\n",
       "        embed_document(root);\n",
       "      } else {\n",
       "        attempts++;\n",
       "        if (attempts > 100) {\n",
       "          clearInterval(timer);\n",
       "          console.log(\"Bokeh: ERROR: Unable to run BokehJS code because BokehJS library is missing\");\n",
       "        }\n",
       "      }\n",
       "    }, 10, root)\n",
       "  }\n",
       "})(window);"
      ],
      "application/vnd.bokehjs_exec.v0+json": ""
     },
     "metadata": {
      "application/vnd.bokehjs_exec.v0+json": {
       "id": "2184"
      }
     },
     "output_type": "display_data"
    }
   ],
   "source": [
    "with tf.GradientTape() as g:\n",
    "    y = X * activations.sigmoid(X)\n",
    "gradient = g.gradient(y, X)\n",
    "visualize('Swish', X, y, gradient, color='limegreen', ymin=-10, ymax=10)"
   ]
  },
  {
   "cell_type": "markdown",
   "metadata": {},
   "source": [
    "### Softmax\n",
    "* Equation\n",
    "\\begin{align}\\mathbf{\\hat{y}}=\\text{softmax}(\\mathbf{x})=\\frac{\\exp(\\mathbf{x})}{\\sum\\limits_{i=1}^{n} \\exp(x_i)}=\\begin{bmatrix}\n",
    "    \\frac{\\exp(x_1)}{\\sum\\limits_{i=1}^{n} \\exp(x_i)} \\\\\n",
    "    \\frac{\\exp(x_2)}{\\sum\\limits_{i=1}^{n} \\exp(x_i)} \\\\\n",
    "    \\vdots\\\\ \n",
    "    \\frac{\\exp(x_n)}{\\sum\\limits_{i=1}^{n} \\exp(x_i)} \\\\\n",
    "\\end{bmatrix}\\end{align}\n",
    "where $\\mathbf{x}=[x_i] \\in \\mathbb{R}^n$\n",
    "\n",
    "* [Derivative](https://eli.thegreenplace.net/2016/the-softmax-function-and-its-derivative/)\n",
    "$$\n",
    "\\frac{\\partial\\mathbf{\\hat{y}}}{\\partial\\mathbf{x}}=\\begin{bmatrix}\n",
    "    \\frac{\\partial\\hat{y}_1}{\\partial x_1} & \\frac{\\partial\\hat{y}_1}{\\partial x_2} & \\cdots & \\frac{\\partial\\hat{y}_1}{\\partial x_n} \\\\\n",
    "    \\frac{\\partial\\hat{y}_2}{\\partial x_1} & \\frac{\\partial\\hat{y}_2}{\\partial x_2} & \\cdots & \\frac{\\partial\\hat{y}_2}{\\partial x_n} \\\\\n",
    "    \\vdots & \\vdots & \\ddots & \\vdots \\\\ \n",
    "    \\frac{\\partial\\hat{y}_n}{\\partial x_1} & \\frac{\\partial\\hat{y}_n}{\\partial x_2} & \\cdots & \\frac{\\partial\\hat{y}_n}{\\partial x_n}\n",
    "\\end{bmatrix} = \\begin{bmatrix}\n",
    "    \\hat{y}_1(1-\\hat{y}_1) & \\hat{y}_1(0-\\hat{y}_2) & \\cdots & \\hat{y}_1(0-\\hat{y}_n) \\\\\n",
    "    \\hat{y}_2(0-\\hat{y}_1) & \\hat{y}_2(1-\\hat{y}_2) & \\cdots & \\hat{y}_2(0-\\hat{y}_n) \\\\\n",
    "    \\vdots & \\vdots & \\ddots & \\vdots \\\\ \n",
    "    \\hat{y}_n(0-\\hat{y}_1) & \\hat{y}_n(0-\\hat{y}_2) & \\cdots & \\hat{y}_n(1-\\hat{y}_n) \n",
    "\\end{bmatrix} = \\mathbf{1}\\hat{y}^T\\otimes(\\mathbf{I}-\\hat{y}\\mathbf{1}^T)\n",
    "$$\n",
    "where $\\mathbf{1} = \\{1\\}^n$\n",
    "* Properties:\n",
    "    * Note that the input for softmax shoud be a __vector__ instead of a scalar.\n",
    "    * Similar to sigmoid funciton, the range of softmax function is $0$ to $1$ (bounded range); therefore, it is also commonly used when we want to model __probability__. \n",
    "    * In multi-class classification, softmax is preferable over sigmoid when we assume that __a sample can only belong to one class__.\n",
    "* Range: $0$ to $1$"
   ]
  },
  {
   "cell_type": "code",
   "execution_count": 11,
   "metadata": {},
   "outputs": [
    {
     "data": {
      "text/html": [
       "\n",
       "\n",
       "\n",
       "\n",
       "\n",
       "\n",
       "  <div class=\"bk-root\" id=\"27ded1b2-b39b-4579-867f-7238fdedf581\" data-root-id=\"2532\"></div>\n"
      ]
     },
     "metadata": {},
     "output_type": "display_data"
    },
    {
     "data": {
      "application/javascript": [
       "(function(root) {\n",
       "  function embed_document(root) {\n",
       "    \n",
       "  var docs_json = {\"240fadc2-1be2-4395-b139-da06af1f7365\":{\"roots\":{\"references\":[{\"attributes\":{\"children\":[{\"id\":\"2529\"},{\"id\":\"2530\"},{\"id\":\"2531\"}]},\"id\":\"2532\",\"type\":\"Column\"},{\"attributes\":{\"below\":[{\"id\":\"2513\"}],\"center\":[{\"id\":\"2516\"},{\"id\":\"2520\"}],\"left\":[{\"id\":\"2517\"}],\"renderers\":[{\"id\":\"2527\"}],\"right\":[{\"id\":\"2523\"}],\"title\":{\"id\":\"2503\"},\"toolbar\":{\"id\":\"2521\"},\"x_range\":{\"id\":\"2505\"},\"x_scale\":{\"id\":\"2509\"},\"y_range\":{\"id\":\"2507\"},\"y_scale\":{\"id\":\"2511\"}},\"id\":\"2502\",\"subtype\":\"Figure\",\"type\":\"Plot\"},{\"attributes\":{\"start\":-1},\"id\":\"2397\",\"type\":\"Range1d\"},{\"attributes\":{\"source\":{\"id\":\"2497\"}},\"id\":\"2501\",\"type\":\"CDSView\"},{\"attributes\":{\"data_source\":{\"id\":\"2497\"},\"glyph\":{\"id\":\"2498\"},\"hover_glyph\":null,\"muted_glyph\":null,\"name\":\"y1\",\"nonselection_glyph\":{\"id\":\"2499\"},\"selection_glyph\":null,\"view\":{\"id\":\"2501\"}},\"id\":\"2500\",\"type\":\"GlyphRenderer\"},{\"attributes\":{\"start\":-1},\"id\":\"2505\",\"type\":\"Range1d\"},{\"attributes\":{\"high\":0.25,\"low\":-0.25,\"palette\":[\"#000003\",\"#000004\",\"#000006\",\"#010007\",\"#010109\",\"#01010B\",\"#02020D\",\"#02020F\",\"#030311\",\"#040313\",\"#040415\",\"#050417\",\"#060519\",\"#07051B\",\"#08061D\",\"#09071F\",\"#0A0722\",\"#0B0824\",\"#0C0926\",\"#0D0A28\",\"#0E0A2A\",\"#0F0B2C\",\"#100C2F\",\"#110C31\",\"#120D33\",\"#140D35\",\"#150E38\",\"#160E3A\",\"#170F3C\",\"#180F3F\",\"#1A1041\",\"#1B1044\",\"#1C1046\",\"#1E1049\",\"#1F114B\",\"#20114D\",\"#221150\",\"#231152\",\"#251155\",\"#261157\",\"#281159\",\"#2A115C\",\"#2B115E\",\"#2D1060\",\"#2F1062\",\"#301065\",\"#321067\",\"#341068\",\"#350F6A\",\"#370F6C\",\"#390F6E\",\"#3B0F6F\",\"#3C0F71\",\"#3E0F72\",\"#400F73\",\"#420F74\",\"#430F75\",\"#450F76\",\"#470F77\",\"#481078\",\"#4A1079\",\"#4B1079\",\"#4D117A\",\"#4F117B\",\"#50127B\",\"#52127C\",\"#53137C\",\"#55137D\",\"#57147D\",\"#58157E\",\"#5A157E\",\"#5B167E\",\"#5D177E\",\"#5E177F\",\"#60187F\",\"#61187F\",\"#63197F\",\"#651A80\",\"#661A80\",\"#681B80\",\"#691C80\",\"#6B1C80\",\"#6C1D80\",\"#6E1E81\",\"#6F1E81\",\"#711F81\",\"#731F81\",\"#742081\",\"#762181\",\"#772181\",\"#792281\",\"#7A2281\",\"#7C2381\",\"#7E2481\",\"#7F2481\",\"#812581\",\"#822581\",\"#842681\",\"#852681\",\"#872781\",\"#892881\",\"#8A2881\",\"#8C2980\",\"#8D2980\",\"#8F2A80\",\"#912A80\",\"#922B80\",\"#942B80\",\"#952C80\",\"#972C7F\",\"#992D7F\",\"#9A2D7F\",\"#9C2E7F\",\"#9E2E7E\",\"#9F2F7E\",\"#A12F7E\",\"#A3307E\",\"#A4307D\",\"#A6317D\",\"#A7317D\",\"#A9327C\",\"#AB337C\",\"#AC337B\",\"#AE347B\",\"#B0347B\",\"#B1357A\",\"#B3357A\",\"#B53679\",\"#B63679\",\"#B83778\",\"#B93778\",\"#BB3877\",\"#BD3977\",\"#BE3976\",\"#C03A75\",\"#C23A75\",\"#C33B74\",\"#C53C74\",\"#C63C73\",\"#C83D72\",\"#CA3E72\",\"#CB3E71\",\"#CD3F70\",\"#CE4070\",\"#D0416F\",\"#D1426E\",\"#D3426D\",\"#D4436D\",\"#D6446C\",\"#D7456B\",\"#D9466A\",\"#DA4769\",\"#DC4869\",\"#DD4968\",\"#DE4A67\",\"#E04B66\",\"#E14C66\",\"#E24D65\",\"#E44E64\",\"#E55063\",\"#E65162\",\"#E75262\",\"#E85461\",\"#EA5560\",\"#EB5660\",\"#EC585F\",\"#ED595F\",\"#EE5B5E\",\"#EE5D5D\",\"#EF5E5D\",\"#F0605D\",\"#F1615C\",\"#F2635C\",\"#F3655C\",\"#F3675B\",\"#F4685B\",\"#F56A5B\",\"#F56C5B\",\"#F66E5B\",\"#F6705B\",\"#F7715B\",\"#F7735C\",\"#F8755C\",\"#F8775C\",\"#F9795C\",\"#F97B5D\",\"#F97D5D\",\"#FA7F5E\",\"#FA805E\",\"#FA825F\",\"#FB8460\",\"#FB8660\",\"#FB8861\",\"#FB8A62\",\"#FC8C63\",\"#FC8E63\",\"#FC9064\",\"#FC9265\",\"#FC9366\",\"#FD9567\",\"#FD9768\",\"#FD9969\",\"#FD9B6A\",\"#FD9D6B\",\"#FD9F6C\",\"#FDA16E\",\"#FDA26F\",\"#FDA470\",\"#FEA671\",\"#FEA873\",\"#FEAA74\",\"#FEAC75\",\"#FEAE76\",\"#FEAF78\",\"#FEB179\",\"#FEB37B\",\"#FEB57C\",\"#FEB77D\",\"#FEB97F\",\"#FEBB80\",\"#FEBC82\",\"#FEBE83\",\"#FEC085\",\"#FEC286\",\"#FEC488\",\"#FEC689\",\"#FEC78B\",\"#FEC98D\",\"#FECB8E\",\"#FDCD90\",\"#FDCF92\",\"#FDD193\",\"#FDD295\",\"#FDD497\",\"#FDD698\",\"#FDD89A\",\"#FDDA9C\",\"#FDDC9D\",\"#FDDD9F\",\"#FDDFA1\",\"#FDE1A3\",\"#FCE3A5\",\"#FCE5A6\",\"#FCE6A8\",\"#FCE8AA\",\"#FCEAAC\",\"#FCECAE\",\"#FCEEB0\",\"#FCF0B1\",\"#FCF1B3\",\"#FCF3B5\",\"#FCF5B7\",\"#FBF7B9\",\"#FBF9BB\",\"#FBFABD\",\"#FBFCBF\"]},\"id\":\"2522\",\"type\":\"LinearColorMapper\"},{\"attributes\":{\"text\":\"Softmax y2 derivative with repect to X2\"},\"id\":\"2503\",\"type\":\"Title\"},{\"attributes\":{\"axis_label\":\"X1\",\"formatter\":{\"id\":\"2670\"},\"ticker\":{\"id\":\"2514\"}},\"id\":\"2513\",\"type\":\"LinearAxis\"},{\"attributes\":{\"text\":\"Softmax y2\"},\"id\":\"2395\",\"type\":\"Title\"},{\"attributes\":{\"start\":-1},\"id\":\"2507\",\"type\":\"Range1d\"},{\"attributes\":{},\"id\":\"2509\",\"type\":\"LinearScale\"},{\"attributes\":{},\"id\":\"2511\",\"type\":\"LinearScale\"},{\"attributes\":{\"axis\":{\"id\":\"2513\"},\"ticker\":null},\"id\":\"2516\",\"type\":\"Grid\"},{\"attributes\":{},\"id\":\"2514\",\"type\":\"BasicTicker\"},{\"attributes\":{\"axis_label\":\"X2\",\"formatter\":{\"id\":\"2668\"},\"ticker\":{\"id\":\"2518\"}},\"id\":\"2517\",\"type\":\"LinearAxis\"},{\"attributes\":{\"children\":[{\"id\":\"2367\"},{\"id\":\"2394\"}]},\"id\":\"2529\",\"type\":\"Row\"},{\"attributes\":{},\"id\":\"2518\",\"type\":\"BasicTicker\"},{\"attributes\":{\"axis\":{\"id\":\"2517\"},\"dimension\":1,\"ticker\":null},\"id\":\"2520\",\"type\":\"Grid\"},{\"attributes\":{},\"id\":\"2406\",\"type\":\"BasicTicker\"},{\"attributes\":{},\"id\":\"2682\",\"type\":\"UnionRenderers\"},{\"attributes\":{\"active_drag\":\"auto\",\"active_inspect\":\"auto\",\"active_multi\":null,\"active_scroll\":\"auto\",\"active_tap\":\"auto\"},\"id\":\"2521\",\"type\":\"Toolbar\"},{\"attributes\":{\"below\":[{\"id\":\"2405\"}],\"center\":[{\"id\":\"2408\"},{\"id\":\"2412\"}],\"left\":[{\"id\":\"2409\"}],\"renderers\":[{\"id\":\"2419\"}],\"right\":[{\"id\":\"2415\"}],\"title\":{\"id\":\"2395\"},\"toolbar\":{\"id\":\"2413\"},\"x_range\":{\"id\":\"2397\"},\"x_scale\":{\"id\":\"2401\"},\"y_range\":{\"id\":\"2399\"},\"y_scale\":{\"id\":\"2403\"}},\"id\":\"2394\",\"subtype\":\"Figure\",\"type\":\"Plot\"},{\"attributes\":{\"data_source\":{\"id\":\"2389\"},\"glyph\":{\"id\":\"2390\"},\"hover_glyph\":null,\"muted_glyph\":null,\"name\":\"y1\",\"nonselection_glyph\":{\"id\":\"2391\"},\"selection_glyph\":null,\"view\":{\"id\":\"2393\"}},\"id\":\"2392\",\"type\":\"GlyphRenderer\"},{\"attributes\":{},\"id\":\"2646\",\"type\":\"BasicTickFormatter\"},{\"attributes\":{},\"id\":\"2650\",\"type\":\"BasicTickFormatter\"},{\"attributes\":{},\"id\":\"2648\",\"type\":\"BasicTickFormatter\"},{\"attributes\":{},\"id\":\"2647\",\"type\":\"BasicTicker\"},{\"attributes\":{\"data_source\":{\"id\":\"2524\"},\"glyph\":{\"id\":\"2525\"},\"hover_glyph\":null,\"muted_glyph\":null,\"name\":\"y1\",\"nonselection_glyph\":{\"id\":\"2526\"},\"selection_glyph\":null,\"view\":{\"id\":\"2528\"}},\"id\":\"2527\",\"type\":\"GlyphRenderer\"},{\"attributes\":{\"source\":{\"id\":\"2389\"}},\"id\":\"2393\",\"type\":\"CDSView\"},{\"attributes\":{},\"id\":\"2644\",\"type\":\"BasicTickFormatter\"},{\"attributes\":{\"color_mapper\":{\"id\":\"2522\"},\"formatter\":{\"id\":\"2672\"},\"label_standoff\":8,\"location\":[0,0],\"scale_alpha\":0.5,\"ticker\":{\"id\":\"2671\"}},\"id\":\"2523\",\"type\":\"ColorBar\"},{\"attributes\":{\"data\":{\"image\":[{\"__ndarray__\":\"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\",\"dtype\":\"float32\",\"order\":\"little\",\"shape\":[50,50]}]},\"selected\":{\"id\":\"2683\"},\"selection_policy\":{\"id\":\"2684\"}},\"id\":\"2524\",\"type\":\"ColumnDataSource\"},{\"attributes\":{\"color_mapper\":{\"id\":\"2522\"},\"dh\":{\"units\":\"data\",\"value\":2},\"dw\":{\"units\":\"data\",\"value\":2},\"global_alpha\":0.5,\"image\":{\"field\":\"image\"},\"x\":{\"value\":-1},\"y\":{\"value\":-1}},\"id\":\"2525\",\"type\":\"Image\"},{\"attributes\":{},\"id\":\"2401\",\"type\":\"LinearScale\"},{\"attributes\":{\"color_mapper\":{\"id\":\"2522\"},\"dh\":{\"units\":\"data\",\"value\":2},\"dw\":{\"units\":\"data\",\"value\":2},\"global_alpha\":0.1,\"image\":{\"field\":\"image\"},\"x\":{\"value\":-1},\"y\":{\"value\":-1}},\"id\":\"2526\",\"type\":\"Image\"},{\"attributes\":{\"axis_label\":\"X2\",\"formatter\":{\"id\":\"2644\"},\"ticker\":{\"id\":\"2410\"}},\"id\":\"2409\",\"type\":\"LinearAxis\"},{\"attributes\":{\"source\":{\"id\":\"2524\"}},\"id\":\"2528\",\"type\":\"CDSView\"},{\"attributes\":{},\"id\":\"2683\",\"type\":\"Selection\"},{\"attributes\":{\"children\":[{\"id\":\"2475\"},{\"id\":\"2502\"}]},\"id\":\"2531\",\"type\":\"Row\"},{\"attributes\":{\"axis_label\":\"X2\",\"formatter\":{\"id\":\"2656\"},\"ticker\":{\"id\":\"2464\"}},\"id\":\"2463\",\"type\":\"LinearAxis\"},{\"attributes\":{},\"id\":\"2410\",\"type\":\"BasicTicker\"},{\"attributes\":{},\"id\":\"2464\",\"type\":\"BasicTicker\"},{\"attributes\":{},\"id\":\"2684\",\"type\":\"UnionRenderers\"},{\"attributes\":{\"axis\":{\"id\":\"2463\"},\"dimension\":1,\"ticker\":null},\"id\":\"2466\",\"type\":\"Grid\"},{\"attributes\":{\"axis\":{\"id\":\"2409\"},\"dimension\":1,\"ticker\":null},\"id\":\"2412\",\"type\":\"Grid\"},{\"attributes\":{\"axis_label\":\"X2\",\"formatter\":{\"id\":\"2650\"},\"ticker\":{\"id\":\"2437\"}},\"id\":\"2436\",\"type\":\"LinearAxis\"},{\"attributes\":{},\"id\":\"2437\",\"type\":\"BasicTicker\"},{\"attributes\":{\"children\":[{\"id\":\"2421\"},{\"id\":\"2448\"}]},\"id\":\"2530\",\"type\":\"Row\"},{\"attributes\":{\"axis\":{\"id\":\"2436\"},\"dimension\":1,\"ticker\":null},\"id\":\"2439\",\"type\":\"Grid\"},{\"attributes\":{\"start\":-1},\"id\":\"2399\",\"type\":\"Range1d\"},{\"attributes\":{\"data\":{\"image\":[{\"__ndarray__\":\"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\",\"dtype\":\"float32\",\"order\":\"little\",\"shape\":[50,50]}]},\"selected\":{\"id\":\"2673\"},\"selection_policy\":{\"id\":\"2674\"}},\"id\":\"2389\",\"type\":\"ColumnDataSource\"},{\"attributes\":{\"active_drag\":\"auto\",\"active_inspect\":\"auto\",\"active_multi\":null,\"active_scroll\":\"auto\",\"active_tap\":\"auto\"},\"id\":\"2467\",\"type\":\"Toolbar\"},{\"attributes\":{\"active_drag\":\"auto\",\"active_inspect\":\"auto\",\"active_multi\":null,\"active_scroll\":\"auto\",\"active_tap\":\"auto\"},\"id\":\"2440\",\"type\":\"Toolbar\"},{\"attributes\":{\"color_mapper\":{\"id\":\"2387\"},\"formatter\":{\"id\":\"2642\"},\"label_standoff\":8,\"location\":[0,0],\"scale_alpha\":0.5,\"ticker\":{\"id\":\"2641\"}},\"id\":\"2388\",\"type\":\"ColorBar\"},{\"attributes\":{\"axis_label\":\"X1\",\"formatter\":{\"id\":\"2646\"},\"ticker\":{\"id\":\"2406\"}},\"id\":\"2405\",\"type\":\"LinearAxis\"},{\"attributes\":{\"axis\":{\"id\":\"2486\"},\"ticker\":null},\"id\":\"2489\",\"type\":\"Grid\"},{\"attributes\":{\"active_drag\":\"auto\",\"active_inspect\":\"auto\",\"active_multi\":null,\"active_scroll\":\"auto\",\"active_tap\":\"auto\"},\"id\":\"2413\",\"type\":\"Toolbar\"},{\"attributes\":{\"start\":-1},\"id\":\"2480\",\"type\":\"Range1d\"},{\"attributes\":{},\"id\":\"2484\",\"type\":\"LinearScale\"},{\"attributes\":{\"color_mapper\":{\"id\":\"2468\"},\"dh\":{\"units\":\"data\",\"value\":2},\"dw\":{\"units\":\"data\",\"value\":2},\"global_alpha\":0.1,\"image\":{\"field\":\"image\"},\"x\":{\"value\":-1},\"y\":{\"value\":-1}},\"id\":\"2472\",\"type\":\"Image\"},{\"attributes\":{\"data_source\":{\"id\":\"2470\"},\"glyph\":{\"id\":\"2471\"},\"hover_glyph\":null,\"muted_glyph\":null,\"name\":\"y1\",\"nonselection_glyph\":{\"id\":\"2472\"},\"selection_glyph\":null,\"view\":{\"id\":\"2474\"}},\"id\":\"2473\",\"type\":\"GlyphRenderer\"},{\"attributes\":{},\"id\":\"2638\",\"type\":\"BasicTickFormatter\"},{\"attributes\":{},\"id\":\"2482\",\"type\":\"LinearScale\"},{\"attributes\":{\"axis_label\":\"X1\",\"formatter\":{\"id\":\"2664\"},\"ticker\":{\"id\":\"2487\"}},\"id\":\"2486\",\"type\":\"LinearAxis\"},{\"attributes\":{\"color_mapper\":{\"id\":\"2387\"},\"dh\":{\"units\":\"data\",\"value\":2},\"dw\":{\"units\":\"data\",\"value\":2},\"global_alpha\":0.5,\"image\":{\"field\":\"image\"},\"x\":{\"value\":-1},\"y\":{\"value\":-1}},\"id\":\"2390\",\"type\":\"Image\"},{\"attributes\":{},\"id\":\"2642\",\"type\":\"BasicTickFormatter\"},{\"attributes\":{\"color_mapper\":{\"id\":\"2468\"},\"dh\":{\"units\":\"data\",\"value\":2},\"dw\":{\"units\":\"data\",\"value\":2},\"global_alpha\":0.5,\"image\":{\"field\":\"image\"},\"x\":{\"value\":-1},\"y\":{\"value\":-1}},\"id\":\"2471\",\"type\":\"Image\"},{\"attributes\":{},\"id\":\"2641\",\"type\":\"BasicTicker\"},{\"attributes\":{},\"id\":\"2660\",\"type\":\"BasicTickFormatter\"},{\"attributes\":{},\"id\":\"2487\",\"type\":\"BasicTicker\"},{\"attributes\":{\"color_mapper\":{\"id\":\"2468\"},\"formatter\":{\"id\":\"2660\"},\"label_standoff\":8,\"location\":[0,0],\"scale_alpha\":0.5,\"ticker\":{\"id\":\"2659\"}},\"id\":\"2469\",\"type\":\"ColorBar\"},{\"attributes\":{\"text\":\"Softmax y2 derivative with repect to X1\"},\"id\":\"2476\",\"type\":\"Title\"},{\"attributes\":{},\"id\":\"2640\",\"type\":\"BasicTickFormatter\"},{\"attributes\":{\"source\":{\"id\":\"2443\"}},\"id\":\"2447\",\"type\":\"CDSView\"},{\"attributes\":{\"source\":{\"id\":\"2470\"}},\"id\":\"2474\",\"type\":\"CDSView\"},{\"attributes\":{},\"id\":\"2665\",\"type\":\"BasicTicker\"},{\"attributes\":{\"high\":0.25,\"low\":-0.25,\"palette\":[\"#000003\",\"#000004\",\"#000006\",\"#010007\",\"#010109\",\"#01010B\",\"#02020D\",\"#02020F\",\"#030311\",\"#040313\",\"#040415\",\"#050417\",\"#060519\",\"#07051B\",\"#08061D\",\"#09071F\",\"#0A0722\",\"#0B0824\",\"#0C0926\",\"#0D0A28\",\"#0E0A2A\",\"#0F0B2C\",\"#100C2F\",\"#110C31\",\"#120D33\",\"#140D35\",\"#150E38\",\"#160E3A\",\"#170F3C\",\"#180F3F\",\"#1A1041\",\"#1B1044\",\"#1C1046\",\"#1E1049\",\"#1F114B\",\"#20114D\",\"#221150\",\"#231152\",\"#251155\",\"#261157\",\"#281159\",\"#2A115C\",\"#2B115E\",\"#2D1060\",\"#2F1062\",\"#301065\",\"#321067\",\"#341068\",\"#350F6A\",\"#370F6C\",\"#390F6E\",\"#3B0F6F\",\"#3C0F71\",\"#3E0F72\",\"#400F73\",\"#420F74\",\"#430F75\",\"#450F76\",\"#470F77\",\"#481078\",\"#4A1079\",\"#4B1079\",\"#4D117A\",\"#4F117B\",\"#50127B\",\"#52127C\",\"#53137C\",\"#55137D\",\"#57147D\",\"#58157E\",\"#5A157E\",\"#5B167E\",\"#5D177E\",\"#5E177F\",\"#60187F\",\"#61187F\",\"#63197F\",\"#651A80\",\"#661A80\",\"#681B80\",\"#691C80\",\"#6B1C80\",\"#6C1D80\",\"#6E1E81\",\"#6F1E81\",\"#711F81\",\"#731F81\",\"#742081\",\"#762181\",\"#772181\",\"#792281\",\"#7A2281\",\"#7C2381\",\"#7E2481\",\"#7F2481\",\"#812581\",\"#822581\",\"#842681\",\"#852681\",\"#872781\",\"#892881\",\"#8A2881\",\"#8C2980\",\"#8D2980\",\"#8F2A80\",\"#912A80\",\"#922B80\",\"#942B80\",\"#952C80\",\"#972C7F\",\"#992D7F\",\"#9A2D7F\",\"#9C2E7F\",\"#9E2E7E\",\"#9F2F7E\",\"#A12F7E\",\"#A3307E\",\"#A4307D\",\"#A6317D\",\"#A7317D\",\"#A9327C\",\"#AB337C\",\"#AC337B\",\"#AE347B\",\"#B0347B\",\"#B1357A\",\"#B3357A\",\"#B53679\",\"#B63679\",\"#B83778\",\"#B93778\",\"#BB3877\",\"#BD3977\",\"#BE3976\",\"#C03A75\",\"#C23A75\",\"#C33B74\",\"#C53C74\",\"#C63C73\",\"#C83D72\",\"#CA3E72\",\"#CB3E71\",\"#CD3F70\",\"#CE4070\",\"#D0416F\",\"#D1426E\",\"#D3426D\",\"#D4436D\",\"#D6446C\",\"#D7456B\",\"#D9466A\",\"#DA4769\",\"#DC4869\",\"#DD4968\",\"#DE4A67\",\"#E04B66\",\"#E14C66\",\"#E24D65\",\"#E44E64\",\"#E55063\",\"#E65162\",\"#E75262\",\"#E85461\",\"#EA5560\",\"#EB5660\",\"#EC585F\",\"#ED595F\",\"#EE5B5E\",\"#EE5D5D\",\"#EF5E5D\",\"#F0605D\",\"#F1615C\",\"#F2635C\",\"#F3655C\",\"#F3675B\",\"#F4685B\",\"#F56A5B\",\"#F56C5B\",\"#F66E5B\",\"#F6705B\",\"#F7715B\",\"#F7735C\",\"#F8755C\",\"#F8775C\",\"#F9795C\",\"#F97B5D\",\"#F97D5D\",\"#FA7F5E\",\"#FA805E\",\"#FA825F\",\"#FB8460\",\"#FB8660\",\"#FB8861\",\"#FB8A62\",\"#FC8C63\",\"#FC8E63\",\"#FC9064\",\"#FC9265\",\"#FC9366\",\"#FD9567\",\"#FD9768\",\"#FD9969\",\"#FD9B6A\",\"#FD9D6B\",\"#FD9F6C\",\"#FDA16E\",\"#FDA26F\",\"#FDA470\",\"#FEA671\",\"#FEA873\",\"#FEAA74\",\"#FEAC75\",\"#FEAE76\",\"#FEAF78\",\"#FEB179\",\"#FEB37B\",\"#FEB57C\",\"#FEB77D\",\"#FEB97F\",\"#FEBB80\",\"#FEBC82\",\"#FEBE83\",\"#FEC085\",\"#FEC286\",\"#FEC488\",\"#FEC689\",\"#FEC78B\",\"#FEC98D\",\"#FECB8E\",\"#FDCD90\",\"#FDCF92\",\"#FDD193\",\"#FDD295\",\"#FDD497\",\"#FDD698\",\"#FDD89A\",\"#FDDA9C\",\"#FDDC9D\",\"#FDDD9F\",\"#FDDFA1\",\"#FDE1A3\",\"#FCE3A5\",\"#FCE5A6\",\"#FCE6A8\",\"#FCE8AA\",\"#FCEAAC\",\"#FCECAE\",\"#FCEEB0\",\"#FCF0B1\",\"#FCF1B3\",\"#FCF3B5\",\"#FCF5B7\",\"#FBF7B9\",\"#FBF9BB\",\"#FBFABD\",\"#FBFCBF\"]},\"id\":\"2495\",\"type\":\"LinearColorMapper\"},{\"attributes\":{\"below\":[{\"id\":\"2486\"}],\"center\":[{\"id\":\"2489\"},{\"id\":\"2493\"}],\"left\":[{\"id\":\"2490\"}],\"renderers\":[{\"id\":\"2500\"}],\"right\":[{\"id\":\"2496\"}],\"title\":{\"id\":\"2476\"},\"toolbar\":{\"id\":\"2494\"},\"x_range\":{\"id\":\"2478\"},\"x_scale\":{\"id\":\"2482\"},\"y_range\":{\"id\":\"2480\"},\"y_scale\":{\"id\":\"2484\"}},\"id\":\"2475\",\"subtype\":\"Figure\",\"type\":\"Plot\"},{\"attributes\":{},\"id\":\"2374\",\"type\":\"LinearScale\"},{\"attributes\":{\"below\":[{\"id\":\"2378\"}],\"center\":[{\"id\":\"2381\"},{\"id\":\"2385\"}],\"left\":[{\"id\":\"2382\"}],\"renderers\":[{\"id\":\"2392\"}],\"right\":[{\"id\":\"2388\"}],\"title\":{\"id\":\"2368\"},\"toolbar\":{\"id\":\"2386\"},\"x_range\":{\"id\":\"2370\"},\"x_scale\":{\"id\":\"2374\"},\"y_range\":{\"id\":\"2372\"},\"y_scale\":{\"id\":\"2376\"}},\"id\":\"2367\",\"subtype\":\"Figure\",\"type\":\"Plot\"},{\"attributes\":{\"color_mapper\":{\"id\":\"2441\"},\"formatter\":{\"id\":\"2654\"},\"label_standoff\":8,\"location\":[0,0],\"scale_alpha\":0.5,\"ticker\":{\"id\":\"2653\"}},\"id\":\"2442\",\"type\":\"ColorBar\"},{\"attributes\":{\"source\":{\"id\":\"2416\"}},\"id\":\"2420\",\"type\":\"CDSView\"},{\"attributes\":{},\"id\":\"2666\",\"type\":\"BasicTickFormatter\"},{\"attributes\":{\"start\":-1},\"id\":\"2478\",\"type\":\"Range1d\"},{\"attributes\":{\"color_mapper\":{\"id\":\"2414\"},\"formatter\":{\"id\":\"2648\"},\"label_standoff\":8,\"location\":[0,0],\"scale_alpha\":0.5,\"ticker\":{\"id\":\"2647\"}},\"id\":\"2415\",\"type\":\"ColorBar\"},{\"attributes\":{\"axis_label\":\"X2\",\"formatter\":{\"id\":\"2662\"},\"ticker\":{\"id\":\"2491\"}},\"id\":\"2490\",\"type\":\"LinearAxis\"},{\"attributes\":{},\"id\":\"2659\",\"type\":\"BasicTicker\"},{\"attributes\":{\"high\":0.8807970285415649,\"low\":0.11920291185379028,\"palette\":[\"#000003\",\"#000004\",\"#000006\",\"#010007\",\"#010109\",\"#01010B\",\"#02020D\",\"#02020F\",\"#030311\",\"#040313\",\"#040415\",\"#050417\",\"#060519\",\"#07051B\",\"#08061D\",\"#09071F\",\"#0A0722\",\"#0B0824\",\"#0C0926\",\"#0D0A28\",\"#0E0A2A\",\"#0F0B2C\",\"#100C2F\",\"#110C31\",\"#120D33\",\"#140D35\",\"#150E38\",\"#160E3A\",\"#170F3C\",\"#180F3F\",\"#1A1041\",\"#1B1044\",\"#1C1046\",\"#1E1049\",\"#1F114B\",\"#20114D\",\"#221150\",\"#231152\",\"#251155\",\"#261157\",\"#281159\",\"#2A115C\",\"#2B115E\",\"#2D1060\",\"#2F1062\",\"#301065\",\"#321067\",\"#341068\",\"#350F6A\",\"#370F6C\",\"#390F6E\",\"#3B0F6F\",\"#3C0F71\",\"#3E0F72\",\"#400F73\",\"#420F74\",\"#430F75\",\"#450F76\",\"#470F77\",\"#481078\",\"#4A1079\",\"#4B1079\",\"#4D117A\",\"#4F117B\",\"#50127B\",\"#52127C\",\"#53137C\",\"#55137D\",\"#57147D\",\"#58157E\",\"#5A157E\",\"#5B167E\",\"#5D177E\",\"#5E177F\",\"#60187F\",\"#61187F\",\"#63197F\",\"#651A80\",\"#661A80\",\"#681B80\",\"#691C80\",\"#6B1C80\",\"#6C1D80\",\"#6E1E81\",\"#6F1E81\",\"#711F81\",\"#731F81\",\"#742081\",\"#762181\",\"#772181\",\"#792281\",\"#7A2281\",\"#7C2381\",\"#7E2481\",\"#7F2481\",\"#812581\",\"#822581\",\"#842681\",\"#852681\",\"#872781\",\"#892881\",\"#8A2881\",\"#8C2980\",\"#8D2980\",\"#8F2A80\",\"#912A80\",\"#922B80\",\"#942B80\",\"#952C80\",\"#972C7F\",\"#992D7F\",\"#9A2D7F\",\"#9C2E7F\",\"#9E2E7E\",\"#9F2F7E\",\"#A12F7E\",\"#A3307E\",\"#A4307D\",\"#A6317D\",\"#A7317D\",\"#A9327C\",\"#AB337C\",\"#AC337B\",\"#AE347B\",\"#B0347B\",\"#B1357A\",\"#B3357A\",\"#B53679\",\"#B63679\",\"#B83778\",\"#B93778\",\"#BB3877\",\"#BD3977\",\"#BE3976\",\"#C03A75\",\"#C23A75\",\"#C33B74\",\"#C53C74\",\"#C63C73\",\"#C83D72\",\"#CA3E72\",\"#CB3E71\",\"#CD3F70\",\"#CE4070\",\"#D0416F\",\"#D1426E\",\"#D3426D\",\"#D4436D\",\"#D6446C\",\"#D7456B\",\"#D9466A\",\"#DA4769\",\"#DC4869\",\"#DD4968\",\"#DE4A67\",\"#E04B66\",\"#E14C66\",\"#E24D65\",\"#E44E64\",\"#E55063\",\"#E65162\",\"#E75262\",\"#E85461\",\"#EA5560\",\"#EB5660\",\"#EC585F\",\"#ED595F\",\"#EE5B5E\",\"#EE5D5D\",\"#EF5E5D\",\"#F0605D\",\"#F1615C\",\"#F2635C\",\"#F3655C\",\"#F3675B\",\"#F4685B\",\"#F56A5B\",\"#F56C5B\",\"#F66E5B\",\"#F6705B\",\"#F7715B\",\"#F7735C\",\"#F8755C\",\"#F8775C\",\"#F9795C\",\"#F97B5D\",\"#F97D5D\",\"#FA7F5E\",\"#FA805E\",\"#FA825F\",\"#FB8460\",\"#FB8660\",\"#FB8861\",\"#FB8A62\",\"#FC8C63\",\"#FC8E63\",\"#FC9064\",\"#FC9265\",\"#FC9366\",\"#FD9567\",\"#FD9768\",\"#FD9969\",\"#FD9B6A\",\"#FD9D6B\",\"#FD9F6C\",\"#FDA16E\",\"#FDA26F\",\"#FDA470\",\"#FEA671\",\"#FEA873\",\"#FEAA74\",\"#FEAC75\",\"#FEAE76\",\"#FEAF78\",\"#FEB179\",\"#FEB37B\",\"#FEB57C\",\"#FEB77D\",\"#FEB97F\",\"#FEBB80\",\"#FEBC82\",\"#FEBE83\",\"#FEC085\",\"#FEC286\",\"#FEC488\",\"#FEC689\",\"#FEC78B\",\"#FEC98D\",\"#FECB8E\",\"#FDCD90\",\"#FDCF92\",\"#FDD193\",\"#FDD295\",\"#FDD497\",\"#FDD698\",\"#FDD89A\",\"#FDDA9C\",\"#FDDC9D\",\"#FDDD9F\",\"#FDDFA1\",\"#FDE1A3\",\"#FCE3A5\",\"#FCE5A6\",\"#FCE6A8\",\"#FCE8AA\",\"#FCEAAC\",\"#FCECAE\",\"#FCEEB0\",\"#FCF0B1\",\"#FCF1B3\",\"#FCF3B5\",\"#FCF5B7\",\"#FBF7B9\",\"#FBF9BB\",\"#FBFABD\",\"#FBFCBF\"]},\"id\":\"2387\",\"type\":\"LinearColorMapper\"},{\"attributes\":{\"data\":{\"image\":[{\"__ndarray__\":\"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\",\"dtype\":\"float32\",\"order\":\"little\",\"shape\":[50,50]}]},\"selected\":{\"id\":\"2679\"},\"selection_policy\":{\"id\":\"2680\"}},\"id\":\"2470\",\"type\":\"ColumnDataSource\"},{\"attributes\":{},\"id\":\"2671\",\"type\":\"BasicTicker\"},{\"attributes\":{},\"id\":\"2379\",\"type\":\"BasicTicker\"},{\"attributes\":{\"data\":{\"image\":[{\"__ndarray__\":\"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\",\"dtype\":\"float32\",\"order\":\"little\",\"shape\":[50,50]}]},\"selected\":{\"id\":\"2677\"},\"selection_policy\":{\"id\":\"2678\"}},\"id\":\"2443\",\"type\":\"ColumnDataSource\"},{\"attributes\":{},\"id\":\"2491\",\"type\":\"BasicTicker\"},{\"attributes\":{},\"id\":\"2662\",\"type\":\"BasicTickFormatter\"},{\"attributes\":{\"axis\":{\"id\":\"2378\"},\"ticker\":null},\"id\":\"2381\",\"type\":\"Grid\"},{\"attributes\":{\"axis\":{\"id\":\"2490\"},\"dimension\":1,\"ticker\":null},\"id\":\"2493\",\"type\":\"Grid\"},{\"attributes\":{\"axis_label\":\"X2\",\"formatter\":{\"id\":\"2638\"},\"ticker\":{\"id\":\"2383\"}},\"id\":\"2382\",\"type\":\"LinearAxis\"},{\"attributes\":{\"start\":-1},\"id\":\"2451\",\"type\":\"Range1d\"},{\"attributes\":{},\"id\":\"2664\",\"type\":\"BasicTickFormatter\"},{\"attributes\":{\"start\":-1},\"id\":\"2370\",\"type\":\"Range1d\"},{\"attributes\":{\"data\":{\"image\":[{\"__ndarray__\":\"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\",\"dtype\":\"float32\",\"order\":\"little\",\"shape\":[50,50]}]},\"selected\":{\"id\":\"2675\"},\"selection_policy\":{\"id\":\"2676\"}},\"id\":\"2416\",\"type\":\"ColumnDataSource\"},{\"attributes\":{\"color_mapper\":{\"id\":\"2441\"},\"dh\":{\"units\":\"data\",\"value\":2},\"dw\":{\"units\":\"data\",\"value\":2},\"global_alpha\":0.5,\"image\":{\"field\":\"image\"},\"x\":{\"value\":-1},\"y\":{\"value\":-1}},\"id\":\"2444\",\"type\":\"Image\"},{\"attributes\":{},\"id\":\"2672\",\"type\":\"BasicTickFormatter\"},{\"attributes\":{\"start\":-1},\"id\":\"2372\",\"type\":\"Range1d\"},{\"attributes\":{\"color_mapper\":{\"id\":\"2441\"},\"dh\":{\"units\":\"data\",\"value\":2},\"dw\":{\"units\":\"data\",\"value\":2},\"global_alpha\":0.1,\"image\":{\"field\":\"image\"},\"x\":{\"value\":-1},\"y\":{\"value\":-1}},\"id\":\"2445\",\"type\":\"Image\"},{\"attributes\":{\"start\":-1},\"id\":\"2424\",\"type\":\"Range1d\"},{\"attributes\":{},\"id\":\"2675\",\"type\":\"Selection\"},{\"attributes\":{\"data_source\":{\"id\":\"2443\"},\"glyph\":{\"id\":\"2444\"},\"hover_glyph\":null,\"muted_glyph\":null,\"name\":\"y1\",\"nonselection_glyph\":{\"id\":\"2445\"},\"selection_glyph\":null,\"view\":{\"id\":\"2447\"}},\"id\":\"2446\",\"type\":\"GlyphRenderer\"},{\"attributes\":{\"active_drag\":\"auto\",\"active_inspect\":\"auto\",\"active_multi\":null,\"active_scroll\":\"auto\",\"active_tap\":\"auto\"},\"id\":\"2494\",\"type\":\"Toolbar\"},{\"attributes\":{\"color_mapper\":{\"id\":\"2414\"},\"dh\":{\"units\":\"data\",\"value\":2},\"dw\":{\"units\":\"data\",\"value\":2},\"global_alpha\":0.5,\"image\":{\"field\":\"image\"},\"x\":{\"value\":-1},\"y\":{\"value\":-1}},\"id\":\"2417\",\"type\":\"Image\"},{\"attributes\":{},\"id\":\"2376\",\"type\":\"LinearScale\"},{\"attributes\":{\"color_mapper\":{\"id\":\"2414\"},\"dh\":{\"units\":\"data\",\"value\":2},\"dw\":{\"units\":\"data\",\"value\":2},\"global_alpha\":0.1,\"image\":{\"field\":\"image\"},\"x\":{\"value\":-1},\"y\":{\"value\":-1}},\"id\":\"2418\",\"type\":\"Image\"},{\"attributes\":{},\"id\":\"2656\",\"type\":\"BasicTickFormatter\"},{\"attributes\":{},\"id\":\"2668\",\"type\":\"BasicTickFormatter\"},{\"attributes\":{\"text\":\"Softmax y1\"},\"id\":\"2368\",\"type\":\"Title\"},{\"attributes\":{\"data_source\":{\"id\":\"2416\"},\"glyph\":{\"id\":\"2417\"},\"hover_glyph\":null,\"muted_glyph\":null,\"name\":\"y1\",\"nonselection_glyph\":{\"id\":\"2418\"},\"selection_glyph\":null,\"view\":{\"id\":\"2420\"}},\"id\":\"2419\",\"type\":\"GlyphRenderer\"},{\"attributes\":{\"below\":[{\"id\":\"2459\"}],\"center\":[{\"id\":\"2462\"},{\"id\":\"2466\"}],\"left\":[{\"id\":\"2463\"}],\"renderers\":[{\"id\":\"2473\"}],\"right\":[{\"id\":\"2469\"}],\"title\":{\"id\":\"2449\"},\"toolbar\":{\"id\":\"2467\"},\"x_range\":{\"id\":\"2451\"},\"x_scale\":{\"id\":\"2455\"},\"y_range\":{\"id\":\"2453\"},\"y_scale\":{\"id\":\"2457\"}},\"id\":\"2448\",\"subtype\":\"Figure\",\"type\":\"Plot\"},{\"attributes\":{},\"id\":\"2670\",\"type\":\"BasicTickFormatter\"},{\"attributes\":{},\"id\":\"2652\",\"type\":\"BasicTickFormatter\"},{\"attributes\":{},\"id\":\"2673\",\"type\":\"Selection\"},{\"attributes\":{\"high\":0.25,\"low\":-0.25,\"palette\":[\"#000003\",\"#000004\",\"#000006\",\"#010007\",\"#010109\",\"#01010B\",\"#02020D\",\"#02020F\",\"#030311\",\"#040313\",\"#040415\",\"#050417\",\"#060519\",\"#07051B\",\"#08061D\",\"#09071F\",\"#0A0722\",\"#0B0824\",\"#0C0926\",\"#0D0A28\",\"#0E0A2A\",\"#0F0B2C\",\"#100C2F\",\"#110C31\",\"#120D33\",\"#140D35\",\"#150E38\",\"#160E3A\",\"#170F3C\",\"#180F3F\",\"#1A1041\",\"#1B1044\",\"#1C1046\",\"#1E1049\",\"#1F114B\",\"#20114D\",\"#221150\",\"#231152\",\"#251155\",\"#261157\",\"#281159\",\"#2A115C\",\"#2B115E\",\"#2D1060\",\"#2F1062\",\"#301065\",\"#321067\",\"#341068\",\"#350F6A\",\"#370F6C\",\"#390F6E\",\"#3B0F6F\",\"#3C0F71\",\"#3E0F72\",\"#400F73\",\"#420F74\",\"#430F75\",\"#450F76\",\"#470F77\",\"#481078\",\"#4A1079\",\"#4B1079\",\"#4D117A\",\"#4F117B\",\"#50127B\",\"#52127C\",\"#53137C\",\"#55137D\",\"#57147D\",\"#58157E\",\"#5A157E\",\"#5B167E\",\"#5D177E\",\"#5E177F\",\"#60187F\",\"#61187F\",\"#63197F\",\"#651A80\",\"#661A80\",\"#681B80\",\"#691C80\",\"#6B1C80\",\"#6C1D80\",\"#6E1E81\",\"#6F1E81\",\"#711F81\",\"#731F81\",\"#742081\",\"#762181\",\"#772181\",\"#792281\",\"#7A2281\",\"#7C2381\",\"#7E2481\",\"#7F2481\",\"#812581\",\"#822581\",\"#842681\",\"#852681\",\"#872781\",\"#892881\",\"#8A2881\",\"#8C2980\",\"#8D2980\",\"#8F2A80\",\"#912A80\",\"#922B80\",\"#942B80\",\"#952C80\",\"#972C7F\",\"#992D7F\",\"#9A2D7F\",\"#9C2E7F\",\"#9E2E7E\",\"#9F2F7E\",\"#A12F7E\",\"#A3307E\",\"#A4307D\",\"#A6317D\",\"#A7317D\",\"#A9327C\",\"#AB337C\",\"#AC337B\",\"#AE347B\",\"#B0347B\",\"#B1357A\",\"#B3357A\",\"#B53679\",\"#B63679\",\"#B83778\",\"#B93778\",\"#BB3877\",\"#BD3977\",\"#BE3976\",\"#C03A75\",\"#C23A75\",\"#C33B74\",\"#C53C74\",\"#C63C73\",\"#C83D72\",\"#CA3E72\",\"#CB3E71\",\"#CD3F70\",\"#CE4070\",\"#D0416F\",\"#D1426E\",\"#D3426D\",\"#D4436D\",\"#D6446C\",\"#D7456B\",\"#D9466A\",\"#DA4769\",\"#DC4869\",\"#DD4968\",\"#DE4A67\",\"#E04B66\",\"#E14C66\",\"#E24D65\",\"#E44E64\",\"#E55063\",\"#E65162\",\"#E75262\",\"#E85461\",\"#EA5560\",\"#EB5660\",\"#EC585F\",\"#ED595F\",\"#EE5B5E\",\"#EE5D5D\",\"#EF5E5D\",\"#F0605D\",\"#F1615C\",\"#F2635C\",\"#F3655C\",\"#F3675B\",\"#F4685B\",\"#F56A5B\",\"#F56C5B\",\"#F66E5B\",\"#F6705B\",\"#F7715B\",\"#F7735C\",\"#F8755C\",\"#F8775C\",\"#F9795C\",\"#F97B5D\",\"#F97D5D\",\"#FA7F5E\",\"#FA805E\",\"#FA825F\",\"#FB8460\",\"#FB8660\",\"#FB8861\",\"#FB8A62\",\"#FC8C63\",\"#FC8E63\",\"#FC9064\",\"#FC9265\",\"#FC9366\",\"#FD9567\",\"#FD9768\",\"#FD9969\",\"#FD9B6A\",\"#FD9D6B\",\"#FD9F6C\",\"#FDA16E\",\"#FDA26F\",\"#FDA470\",\"#FEA671\",\"#FEA873\",\"#FEAA74\",\"#FEAC75\",\"#FEAE76\",\"#FEAF78\",\"#FEB179\",\"#FEB37B\",\"#FEB57C\",\"#FEB77D\",\"#FEB97F\",\"#FEBB80\",\"#FEBC82\",\"#FEBE83\",\"#FEC085\",\"#FEC286\",\"#FEC488\",\"#FEC689\",\"#FEC78B\",\"#FEC98D\",\"#FECB8E\",\"#FDCD90\",\"#FDCF92\",\"#FDD193\",\"#FDD295\",\"#FDD497\",\"#FDD698\",\"#FDD89A\",\"#FDDA9C\",\"#FDDC9D\",\"#FDDD9F\",\"#FDDFA1\",\"#FDE1A3\",\"#FCE3A5\",\"#FCE5A6\",\"#FCE6A8\",\"#FCE8AA\",\"#FCEAAC\",\"#FCECAE\",\"#FCEEB0\",\"#FCF0B1\",\"#FCF1B3\",\"#FCF3B5\",\"#FCF5B7\",\"#FBF7B9\",\"#FBF9BB\",\"#FBFABD\",\"#FBFCBF\"]},\"id\":\"2468\",\"type\":\"LinearColorMapper\"},{\"attributes\":{\"below\":[{\"id\":\"2432\"}],\"center\":[{\"id\":\"2435\"},{\"id\":\"2439\"}],\"left\":[{\"id\":\"2436\"}],\"renderers\":[{\"id\":\"2446\"}],\"right\":[{\"id\":\"2442\"}],\"title\":{\"id\":\"2422\"},\"toolbar\":{\"id\":\"2440\"},\"x_range\":{\"id\":\"2424\"},\"x_scale\":{\"id\":\"2428\"},\"y_range\":{\"id\":\"2426\"},\"y_scale\":{\"id\":\"2430\"}},\"id\":\"2421\",\"subtype\":\"Figure\",\"type\":\"Plot\"},{\"attributes\":{\"text\":\"Softmax y1 derivative with respect to X2\"},\"id\":\"2449\",\"type\":\"Title\"},{\"attributes\":{\"color_mapper\":{\"id\":\"2495\"},\"dh\":{\"units\":\"data\",\"value\":2},\"dw\":{\"units\":\"data\",\"value\":2},\"global_alpha\":0.1,\"image\":{\"field\":\"image\"},\"x\":{\"value\":-1},\"y\":{\"value\":-1}},\"id\":\"2499\",\"type\":\"Image\"},{\"attributes\":{},\"id\":\"2674\",\"type\":\"UnionRenderers\"},{\"attributes\":{\"axis\":{\"id\":\"2382\"},\"dimension\":1,\"ticker\":null},\"id\":\"2385\",\"type\":\"Grid\"},{\"attributes\":{},\"id\":\"2654\",\"type\":\"BasicTickFormatter\"},{\"attributes\":{\"high\":0.25,\"low\":-0.25,\"palette\":[\"#000003\",\"#000004\",\"#000006\",\"#010007\",\"#010109\",\"#01010B\",\"#02020D\",\"#02020F\",\"#030311\",\"#040313\",\"#040415\",\"#050417\",\"#060519\",\"#07051B\",\"#08061D\",\"#09071F\",\"#0A0722\",\"#0B0824\",\"#0C0926\",\"#0D0A28\",\"#0E0A2A\",\"#0F0B2C\",\"#100C2F\",\"#110C31\",\"#120D33\",\"#140D35\",\"#150E38\",\"#160E3A\",\"#170F3C\",\"#180F3F\",\"#1A1041\",\"#1B1044\",\"#1C1046\",\"#1E1049\",\"#1F114B\",\"#20114D\",\"#221150\",\"#231152\",\"#251155\",\"#261157\",\"#281159\",\"#2A115C\",\"#2B115E\",\"#2D1060\",\"#2F1062\",\"#301065\",\"#321067\",\"#341068\",\"#350F6A\",\"#370F6C\",\"#390F6E\",\"#3B0F6F\",\"#3C0F71\",\"#3E0F72\",\"#400F73\",\"#420F74\",\"#430F75\",\"#450F76\",\"#470F77\",\"#481078\",\"#4A1079\",\"#4B1079\",\"#4D117A\",\"#4F117B\",\"#50127B\",\"#52127C\",\"#53137C\",\"#55137D\",\"#57147D\",\"#58157E\",\"#5A157E\",\"#5B167E\",\"#5D177E\",\"#5E177F\",\"#60187F\",\"#61187F\",\"#63197F\",\"#651A80\",\"#661A80\",\"#681B80\",\"#691C80\",\"#6B1C80\",\"#6C1D80\",\"#6E1E81\",\"#6F1E81\",\"#711F81\",\"#731F81\",\"#742081\",\"#762181\",\"#772181\",\"#792281\",\"#7A2281\",\"#7C2381\",\"#7E2481\",\"#7F2481\",\"#812581\",\"#822581\",\"#842681\",\"#852681\",\"#872781\",\"#892881\",\"#8A2881\",\"#8C2980\",\"#8D2980\",\"#8F2A80\",\"#912A80\",\"#922B80\",\"#942B80\",\"#952C80\",\"#972C7F\",\"#992D7F\",\"#9A2D7F\",\"#9C2E7F\",\"#9E2E7E\",\"#9F2F7E\",\"#A12F7E\",\"#A3307E\",\"#A4307D\",\"#A6317D\",\"#A7317D\",\"#A9327C\",\"#AB337C\",\"#AC337B\",\"#AE347B\",\"#B0347B\",\"#B1357A\",\"#B3357A\",\"#B53679\",\"#B63679\",\"#B83778\",\"#B93778\",\"#BB3877\",\"#BD3977\",\"#BE3976\",\"#C03A75\",\"#C23A75\",\"#C33B74\",\"#C53C74\",\"#C63C73\",\"#C83D72\",\"#CA3E72\",\"#CB3E71\",\"#CD3F70\",\"#CE4070\",\"#D0416F\",\"#D1426E\",\"#D3426D\",\"#D4436D\",\"#D6446C\",\"#D7456B\",\"#D9466A\",\"#DA4769\",\"#DC4869\",\"#DD4968\",\"#DE4A67\",\"#E04B66\",\"#E14C66\",\"#E24D65\",\"#E44E64\",\"#E55063\",\"#E65162\",\"#E75262\",\"#E85461\",\"#EA5560\",\"#EB5660\",\"#EC585F\",\"#ED595F\",\"#EE5B5E\",\"#EE5D5D\",\"#EF5E5D\",\"#F0605D\",\"#F1615C\",\"#F2635C\",\"#F3655C\",\"#F3675B\",\"#F4685B\",\"#F56A5B\",\"#F56C5B\",\"#F66E5B\",\"#F6705B\",\"#F7715B\",\"#F7735C\",\"#F8755C\",\"#F8775C\",\"#F9795C\",\"#F97B5D\",\"#F97D5D\",\"#FA7F5E\",\"#FA805E\",\"#FA825F\",\"#FB8460\",\"#FB8660\",\"#FB8861\",\"#FB8A62\",\"#FC8C63\",\"#FC8E63\",\"#FC9064\",\"#FC9265\",\"#FC9366\",\"#FD9567\",\"#FD9768\",\"#FD9969\",\"#FD9B6A\",\"#FD9D6B\",\"#FD9F6C\",\"#FDA16E\",\"#FDA26F\",\"#FDA470\",\"#FEA671\",\"#FEA873\",\"#FEAA74\",\"#FEAC75\",\"#FEAE76\",\"#FEAF78\",\"#FEB179\",\"#FEB37B\",\"#FEB57C\",\"#FEB77D\",\"#FEB97F\",\"#FEBB80\",\"#FEBC82\",\"#FEBE83\",\"#FEC085\",\"#FEC286\",\"#FEC488\",\"#FEC689\",\"#FEC78B\",\"#FEC98D\",\"#FECB8E\",\"#FDCD90\",\"#FDCF92\",\"#FDD193\",\"#FDD295\",\"#FDD497\",\"#FDD698\",\"#FDD89A\",\"#FDDA9C\",\"#FDDC9D\",\"#FDDD9F\",\"#FDDFA1\",\"#FDE1A3\",\"#FCE3A5\",\"#FCE5A6\",\"#FCE6A8\",\"#FCE8AA\",\"#FCEAAC\",\"#FCECAE\",\"#FCEEB0\",\"#FCF0B1\",\"#FCF1B3\",\"#FCF3B5\",\"#FCF5B7\",\"#FBF7B9\",\"#FBF9BB\",\"#FBFABD\",\"#FBFCBF\"]},\"id\":\"2441\",\"type\":\"LinearColorMapper\"},{\"attributes\":{},\"id\":\"2677\",\"type\":\"Selection\"},{\"attributes\":{\"text\":\"Softmax y1 derivative with respect to X1\"},\"id\":\"2422\",\"type\":\"Title\"},{\"attributes\":{\"axis_label\":\"X1\",\"formatter\":{\"id\":\"2658\"},\"ticker\":{\"id\":\"2460\"}},\"id\":\"2459\",\"type\":\"LinearAxis\"},{\"attributes\":{},\"id\":\"2653\",\"type\":\"BasicTicker\"},{\"attributes\":{},\"id\":\"2676\",\"type\":\"UnionRenderers\"},{\"attributes\":{\"axis_label\":\"X1\",\"formatter\":{\"id\":\"2640\"},\"ticker\":{\"id\":\"2379\"}},\"id\":\"2378\",\"type\":\"LinearAxis\"},{\"attributes\":{\"color_mapper\":{\"id\":\"2495\"},\"dh\":{\"units\":\"data\",\"value\":2},\"dw\":{\"units\":\"data\",\"value\":2},\"global_alpha\":0.5,\"image\":{\"field\":\"image\"},\"x\":{\"value\":-1},\"y\":{\"value\":-1}},\"id\":\"2498\",\"type\":\"Image\"},{\"attributes\":{\"axis_label\":\"X1\",\"formatter\":{\"id\":\"2652\"},\"ticker\":{\"id\":\"2433\"}},\"id\":\"2432\",\"type\":\"LinearAxis\"},{\"attributes\":{},\"id\":\"2383\",\"type\":\"BasicTicker\"},{\"attributes\":{},\"id\":\"2658\",\"type\":\"BasicTickFormatter\"},{\"attributes\":{},\"id\":\"2679\",\"type\":\"Selection\"},{\"attributes\":{\"start\":-1},\"id\":\"2453\",\"type\":\"Range1d\"},{\"attributes\":{\"color_mapper\":{\"id\":\"2495\"},\"formatter\":{\"id\":\"2666\"},\"label_standoff\":8,\"location\":[0,0],\"scale_alpha\":0.5,\"ticker\":{\"id\":\"2665\"}},\"id\":\"2496\",\"type\":\"ColorBar\"},{\"attributes\":{\"high\":0.8807970285415649,\"low\":0.11920291185379028,\"palette\":[\"#000003\",\"#000004\",\"#000006\",\"#010007\",\"#010109\",\"#01010B\",\"#02020D\",\"#02020F\",\"#030311\",\"#040313\",\"#040415\",\"#050417\",\"#060519\",\"#07051B\",\"#08061D\",\"#09071F\",\"#0A0722\",\"#0B0824\",\"#0C0926\",\"#0D0A28\",\"#0E0A2A\",\"#0F0B2C\",\"#100C2F\",\"#110C31\",\"#120D33\",\"#140D35\",\"#150E38\",\"#160E3A\",\"#170F3C\",\"#180F3F\",\"#1A1041\",\"#1B1044\",\"#1C1046\",\"#1E1049\",\"#1F114B\",\"#20114D\",\"#221150\",\"#231152\",\"#251155\",\"#261157\",\"#281159\",\"#2A115C\",\"#2B115E\",\"#2D1060\",\"#2F1062\",\"#301065\",\"#321067\",\"#341068\",\"#350F6A\",\"#370F6C\",\"#390F6E\",\"#3B0F6F\",\"#3C0F71\",\"#3E0F72\",\"#400F73\",\"#420F74\",\"#430F75\",\"#450F76\",\"#470F77\",\"#481078\",\"#4A1079\",\"#4B1079\",\"#4D117A\",\"#4F117B\",\"#50127B\",\"#52127C\",\"#53137C\",\"#55137D\",\"#57147D\",\"#58157E\",\"#5A157E\",\"#5B167E\",\"#5D177E\",\"#5E177F\",\"#60187F\",\"#61187F\",\"#63197F\",\"#651A80\",\"#661A80\",\"#681B80\",\"#691C80\",\"#6B1C80\",\"#6C1D80\",\"#6E1E81\",\"#6F1E81\",\"#711F81\",\"#731F81\",\"#742081\",\"#762181\",\"#772181\",\"#792281\",\"#7A2281\",\"#7C2381\",\"#7E2481\",\"#7F2481\",\"#812581\",\"#822581\",\"#842681\",\"#852681\",\"#872781\",\"#892881\",\"#8A2881\",\"#8C2980\",\"#8D2980\",\"#8F2A80\",\"#912A80\",\"#922B80\",\"#942B80\",\"#952C80\",\"#972C7F\",\"#992D7F\",\"#9A2D7F\",\"#9C2E7F\",\"#9E2E7E\",\"#9F2F7E\",\"#A12F7E\",\"#A3307E\",\"#A4307D\",\"#A6317D\",\"#A7317D\",\"#A9327C\",\"#AB337C\",\"#AC337B\",\"#AE347B\",\"#B0347B\",\"#B1357A\",\"#B3357A\",\"#B53679\",\"#B63679\",\"#B83778\",\"#B93778\",\"#BB3877\",\"#BD3977\",\"#BE3976\",\"#C03A75\",\"#C23A75\",\"#C33B74\",\"#C53C74\",\"#C63C73\",\"#C83D72\",\"#CA3E72\",\"#CB3E71\",\"#CD3F70\",\"#CE4070\",\"#D0416F\",\"#D1426E\",\"#D3426D\",\"#D4436D\",\"#D6446C\",\"#D7456B\",\"#D9466A\",\"#DA4769\",\"#DC4869\",\"#DD4968\",\"#DE4A67\",\"#E04B66\",\"#E14C66\",\"#E24D65\",\"#E44E64\",\"#E55063\",\"#E65162\",\"#E75262\",\"#E85461\",\"#EA5560\",\"#EB5660\",\"#EC585F\",\"#ED595F\",\"#EE5B5E\",\"#EE5D5D\",\"#EF5E5D\",\"#F0605D\",\"#F1615C\",\"#F2635C\",\"#F3655C\",\"#F3675B\",\"#F4685B\",\"#F56A5B\",\"#F56C5B\",\"#F66E5B\",\"#F6705B\",\"#F7715B\",\"#F7735C\",\"#F8755C\",\"#F8775C\",\"#F9795C\",\"#F97B5D\",\"#F97D5D\",\"#FA7F5E\",\"#FA805E\",\"#FA825F\",\"#FB8460\",\"#FB8660\",\"#FB8861\",\"#FB8A62\",\"#FC8C63\",\"#FC8E63\",\"#FC9064\",\"#FC9265\",\"#FC9366\",\"#FD9567\",\"#FD9768\",\"#FD9969\",\"#FD9B6A\",\"#FD9D6B\",\"#FD9F6C\",\"#FDA16E\",\"#FDA26F\",\"#FDA470\",\"#FEA671\",\"#FEA873\",\"#FEAA74\",\"#FEAC75\",\"#FEAE76\",\"#FEAF78\",\"#FEB179\",\"#FEB37B\",\"#FEB57C\",\"#FEB77D\",\"#FEB97F\",\"#FEBB80\",\"#FEBC82\",\"#FEBE83\",\"#FEC085\",\"#FEC286\",\"#FEC488\",\"#FEC689\",\"#FEC78B\",\"#FEC98D\",\"#FECB8E\",\"#FDCD90\",\"#FDCF92\",\"#FDD193\",\"#FDD295\",\"#FDD497\",\"#FDD698\",\"#FDD89A\",\"#FDDA9C\",\"#FDDC9D\",\"#FDDD9F\",\"#FDDFA1\",\"#FDE1A3\",\"#FCE3A5\",\"#FCE5A6\",\"#FCE6A8\",\"#FCE8AA\",\"#FCEAAC\",\"#FCECAE\",\"#FCEEB0\",\"#FCF0B1\",\"#FCF1B3\",\"#FCF3B5\",\"#FCF5B7\",\"#FBF7B9\",\"#FBF9BB\",\"#FBFABD\",\"#FBFCBF\"]},\"id\":\"2414\",\"type\":\"LinearColorMapper\"},{\"attributes\":{},\"id\":\"2678\",\"type\":\"UnionRenderers\"},{\"attributes\":{},\"id\":\"2455\",\"type\":\"LinearScale\"},{\"attributes\":{\"active_drag\":\"auto\",\"active_inspect\":\"auto\",\"active_multi\":null,\"active_scroll\":\"auto\",\"active_tap\":\"auto\"},\"id\":\"2386\",\"type\":\"Toolbar\"},{\"attributes\":{\"axis\":{\"id\":\"2405\"},\"ticker\":null},\"id\":\"2408\",\"type\":\"Grid\"},{\"attributes\":{\"start\":-1},\"id\":\"2426\",\"type\":\"Range1d\"},{\"attributes\":{},\"id\":\"2681\",\"type\":\"Selection\"},{\"attributes\":{},\"id\":\"2457\",\"type\":\"LinearScale\"},{\"attributes\":{},\"id\":\"2428\",\"type\":\"LinearScale\"},{\"attributes\":{\"axis\":{\"id\":\"2459\"},\"ticker\":null},\"id\":\"2462\",\"type\":\"Grid\"},{\"attributes\":{},\"id\":\"2680\",\"type\":\"UnionRenderers\"},{\"attributes\":{},\"id\":\"2433\",\"type\":\"BasicTicker\"},{\"attributes\":{},\"id\":\"2430\",\"type\":\"LinearScale\"},{\"attributes\":{\"data\":{\"image\":[{\"__ndarray__\":\"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\",\"dtype\":\"float32\",\"order\":\"little\",\"shape\":[50,50]}]},\"selected\":{\"id\":\"2681\"},\"selection_policy\":{\"id\":\"2682\"}},\"id\":\"2497\",\"type\":\"ColumnDataSource\"},{\"attributes\":{\"color_mapper\":{\"id\":\"2387\"},\"dh\":{\"units\":\"data\",\"value\":2},\"dw\":{\"units\":\"data\",\"value\":2},\"global_alpha\":0.1,\"image\":{\"field\":\"image\"},\"x\":{\"value\":-1},\"y\":{\"value\":-1}},\"id\":\"2391\",\"type\":\"Image\"},{\"attributes\":{},\"id\":\"2460\",\"type\":\"BasicTicker\"},{\"attributes\":{},\"id\":\"2403\",\"type\":\"LinearScale\"},{\"attributes\":{\"axis\":{\"id\":\"2432\"},\"ticker\":null},\"id\":\"2435\",\"type\":\"Grid\"}],\"root_ids\":[\"2532\"]},\"title\":\"Bokeh Application\",\"version\":\"2.1.1\"}};\n",
       "  var render_items = [{\"docid\":\"240fadc2-1be2-4395-b139-da06af1f7365\",\"root_ids\":[\"2532\"],\"roots\":{\"2532\":\"27ded1b2-b39b-4579-867f-7238fdedf581\"}}];\n",
       "  root.Bokeh.embed.embed_items_notebook(docs_json, render_items);\n",
       "\n",
       "  }\n",
       "  if (root.Bokeh !== undefined) {\n",
       "    embed_document(root);\n",
       "  } else {\n",
       "    var attempts = 0;\n",
       "    var timer = setInterval(function(root) {\n",
       "      if (root.Bokeh !== undefined) {\n",
       "        clearInterval(timer);\n",
       "        embed_document(root);\n",
       "      } else {\n",
       "        attempts++;\n",
       "        if (attempts > 100) {\n",
       "          clearInterval(timer);\n",
       "          console.log(\"Bokeh: ERROR: Unable to run BokehJS code because BokehJS library is missing\");\n",
       "        }\n",
       "      }\n",
       "    }, 10, root)\n",
       "  }\n",
       "})(window);"
      ],
      "application/vnd.bokehjs_exec.v0+json": ""
     },
     "metadata": {
      "application/vnd.bokehjs_exec.v0+json": {
       "id": "2532"
      }
     },
     "output_type": "display_data"
    }
   ],
   "source": [
    "X = tf.Variable(tf.linspace(-1., 1., 50))\n",
    "X = tf.meshgrid(X, X)\n",
    "\n",
    "X1 = tf.reshape(X[0], (2500, 1))\n",
    "X2 = tf.reshape(X[1], (2500, 1))\n",
    "\n",
    "with tf.GradientTape(persistent=True) as g:\n",
    "    g.watch([X1, X2])\n",
    "    y = activations.softmax(tf.concat([X1, X2], axis=1))\n",
    "    y1, y2 = tf.split(y, [1, 1], axis=1)\n",
    "\n",
    "gradient = list()\n",
    "gradient.append(tf.concat([g.gradient(y1, X1), g.gradient(y1, X2)], axis=1))\n",
    "gradient.append(tf.concat([g.gradient(y2, X1), g.gradient(y2, X2)], axis=1))\n",
    "visualize2D('Softmax', y, gradient)"
   ]
  },
  {
   "cell_type": "code",
   "execution_count": null,
   "metadata": {},
   "outputs": [],
   "source": []
  }
 ],
 "metadata": {
  "kernelspec": {
   "display_name": "Python 3",
   "language": "python",
   "name": "python3"
  },
  "language_info": {
   "codemirror_mode": {
    "name": "ipython",
    "version": 3
   },
   "file_extension": ".py",
   "mimetype": "text/x-python",
   "name": "python",
   "nbconvert_exporter": "python",
   "pygments_lexer": "ipython3",
   "version": "3.7.7"
  }
 },
 "nbformat": 4,
 "nbformat_minor": 4
}
